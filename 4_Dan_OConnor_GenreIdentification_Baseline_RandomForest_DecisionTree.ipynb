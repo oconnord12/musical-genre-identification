{
 "cells": [
  {
   "cell_type": "markdown",
   "id": "09734156",
   "metadata": {},
   "source": [
    "# Modeling 1: Baseline, Decision Tree, Random Forest\n",
    "\n",
    "- **Author**: Dan O'Connor\n",
    "- **Notebook**: 4 of 9"
   ]
  },
  {
   "cell_type": "markdown",
   "id": "4b231bcf",
   "metadata": {},
   "source": [
    "In this notebook I will establish a baseline model on multiple success metrics. In addition to accuracy, I will look into metrics that better explain how the model is performing with an imbalanced dataset such as f1-score, recall, and precision. I then will create baseline and optimized models for random forest and decision tree classifiers and store their success metrics in a dataframe."
   ]
  },
  {
   "cell_type": "markdown",
   "id": "940e0a1c",
   "metadata": {},
   "source": [
    "## Table of Contents\n",
    "[Baseline Model](#Baseline-Model)\n",
    "\n",
    "[Decision Tree](#Decision-Tree)\n",
    "\n",
    "[Random Forest](#Random-Forest)"
   ]
  },
  {
   "cell_type": "markdown",
   "id": "5d2dee5c",
   "metadata": {},
   "source": [
    "Import required libraries. "
   ]
  },
  {
   "cell_type": "code",
   "execution_count": 1,
   "id": "8ec41fa6",
   "metadata": {
    "id": "8ec41fa6"
   },
   "outputs": [],
   "source": [
    "import pandas as pd\n",
    "import matplotlib.pyplot as plt\n",
    "import numpy as np\n",
    "from google.colab import drive #done in google colab"
   ]
  },
  {
   "cell_type": "markdown",
   "id": "782f499f",
   "metadata": {},
   "source": [
    "Mounting to gdrive for work in colab."
   ]
  },
  {
   "cell_type": "code",
   "execution_count": 2,
   "id": "RFYkdxEOK_Nb",
   "metadata": {
    "colab": {
     "base_uri": "https://localhost:8080/"
    },
    "id": "RFYkdxEOK_Nb",
    "outputId": "291fc808-4201-48cd-a063-30d210dde3d1"
   },
   "outputs": [
    {
     "name": "stdout",
     "output_type": "stream",
     "text": [
      "Mounted at /content/gdrive\n"
     ]
    }
   ],
   "source": [
    "drive.mount('/content/gdrive', force_remount=True)"
   ]
  },
  {
   "cell_type": "code",
   "execution_count": 3,
   "id": "99QBSJBOZabc",
   "metadata": {
    "colab": {
     "base_uri": "https://localhost:8080/"
    },
    "id": "99QBSJBOZabc",
    "outputId": "e2cff97d-ea5c-49de-8e11-346c8335a2a5"
   },
   "outputs": [
    {
     "name": "stdout",
     "output_type": "stream",
     "text": [
      "/content/gdrive/My Drive/Colab Notebooks\n"
     ]
    }
   ],
   "source": [
    "cd '/content/gdrive/My Drive/Colab Notebooks'"
   ]
  },
  {
   "cell_type": "markdown",
   "id": "4fb950ca",
   "metadata": {},
   "source": [
    "Import the dataframe."
   ]
  },
  {
   "cell_type": "code",
   "execution_count": 4,
   "id": "811ebc41",
   "metadata": {
    "id": "811ebc41"
   },
   "outputs": [],
   "source": [
    "subset_model_df = pd.read_csv('Data/subset_model_df.csv')"
   ]
  },
  {
   "cell_type": "markdown",
   "id": "8b937d36",
   "metadata": {},
   "source": [
    "The graphic belows shows the percentage of the dataset that each genre accounts for. Immediately, it is clear that this is an imbalanced dataset. I attempt to account for the imbalance in the training in notebook 8 (SMOTE). "
   ]
  },
  {
   "cell_type": "code",
   "execution_count": 6,
   "id": "1d0c21a9",
   "metadata": {
    "colab": {
     "base_uri": "https://localhost:8080/",
     "height": 472
    },
    "id": "1d0c21a9",
    "outputId": "dd7c3747-b8f7-4433-de98-b3e741fcbd65"
   },
   "outputs": [
    {
     "data": {
      "image/png": "[encoded data removed]",
      "text/plain": [
       "<Figure size 640x480 with 1 Axes>"
      ]
     },
     "metadata": {},
     "output_type": "display_data"
    }
   ],
   "source": [
    "plt.figure()\n",
    "subset_model_df['genre_top'].value_counts(normalize=True).plot(kind='barh')\n",
    "plt.title('Normalized Genre Distribution')\n",
    "plt.xlabel('Proportion')\n",
    "plt.ylabel('Genre')\n",
    "plt.show()"
   ]
  },
  {
   "cell_type": "markdown",
   "id": "fe5dd01f",
   "metadata": {},
   "source": [
    "Here are the number of observations per class."
   ]
  },
  {
   "cell_type": "code",
   "execution_count": 7,
   "id": "fe1bfa8e",
   "metadata": {
    "colab": {
     "base_uri": "https://localhost:8080/"
    },
    "id": "fe1bfa8e",
    "outputId": "50ebb2af-67cb-4539-e71e-6c25589380bc"
   },
   "outputs": [
    {
     "data": {
      "text/plain": [
       "Rock             14184\n",
       "Experimental     10608\n",
       "Electronic        9372\n",
       "Hip-Hop           3552\n",
       "Folk              2803\n",
       "Pop               2332\n",
       "Instrumental      2079\n",
       "International     1389\n",
       "Classical         1230\n",
       "Name: genre_top, dtype: int64"
      ]
     },
     "execution_count": 7,
     "metadata": {},
     "output_type": "execute_result"
    }
   ],
   "source": [
    "subset_model_df['genre_top'].value_counts()"
   ]
  },
  {
   "cell_type": "markdown",
   "id": "0OckEsvv8YKn",
   "metadata": {
    "id": "0OckEsvv8YKn"
   },
   "source": [
    "## Baseline Model"
   ]
  },
  {
   "cell_type": "code",
   "execution_count": 42,
   "id": "H9u22c8x8W0l",
   "metadata": {
    "colab": {
     "base_uri": "https://localhost:8080/"
    },
    "id": "H9u22c8x8W0l",
    "outputId": "3ef2a4ed-d087-403b-db1d-e7d1e8836a51"
   },
   "outputs": [
    {
     "data": {
      "text/plain": [
       "((47549, 350), (47549,))"
      ]
     },
     "execution_count": 42,
     "metadata": {},
     "output_type": "execute_result"
    }
   ],
   "source": [
    "#split into dep and indep. vars\n",
    "X = subset_model_df.drop(columns='genre_top') \n",
    "y = subset_model_df['genre_top']\n",
    "X.shape, y.shape"
   ]
  },
  {
   "cell_type": "code",
   "execution_count": 43,
   "id": "-pc5bnkl8W9B",
   "metadata": {
    "id": "-pc5bnkl8W9B"
   },
   "outputs": [],
   "source": [
    "from sklearn.preprocessing import LabelEncoder\n",
    "\n",
    "# Encoder object\n",
    "label_encoder = LabelEncoder()\n",
    "\n",
    "# Fit the encoder on indep. var\n",
    "label_encoder.fit(y)\n",
    "\n",
    "#transform\n",
    "y_encoded = label_encoder.transform(y)\n",
    "\n"
   ]
  },
  {
   "cell_type": "markdown",
   "id": "0f49da85",
   "metadata": {
    "id": "nJ6UBYW99QSx"
   },
   "source": [
    "Below shows how the label encoder works. It takes the genre label and converts it to an integer 0-8."
   ]
  },
  {
   "cell_type": "code",
   "execution_count": 10,
   "id": "jHcKgKpm8XId",
   "metadata": {
    "colab": {
     "base_uri": "https://localhost:8080/",
     "height": 363
    },
    "id": "jHcKgKpm8XId",
    "outputId": "e36df380-9413-42e7-aad4-9dc9e5231747"
   },
   "outputs": [
    {
     "data": {
      "text/html": [
       "\n",
       "  <div id=\"df-ab250b3b-7769-45fc-a99b-bef9650230db\">\n",
       "    <div class=\"colab-df-container\">\n",
       "      <div>\n",
       "<style scoped>\n",
       "    .dataframe tbody tr th:only-of-type {\n",
       "        vertical-align: middle;\n",
       "    }\n",
       "\n",
       "    .dataframe tbody tr th {\n",
       "        vertical-align: top;\n",
       "    }\n",
       "\n",
       "    .dataframe thead th {\n",
       "        text-align: right;\n",
       "    }\n",
       "</style>\n",
       "<table border=\"1\" class=\"dataframe\">\n",
       "  <thead>\n",
       "    <tr style=\"text-align: right;\">\n",
       "      <th></th>\n",
       "      <th>class_label</th>\n",
       "    </tr>\n",
       "    <tr>\n",
       "      <th>y_encoded</th>\n",
       "      <th></th>\n",
       "    </tr>\n",
       "  </thead>\n",
       "  <tbody>\n",
       "    <tr>\n",
       "      <th>0</th>\n",
       "      <td>Classical</td>\n",
       "    </tr>\n",
       "    <tr>\n",
       "      <th>1</th>\n",
       "      <td>Electronic</td>\n",
       "    </tr>\n",
       "    <tr>\n",
       "      <th>2</th>\n",
       "      <td>Experimental</td>\n",
       "    </tr>\n",
       "    <tr>\n",
       "      <th>3</th>\n",
       "      <td>Folk</td>\n",
       "    </tr>\n",
       "    <tr>\n",
       "      <th>4</th>\n",
       "      <td>Hip-Hop</td>\n",
       "    </tr>\n",
       "    <tr>\n",
       "      <th>5</th>\n",
       "      <td>Instrumental</td>\n",
       "    </tr>\n",
       "    <tr>\n",
       "      <th>6</th>\n",
       "      <td>International</td>\n",
       "    </tr>\n",
       "    <tr>\n",
       "      <th>7</th>\n",
       "      <td>Pop</td>\n",
       "    </tr>\n",
       "    <tr>\n",
       "      <th>8</th>\n",
       "      <td>Rock</td>\n",
       "    </tr>\n",
       "  </tbody>\n",
       "</table>\n",
       "</div>\n",
       "      <button class=\"colab-df-convert\" onclick=\"convertToInteractive('df-ab250b3b-7769-45fc-a99b-bef9650230db')\"\n",
       "              title=\"Convert this dataframe to an interactive table.\"\n",
       "              style=\"display:none;\">\n",
       "        \n",
       "  <svg xmlns=\"http://www.w3.org/2000/svg\" height=\"24px\"viewBox=\"0 0 24 24\"\n",
       "       width=\"24px\">\n",
       "    <path d=\"M0 0h24v24H0V0z\" fill=\"none\"/>\n",
       "    <path d=\"M18.56 5.44l.94 2.06.94-2.06 2.06-.94-2.06-.94-.94-2.06-.94 2.06-2.06.94zm-11 1L8.5 8.5l.94-2.06 2.06-.94-2.06-.94L8.5 2.5l-.94 2.06-2.06.94zm10 10l.94 2.06.94-2.06 2.06-.94-2.06-.94-.94-2.06-.94 2.06-2.06.94z\"/><path d=\"M17.41 7.96l-1.37-1.37c-.4-.4-.92-.59-1.43-.59-.52 0-1.04.2-1.43.59L10.3 9.45l-7.72 7.72c-.78.78-.78 2.05 0 2.83L4 21.41c.39.39.9.59 1.41.59.51 0 1.02-.2 1.41-.59l7.78-7.78 2.81-2.81c.8-.78.8-2.07 0-2.86zM5.41 20L4 18.59l7.72-7.72 1.47 1.35L5.41 20z\"/>\n",
       "  </svg>\n",
       "      </button>\n",
       "      \n",
       "  <style>\n",
       "    .colab-df-container {\n",
       "      display:flex;\n",
       "      flex-wrap:wrap;\n",
       "      gap: 12px;\n",
       "    }\n",
       "\n",
       "    .colab-df-convert {\n",
       "      background-color: #E8F0FE;\n",
       "      border: none;\n",
       "      border-radius: 50%;\n",
       "      cursor: pointer;\n",
       "      display: none;\n",
       "      fill: #1967D2;\n",
       "      height: 32px;\n",
       "      padding: 0 0 0 0;\n",
       "      width: 32px;\n",
       "    }\n",
       "\n",
       "    .colab-df-convert:hover {\n",
       "      background-color: #E2EBFA;\n",
       "      box-shadow: 0px 1px 2px rgba(60, 64, 67, 0.3), 0px 1px 3px 1px rgba(60, 64, 67, 0.15);\n",
       "      fill: #174EA6;\n",
       "    }\n",
       "\n",
       "    [theme=dark] .colab-df-convert {\n",
       "      background-color: #3B4455;\n",
       "      fill: #D2E3FC;\n",
       "    }\n",
       "\n",
       "    [theme=dark] .colab-df-convert:hover {\n",
       "      background-color: #434B5C;\n",
       "      box-shadow: 0px 1px 3px 1px rgba(0, 0, 0, 0.15);\n",
       "      filter: drop-shadow(0px 1px 2px rgba(0, 0, 0, 0.3));\n",
       "      fill: #FFFFFF;\n",
       "    }\n",
       "  </style>\n",
       "\n",
       "      <script>\n",
       "        const buttonEl =\n",
       "          document.querySelector('#df-ab250b3b-7769-45fc-a99b-bef9650230db button.colab-df-convert');\n",
       "        buttonEl.style.display =\n",
       "          google.colab.kernel.accessAllowed ? 'block' : 'none';\n",
       "\n",
       "        async function convertToInteractive(key) {\n",
       "          const element = document.querySelector('#df-ab250b3b-7769-45fc-a99b-bef9650230db');\n",
       "          const dataTable =\n",
       "            await google.colab.kernel.invokeFunction('convertToInteractive',\n",
       "                                                     [key], {});\n",
       "          if (!dataTable) return;\n",
       "\n",
       "          const docLinkHtml = 'Like what you see? Visit the ' +\n",
       "            '<a target=\"_blank\" href=https://colab.research.google.com/notebooks/data_table.ipynb>data table notebook</a>'\n",
       "            + ' to learn more about interactive tables.';\n",
       "          element.innerHTML = '';\n",
       "          dataTable['output_type'] = 'display_data';\n",
       "          await google.colab.output.renderOutput(dataTable, element);\n",
       "          const docLink = document.createElement('div');\n",
       "          docLink.innerHTML = docLinkHtml;\n",
       "          element.appendChild(docLink);\n",
       "        }\n",
       "      </script>\n",
       "    </div>\n",
       "  </div>\n",
       "  "
      ],
      "text/plain": [
       "             class_label\n",
       "y_encoded               \n",
       "0              Classical\n",
       "1             Electronic\n",
       "2           Experimental\n",
       "3                   Folk\n",
       "4                Hip-Hop\n",
       "5           Instrumental\n",
       "6          International\n",
       "7                    Pop\n",
       "8                   Rock"
      ]
     },
     "execution_count": 10,
     "metadata": {},
     "output_type": "execute_result"
    }
   ],
   "source": [
    "#create df with label encoded classes\n",
    "class_df = pd.DataFrame({'class_label': label_encoder.classes_, 'encoded_value': range(len(label_encoder.classes_))})\n",
    "class_df.set_index('encoded_value', inplace=True) #set index\n",
    "\n",
    "y_encoded_df = pd.DataFrame({'y_encoded': y_encoded}) #new df with encoded labels\n",
    "y_encoded_df.drop_duplicates(inplace=True) #drop duplicates\n",
    "\n",
    "class_table = y_encoded_df.merge(class_df, how='left', left_on='y_encoded', right_index=True) #merge the two df\n",
    "class_table = class_table.set_index('y_encoded').sort_index(ascending=True) #set index\n",
    "\n",
    "class_table"
   ]
  },
  {
   "cell_type": "markdown",
   "id": "0a366a27",
   "metadata": {
    "id": "Jgt8O7Lbdj_J"
   },
   "source": [
    "The baseline accuracy can be thought of as guessing the majority class everytime. In this case, any model would be 29% accurate if it simply guessed rock for every observation. The other baseline metrics like f1, recall, and precision are not quite as simple to calculate because they take into account true positives, true negatives, false positives, and false negatives for each genre. I created a function `baseline` below that randomly guesses classes for the number of samples in the testing set based on the proportion of the genres. "
   ]
  },
  {
   "cell_type": "code",
   "execution_count": 12,
   "id": "LnOnCDWd8XK-",
   "metadata": {
    "id": "LnOnCDWd8XK-"
   },
   "outputs": [],
   "source": [
    "\n",
    "import random \n",
    "from sklearn.metrics import classification_report\n",
    "\n",
    "recall_dict = {key: [] for key in set(y_test)}\n",
    "f1_dict = {key: [] for key in set(y_test)}\n",
    "precision_dict = {key: [] for key in set(y_test)}\n",
    "weighted_f1 = []\n",
    "weighted_recall = []\n",
    "weighted_precision = []\n",
    "\n",
    "def baseline(y,randomstate):\n",
    "    genres = list(set(y)) # label encoded genres\n",
    "    probabilities = np.bincount(y)/y.shape[0] #probabilties of each genre\n",
    "    random.seed(randomstate) #random state\n",
    "    y_pred = random.choices(genres, weights=probabilities,k=y.shape[0]) #an array of size y, with the weights being the prob\n",
    "    class_report = classification_report(y,y_pred, output_dict=True) #To access elements of class report\n",
    "    weighted_recall.append(class_report['weighted avg']['recall']) #add weighted recall\n",
    "    weighted_precision.append(class_report['weighted avg']['precision']) #add weighted prec\n",
    "    weighted_f1.append(class_report['weighted avg']['f1-score']) #add weighted f1\n",
    "    for genre in list(set(y)): #cycle thru genres\n",
    "        recall_dict[genre].append(class_report[str(genre)]['recall']) \n",
    "        precision_dict[genre].append(class_report[str(genre)]['precision'])\n",
    "        f1_dict[genre].append(class_report[str(genre)]['f1-score'])\n",
    "        \n",
    "    return None"
   ]
  },
  {
   "cell_type": "markdown",
   "id": "9bb57a68",
   "metadata": {},
   "source": [
    "Below I ran the function `baseline` 1000 times to take the mean of the predicted metrics. I then take the mean of all the samples for my baseline. This approach is also a neat demonstration of central limit theorem, which states that as the sample size increases the variability of the sample means decrease and the distribution of the sample means become more normal. This is shown below for the f-1 scores per genre."
   ]
  },
  {
   "cell_type": "code",
   "execution_count": 13,
   "id": "0rOVB0TdFRWE",
   "metadata": {
    "id": "0rOVB0TdFRWE"
   },
   "outputs": [],
   "source": [
    "for i in range(1,1000):\n",
    "    baseline(y_test,i)"
   ]
  },
  {
   "cell_type": "code",
   "execution_count": 14,
   "id": "Wk1B72718XPn",
   "metadata": {
    "colab": {
     "base_uri": "https://localhost:8080/",
     "height": 1000
    },
    "id": "Wk1B72718XPn",
    "outputId": "b8523d78-1208-4434-d733-537b784bc973"
   },
   "outputs": [
    {
     "data": {
      "image/png": "[encoded data removed]",
      "text/plain": [
       "<Figure size 1200x1200 with 9 Axes>"
      ]
     },
     "metadata": {},
     "output_type": "display_data"
    }
   ],
   "source": [
    "genre_names = {0: 'Classical', 1: 'Electronic', 2: 'Experimental', 3: 'Folk', 4: 'Hip-Hop',\\ #genre dict\n",
    "               5: 'Instrumental', 6: 'International', 7: 'Pop', 8: 'Rock'}\n",
    "\n",
    "fig, axs = plt.subplots(nrows=3, ncols=3, figsize=(12, 12)) #3v3 grid\n",
    "axs = axs.flatten()\n",
    "# create subplotts\n",
    "for i, genre in enumerate(f1_dict):\n",
    "    axs[i].hist(f1_dict[genre])\n",
    "    axs[i].set_title(f'{genre_names[genre]} F1 Score Distribution')\n",
    "    axs[i].set_xlabel('F1 Score')\n",
    "    axs[i].set_ylabel('Frequency')\n",
    "    axs[i].axvline(np.mean(f1_dict[genre]), color='r', linestyle='dashed', linewidth=1, label='Mean')\n",
    "    axs[i].axvline(np.median(f1_dict[genre]), color='g', linestyle='dashed', linewidth=1, label='Median')\n",
    "    axs[i].legend()\n",
    "    \n",
    "plt.tight_layout()\n",
    "plt.show()"
   ]
  },
  {
   "cell_type": "markdown",
   "id": "b11d6319",
   "metadata": {},
   "source": [
    "Here I am creating a dataframe to keep track of these advanced metrics per model. I am adding the values for the baseline below."
   ]
  },
  {
   "cell_type": "code",
   "execution_count": 15,
   "id": "XntBDiRKRWTY",
   "metadata": {
    "colab": {
     "base_uri": "https://localhost:8080/",
     "height": 363
    },
    "id": "XntBDiRKRWTY",
    "outputId": "a8d29f5a-158e-41a9-f62d-c6aebf3c2e13"
   },
   "outputs": [
    {
     "data": {
      "text/html": [
       "\n",
       "  <div id=\"df-fde620de-9098-43d6-a8a7-4db9b1c5505b\">\n",
       "    <div class=\"colab-df-container\">\n",
       "      <div>\n",
       "<style scoped>\n",
       "    .dataframe tbody tr th:only-of-type {\n",
       "        vertical-align: middle;\n",
       "    }\n",
       "\n",
       "    .dataframe tbody tr th {\n",
       "        vertical-align: top;\n",
       "    }\n",
       "\n",
       "    .dataframe thead th {\n",
       "        text-align: right;\n",
       "    }\n",
       "</style>\n",
       "<table border=\"1\" class=\"dataframe\">\n",
       "  <thead>\n",
       "    <tr style=\"text-align: right;\">\n",
       "      <th></th>\n",
       "      <th>Genres</th>\n",
       "    </tr>\n",
       "  </thead>\n",
       "  <tbody>\n",
       "    <tr>\n",
       "      <th>0</th>\n",
       "      <td>Classical</td>\n",
       "    </tr>\n",
       "    <tr>\n",
       "      <th>1</th>\n",
       "      <td>Electronic</td>\n",
       "    </tr>\n",
       "    <tr>\n",
       "      <th>2</th>\n",
       "      <td>Experimental</td>\n",
       "    </tr>\n",
       "    <tr>\n",
       "      <th>3</th>\n",
       "      <td>Folk</td>\n",
       "    </tr>\n",
       "    <tr>\n",
       "      <th>4</th>\n",
       "      <td>Hip-Hop</td>\n",
       "    </tr>\n",
       "    <tr>\n",
       "      <th>5</th>\n",
       "      <td>Instrumental</td>\n",
       "    </tr>\n",
       "    <tr>\n",
       "      <th>6</th>\n",
       "      <td>International</td>\n",
       "    </tr>\n",
       "    <tr>\n",
       "      <th>7</th>\n",
       "      <td>Pop</td>\n",
       "    </tr>\n",
       "    <tr>\n",
       "      <th>8</th>\n",
       "      <td>Rock</td>\n",
       "    </tr>\n",
       "    <tr>\n",
       "      <th>9</th>\n",
       "      <td>Weighted Avg</td>\n",
       "    </tr>\n",
       "  </tbody>\n",
       "</table>\n",
       "</div>\n",
       "      <button class=\"colab-df-convert\" onclick=\"convertToInteractive('df-fde620de-9098-43d6-a8a7-4db9b1c5505b')\"\n",
       "              title=\"Convert this dataframe to an interactive table.\"\n",
       "              style=\"display:none;\">\n",
       "        \n",
       "  <svg xmlns=\"http://www.w3.org/2000/svg\" height=\"24px\"viewBox=\"0 0 24 24\"\n",
       "       width=\"24px\">\n",
       "    <path d=\"M0 0h24v24H0V0z\" fill=\"none\"/>\n",
       "    <path d=\"M18.56 5.44l.94 2.06.94-2.06 2.06-.94-2.06-.94-.94-2.06-.94 2.06-2.06.94zm-11 1L8.5 8.5l.94-2.06 2.06-.94-2.06-.94L8.5 2.5l-.94 2.06-2.06.94zm10 10l.94 2.06.94-2.06 2.06-.94-2.06-.94-.94-2.06-.94 2.06-2.06.94z\"/><path d=\"M17.41 7.96l-1.37-1.37c-.4-.4-.92-.59-1.43-.59-.52 0-1.04.2-1.43.59L10.3 9.45l-7.72 7.72c-.78.78-.78 2.05 0 2.83L4 21.41c.39.39.9.59 1.41.59.51 0 1.02-.2 1.41-.59l7.78-7.78 2.81-2.81c.8-.78.8-2.07 0-2.86zM5.41 20L4 18.59l7.72-7.72 1.47 1.35L5.41 20z\"/>\n",
       "  </svg>\n",
       "      </button>\n",
       "      \n",
       "  <style>\n",
       "    .colab-df-container {\n",
       "      display:flex;\n",
       "      flex-wrap:wrap;\n",
       "      gap: 12px;\n",
       "    }\n",
       "\n",
       "    .colab-df-convert {\n",
       "      background-color: #E8F0FE;\n",
       "      border: none;\n",
       "      border-radius: 50%;\n",
       "      cursor: pointer;\n",
       "      display: none;\n",
       "      fill: #1967D2;\n",
       "      height: 32px;\n",
       "      padding: 0 0 0 0;\n",
       "      width: 32px;\n",
       "    }\n",
       "\n",
       "    .colab-df-convert:hover {\n",
       "      background-color: #E2EBFA;\n",
       "      box-shadow: 0px 1px 2px rgba(60, 64, 67, 0.3), 0px 1px 3px 1px rgba(60, 64, 67, 0.15);\n",
       "      fill: #174EA6;\n",
       "    }\n",
       "\n",
       "    [theme=dark] .colab-df-convert {\n",
       "      background-color: #3B4455;\n",
       "      fill: #D2E3FC;\n",
       "    }\n",
       "\n",
       "    [theme=dark] .colab-df-convert:hover {\n",
       "      background-color: #434B5C;\n",
       "      box-shadow: 0px 1px 3px 1px rgba(0, 0, 0, 0.15);\n",
       "      filter: drop-shadow(0px 1px 2px rgba(0, 0, 0, 0.3));\n",
       "      fill: #FFFFFF;\n",
       "    }\n",
       "  </style>\n",
       "\n",
       "      <script>\n",
       "        const buttonEl =\n",
       "          document.querySelector('#df-fde620de-9098-43d6-a8a7-4db9b1c5505b button.colab-df-convert');\n",
       "        buttonEl.style.display =\n",
       "          google.colab.kernel.accessAllowed ? 'block' : 'none';\n",
       "\n",
       "        async function convertToInteractive(key) {\n",
       "          const element = document.querySelector('#df-fde620de-9098-43d6-a8a7-4db9b1c5505b');\n",
       "          const dataTable =\n",
       "            await google.colab.kernel.invokeFunction('convertToInteractive',\n",
       "                                                     [key], {});\n",
       "          if (!dataTable) return;\n",
       "\n",
       "          const docLinkHtml = 'Like what you see? Visit the ' +\n",
       "            '<a target=\"_blank\" href=https://colab.research.google.com/notebooks/data_table.ipynb>data table notebook</a>'\n",
       "            + ' to learn more about interactive tables.';\n",
       "          element.innerHTML = '';\n",
       "          dataTable['output_type'] = 'display_data';\n",
       "          await google.colab.output.renderOutput(dataTable, element);\n",
       "          const docLink = document.createElement('div');\n",
       "          docLink.innerHTML = docLinkHtml;\n",
       "          element.appendChild(docLink);\n",
       "        }\n",
       "      </script>\n",
       "    </div>\n",
       "  </div>\n",
       "  "
      ],
      "text/plain": [
       "          Genres\n",
       "0      Classical\n",
       "1     Electronic\n",
       "2   Experimental\n",
       "3           Folk\n",
       "4        Hip-Hop\n",
       "5   Instrumental\n",
       "6  International\n",
       "7            Pop\n",
       "8           Rock\n",
       "9   Weighted Avg"
      ]
     },
     "execution_count": 15,
     "metadata": {},
     "output_type": "execute_result"
    }
   ],
   "source": [
    "scores_df = pd.DataFrame()\n",
    "genre_list = [genre_names[key] for key in genre_names.keys()]\n",
    "genre_list.append('Weighted Avg')\n",
    "scores_df['Genres'] = genre_list\n",
    "scores_df"
   ]
  },
  {
   "cell_type": "code",
   "execution_count": 16,
   "id": "MAEHuz1o8XT8",
   "metadata": {
    "id": "MAEHuz1o8XT8"
   },
   "outputs": [],
   "source": [
    "#calculate the mean for each genre for \n",
    "baseline_recall = [np.mean(recall_dict[key]) for key in genre_names.keys()] #\n",
    "baseline_f1 = [np.mean(f1_dict[key]) for key in genre_names.keys()]\n",
    "baseline_precision = [np.mean(precision_dict[key]) for key in genre_names.keys()]\n",
    "\n"
   ]
  },
  {
   "cell_type": "markdown",
   "id": "ed4031f5",
   "metadata": {},
   "source": [
    "Below I am appending the weighted f1,recall, and precision to each list."
   ]
  },
  {
   "cell_type": "code",
   "execution_count": 17,
   "id": "HhT502LGVYv7",
   "metadata": {
    "colab": {
     "base_uri": "https://localhost:8080/"
    },
    "id": "HhT502LGVYv7",
    "outputId": "63700609-d467-40db-d28b-7eb6a99a4e43"
   },
   "outputs": [
    {
     "data": {
      "text/plain": [
       "[0.025892775892775895,\n",
       " 0.1970498026836055,\n",
       " 0.22347536073026275,\n",
       " 0.05897766525441275,\n",
       " 0.07440661382102823,\n",
       " 0.04392084392084392,\n",
       " 0.029490585686551104,\n",
       " 0.04859919954259576,\n",
       " 0.2978926473004307,\n",
       " 0.19241827628435976]"
      ]
     },
     "execution_count": 17,
     "metadata": {},
     "output_type": "execute_result"
    }
   ],
   "source": [
    "wt_f1 = np.mean(weighted_f1) #calc mean of f1,prec,and recall for weighted avg.\n",
    "wt_prec = np.mean(weighted_precision)\n",
    "wt_recall = np.mean(weighted_recall)\n",
    "\n",
    "baseline_f1.append(wt_f1)\n",
    "baseline_precision.append(wt_prec)\n",
    "baseline_recall.append(wt_recall)\n",
    "baseline_recall "
   ]
  },
  {
   "cell_type": "markdown",
   "id": "2ca202da",
   "metadata": {},
   "source": [
    "And adding to the dataframe `scores_df`"
   ]
  },
  {
   "cell_type": "code",
   "execution_count": 18,
   "id": "vq2BBc9iWnLH",
   "metadata": {
    "id": "vq2BBc9iWnLH"
   },
   "outputs": [],
   "source": [
    "#add to scores df\n",
    "scores_df['baseline_recall'] = baseline_recall\n",
    "scores_df['baseline_f1'] = baseline_f1\n",
    "scores_df['baseline_precision'] = baseline_precision\n"
   ]
  },
  {
   "cell_type": "code",
   "execution_count": 19,
   "id": "r4AXHJivWrGr",
   "metadata": {
    "id": "r4AXHJivWrGr"
   },
   "outputs": [],
   "source": [
    "scores_df.reset_index(inplace=True) #reset index\n",
    "scores_df.set_index('Genres', inplace=True) #set index for genress"
   ]
  },
  {
   "cell_type": "markdown",
   "id": "179b98ce",
   "metadata": {},
   "source": [
    "This is what the scores dataframe looks like. For each model I will continue to add these metrics to it. Note that the very underpresented classes such as pop and folk score very low on the f1 baselines."
   ]
  },
  {
   "cell_type": "code",
   "execution_count": 20,
   "id": "F7k2z_2OWiIO",
   "metadata": {
    "colab": {
     "base_uri": "https://localhost:8080/",
     "height": 394
    },
    "id": "F7k2z_2OWiIO",
    "outputId": "7ec37301-0333-41a2-f96d-c4d4e933ae0d"
   },
   "outputs": [
    {
     "data": {
      "text/html": [
       "\n",
       "  <div id=\"df-c7f23604-6538-420f-91df-cb127a53d4e7\">\n",
       "    <div class=\"colab-df-container\">\n",
       "      <div>\n",
       "<style scoped>\n",
       "    .dataframe tbody tr th:only-of-type {\n",
       "        vertical-align: middle;\n",
       "    }\n",
       "\n",
       "    .dataframe tbody tr th {\n",
       "        vertical-align: top;\n",
       "    }\n",
       "\n",
       "    .dataframe thead th {\n",
       "        text-align: right;\n",
       "    }\n",
       "</style>\n",
       "<table border=\"1\" class=\"dataframe\">\n",
       "  <thead>\n",
       "    <tr style=\"text-align: right;\">\n",
       "      <th></th>\n",
       "      <th>index</th>\n",
       "      <th>baseline_recall</th>\n",
       "      <th>baseline_f1</th>\n",
       "      <th>baseline_precision</th>\n",
       "    </tr>\n",
       "    <tr>\n",
       "      <th>Genres</th>\n",
       "      <th></th>\n",
       "      <th></th>\n",
       "      <th></th>\n",
       "      <th></th>\n",
       "    </tr>\n",
       "  </thead>\n",
       "  <tbody>\n",
       "    <tr>\n",
       "      <th>Classical</th>\n",
       "      <td>0</td>\n",
       "      <td>0.025893</td>\n",
       "      <td>0.025846</td>\n",
       "      <td>0.025840</td>\n",
       "    </tr>\n",
       "    <tr>\n",
       "      <th>Electronic</th>\n",
       "      <td>1</td>\n",
       "      <td>0.197050</td>\n",
       "      <td>0.197048</td>\n",
       "      <td>0.197078</td>\n",
       "    </tr>\n",
       "    <tr>\n",
       "      <th>Experimental</th>\n",
       "      <td>2</td>\n",
       "      <td>0.223475</td>\n",
       "      <td>0.223397</td>\n",
       "      <td>0.223354</td>\n",
       "    </tr>\n",
       "    <tr>\n",
       "      <th>Folk</th>\n",
       "      <td>3</td>\n",
       "      <td>0.058978</td>\n",
       "      <td>0.058946</td>\n",
       "      <td>0.058957</td>\n",
       "    </tr>\n",
       "    <tr>\n",
       "      <th>Hip-Hop</th>\n",
       "      <td>4</td>\n",
       "      <td>0.074407</td>\n",
       "      <td>0.074338</td>\n",
       "      <td>0.074309</td>\n",
       "    </tr>\n",
       "    <tr>\n",
       "      <th>Instrumental</th>\n",
       "      <td>5</td>\n",
       "      <td>0.043921</td>\n",
       "      <td>0.043933</td>\n",
       "      <td>0.043986</td>\n",
       "    </tr>\n",
       "    <tr>\n",
       "      <th>International</th>\n",
       "      <td>6</td>\n",
       "      <td>0.029491</td>\n",
       "      <td>0.029453</td>\n",
       "      <td>0.029457</td>\n",
       "    </tr>\n",
       "    <tr>\n",
       "      <th>Pop</th>\n",
       "      <td>7</td>\n",
       "      <td>0.048599</td>\n",
       "      <td>0.048621</td>\n",
       "      <td>0.048680</td>\n",
       "    </tr>\n",
       "    <tr>\n",
       "      <th>Rock</th>\n",
       "      <td>8</td>\n",
       "      <td>0.297893</td>\n",
       "      <td>0.297935</td>\n",
       "      <td>0.298007</td>\n",
       "    </tr>\n",
       "    <tr>\n",
       "      <th>Weighted Avg</th>\n",
       "      <td>9</td>\n",
       "      <td>0.192418</td>\n",
       "      <td>0.192405</td>\n",
       "      <td>0.192427</td>\n",
       "    </tr>\n",
       "  </tbody>\n",
       "</table>\n",
       "</div>\n",
       "      <button class=\"colab-df-convert\" onclick=\"convertToInteractive('df-c7f23604-6538-420f-91df-cb127a53d4e7')\"\n",
       "              title=\"Convert this dataframe to an interactive table.\"\n",
       "              style=\"display:none;\">\n",
       "        \n",
       "  <svg xmlns=\"http://www.w3.org/2000/svg\" height=\"24px\"viewBox=\"0 0 24 24\"\n",
       "       width=\"24px\">\n",
       "    <path d=\"M0 0h24v24H0V0z\" fill=\"none\"/>\n",
       "    <path d=\"M18.56 5.44l.94 2.06.94-2.06 2.06-.94-2.06-.94-.94-2.06-.94 2.06-2.06.94zm-11 1L8.5 8.5l.94-2.06 2.06-.94-2.06-.94L8.5 2.5l-.94 2.06-2.06.94zm10 10l.94 2.06.94-2.06 2.06-.94-2.06-.94-.94-2.06-.94 2.06-2.06.94z\"/><path d=\"M17.41 7.96l-1.37-1.37c-.4-.4-.92-.59-1.43-.59-.52 0-1.04.2-1.43.59L10.3 9.45l-7.72 7.72c-.78.78-.78 2.05 0 2.83L4 21.41c.39.39.9.59 1.41.59.51 0 1.02-.2 1.41-.59l7.78-7.78 2.81-2.81c.8-.78.8-2.07 0-2.86zM5.41 20L4 18.59l7.72-7.72 1.47 1.35L5.41 20z\"/>\n",
       "  </svg>\n",
       "      </button>\n",
       "      \n",
       "  <style>\n",
       "    .colab-df-container {\n",
       "      display:flex;\n",
       "      flex-wrap:wrap;\n",
       "      gap: 12px;\n",
       "    }\n",
       "\n",
       "    .colab-df-convert {\n",
       "      background-color: #E8F0FE;\n",
       "      border: none;\n",
       "      border-radius: 50%;\n",
       "      cursor: pointer;\n",
       "      display: none;\n",
       "      fill: #1967D2;\n",
       "      height: 32px;\n",
       "      padding: 0 0 0 0;\n",
       "      width: 32px;\n",
       "    }\n",
       "\n",
       "    .colab-df-convert:hover {\n",
       "      background-color: #E2EBFA;\n",
       "      box-shadow: 0px 1px 2px rgba(60, 64, 67, 0.3), 0px 1px 3px 1px rgba(60, 64, 67, 0.15);\n",
       "      fill: #174EA6;\n",
       "    }\n",
       "\n",
       "    [theme=dark] .colab-df-convert {\n",
       "      background-color: #3B4455;\n",
       "      fill: #D2E3FC;\n",
       "    }\n",
       "\n",
       "    [theme=dark] .colab-df-convert:hover {\n",
       "      background-color: #434B5C;\n",
       "      box-shadow: 0px 1px 3px 1px rgba(0, 0, 0, 0.15);\n",
       "      filter: drop-shadow(0px 1px 2px rgba(0, 0, 0, 0.3));\n",
       "      fill: #FFFFFF;\n",
       "    }\n",
       "  </style>\n",
       "\n",
       "      <script>\n",
       "        const buttonEl =\n",
       "          document.querySelector('#df-c7f23604-6538-420f-91df-cb127a53d4e7 button.colab-df-convert');\n",
       "        buttonEl.style.display =\n",
       "          google.colab.kernel.accessAllowed ? 'block' : 'none';\n",
       "\n",
       "        async function convertToInteractive(key) {\n",
       "          const element = document.querySelector('#df-c7f23604-6538-420f-91df-cb127a53d4e7');\n",
       "          const dataTable =\n",
       "            await google.colab.kernel.invokeFunction('convertToInteractive',\n",
       "                                                     [key], {});\n",
       "          if (!dataTable) return;\n",
       "\n",
       "          const docLinkHtml = 'Like what you see? Visit the ' +\n",
       "            '<a target=\"_blank\" href=https://colab.research.google.com/notebooks/data_table.ipynb>data table notebook</a>'\n",
       "            + ' to learn more about interactive tables.';\n",
       "          element.innerHTML = '';\n",
       "          dataTable['output_type'] = 'display_data';\n",
       "          await google.colab.output.renderOutput(dataTable, element);\n",
       "          const docLink = document.createElement('div');\n",
       "          docLink.innerHTML = docLinkHtml;\n",
       "          element.appendChild(docLink);\n",
       "        }\n",
       "      </script>\n",
       "    </div>\n",
       "  </div>\n",
       "  "
      ],
      "text/plain": [
       "               index  baseline_recall  baseline_f1  baseline_precision\n",
       "Genres                                                                \n",
       "Classical          0         0.025893     0.025846            0.025840\n",
       "Electronic         1         0.197050     0.197048            0.197078\n",
       "Experimental       2         0.223475     0.223397            0.223354\n",
       "Folk               3         0.058978     0.058946            0.058957\n",
       "Hip-Hop            4         0.074407     0.074338            0.074309\n",
       "Instrumental       5         0.043921     0.043933            0.043986\n",
       "International      6         0.029491     0.029453            0.029457\n",
       "Pop                7         0.048599     0.048621            0.048680\n",
       "Rock               8         0.297893     0.297935            0.298007\n",
       "Weighted Avg       9         0.192418     0.192405            0.192427"
      ]
     },
     "execution_count": 20,
     "metadata": {},
     "output_type": "execute_result"
    }
   ],
   "source": [
    "scores_df"
   ]
  },
  {
   "cell_type": "markdown",
   "id": "1ce7588f",
   "metadata": {},
   "source": [
    "Sanity check confirming the values were input corrected into `scores_df`."
   ]
  },
  {
   "cell_type": "code",
   "execution_count": 21,
   "id": "2bd10cbd",
   "metadata": {
    "colab": {
     "base_uri": "https://localhost:8080/"
    },
    "id": "2bd10cbd",
    "outputId": "900bbe12-9d3d-4da6-9770-a63c45de886b"
   },
   "outputs": [
    {
     "name": "stdout",
     "output_type": "stream",
     "text": [
      "True\n",
      "True\n"
     ]
    }
   ],
   "source": [
    "#see if input correctly into new scores df\n",
    "print(np.isclose(np.mean(recall_dict[8]), scores_df.loc['Rock', 'baseline_recall']))\n",
    "print(np.isclose(np.mean(precision_dict[5]), scores_df.loc['Instrumental', 'baseline_precision']))\n"
   ]
  },
  {
   "cell_type": "markdown",
   "id": "b7c6b810",
   "metadata": {},
   "source": [
    "Below I created the dataframe in which I will keep all the different classification model accuracies. There are two columns for accuracy: baseline and optimized. Baseline is running the model with default parameters while optimized involves tuning hyperparameters."
   ]
  },
  {
   "cell_type": "code",
   "execution_count": 22,
   "id": "73f7427a",
   "metadata": {
    "colab": {
     "base_uri": "https://localhost:8080/",
     "height": 300
    },
    "id": "73f7427a",
    "outputId": "ca3140a4-e3c0-47f3-babc-f82365e07d75"
   },
   "outputs": [
    {
     "data": {
      "text/html": [
       "\n",
       "  <div id=\"df-acc7199b-65e8-4b72-ac82-92fcbabbfd16\">\n",
       "    <div class=\"colab-df-container\">\n",
       "      <div>\n",
       "<style scoped>\n",
       "    .dataframe tbody tr th:only-of-type {\n",
       "        vertical-align: middle;\n",
       "    }\n",
       "\n",
       "    .dataframe tbody tr th {\n",
       "        vertical-align: top;\n",
       "    }\n",
       "\n",
       "    .dataframe thead th {\n",
       "        text-align: right;\n",
       "    }\n",
       "</style>\n",
       "<table border=\"1\" class=\"dataframe\">\n",
       "  <thead>\n",
       "    <tr style=\"text-align: right;\">\n",
       "      <th></th>\n",
       "      <th>Baseline Accuracy</th>\n",
       "      <th>Optimized Accuracy</th>\n",
       "    </tr>\n",
       "    <tr>\n",
       "      <th>Model</th>\n",
       "      <th></th>\n",
       "      <th></th>\n",
       "    </tr>\n",
       "  </thead>\n",
       "  <tbody>\n",
       "    <tr>\n",
       "      <th>Baseline</th>\n",
       "      <td>0.29</td>\n",
       "      <td>N/A</td>\n",
       "    </tr>\n",
       "    <tr>\n",
       "      <th>Logistic Regression</th>\n",
       "      <td>NaN</td>\n",
       "      <td>NaN</td>\n",
       "    </tr>\n",
       "    <tr>\n",
       "      <th>KNN</th>\n",
       "      <td>NaN</td>\n",
       "      <td>NaN</td>\n",
       "    </tr>\n",
       "    <tr>\n",
       "      <th>Random Forest</th>\n",
       "      <td>NaN</td>\n",
       "      <td>NaN</td>\n",
       "    </tr>\n",
       "    <tr>\n",
       "      <th>Decision Tree</th>\n",
       "      <td>NaN</td>\n",
       "      <td>NaN</td>\n",
       "    </tr>\n",
       "    <tr>\n",
       "      <th>Neural Net</th>\n",
       "      <td>NaN</td>\n",
       "      <td>NaN</td>\n",
       "    </tr>\n",
       "    <tr>\n",
       "      <th>SMOTE Neural Net</th>\n",
       "      <td>NaN</td>\n",
       "      <td>NaN</td>\n",
       "    </tr>\n",
       "  </tbody>\n",
       "</table>\n",
       "</div>\n",
       "      <button class=\"colab-df-convert\" onclick=\"convertToInteractive('df-acc7199b-65e8-4b72-ac82-92fcbabbfd16')\"\n",
       "              title=\"Convert this dataframe to an interactive table.\"\n",
       "              style=\"display:none;\">\n",
       "        \n",
       "  <svg xmlns=\"http://www.w3.org/2000/svg\" height=\"24px\"viewBox=\"0 0 24 24\"\n",
       "       width=\"24px\">\n",
       "    <path d=\"M0 0h24v24H0V0z\" fill=\"none\"/>\n",
       "    <path d=\"M18.56 5.44l.94 2.06.94-2.06 2.06-.94-2.06-.94-.94-2.06-.94 2.06-2.06.94zm-11 1L8.5 8.5l.94-2.06 2.06-.94-2.06-.94L8.5 2.5l-.94 2.06-2.06.94zm10 10l.94 2.06.94-2.06 2.06-.94-2.06-.94-.94-2.06-.94 2.06-2.06.94z\"/><path d=\"M17.41 7.96l-1.37-1.37c-.4-.4-.92-.59-1.43-.59-.52 0-1.04.2-1.43.59L10.3 9.45l-7.72 7.72c-.78.78-.78 2.05 0 2.83L4 21.41c.39.39.9.59 1.41.59.51 0 1.02-.2 1.41-.59l7.78-7.78 2.81-2.81c.8-.78.8-2.07 0-2.86zM5.41 20L4 18.59l7.72-7.72 1.47 1.35L5.41 20z\"/>\n",
       "  </svg>\n",
       "      </button>\n",
       "      \n",
       "  <style>\n",
       "    .colab-df-container {\n",
       "      display:flex;\n",
       "      flex-wrap:wrap;\n",
       "      gap: 12px;\n",
       "    }\n",
       "\n",
       "    .colab-df-convert {\n",
       "      background-color: #E8F0FE;\n",
       "      border: none;\n",
       "      border-radius: 50%;\n",
       "      cursor: pointer;\n",
       "      display: none;\n",
       "      fill: #1967D2;\n",
       "      height: 32px;\n",
       "      padding: 0 0 0 0;\n",
       "      width: 32px;\n",
       "    }\n",
       "\n",
       "    .colab-df-convert:hover {\n",
       "      background-color: #E2EBFA;\n",
       "      box-shadow: 0px 1px 2px rgba(60, 64, 67, 0.3), 0px 1px 3px 1px rgba(60, 64, 67, 0.15);\n",
       "      fill: #174EA6;\n",
       "    }\n",
       "\n",
       "    [theme=dark] .colab-df-convert {\n",
       "      background-color: #3B4455;\n",
       "      fill: #D2E3FC;\n",
       "    }\n",
       "\n",
       "    [theme=dark] .colab-df-convert:hover {\n",
       "      background-color: #434B5C;\n",
       "      box-shadow: 0px 1px 3px 1px rgba(0, 0, 0, 0.15);\n",
       "      filter: drop-shadow(0px 1px 2px rgba(0, 0, 0, 0.3));\n",
       "      fill: #FFFFFF;\n",
       "    }\n",
       "  </style>\n",
       "\n",
       "      <script>\n",
       "        const buttonEl =\n",
       "          document.querySelector('#df-acc7199b-65e8-4b72-ac82-92fcbabbfd16 button.colab-df-convert');\n",
       "        buttonEl.style.display =\n",
       "          google.colab.kernel.accessAllowed ? 'block' : 'none';\n",
       "\n",
       "        async function convertToInteractive(key) {\n",
       "          const element = document.querySelector('#df-acc7199b-65e8-4b72-ac82-92fcbabbfd16');\n",
       "          const dataTable =\n",
       "            await google.colab.kernel.invokeFunction('convertToInteractive',\n",
       "                                                     [key], {});\n",
       "          if (!dataTable) return;\n",
       "\n",
       "          const docLinkHtml = 'Like what you see? Visit the ' +\n",
       "            '<a target=\"_blank\" href=https://colab.research.google.com/notebooks/data_table.ipynb>data table notebook</a>'\n",
       "            + ' to learn more about interactive tables.';\n",
       "          element.innerHTML = '';\n",
       "          dataTable['output_type'] = 'display_data';\n",
       "          await google.colab.output.renderOutput(dataTable, element);\n",
       "          const docLink = document.createElement('div');\n",
       "          docLink.innerHTML = docLinkHtml;\n",
       "          element.appendChild(docLink);\n",
       "        }\n",
       "      </script>\n",
       "    </div>\n",
       "  </div>\n",
       "  "
      ],
      "text/plain": [
       "                    Baseline Accuracy Optimized Accuracy\n",
       "Model                                                   \n",
       "Baseline                         0.29                N/A\n",
       "Logistic Regression               NaN                NaN\n",
       "KNN                               NaN                NaN\n",
       "Random Forest                     NaN                NaN\n",
       "Decision Tree                     NaN                NaN\n",
       "Neural Net                        NaN                NaN\n",
       "SMOTE Neural Net                  NaN                NaN"
      ]
     },
     "execution_count": 22,
     "metadata": {},
     "output_type": "execute_result"
    }
   ],
   "source": [
    "# Define the model names\n",
    "model_names = ['Baseline', 'Logistic Regression', 'KNN', 'Random Forest', 'Decision Tree', 'Neural Net', 'SMOTE Neural Net']\n",
    "\n",
    "# Create an empty dataframe with the columns\n",
    "accuracy_df = pd.DataFrame(columns=['Model', 'Baseline Accuracy', 'Optimized Accuracy'])\n",
    "\n",
    "# Set the index to be the model names\n",
    "accuracy_df['Model'] = model_names\n",
    "accuracy_df.set_index('Model', inplace=True)\n",
    "\n",
    "accuracy_df.loc['Baseline', 'Baseline Accuracy'] = 0.29\n",
    "accuracy_df.loc['Baseline', 'Optimized Accuracy'] = 'N/A'\n",
    "\n",
    "accuracy_df"
   ]
  },
  {
   "cell_type": "markdown",
   "id": "A5kkrl_NSGJy",
   "metadata": {
    "id": "A5kkrl_NSGJy"
   },
   "source": [
    "## Decision Tree"
   ]
  },
  {
   "cell_type": "markdown",
   "id": "a7975071",
   "metadata": {},
   "source": [
    "The first model is the decision tree. The features being fed into the decision tree model do not need to be scaled. Below shows the baseline model, where the only parameter I have given it is the random state (for reproducability). The baseline DT had an accuracy of 46%."
   ]
  },
  {
   "cell_type": "code",
   "execution_count": 46,
   "id": "dCSGq9slu7l6",
   "metadata": {
    "colab": {
     "base_uri": "https://localhost:8080/"
    },
    "id": "dCSGq9slu7l6",
    "outputId": "90dadcdd-77b9-48bc-bcab-9c36a61891ff"
   },
   "outputs": [
    {
     "data": {
      "text/plain": [
       "((35661, 350), (11888, 350))"
      ]
     },
     "execution_count": 46,
     "metadata": {},
     "output_type": "execute_result"
    }
   ],
   "source": [
    "from sklearn.model_selection import train_test_split \n",
    "X_train, X_test, y_train, y_test = train_test_split(X,y_encoded, test_size=0.25, stratify=y,random_state=1)  #split into train and test. Also use the same random state\n",
    "X_train.shape, X_test.shape"
   ]
  },
  {
   "cell_type": "code",
   "execution_count": 23,
   "id": "1fmfyWsjSFTp",
   "metadata": {
    "colab": {
     "base_uri": "https://localhost:8080/"
    },
    "id": "1fmfyWsjSFTp",
    "outputId": "e67e9448-a349-4eda-fb9b-6689db99fca6"
   },
   "outputs": [
    {
     "name": "stdout",
     "output_type": "stream",
     "text": [
      "Accuracy: 0.46736204576043067\n"
     ]
    }
   ],
   "source": [
    "from sklearn.tree import DecisionTreeClassifier\n",
    "from sklearn.metrics import accuracy_score\n",
    "from sklearn.metrics import classification_report\n",
    "\n",
    "# decision tree classifier\n",
    "dt = DecisionTreeClassifier(random_state=1)\n",
    "dt.fit(X_train, y_train)\n",
    "\n",
    "# Predict on test data\n",
    "y_pred = dt.predict(X_test)\n",
    "\n",
    "\n",
    "baseline_dt_accuracy = accuracy_score(y_test, y_pred)  \n",
    " \n",
    "print(\"Accuracy:\", baseline_dt_accuracy) \n",
    "\n",
    "\n",
    "baseline_dt_class_report = classification_report(y_test,y_pred,output_dict=True)\n"
   ]
  },
  {
   "cell_type": "code",
   "execution_count": 24,
   "id": "0hLO914LSrrE",
   "metadata": {
    "id": "0hLO914LSrrE"
   },
   "outputs": [],
   "source": [
    "accuracy_df.loc['Decision Tree', 'Baseline Accuracy'] = round(baseline_dt_accuracy,2)"
   ]
  },
  {
   "cell_type": "code",
   "execution_count": 25,
   "id": "5vcL1qN6XiiL",
   "metadata": {
    "colab": {
     "base_uri": "https://localhost:8080/",
     "height": 300
    },
    "id": "5vcL1qN6XiiL",
    "outputId": "29466950-39c4-4823-9936-895e2801ead8"
   },
   "outputs": [
    {
     "data": {
      "text/html": [
       "\n",
       "  <div id=\"df-3600c0f0-19a0-424d-89ec-f4ec87b55fb2\">\n",
       "    <div class=\"colab-df-container\">\n",
       "      <div>\n",
       "<style scoped>\n",
       "    .dataframe tbody tr th:only-of-type {\n",
       "        vertical-align: middle;\n",
       "    }\n",
       "\n",
       "    .dataframe tbody tr th {\n",
       "        vertical-align: top;\n",
       "    }\n",
       "\n",
       "    .dataframe thead th {\n",
       "        text-align: right;\n",
       "    }\n",
       "</style>\n",
       "<table border=\"1\" class=\"dataframe\">\n",
       "  <thead>\n",
       "    <tr style=\"text-align: right;\">\n",
       "      <th></th>\n",
       "      <th>Baseline Accuracy</th>\n",
       "      <th>Optimized Accuracy</th>\n",
       "    </tr>\n",
       "    <tr>\n",
       "      <th>Model</th>\n",
       "      <th></th>\n",
       "      <th></th>\n",
       "    </tr>\n",
       "  </thead>\n",
       "  <tbody>\n",
       "    <tr>\n",
       "      <th>Baseline</th>\n",
       "      <td>0.29</td>\n",
       "      <td>N/A</td>\n",
       "    </tr>\n",
       "    <tr>\n",
       "      <th>Logistic Regression</th>\n",
       "      <td>NaN</td>\n",
       "      <td>NaN</td>\n",
       "    </tr>\n",
       "    <tr>\n",
       "      <th>KNN</th>\n",
       "      <td>NaN</td>\n",
       "      <td>NaN</td>\n",
       "    </tr>\n",
       "    <tr>\n",
       "      <th>Random Forest</th>\n",
       "      <td>NaN</td>\n",
       "      <td>NaN</td>\n",
       "    </tr>\n",
       "    <tr>\n",
       "      <th>Decision Tree</th>\n",
       "      <td>0.47</td>\n",
       "      <td>NaN</td>\n",
       "    </tr>\n",
       "    <tr>\n",
       "      <th>Neural Net</th>\n",
       "      <td>NaN</td>\n",
       "      <td>NaN</td>\n",
       "    </tr>\n",
       "    <tr>\n",
       "      <th>SMOTE Neural Net</th>\n",
       "      <td>NaN</td>\n",
       "      <td>NaN</td>\n",
       "    </tr>\n",
       "  </tbody>\n",
       "</table>\n",
       "</div>\n",
       "      <button class=\"colab-df-convert\" onclick=\"convertToInteractive('df-3600c0f0-19a0-424d-89ec-f4ec87b55fb2')\"\n",
       "              title=\"Convert this dataframe to an interactive table.\"\n",
       "              style=\"display:none;\">\n",
       "        \n",
       "  <svg xmlns=\"http://www.w3.org/2000/svg\" height=\"24px\"viewBox=\"0 0 24 24\"\n",
       "       width=\"24px\">\n",
       "    <path d=\"M0 0h24v24H0V0z\" fill=\"none\"/>\n",
       "    <path d=\"M18.56 5.44l.94 2.06.94-2.06 2.06-.94-2.06-.94-.94-2.06-.94 2.06-2.06.94zm-11 1L8.5 8.5l.94-2.06 2.06-.94-2.06-.94L8.5 2.5l-.94 2.06-2.06.94zm10 10l.94 2.06.94-2.06 2.06-.94-2.06-.94-.94-2.06-.94 2.06-2.06.94z\"/><path d=\"M17.41 7.96l-1.37-1.37c-.4-.4-.92-.59-1.43-.59-.52 0-1.04.2-1.43.59L10.3 9.45l-7.72 7.72c-.78.78-.78 2.05 0 2.83L4 21.41c.39.39.9.59 1.41.59.51 0 1.02-.2 1.41-.59l7.78-7.78 2.81-2.81c.8-.78.8-2.07 0-2.86zM5.41 20L4 18.59l7.72-7.72 1.47 1.35L5.41 20z\"/>\n",
       "  </svg>\n",
       "      </button>\n",
       "      \n",
       "  <style>\n",
       "    .colab-df-container {\n",
       "      display:flex;\n",
       "      flex-wrap:wrap;\n",
       "      gap: 12px;\n",
       "    }\n",
       "\n",
       "    .colab-df-convert {\n",
       "      background-color: #E8F0FE;\n",
       "      border: none;\n",
       "      border-radius: 50%;\n",
       "      cursor: pointer;\n",
       "      display: none;\n",
       "      fill: #1967D2;\n",
       "      height: 32px;\n",
       "      padding: 0 0 0 0;\n",
       "      width: 32px;\n",
       "    }\n",
       "\n",
       "    .colab-df-convert:hover {\n",
       "      background-color: #E2EBFA;\n",
       "      box-shadow: 0px 1px 2px rgba(60, 64, 67, 0.3), 0px 1px 3px 1px rgba(60, 64, 67, 0.15);\n",
       "      fill: #174EA6;\n",
       "    }\n",
       "\n",
       "    [theme=dark] .colab-df-convert {\n",
       "      background-color: #3B4455;\n",
       "      fill: #D2E3FC;\n",
       "    }\n",
       "\n",
       "    [theme=dark] .colab-df-convert:hover {\n",
       "      background-color: #434B5C;\n",
       "      box-shadow: 0px 1px 3px 1px rgba(0, 0, 0, 0.15);\n",
       "      filter: drop-shadow(0px 1px 2px rgba(0, 0, 0, 0.3));\n",
       "      fill: #FFFFFF;\n",
       "    }\n",
       "  </style>\n",
       "\n",
       "      <script>\n",
       "        const buttonEl =\n",
       "          document.querySelector('#df-3600c0f0-19a0-424d-89ec-f4ec87b55fb2 button.colab-df-convert');\n",
       "        buttonEl.style.display =\n",
       "          google.colab.kernel.accessAllowed ? 'block' : 'none';\n",
       "\n",
       "        async function convertToInteractive(key) {\n",
       "          const element = document.querySelector('#df-3600c0f0-19a0-424d-89ec-f4ec87b55fb2');\n",
       "          const dataTable =\n",
       "            await google.colab.kernel.invokeFunction('convertToInteractive',\n",
       "                                                     [key], {});\n",
       "          if (!dataTable) return;\n",
       "\n",
       "          const docLinkHtml = 'Like what you see? Visit the ' +\n",
       "            '<a target=\"_blank\" href=https://colab.research.google.com/notebooks/data_table.ipynb>data table notebook</a>'\n",
       "            + ' to learn more about interactive tables.';\n",
       "          element.innerHTML = '';\n",
       "          dataTable['output_type'] = 'display_data';\n",
       "          await google.colab.output.renderOutput(dataTable, element);\n",
       "          const docLink = document.createElement('div');\n",
       "          docLink.innerHTML = docLinkHtml;\n",
       "          element.appendChild(docLink);\n",
       "        }\n",
       "      </script>\n",
       "    </div>\n",
       "  </div>\n",
       "  "
      ],
      "text/plain": [
       "                    Baseline Accuracy Optimized Accuracy\n",
       "Model                                                   \n",
       "Baseline                         0.29                N/A\n",
       "Logistic Regression               NaN                NaN\n",
       "KNN                               NaN                NaN\n",
       "Random Forest                     NaN                NaN\n",
       "Decision Tree                    0.47                NaN\n",
       "Neural Net                        NaN                NaN\n",
       "SMOTE Neural Net                  NaN                NaN"
      ]
     },
     "execution_count": 25,
     "metadata": {},
     "output_type": "execute_result"
    }
   ],
   "source": [
    "accuracy_df"
   ]
  },
  {
   "cell_type": "markdown",
   "id": "f5853d48",
   "metadata": {},
   "source": [
    "Within this directory is a .py file containing a function I wrote called `get_class_metrics`. This function will be used throughout the notebooks to take in a classification report and output the success metrics into `scores_df`. "
   ]
  },
  {
   "cell_type": "code",
   "execution_count": 26,
   "id": "kl8C4pXdVqbY",
   "metadata": {
    "id": "kl8C4pXdVqbY"
   },
   "outputs": [],
   "source": [
    "from my_functions import get_class_metrics"
   ]
  },
  {
   "cell_type": "code",
   "execution_count": 27,
   "id": "iM6XzatQTA7T",
   "metadata": {
    "colab": {
     "base_uri": "https://localhost:8080/"
    },
    "id": "iM6XzatQTA7T",
    "outputId": "931d4fe2-a84d-4673-ac95-246d82037bd0"
   },
   "outputs": [
    {
     "name": "stdout",
     "output_type": "stream",
     "text": [
      "Help on function get_class_metrics in module my_functions:\n",
      "\n",
      "get_class_metrics(class_report, column, df)\n",
      "    input: \n",
      "        - a class report (classification_report) from sklearn\n",
      "        - str name of the column you want to create\n",
      "        - a dataframe (specific to this project-- rows are the 9 genres + weighted avg.)\n",
      "    \n",
      "    example: get_class_metrics(baseline_rf_class_report, 'baseline_rf', scores_df)\n",
      "    example output: Will add columns ['baseline_rf_recall', 'baseline_rf_precision', 'baseline_rf_f1-score']\n",
      "    to the scores_df with the values for each genre and the weighted avg.\n",
      "\n"
     ]
    }
   ],
   "source": [
    "help(get_class_metrics)"
   ]
  },
  {
   "cell_type": "markdown",
   "id": "7722daee",
   "metadata": {},
   "source": [
    "Below is an example of how `get_class_metrics` operates. It added three new columns for the baseline decision tree metrics into `scores_df`."
   ]
  },
  {
   "cell_type": "code",
   "execution_count": 28,
   "id": "MC5ZCVHxTESD",
   "metadata": {
    "id": "MC5ZCVHxTESD"
   },
   "outputs": [],
   "source": [
    "get_class_metrics(baseline_dt_class_report, 'baseline_dt', scores_df)"
   ]
  },
  {
   "cell_type": "code",
   "execution_count": 54,
   "id": "PKuxD4-EXrb8",
   "metadata": {
    "colab": {
     "base_uri": "https://localhost:8080/",
     "height": 394
    },
    "id": "PKuxD4-EXrb8",
    "outputId": "d7c1b877-af21-4fa6-c06b-af77de1d5f69"
   },
   "outputs": [
    {
     "data": {
      "text/html": [
       "\n",
       "  <div id=\"df-202b743e-4419-4f45-a576-21efb6f49349\">\n",
       "    <div class=\"colab-df-container\">\n",
       "      <div>\n",
       "<style scoped>\n",
       "    .dataframe tbody tr th:only-of-type {\n",
       "        vertical-align: middle;\n",
       "    }\n",
       "\n",
       "    .dataframe tbody tr th {\n",
       "        vertical-align: top;\n",
       "    }\n",
       "\n",
       "    .dataframe thead th {\n",
       "        text-align: right;\n",
       "    }\n",
       "</style>\n",
       "<table border=\"1\" class=\"dataframe\">\n",
       "  <thead>\n",
       "    <tr style=\"text-align: right;\">\n",
       "      <th></th>\n",
       "      <th>index</th>\n",
       "      <th>baseline_recall</th>\n",
       "      <th>baseline_f1</th>\n",
       "      <th>baseline_precision</th>\n",
       "      <th>baseline_dt_recall</th>\n",
       "      <th>baseline_dt_f1-score</th>\n",
       "      <th>baseline_dt_precision</th>\n",
       "    </tr>\n",
       "    <tr>\n",
       "      <th>Genres</th>\n",
       "      <th></th>\n",
       "      <th></th>\n",
       "      <th></th>\n",
       "      <th></th>\n",
       "      <th></th>\n",
       "      <th></th>\n",
       "      <th></th>\n",
       "    </tr>\n",
       "  </thead>\n",
       "  <tbody>\n",
       "    <tr>\n",
       "      <th>Classical</th>\n",
       "      <td>0</td>\n",
       "      <td>0.025893</td>\n",
       "      <td>0.025846</td>\n",
       "      <td>0.025840</td>\n",
       "      <td>0.500000</td>\n",
       "      <td>0.511628</td>\n",
       "      <td>0.523810</td>\n",
       "    </tr>\n",
       "    <tr>\n",
       "      <th>Electronic</th>\n",
       "      <td>1</td>\n",
       "      <td>0.197050</td>\n",
       "      <td>0.197048</td>\n",
       "      <td>0.197078</td>\n",
       "      <td>0.456253</td>\n",
       "      <td>0.456740</td>\n",
       "      <td>0.457228</td>\n",
       "    </tr>\n",
       "    <tr>\n",
       "      <th>Experimental</th>\n",
       "      <td>2</td>\n",
       "      <td>0.223475</td>\n",
       "      <td>0.223397</td>\n",
       "      <td>0.223354</td>\n",
       "      <td>0.443062</td>\n",
       "      <td>0.452707</td>\n",
       "      <td>0.462781</td>\n",
       "    </tr>\n",
       "    <tr>\n",
       "      <th>Folk</th>\n",
       "      <td>3</td>\n",
       "      <td>0.058978</td>\n",
       "      <td>0.058946</td>\n",
       "      <td>0.058957</td>\n",
       "      <td>0.378031</td>\n",
       "      <td>0.375620</td>\n",
       "      <td>0.373239</td>\n",
       "    </tr>\n",
       "    <tr>\n",
       "      <th>Hip-Hop</th>\n",
       "      <td>4</td>\n",
       "      <td>0.074407</td>\n",
       "      <td>0.074338</td>\n",
       "      <td>0.074309</td>\n",
       "      <td>0.384009</td>\n",
       "      <td>0.384442</td>\n",
       "      <td>0.384876</td>\n",
       "    </tr>\n",
       "    <tr>\n",
       "      <th>Instrumental</th>\n",
       "      <td>5</td>\n",
       "      <td>0.043921</td>\n",
       "      <td>0.043933</td>\n",
       "      <td>0.043986</td>\n",
       "      <td>0.182692</td>\n",
       "      <td>0.175439</td>\n",
       "      <td>0.168739</td>\n",
       "    </tr>\n",
       "    <tr>\n",
       "      <th>International</th>\n",
       "      <td>6</td>\n",
       "      <td>0.029491</td>\n",
       "      <td>0.029453</td>\n",
       "      <td>0.029457</td>\n",
       "      <td>0.256484</td>\n",
       "      <td>0.244505</td>\n",
       "      <td>0.233596</td>\n",
       "    </tr>\n",
       "    <tr>\n",
       "      <th>Pop</th>\n",
       "      <td>7</td>\n",
       "      <td>0.048599</td>\n",
       "      <td>0.048621</td>\n",
       "      <td>0.048680</td>\n",
       "      <td>0.097770</td>\n",
       "      <td>0.093137</td>\n",
       "      <td>0.088924</td>\n",
       "    </tr>\n",
       "    <tr>\n",
       "      <th>Rock</th>\n",
       "      <td>8</td>\n",
       "      <td>0.297893</td>\n",
       "      <td>0.297935</td>\n",
       "      <td>0.298007</td>\n",
       "      <td>0.651720</td>\n",
       "      <td>0.652640</td>\n",
       "      <td>0.653563</td>\n",
       "    </tr>\n",
       "    <tr>\n",
       "      <th>Weighted Avg</th>\n",
       "      <td>9</td>\n",
       "      <td>0.192418</td>\n",
       "      <td>0.192405</td>\n",
       "      <td>0.192427</td>\n",
       "      <td>0.467362</td>\n",
       "      <td>0.469181</td>\n",
       "      <td>0.471190</td>\n",
       "    </tr>\n",
       "  </tbody>\n",
       "</table>\n",
       "</div>\n",
       "      <button class=\"colab-df-convert\" onclick=\"convertToInteractive('df-202b743e-4419-4f45-a576-21efb6f49349')\"\n",
       "              title=\"Convert this dataframe to an interactive table.\"\n",
       "              style=\"display:none;\">\n",
       "        \n",
       "  <svg xmlns=\"http://www.w3.org/2000/svg\" height=\"24px\"viewBox=\"0 0 24 24\"\n",
       "       width=\"24px\">\n",
       "    <path d=\"M0 0h24v24H0V0z\" fill=\"none\"/>\n",
       "    <path d=\"M18.56 5.44l.94 2.06.94-2.06 2.06-.94-2.06-.94-.94-2.06-.94 2.06-2.06.94zm-11 1L8.5 8.5l.94-2.06 2.06-.94-2.06-.94L8.5 2.5l-.94 2.06-2.06.94zm10 10l.94 2.06.94-2.06 2.06-.94-2.06-.94-.94-2.06-.94 2.06-2.06.94z\"/><path d=\"M17.41 7.96l-1.37-1.37c-.4-.4-.92-.59-1.43-.59-.52 0-1.04.2-1.43.59L10.3 9.45l-7.72 7.72c-.78.78-.78 2.05 0 2.83L4 21.41c.39.39.9.59 1.41.59.51 0 1.02-.2 1.41-.59l7.78-7.78 2.81-2.81c.8-.78.8-2.07 0-2.86zM5.41 20L4 18.59l7.72-7.72 1.47 1.35L5.41 20z\"/>\n",
       "  </svg>\n",
       "      </button>\n",
       "      \n",
       "  <style>\n",
       "    .colab-df-container {\n",
       "      display:flex;\n",
       "      flex-wrap:wrap;\n",
       "      gap: 12px;\n",
       "    }\n",
       "\n",
       "    .colab-df-convert {\n",
       "      background-color: #E8F0FE;\n",
       "      border: none;\n",
       "      border-radius: 50%;\n",
       "      cursor: pointer;\n",
       "      display: none;\n",
       "      fill: #1967D2;\n",
       "      height: 32px;\n",
       "      padding: 0 0 0 0;\n",
       "      width: 32px;\n",
       "    }\n",
       "\n",
       "    .colab-df-convert:hover {\n",
       "      background-color: #E2EBFA;\n",
       "      box-shadow: 0px 1px 2px rgba(60, 64, 67, 0.3), 0px 1px 3px 1px rgba(60, 64, 67, 0.15);\n",
       "      fill: #174EA6;\n",
       "    }\n",
       "\n",
       "    [theme=dark] .colab-df-convert {\n",
       "      background-color: #3B4455;\n",
       "      fill: #D2E3FC;\n",
       "    }\n",
       "\n",
       "    [theme=dark] .colab-df-convert:hover {\n",
       "      background-color: #434B5C;\n",
       "      box-shadow: 0px 1px 3px 1px rgba(0, 0, 0, 0.15);\n",
       "      filter: drop-shadow(0px 1px 2px rgba(0, 0, 0, 0.3));\n",
       "      fill: #FFFFFF;\n",
       "    }\n",
       "  </style>\n",
       "\n",
       "      <script>\n",
       "        const buttonEl =\n",
       "          document.querySelector('#df-202b743e-4419-4f45-a576-21efb6f49349 button.colab-df-convert');\n",
       "        buttonEl.style.display =\n",
       "          google.colab.kernel.accessAllowed ? 'block' : 'none';\n",
       "\n",
       "        async function convertToInteractive(key) {\n",
       "          const element = document.querySelector('#df-202b743e-4419-4f45-a576-21efb6f49349');\n",
       "          const dataTable =\n",
       "            await google.colab.kernel.invokeFunction('convertToInteractive',\n",
       "                                                     [key], {});\n",
       "          if (!dataTable) return;\n",
       "\n",
       "          const docLinkHtml = 'Like what you see? Visit the ' +\n",
       "            '<a target=\"_blank\" href=https://colab.research.google.com/notebooks/data_table.ipynb>data table notebook</a>'\n",
       "            + ' to learn more about interactive tables.';\n",
       "          element.innerHTML = '';\n",
       "          dataTable['output_type'] = 'display_data';\n",
       "          await google.colab.output.renderOutput(dataTable, element);\n",
       "          const docLink = document.createElement('div');\n",
       "          docLink.innerHTML = docLinkHtml;\n",
       "          element.appendChild(docLink);\n",
       "        }\n",
       "      </script>\n",
       "    </div>\n",
       "  </div>\n",
       "  "
      ],
      "text/plain": [
       "               index  baseline_recall  baseline_f1  baseline_precision  \\\n",
       "Genres                                                                   \n",
       "Classical          0         0.025893     0.025846            0.025840   \n",
       "Electronic         1         0.197050     0.197048            0.197078   \n",
       "Experimental       2         0.223475     0.223397            0.223354   \n",
       "Folk               3         0.058978     0.058946            0.058957   \n",
       "Hip-Hop            4         0.074407     0.074338            0.074309   \n",
       "Instrumental       5         0.043921     0.043933            0.043986   \n",
       "International      6         0.029491     0.029453            0.029457   \n",
       "Pop                7         0.048599     0.048621            0.048680   \n",
       "Rock               8         0.297893     0.297935            0.298007   \n",
       "Weighted Avg       9         0.192418     0.192405            0.192427   \n",
       "\n",
       "               baseline_dt_recall  baseline_dt_f1-score  baseline_dt_precision  \n",
       "Genres                                                                          \n",
       "Classical                0.500000              0.511628               0.523810  \n",
       "Electronic               0.456253              0.456740               0.457228  \n",
       "Experimental             0.443062              0.452707               0.462781  \n",
       "Folk                     0.378031              0.375620               0.373239  \n",
       "Hip-Hop                  0.384009              0.384442               0.384876  \n",
       "Instrumental             0.182692              0.175439               0.168739  \n",
       "International            0.256484              0.244505               0.233596  \n",
       "Pop                      0.097770              0.093137               0.088924  \n",
       "Rock                     0.651720              0.652640               0.653563  \n",
       "Weighted Avg             0.467362              0.469181               0.471190  "
      ]
     },
     "execution_count": 54,
     "metadata": {},
     "output_type": "execute_result"
    }
   ],
   "source": [
    "scores_df"
   ]
  },
  {
   "cell_type": "markdown",
   "id": "6fbbc781",
   "metadata": {},
   "source": [
    "For the optimized Decision Tree I manually tuned the hyperparameters with a validation set in addition to the training and testing. I split the validation set from the training set. As shown below the training set is now 28000 samples and the validation set is 7100. The purpose of a validation set is to test the model on unseen data, and to adjust hyperparameters accordingly."
   ]
  },
  {
   "cell_type": "code",
   "execution_count": 47,
   "id": "AO1Pa61sUai0",
   "metadata": {
    "colab": {
     "base_uri": "https://localhost:8080/"
    },
    "id": "AO1Pa61sUai0",
    "outputId": "42fe07e9-2cd4-45eb-ca94-0e76cc209e1e"
   },
   "outputs": [
    {
     "data": {
      "text/plain": [
       "((28528, 350), (7133, 350))"
      ]
     },
     "execution_count": 47,
     "metadata": {},
     "output_type": "execute_result"
    }
   ],
   "source": [
    "X_train_subset, X_val, y_train_subset, y_val = train_test_split(X_train,y_train, test_size=0.2, stratify=y_train,random_state=1)\n",
    "X_train_subset.shape, X_val.shape\n"
   ]
  },
  {
   "cell_type": "markdown",
   "id": "96d50101",
   "metadata": {
    "id": "siga3nUQ72my"
   },
   "source": [
    "The first hyperparameter adjusted is the depth of the tree. As the depth increases, a tree will tend to overfit to the training data, making for poor generalization. I have found that the optimal depth is 7."
   ]
  },
  {
   "cell_type": "code",
   "execution_count": 49,
   "id": "bhKwZr_7UoZl",
   "metadata": {
    "colab": {
     "base_uri": "https://localhost:8080/"
    },
    "id": "bhKwZr_7UoZl",
    "outputId": "efef27bb-cf7a-424b-bef6-8a835ddb062a"
   },
   "outputs": [
    {
     "name": "stdout",
     "output_type": "stream",
     "text": [
      "Optimal depth: 7\n"
     ]
    }
   ],
   "source": [
    "#loop through different depths and append val and train scores\n",
    "depths = np.arange(1, 21)\n",
    "train_scores = []\n",
    "val_scores = []\n",
    "for depth in depths:\n",
    "    dt = DecisionTreeClassifier(max_depth=depth,random_state=1) #instantiate DT\n",
    "    dt.fit(X_train_subset, y_train_subset) #fit on train\n",
    "    train_scores.append(dt.score(X_train_subset, y_train_subset)) #score on train\n",
    "    val_scores.append(dt.score(X_val, y_val)) #score on val\n",
    "optimal_depth = depths[np.argmax(val_scores)] #calc depth at  optimal val score\n",
    "print(\"Optimal depth:\", optimal_depth)\n",
    "\n"
   ]
  },
  {
   "cell_type": "markdown",
   "id": "fb8f07f1",
   "metadata": {},
   "source": [
    "Plotted below is the training and validation scores on the tree depth. After a depth of 7, the model is overfitting. The validation set begins to perform worse and worse."
   ]
  },
  {
   "cell_type": "code",
   "execution_count": 50,
   "id": "tV2ZZIjIUolL",
   "metadata": {
    "colab": {
     "base_uri": "https://localhost:8080/",
     "height": 472
    },
    "id": "tV2ZZIjIUolL",
    "outputId": "1b188542-e0e2-41db-9a2b-08bc3cd5d8e8"
   },
   "outputs": [
    {
     "data": {
      "image/png": "[encoded data removed]",
      "text/plain": [
       "<Figure size 640x480 with 1 Axes>"
      ]
     },
     "metadata": {},
     "output_type": "display_data"
    }
   ],
   "source": [
    "#plot dt depth\n",
    "plt.plot(depths, train_scores, label='Train')\n",
    "plt.plot(depths, val_scores, label='Validation')\n",
    "plt.xlabel('Max Depth')\n",
    "plt.ylabel('Accuracy')\n",
    "plt.title('Train and Validation Scores for Decision Tree Depth')\n",
    "plt.xticks(np.arange(1,21))\n",
    "plt.legend()\n",
    "plt.show()"
   ]
  },
  {
   "cell_type": "markdown",
   "id": "ecfb3772",
   "metadata": {},
   "source": [
    "The next hyperparamter I looked at was the minimum number of samples per leaf. Somewhat suprisingly, the best validation performance is set at 1 sample per leaf. My intuition would have suggested that this would lead to more overfitting, but the data suggests otherwise."
   ]
  },
  {
   "cell_type": "code",
   "execution_count": 51,
   "id": "9d821v2dV3Ag",
   "metadata": {
    "colab": {
     "base_uri": "https://localhost:8080/"
    },
    "id": "9d821v2dV3Ag",
    "outputId": "3da313c5-8035-4e9f-bd3b-4b684df9ea0b"
   },
   "outputs": [
    {
     "name": "stdout",
     "output_type": "stream",
     "text": [
      "Optimal min samples split: 1\n"
     ]
    }
   ],
   "source": [
    "#Loop thru min samples leaf and append val and train scores\n",
    "min_samples_leaf = range(1, 170, 10) # the final value (170) is ~ sqrt of num of samples\n",
    "train_scores = []\n",
    "val_scores = []\n",
    "for leaf in min_samples_leaf:\n",
    "    dt = DecisionTreeClassifier(max_depth=7, min_samples_leaf=leaf,random_state=1)\n",
    "    dt.fit(X_train, y_train)\n",
    "    train_scores.append(dt.score(X_train_subset, y_train_subset))\n",
    "    val_scores.append(dt.score(X_val, y_val))\n",
    "optimal_min_samples_leaf = min_samples_leaf[np.argmax(val_scores)]\n",
    "print(\"Optimal min samples split:\", optimal_min_samples_leaf)\n"
   ]
  },
  {
   "cell_type": "code",
   "execution_count": 52,
   "id": "977ynCJIV3fp",
   "metadata": {
    "colab": {
     "base_uri": "https://localhost:8080/",
     "height": 472
    },
    "id": "977ynCJIV3fp",
    "outputId": "65cbf681-2cf4-4239-acad-f8589e79cc3b"
   },
   "outputs": [
    {
     "data": {
      "image/png": "[encoded data removed]",
      "text/plain": [
       "<Figure size 640x480 with 1 Axes>"
      ]
     },
     "metadata": {},
     "output_type": "display_data"
    }
   ],
   "source": [
    "plt.plot(min_samples_leaf, train_scores, label='Train')\n",
    "plt.plot(min_samples_leaf, val_scores, label='Validation')\n",
    "plt.xlabel('Min Leaf Samples')\n",
    "plt.ylabel('Accuracy')\n",
    "plt.title('Train and Validation Scores for Decision Min Samples per Leaf')\n",
    "\n",
    "plt.legend()\n",
    "plt.show()"
   ]
  },
  {
   "cell_type": "markdown",
   "id": "7beac315",
   "metadata": {},
   "source": [
    "Finally, I looked at the criterions. These basically determine the quality of a split. The best performance on the validation set was gini, however, they all had a very similar performance."
   ]
  },
  {
   "cell_type": "code",
   "execution_count": 34,
   "id": "9M3SHGMlV3xI",
   "metadata": {
    "colab": {
     "base_uri": "https://localhost:8080/"
    },
    "id": "9M3SHGMlV3xI",
    "outputId": "63b3669e-3f70-4095-877e-d848cd221b05"
   },
   "outputs": [
    {
     "name": "stdout",
     "output_type": "stream",
     "text": [
      "Optimal criterion: gini\n"
     ]
    }
   ],
   "source": [
    "#loop thru criterions and append train/val\n",
    "criterions = ['gini', 'entropy', 'log_loss']\n",
    "train_scores = []\n",
    "val_scores = []\n",
    "for criterion in criterions:\n",
    "    dt = DecisionTreeClassifier(max_depth=9, min_samples_leaf=11,random_state=1,criterion=criterion)\n",
    "    dt.fit(X_train, y_train)\n",
    "    train_scores.append(dt.score(X_train, y_train))\n",
    "    val_scores.append(dt.score(X_val, y_val))\n",
    "optimal_criterion = criterions[np.argmax(val_scores)]\n",
    "print(\"Optimal criterion:\", optimal_criterion)\n"
   ]
  },
  {
   "cell_type": "markdown",
   "id": "f530136a",
   "metadata": {
    "id": "_-iBEwu1ecBu"
   },
   "source": [
    "The graph below shows the train and validation scores for the three different criterions."
   ]
  },
  {
   "cell_type": "code",
   "execution_count": 35,
   "id": "Ra4TmqEiV38L",
   "metadata": {
    "colab": {
     "base_uri": "https://localhost:8080/",
     "height": 452
    },
    "id": "Ra4TmqEiV38L",
    "outputId": "df83d36e-56fe-4f37-874c-d98a24aa3be4"
   },
   "outputs": [
    {
     "data": {
      "image/png": "[encoded data removed]",
      "text/plain": [
       "<Figure size 640x480 with 1 Axes>"
      ]
     },
     "metadata": {},
     "output_type": "display_data"
    }
   ],
   "source": [
    "#plot criterions\n",
    "x = np.arange(len(criterions))\n",
    "width = 0.35\n",
    "fig, ax = plt.subplots()\n",
    "rects1 = ax.bar(x - width/2, train_scores, width, label='Train')\n",
    "rects2 = ax.bar(x + width/2, val_scores, width, label='Validation')\n",
    "ax.set_xticks(x)\n",
    "ax.set_xticklabels(criterions)\n",
    "ax.legend()\n",
    "plt.ylabel('Accuracy')\n",
    "plt.title('Decision Tree Classifier Scores')\n",
    "plt.show()"
   ]
  },
  {
   "cell_type": "markdown",
   "id": "2b609b3a",
   "metadata": {
    "id": "B11BYFGieimC"
   },
   "source": [
    "Now that I have my DT optimized, I save my model with `dump`. I built this final model using the optimal hyperparameters I just found. Worth mentioning that I still trained it on only the training subset (not the validation as well). This is because these parameters were optimized with that training data and they could be potentially different if I were to include the validation set as well. "
   ]
  },
  {
   "cell_type": "code",
   "execution_count": 53,
   "id": "ka20_IxWV4FS",
   "metadata": {
    "colab": {
     "base_uri": "https://localhost:8080/"
    },
    "id": "ka20_IxWV4FS",
    "outputId": "a730ca09-2390-4912-cec6-289f5609bf89"
   },
   "outputs": [
    {
     "name": "stdout",
     "output_type": "stream",
     "text": [
      "Accuracy: 0.5220390309555855\n"
     ]
    },
    {
     "name": "stderr",
     "output_type": "stream",
     "text": [
      "/usr/local/lib/python3.9/dist-packages/sklearn/metrics/_classification.py:1344: UndefinedMetricWarning: Precision and F-score are ill-defined and being set to 0.0 in labels with no predicted samples. Use `zero_division` parameter to control this behavior.\n",
      "  _warn_prf(average, modifier, msg_start, len(result))\n",
      "/usr/local/lib/python3.9/dist-packages/sklearn/metrics/_classification.py:1344: UndefinedMetricWarning: Precision and F-score are ill-defined and being set to 0.0 in labels with no predicted samples. Use `zero_division` parameter to control this behavior.\n",
      "  _warn_prf(average, modifier, msg_start, len(result))\n",
      "/usr/local/lib/python3.9/dist-packages/sklearn/metrics/_classification.py:1344: UndefinedMetricWarning: Precision and F-score are ill-defined and being set to 0.0 in labels with no predicted samples. Use `zero_division` parameter to control this behavior.\n",
      "  _warn_prf(average, modifier, msg_start, len(result))\n"
     ]
    }
   ],
   "source": [
    "from joblib import dump \n",
    "# decision tree classifier\n",
    "dt = DecisionTreeClassifier(random_state=1, max_depth=7,min_samples_leaf=11,criterion='gini')\n",
    "dt.fit(X_train_subset, y_train_subset) #St want to train on the subset of original training data.\n",
    "\n",
    "dump(dt, 'decision_tree_optimized.joblib') #save the trained model\n",
    "\n",
    "# Predict on test data\n",
    "y_pred = dt.predict(X_test)\n",
    "\n",
    "\n",
    "optimized_dt_accuracy = accuracy_score(y_test, y_pred)\n",
    "\n",
    "print(\"Accuracy:\", optimized_dt_accuracy)\n",
    "\n",
    "\n",
    "optimized_dt_class_report = classification_report(y_test,y_pred,output_dict=True)"
   ]
  },
  {
   "cell_type": "markdown",
   "id": "d1e309fc",
   "metadata": {},
   "source": [
    "Now I will add this new information from the model into the two success metrics dataframes."
   ]
  },
  {
   "cell_type": "code",
   "execution_count": 55,
   "id": "Mo40H6v1e5a9",
   "metadata": {
    "id": "Mo40H6v1e5a9"
   },
   "outputs": [],
   "source": [
    "accuracy_df.loc['Decision Tree', 'Optimized Accuracy'] = round(optimized_dt_accuracy,2)\n"
   ]
  },
  {
   "cell_type": "code",
   "execution_count": 56,
   "id": "4vkgGdgDfF2S",
   "metadata": {
    "id": "4vkgGdgDfF2S"
   },
   "outputs": [],
   "source": [
    "get_class_metrics(optimized_dt_class_report, 'optimized_dt', scores_df)"
   ]
  },
  {
   "cell_type": "code",
   "execution_count": 57,
   "id": "Hd1Q-JeUfakY",
   "metadata": {
    "colab": {
     "base_uri": "https://localhost:8080/",
     "height": 394
    },
    "id": "Hd1Q-JeUfakY",
    "outputId": "9367ae23-e482-4cf7-f0af-5f08be688634"
   },
   "outputs": [
    {
     "data": {
      "text/html": [
       "\n",
       "  <div id=\"df-0cf15a07-4815-4c79-b65c-c1811d480398\">\n",
       "    <div class=\"colab-df-container\">\n",
       "      <div>\n",
       "<style scoped>\n",
       "    .dataframe tbody tr th:only-of-type {\n",
       "        vertical-align: middle;\n",
       "    }\n",
       "\n",
       "    .dataframe tbody tr th {\n",
       "        vertical-align: top;\n",
       "    }\n",
       "\n",
       "    .dataframe thead th {\n",
       "        text-align: right;\n",
       "    }\n",
       "</style>\n",
       "<table border=\"1\" class=\"dataframe\">\n",
       "  <thead>\n",
       "    <tr style=\"text-align: right;\">\n",
       "      <th></th>\n",
       "      <th>index</th>\n",
       "      <th>baseline_recall</th>\n",
       "      <th>baseline_f1</th>\n",
       "      <th>baseline_precision</th>\n",
       "      <th>baseline_dt_recall</th>\n",
       "      <th>baseline_dt_f1-score</th>\n",
       "      <th>baseline_dt_precision</th>\n",
       "      <th>optimized_dt_recall</th>\n",
       "      <th>optimized_dt_f1-score</th>\n",
       "      <th>optimized_dt_precision</th>\n",
       "    </tr>\n",
       "    <tr>\n",
       "      <th>Genres</th>\n",
       "      <th></th>\n",
       "      <th></th>\n",
       "      <th></th>\n",
       "      <th></th>\n",
       "      <th></th>\n",
       "      <th></th>\n",
       "      <th></th>\n",
       "      <th></th>\n",
       "      <th></th>\n",
       "      <th></th>\n",
       "    </tr>\n",
       "  </thead>\n",
       "  <tbody>\n",
       "    <tr>\n",
       "      <th>Classical</th>\n",
       "      <td>0</td>\n",
       "      <td>0.025893</td>\n",
       "      <td>0.025846</td>\n",
       "      <td>0.025840</td>\n",
       "      <td>0.500000</td>\n",
       "      <td>0.511628</td>\n",
       "      <td>0.523810</td>\n",
       "      <td>0.538961</td>\n",
       "      <td>0.549669</td>\n",
       "      <td>0.560811</td>\n",
       "    </tr>\n",
       "    <tr>\n",
       "      <th>Electronic</th>\n",
       "      <td>1</td>\n",
       "      <td>0.197050</td>\n",
       "      <td>0.197048</td>\n",
       "      <td>0.197078</td>\n",
       "      <td>0.456253</td>\n",
       "      <td>0.456740</td>\n",
       "      <td>0.457228</td>\n",
       "      <td>0.585574</td>\n",
       "      <td>0.513761</td>\n",
       "      <td>0.457638</td>\n",
       "    </tr>\n",
       "    <tr>\n",
       "      <th>Experimental</th>\n",
       "      <td>2</td>\n",
       "      <td>0.223475</td>\n",
       "      <td>0.223397</td>\n",
       "      <td>0.223354</td>\n",
       "      <td>0.443062</td>\n",
       "      <td>0.452707</td>\n",
       "      <td>0.462781</td>\n",
       "      <td>0.531297</td>\n",
       "      <td>0.489831</td>\n",
       "      <td>0.454370</td>\n",
       "    </tr>\n",
       "    <tr>\n",
       "      <th>Folk</th>\n",
       "      <td>3</td>\n",
       "      <td>0.058978</td>\n",
       "      <td>0.058946</td>\n",
       "      <td>0.058957</td>\n",
       "      <td>0.378031</td>\n",
       "      <td>0.375620</td>\n",
       "      <td>0.373239</td>\n",
       "      <td>0.339515</td>\n",
       "      <td>0.380192</td>\n",
       "      <td>0.431942</td>\n",
       "    </tr>\n",
       "    <tr>\n",
       "      <th>Hip-Hop</th>\n",
       "      <td>4</td>\n",
       "      <td>0.074407</td>\n",
       "      <td>0.074338</td>\n",
       "      <td>0.074309</td>\n",
       "      <td>0.384009</td>\n",
       "      <td>0.384442</td>\n",
       "      <td>0.384876</td>\n",
       "      <td>0.289414</td>\n",
       "      <td>0.364023</td>\n",
       "      <td>0.490458</td>\n",
       "    </tr>\n",
       "    <tr>\n",
       "      <th>Instrumental</th>\n",
       "      <td>5</td>\n",
       "      <td>0.043921</td>\n",
       "      <td>0.043933</td>\n",
       "      <td>0.043986</td>\n",
       "      <td>0.182692</td>\n",
       "      <td>0.175439</td>\n",
       "      <td>0.168739</td>\n",
       "      <td>0.148077</td>\n",
       "      <td>0.182681</td>\n",
       "      <td>0.238390</td>\n",
       "    </tr>\n",
       "    <tr>\n",
       "      <th>International</th>\n",
       "      <td>6</td>\n",
       "      <td>0.029491</td>\n",
       "      <td>0.029453</td>\n",
       "      <td>0.029457</td>\n",
       "      <td>0.256484</td>\n",
       "      <td>0.244505</td>\n",
       "      <td>0.233596</td>\n",
       "      <td>0.077810</td>\n",
       "      <td>0.135678</td>\n",
       "      <td>0.529412</td>\n",
       "    </tr>\n",
       "    <tr>\n",
       "      <th>Pop</th>\n",
       "      <td>7</td>\n",
       "      <td>0.048599</td>\n",
       "      <td>0.048621</td>\n",
       "      <td>0.048680</td>\n",
       "      <td>0.097770</td>\n",
       "      <td>0.093137</td>\n",
       "      <td>0.088924</td>\n",
       "      <td>0.000000</td>\n",
       "      <td>0.000000</td>\n",
       "      <td>0.000000</td>\n",
       "    </tr>\n",
       "    <tr>\n",
       "      <th>Rock</th>\n",
       "      <td>8</td>\n",
       "      <td>0.297893</td>\n",
       "      <td>0.297935</td>\n",
       "      <td>0.298007</td>\n",
       "      <td>0.651720</td>\n",
       "      <td>0.652640</td>\n",
       "      <td>0.653563</td>\n",
       "      <td>0.750141</td>\n",
       "      <td>0.700922</td>\n",
       "      <td>0.657765</td>\n",
       "    </tr>\n",
       "    <tr>\n",
       "      <th>Weighted Avg</th>\n",
       "      <td>9</td>\n",
       "      <td>0.192418</td>\n",
       "      <td>0.192405</td>\n",
       "      <td>0.192427</td>\n",
       "      <td>0.467362</td>\n",
       "      <td>0.469181</td>\n",
       "      <td>0.471190</td>\n",
       "      <td>0.522039</td>\n",
       "      <td>0.495406</td>\n",
       "      <td>0.490275</td>\n",
       "    </tr>\n",
       "  </tbody>\n",
       "</table>\n",
       "</div>\n",
       "      <button class=\"colab-df-convert\" onclick=\"convertToInteractive('df-0cf15a07-4815-4c79-b65c-c1811d480398')\"\n",
       "              title=\"Convert this dataframe to an interactive table.\"\n",
       "              style=\"display:none;\">\n",
       "        \n",
       "  <svg xmlns=\"http://www.w3.org/2000/svg\" height=\"24px\"viewBox=\"0 0 24 24\"\n",
       "       width=\"24px\">\n",
       "    <path d=\"M0 0h24v24H0V0z\" fill=\"none\"/>\n",
       "    <path d=\"M18.56 5.44l.94 2.06.94-2.06 2.06-.94-2.06-.94-.94-2.06-.94 2.06-2.06.94zm-11 1L8.5 8.5l.94-2.06 2.06-.94-2.06-.94L8.5 2.5l-.94 2.06-2.06.94zm10 10l.94 2.06.94-2.06 2.06-.94-2.06-.94-.94-2.06-.94 2.06-2.06.94z\"/><path d=\"M17.41 7.96l-1.37-1.37c-.4-.4-.92-.59-1.43-.59-.52 0-1.04.2-1.43.59L10.3 9.45l-7.72 7.72c-.78.78-.78 2.05 0 2.83L4 21.41c.39.39.9.59 1.41.59.51 0 1.02-.2 1.41-.59l7.78-7.78 2.81-2.81c.8-.78.8-2.07 0-2.86zM5.41 20L4 18.59l7.72-7.72 1.47 1.35L5.41 20z\"/>\n",
       "  </svg>\n",
       "      </button>\n",
       "      \n",
       "  <style>\n",
       "    .colab-df-container {\n",
       "      display:flex;\n",
       "      flex-wrap:wrap;\n",
       "      gap: 12px;\n",
       "    }\n",
       "\n",
       "    .colab-df-convert {\n",
       "      background-color: #E8F0FE;\n",
       "      border: none;\n",
       "      border-radius: 50%;\n",
       "      cursor: pointer;\n",
       "      display: none;\n",
       "      fill: #1967D2;\n",
       "      height: 32px;\n",
       "      padding: 0 0 0 0;\n",
       "      width: 32px;\n",
       "    }\n",
       "\n",
       "    .colab-df-convert:hover {\n",
       "      background-color: #E2EBFA;\n",
       "      box-shadow: 0px 1px 2px rgba(60, 64, 67, 0.3), 0px 1px 3px 1px rgba(60, 64, 67, 0.15);\n",
       "      fill: #174EA6;\n",
       "    }\n",
       "\n",
       "    [theme=dark] .colab-df-convert {\n",
       "      background-color: #3B4455;\n",
       "      fill: #D2E3FC;\n",
       "    }\n",
       "\n",
       "    [theme=dark] .colab-df-convert:hover {\n",
       "      background-color: #434B5C;\n",
       "      box-shadow: 0px 1px 3px 1px rgba(0, 0, 0, 0.15);\n",
       "      filter: drop-shadow(0px 1px 2px rgba(0, 0, 0, 0.3));\n",
       "      fill: #FFFFFF;\n",
       "    }\n",
       "  </style>\n",
       "\n",
       "      <script>\n",
       "        const buttonEl =\n",
       "          document.querySelector('#df-0cf15a07-4815-4c79-b65c-c1811d480398 button.colab-df-convert');\n",
       "        buttonEl.style.display =\n",
       "          google.colab.kernel.accessAllowed ? 'block' : 'none';\n",
       "\n",
       "        async function convertToInteractive(key) {\n",
       "          const element = document.querySelector('#df-0cf15a07-4815-4c79-b65c-c1811d480398');\n",
       "          const dataTable =\n",
       "            await google.colab.kernel.invokeFunction('convertToInteractive',\n",
       "                                                     [key], {});\n",
       "          if (!dataTable) return;\n",
       "\n",
       "          const docLinkHtml = 'Like what you see? Visit the ' +\n",
       "            '<a target=\"_blank\" href=https://colab.research.google.com/notebooks/data_table.ipynb>data table notebook</a>'\n",
       "            + ' to learn more about interactive tables.';\n",
       "          element.innerHTML = '';\n",
       "          dataTable['output_type'] = 'display_data';\n",
       "          await google.colab.output.renderOutput(dataTable, element);\n",
       "          const docLink = document.createElement('div');\n",
       "          docLink.innerHTML = docLinkHtml;\n",
       "          element.appendChild(docLink);\n",
       "        }\n",
       "      </script>\n",
       "    </div>\n",
       "  </div>\n",
       "  "
      ],
      "text/plain": [
       "               index  baseline_recall  baseline_f1  baseline_precision  \\\n",
       "Genres                                                                   \n",
       "Classical          0         0.025893     0.025846            0.025840   \n",
       "Electronic         1         0.197050     0.197048            0.197078   \n",
       "Experimental       2         0.223475     0.223397            0.223354   \n",
       "Folk               3         0.058978     0.058946            0.058957   \n",
       "Hip-Hop            4         0.074407     0.074338            0.074309   \n",
       "Instrumental       5         0.043921     0.043933            0.043986   \n",
       "International      6         0.029491     0.029453            0.029457   \n",
       "Pop                7         0.048599     0.048621            0.048680   \n",
       "Rock               8         0.297893     0.297935            0.298007   \n",
       "Weighted Avg       9         0.192418     0.192405            0.192427   \n",
       "\n",
       "               baseline_dt_recall  baseline_dt_f1-score  \\\n",
       "Genres                                                    \n",
       "Classical                0.500000              0.511628   \n",
       "Electronic               0.456253              0.456740   \n",
       "Experimental             0.443062              0.452707   \n",
       "Folk                     0.378031              0.375620   \n",
       "Hip-Hop                  0.384009              0.384442   \n",
       "Instrumental             0.182692              0.175439   \n",
       "International            0.256484              0.244505   \n",
       "Pop                      0.097770              0.093137   \n",
       "Rock                     0.651720              0.652640   \n",
       "Weighted Avg             0.467362              0.469181   \n",
       "\n",
       "               baseline_dt_precision  optimized_dt_recall  \\\n",
       "Genres                                                      \n",
       "Classical                   0.523810             0.538961   \n",
       "Electronic                  0.457228             0.585574   \n",
       "Experimental                0.462781             0.531297   \n",
       "Folk                        0.373239             0.339515   \n",
       "Hip-Hop                     0.384876             0.289414   \n",
       "Instrumental                0.168739             0.148077   \n",
       "International               0.233596             0.077810   \n",
       "Pop                         0.088924             0.000000   \n",
       "Rock                        0.653563             0.750141   \n",
       "Weighted Avg                0.471190             0.522039   \n",
       "\n",
       "               optimized_dt_f1-score  optimized_dt_precision  \n",
       "Genres                                                        \n",
       "Classical                   0.549669                0.560811  \n",
       "Electronic                  0.513761                0.457638  \n",
       "Experimental                0.489831                0.454370  \n",
       "Folk                        0.380192                0.431942  \n",
       "Hip-Hop                     0.364023                0.490458  \n",
       "Instrumental                0.182681                0.238390  \n",
       "International               0.135678                0.529412  \n",
       "Pop                         0.000000                0.000000  \n",
       "Rock                        0.700922                0.657765  \n",
       "Weighted Avg                0.495406                0.490275  "
      ]
     },
     "execution_count": 57,
     "metadata": {},
     "output_type": "execute_result"
    }
   ],
   "source": [
    "scores_df"
   ]
  },
  {
   "cell_type": "markdown",
   "id": "b9R52w0dzrrF",
   "metadata": {
    "id": "b9R52w0dzrrF"
   },
   "source": [
    "## Random Forest"
   ]
  },
  {
   "cell_type": "markdown",
   "id": "7fd86e88",
   "metadata": {},
   "source": [
    "A random forest is a ML technique that is based on decision trees. It is an ensemble technique that combines many decision trees to create a more robust model. The final prediciton in a rf is made by aggregrating the predictions from all the decision trees through majority vote. Below I run the baseline random forest."
   ]
  },
  {
   "cell_type": "code",
   "execution_count": 47,
   "id": "e950aaf3",
   "metadata": {
    "colab": {
     "base_uri": "https://localhost:8080/"
    },
    "id": "e950aaf3",
    "outputId": "6b47af3d-b444-4844-ce9f-db308c8ba38e"
   },
   "outputs": [
    {
     "data": {
      "text/plain": [
       "(35661, 350)"
      ]
     },
     "execution_count": 47,
     "metadata": {},
     "output_type": "execute_result"
    }
   ],
   "source": [
    "X_train.shape #confirming the shape"
   ]
  },
  {
   "cell_type": "code",
   "execution_count": 58,
   "id": "3b5ec982",
   "metadata": {
    "colab": {
     "base_uri": "https://localhost:8080/"
    },
    "id": "3b5ec982",
    "outputId": "8996a504-9a75-40be-8456-0e53d7d56731"
   },
   "outputs": [
    {
     "name": "stdout",
     "output_type": "stream",
     "text": [
      "Accuracy: 0.6434219380888291\n"
     ]
    }
   ],
   "source": [
    "from sklearn.ensemble import RandomForestClassifier\n",
    "\n",
    "\n",
    "# Train a random forest classifier\n",
    "rf = RandomForestClassifier(random_state=1) #set random state for reproducability\n",
    "rf.fit(X_train, y_train)\n",
    "\n",
    "# Predict on test data\n",
    "y_pred = rf.predict(X_test)\n",
    "\n",
    "\n",
    "baseline_rf_accuracy = accuracy_score(y_test, y_pred)\n",
    "\n",
    "print(\"Accuracy:\", baseline_rf_accuracy)\n",
    "\n",
    "\n",
    "baseline_rf_class_report = classification_report(y_test,y_pred,output_dict=True)"
   ]
  },
  {
   "cell_type": "markdown",
   "id": "b4f604cf",
   "metadata": {},
   "source": [
    "Add to accuracy_df"
   ]
  },
  {
   "cell_type": "code",
   "execution_count": 59,
   "id": "kSu8Su9jOe83",
   "metadata": {
    "colab": {
     "base_uri": "https://localhost:8080/"
    },
    "id": "kSu8Su9jOe83",
    "outputId": "d5059e99-129a-4396-aea8-588656c0e004"
   },
   "outputs": [
    {
     "name": "stdout",
     "output_type": "stream",
     "text": [
      "Accuracy: 0.6434219380888291\n"
     ]
    }
   ],
   "source": [
    "accuracy_df.loc['Random Forest', 'Baseline Accuracy'] = round(baseline_rf_accuracy,2)\n",
    "print(\"Accuracy:\", baseline_rf_accuracy)"
   ]
  },
  {
   "cell_type": "code",
   "execution_count": 60,
   "id": "BrZfHs_TRneK",
   "metadata": {
    "colab": {
     "base_uri": "https://localhost:8080/",
     "height": 300
    },
    "id": "BrZfHs_TRneK",
    "outputId": "8a449c8d-96a7-40b5-ba6e-35a9b6956ac8"
   },
   "outputs": [
    {
     "data": {
      "text/html": [
       "\n",
       "  <div id=\"df-3c268c31-c024-4895-b1f1-cba6d96241af\">\n",
       "    <div class=\"colab-df-container\">\n",
       "      <div>\n",
       "<style scoped>\n",
       "    .dataframe tbody tr th:only-of-type {\n",
       "        vertical-align: middle;\n",
       "    }\n",
       "\n",
       "    .dataframe tbody tr th {\n",
       "        vertical-align: top;\n",
       "    }\n",
       "\n",
       "    .dataframe thead th {\n",
       "        text-align: right;\n",
       "    }\n",
       "</style>\n",
       "<table border=\"1\" class=\"dataframe\">\n",
       "  <thead>\n",
       "    <tr style=\"text-align: right;\">\n",
       "      <th></th>\n",
       "      <th>Baseline Accuracy</th>\n",
       "      <th>Optimized Accuracy</th>\n",
       "    </tr>\n",
       "    <tr>\n",
       "      <th>Model</th>\n",
       "      <th></th>\n",
       "      <th></th>\n",
       "    </tr>\n",
       "  </thead>\n",
       "  <tbody>\n",
       "    <tr>\n",
       "      <th>Baseline</th>\n",
       "      <td>0.29</td>\n",
       "      <td>N/A</td>\n",
       "    </tr>\n",
       "    <tr>\n",
       "      <th>Logistic Regression</th>\n",
       "      <td>NaN</td>\n",
       "      <td>NaN</td>\n",
       "    </tr>\n",
       "    <tr>\n",
       "      <th>KNN</th>\n",
       "      <td>NaN</td>\n",
       "      <td>NaN</td>\n",
       "    </tr>\n",
       "    <tr>\n",
       "      <th>Random Forest</th>\n",
       "      <td>0.64</td>\n",
       "      <td>NaN</td>\n",
       "    </tr>\n",
       "    <tr>\n",
       "      <th>Decision Tree</th>\n",
       "      <td>0.47</td>\n",
       "      <td>0.52</td>\n",
       "    </tr>\n",
       "    <tr>\n",
       "      <th>Neural Net</th>\n",
       "      <td>NaN</td>\n",
       "      <td>NaN</td>\n",
       "    </tr>\n",
       "    <tr>\n",
       "      <th>SMOTE Neural Net</th>\n",
       "      <td>NaN</td>\n",
       "      <td>NaN</td>\n",
       "    </tr>\n",
       "  </tbody>\n",
       "</table>\n",
       "</div>\n",
       "      <button class=\"colab-df-convert\" onclick=\"convertToInteractive('df-3c268c31-c024-4895-b1f1-cba6d96241af')\"\n",
       "              title=\"Convert this dataframe to an interactive table.\"\n",
       "              style=\"display:none;\">\n",
       "        \n",
       "  <svg xmlns=\"http://www.w3.org/2000/svg\" height=\"24px\"viewBox=\"0 0 24 24\"\n",
       "       width=\"24px\">\n",
       "    <path d=\"M0 0h24v24H0V0z\" fill=\"none\"/>\n",
       "    <path d=\"M18.56 5.44l.94 2.06.94-2.06 2.06-.94-2.06-.94-.94-2.06-.94 2.06-2.06.94zm-11 1L8.5 8.5l.94-2.06 2.06-.94-2.06-.94L8.5 2.5l-.94 2.06-2.06.94zm10 10l.94 2.06.94-2.06 2.06-.94-2.06-.94-.94-2.06-.94 2.06-2.06.94z\"/><path d=\"M17.41 7.96l-1.37-1.37c-.4-.4-.92-.59-1.43-.59-.52 0-1.04.2-1.43.59L10.3 9.45l-7.72 7.72c-.78.78-.78 2.05 0 2.83L4 21.41c.39.39.9.59 1.41.59.51 0 1.02-.2 1.41-.59l7.78-7.78 2.81-2.81c.8-.78.8-2.07 0-2.86zM5.41 20L4 18.59l7.72-7.72 1.47 1.35L5.41 20z\"/>\n",
       "  </svg>\n",
       "      </button>\n",
       "      \n",
       "  <style>\n",
       "    .colab-df-container {\n",
       "      display:flex;\n",
       "      flex-wrap:wrap;\n",
       "      gap: 12px;\n",
       "    }\n",
       "\n",
       "    .colab-df-convert {\n",
       "      background-color: #E8F0FE;\n",
       "      border: none;\n",
       "      border-radius: 50%;\n",
       "      cursor: pointer;\n",
       "      display: none;\n",
       "      fill: #1967D2;\n",
       "      height: 32px;\n",
       "      padding: 0 0 0 0;\n",
       "      width: 32px;\n",
       "    }\n",
       "\n",
       "    .colab-df-convert:hover {\n",
       "      background-color: #E2EBFA;\n",
       "      box-shadow: 0px 1px 2px rgba(60, 64, 67, 0.3), 0px 1px 3px 1px rgba(60, 64, 67, 0.15);\n",
       "      fill: #174EA6;\n",
       "    }\n",
       "\n",
       "    [theme=dark] .colab-df-convert {\n",
       "      background-color: #3B4455;\n",
       "      fill: #D2E3FC;\n",
       "    }\n",
       "\n",
       "    [theme=dark] .colab-df-convert:hover {\n",
       "      background-color: #434B5C;\n",
       "      box-shadow: 0px 1px 3px 1px rgba(0, 0, 0, 0.15);\n",
       "      filter: drop-shadow(0px 1px 2px rgba(0, 0, 0, 0.3));\n",
       "      fill: #FFFFFF;\n",
       "    }\n",
       "  </style>\n",
       "\n",
       "      <script>\n",
       "        const buttonEl =\n",
       "          document.querySelector('#df-3c268c31-c024-4895-b1f1-cba6d96241af button.colab-df-convert');\n",
       "        buttonEl.style.display =\n",
       "          google.colab.kernel.accessAllowed ? 'block' : 'none';\n",
       "\n",
       "        async function convertToInteractive(key) {\n",
       "          const element = document.querySelector('#df-3c268c31-c024-4895-b1f1-cba6d96241af');\n",
       "          const dataTable =\n",
       "            await google.colab.kernel.invokeFunction('convertToInteractive',\n",
       "                                                     [key], {});\n",
       "          if (!dataTable) return;\n",
       "\n",
       "          const docLinkHtml = 'Like what you see? Visit the ' +\n",
       "            '<a target=\"_blank\" href=https://colab.research.google.com/notebooks/data_table.ipynb>data table notebook</a>'\n",
       "            + ' to learn more about interactive tables.';\n",
       "          element.innerHTML = '';\n",
       "          dataTable['output_type'] = 'display_data';\n",
       "          await google.colab.output.renderOutput(dataTable, element);\n",
       "          const docLink = document.createElement('div');\n",
       "          docLink.innerHTML = docLinkHtml;\n",
       "          element.appendChild(docLink);\n",
       "        }\n",
       "      </script>\n",
       "    </div>\n",
       "  </div>\n",
       "  "
      ],
      "text/plain": [
       "                    Baseline Accuracy Optimized Accuracy\n",
       "Model                                                   \n",
       "Baseline                         0.29                N/A\n",
       "Logistic Regression               NaN                NaN\n",
       "KNN                               NaN                NaN\n",
       "Random Forest                    0.64                NaN\n",
       "Decision Tree                    0.47               0.52\n",
       "Neural Net                        NaN                NaN\n",
       "SMOTE Neural Net                  NaN                NaN"
      ]
     },
     "execution_count": 60,
     "metadata": {},
     "output_type": "execute_result"
    }
   ],
   "source": [
    "accuracy_df"
   ]
  },
  {
   "cell_type": "code",
   "execution_count": 61,
   "id": "ssq7QLY28qsM",
   "metadata": {
    "id": "ssq7QLY28qsM"
   },
   "outputs": [],
   "source": [
    "get_class_metrics(baseline_rf_class_report, 'baseline_rf', scores_df) #get success metrics"
   ]
  },
  {
   "cell_type": "markdown",
   "id": "bc39e001",
   "metadata": {},
   "source": [
    "Below I am running a gridsearch on the random forest. A grid search will try every combination of the parameters set in `param_grid`. I add cross validation which helps with the model not overfitting. Through applying cross validation the hope is that the parameters chosen will generalize to new data well."
   ]
  },
  {
   "cell_type": "code",
   "execution_count": 62,
   "id": "x6S9UFIqNJ--",
   "metadata": {
    "colab": {
     "base_uri": "https://localhost:8080/"
    },
    "id": "x6S9UFIqNJ--",
    "outputId": "89e55e8d-514a-4399-946e-2cbc86686521"
   },
   "outputs": [
    {
     "name": "stdout",
     "output_type": "stream",
     "text": [
      "Fitting 3 folds for each of 9 candidates, totalling 27 fits\n",
      "[CV 1/3] END model__max_depth=5, model__n_estimators=100, scaling=None;, score=0.530 total time=  12.8s\n",
      "[CV 2/3] END model__max_depth=5, model__n_estimators=100, scaling=None;, score=0.528 total time=  12.7s\n",
      "[CV 3/3] END model__max_depth=5, model__n_estimators=100, scaling=None;, score=0.522 total time=  12.8s\n",
      "[CV 1/3] END model__max_depth=5, model__n_estimators=200, scaling=None;, score=0.529 total time=  25.4s\n",
      "[CV 2/3] END model__max_depth=5, model__n_estimators=200, scaling=None;, score=0.527 total time=  25.5s\n",
      "[CV 3/3] END model__max_depth=5, model__n_estimators=200, scaling=None;, score=0.519 total time=  25.4s\n",
      "[CV 1/3] END model__max_depth=5, model__n_estimators=300, scaling=None;, score=0.530 total time=  38.2s\n",
      "[CV 2/3] END model__max_depth=5, model__n_estimators=300, scaling=None;, score=0.528 total time=  38.1s\n",
      "[CV 3/3] END model__max_depth=5, model__n_estimators=300, scaling=None;, score=0.522 total time=  38.1s\n",
      "[CV 1/3] END model__max_depth=10, model__n_estimators=100, scaling=None;, score=0.610 total time=  25.7s\n",
      "[CV 2/3] END model__max_depth=10, model__n_estimators=100, scaling=None;, score=0.614 total time=  25.7s\n",
      "[CV 3/3] END model__max_depth=10, model__n_estimators=100, scaling=None;, score=0.600 total time=  25.6s\n",
      "[CV 1/3] END model__max_depth=10, model__n_estimators=200, scaling=None;, score=0.610 total time=  51.4s\n",
      "[CV 2/3] END model__max_depth=10, model__n_estimators=200, scaling=None;, score=0.614 total time=  51.4s\n",
      "[CV 3/3] END model__max_depth=10, model__n_estimators=200, scaling=None;, score=0.600 total time=  51.4s\n",
      "[CV 1/3] END model__max_depth=10, model__n_estimators=300, scaling=None;, score=0.612 total time= 1.3min\n",
      "[CV 2/3] END model__max_depth=10, model__n_estimators=300, scaling=None;, score=0.615 total time= 1.3min\n",
      "[CV 3/3] END model__max_depth=10, model__n_estimators=300, scaling=None;, score=0.600 total time= 1.3min\n",
      "[CV 1/3] END model__max_depth=15, model__n_estimators=100, scaling=None;, score=0.624 total time=  35.3s\n",
      "[CV 2/3] END model__max_depth=15, model__n_estimators=100, scaling=None;, score=0.635 total time=  35.4s\n",
      "[CV 3/3] END model__max_depth=15, model__n_estimators=100, scaling=None;, score=0.618 total time=  35.4s\n",
      "[CV 1/3] END model__max_depth=15, model__n_estimators=200, scaling=None;, score=0.627 total time= 1.2min\n",
      "[CV 2/3] END model__max_depth=15, model__n_estimators=200, scaling=None;, score=0.638 total time= 1.2min\n",
      "[CV 3/3] END model__max_depth=15, model__n_estimators=200, scaling=None;, score=0.621 total time= 1.2min\n",
      "[CV 1/3] END model__max_depth=15, model__n_estimators=300, scaling=None;, score=0.627 total time= 1.8min\n",
      "[CV 2/3] END model__max_depth=15, model__n_estimators=300, scaling=None;, score=0.639 total time= 1.8min\n",
      "[CV 3/3] END model__max_depth=15, model__n_estimators=300, scaling=None;, score=0.621 total time= 1.8min\n",
      "Best Accuracy: 0.6403936742934051\n"
     ]
    }
   ],
   "source": [
    "from sklearn.model_selection import GridSearchCV, KFold\n",
    "from sklearn.pipeline import Pipeline\n",
    "\n",
    "# pipeline\n",
    "pipeline = Pipeline([\n",
    "    ('scaling', None),  \n",
    "    ('model', RandomForestClassifier(random_state=1))  \n",
    "])\n",
    "\n",
    "# parameter grid \n",
    "param_grid = {\n",
    "    'scaling': [None],\n",
    "    'model__n_estimators': [100, 200, 300],\n",
    "    'model__max_depth': [5, 10, 15],\n",
    "    \n",
    "}\n",
    "\n",
    "#cross-val\n",
    "cv = KFold(n_splits=3, shuffle=True, random_state=1)\n",
    "\n",
    "#Grid Search\n",
    "grid_search_rf = GridSearchCV(pipeline, param_grid, cv=cv, verbose=3)\n",
    "\n",
    "# Fit the GridSearchobject on training data\n",
    "grid_search_rf.fit(X_train, y_train)\n",
    "\n",
    "\n",
    " \n",
    "best_model_rf = grid_search_rf.best_estimator_ #best params\n",
    "y_pred = best_model_rf.predict(X_test) #predict on x test\n",
    "score = best_model_rf.score(X_test, y_test) #score\n",
    "print(f'Best Accuracy: {score}')\n",
    "\n",
    "#Class report for best model\n",
    "optimized_rf_class_report = classification_report(y_test,y_pred,output_dict=True)\n"
   ]
  },
  {
   "cell_type": "code",
   "execution_count": 63,
   "id": "30a437b0",
   "metadata": {
    "colab": {
     "base_uri": "https://localhost:8080/"
    },
    "id": "30a437b0",
    "outputId": "6fbb8616-3787-4423-de77-d5f4ad35e720"
   },
   "outputs": [
    {
     "name": "stdout",
     "output_type": "stream",
     "text": [
      "Best params: {'model__max_depth': 15, 'model__n_estimators': 300, 'scaling': None}\n"
     ]
    }
   ],
   "source": [
    "print(f'Best params: {grid_search_rf.best_params_}')"
   ]
  },
  {
   "cell_type": "markdown",
   "id": "40eb9580",
   "metadata": {},
   "source": [
    "Here I save the best parameters into a fit model and input the success metrics into the dataframes."
   ]
  },
  {
   "cell_type": "code",
   "execution_count": 68,
   "id": "scjLvyhN1EGq",
   "metadata": {
    "colab": {
     "base_uri": "https://localhost:8080/"
    },
    "id": "scjLvyhN1EGq",
    "outputId": "6e6730bf-0752-40e3-92eb-67fb86dac8a8"
   },
   "outputs": [
    {
     "name": "stdout",
     "output_type": "stream",
     "text": [
      "Best Accuracy: 0.6363827549947424\n"
     ]
    }
   ],
   "source": [
    "rf = RandomForestClassifier(random_state=1,max_depth=15,n_estimators=300)\n",
    "rf.fit(X_train, y_train)\n",
    "\n",
    "dump(rf,'random_forest.joblib') #save the trained model\n",
    "\n",
    "y_pred = rf.predict(X_test)\n",
    "score = rf.score(X_test, y_test)\n",
    "print(f'Best Accuracy: {score}')\n",
    "\n",
    "#Class report for best model\n",
    "optimized_rf_class_report = classification_report(y_test,y_pred,output_dict=True)"
   ]
  },
  {
   "cell_type": "code",
   "execution_count": 69,
   "id": "66f5d0b2",
   "metadata": {
    "colab": {
     "base_uri": "https://localhost:8080/"
    },
    "id": "66f5d0b2",
    "outputId": "3a95cfa6-f4fd-4262-93d6-58fc910c087e"
   },
   "outputs": [
    {
     "name": "stdout",
     "output_type": "stream",
     "text": [
      "Best Accuracy: 0.6363827549947424\n"
     ]
    }
   ],
   "source": [
    "accuracy_df.loc['Random Forest', 'Optimized Accuracy'] = round(score,2)\n",
    "print(f'Best Accuracy: {score}')"
   ]
  },
  {
   "cell_type": "code",
   "execution_count": 70,
   "id": "afUMaLxjjda3",
   "metadata": {
    "colab": {
     "base_uri": "https://localhost:8080/",
     "height": 300
    },
    "id": "afUMaLxjjda3",
    "outputId": "1bba8cb4-d6ba-4329-9f1c-4900070f0089"
   },
   "outputs": [
    {
     "data": {
      "text/html": [
       "\n",
       "  <div id=\"df-180ed46e-8a1d-4a4e-8aef-aba1209bb095\">\n",
       "    <div class=\"colab-df-container\">\n",
       "      <div>\n",
       "<style scoped>\n",
       "    .dataframe tbody tr th:only-of-type {\n",
       "        vertical-align: middle;\n",
       "    }\n",
       "\n",
       "    .dataframe tbody tr th {\n",
       "        vertical-align: top;\n",
       "    }\n",
       "\n",
       "    .dataframe thead th {\n",
       "        text-align: right;\n",
       "    }\n",
       "</style>\n",
       "<table border=\"1\" class=\"dataframe\">\n",
       "  <thead>\n",
       "    <tr style=\"text-align: right;\">\n",
       "      <th></th>\n",
       "      <th>Baseline Accuracy</th>\n",
       "      <th>Optimized Accuracy</th>\n",
       "    </tr>\n",
       "    <tr>\n",
       "      <th>Model</th>\n",
       "      <th></th>\n",
       "      <th></th>\n",
       "    </tr>\n",
       "  </thead>\n",
       "  <tbody>\n",
       "    <tr>\n",
       "      <th>Baseline</th>\n",
       "      <td>0.29</td>\n",
       "      <td>N/A</td>\n",
       "    </tr>\n",
       "    <tr>\n",
       "      <th>Logistic Regression</th>\n",
       "      <td>NaN</td>\n",
       "      <td>NaN</td>\n",
       "    </tr>\n",
       "    <tr>\n",
       "      <th>KNN</th>\n",
       "      <td>NaN</td>\n",
       "      <td>NaN</td>\n",
       "    </tr>\n",
       "    <tr>\n",
       "      <th>Random Forest</th>\n",
       "      <td>0.64</td>\n",
       "      <td>0.64</td>\n",
       "    </tr>\n",
       "    <tr>\n",
       "      <th>Decision Tree</th>\n",
       "      <td>0.47</td>\n",
       "      <td>0.52</td>\n",
       "    </tr>\n",
       "    <tr>\n",
       "      <th>Neural Net</th>\n",
       "      <td>NaN</td>\n",
       "      <td>NaN</td>\n",
       "    </tr>\n",
       "    <tr>\n",
       "      <th>SMOTE Neural Net</th>\n",
       "      <td>NaN</td>\n",
       "      <td>NaN</td>\n",
       "    </tr>\n",
       "  </tbody>\n",
       "</table>\n",
       "</div>\n",
       "      <button class=\"colab-df-convert\" onclick=\"convertToInteractive('df-180ed46e-8a1d-4a4e-8aef-aba1209bb095')\"\n",
       "              title=\"Convert this dataframe to an interactive table.\"\n",
       "              style=\"display:none;\">\n",
       "        \n",
       "  <svg xmlns=\"http://www.w3.org/2000/svg\" height=\"24px\"viewBox=\"0 0 24 24\"\n",
       "       width=\"24px\">\n",
       "    <path d=\"M0 0h24v24H0V0z\" fill=\"none\"/>\n",
       "    <path d=\"M18.56 5.44l.94 2.06.94-2.06 2.06-.94-2.06-.94-.94-2.06-.94 2.06-2.06.94zm-11 1L8.5 8.5l.94-2.06 2.06-.94-2.06-.94L8.5 2.5l-.94 2.06-2.06.94zm10 10l.94 2.06.94-2.06 2.06-.94-2.06-.94-.94-2.06-.94 2.06-2.06.94z\"/><path d=\"M17.41 7.96l-1.37-1.37c-.4-.4-.92-.59-1.43-.59-.52 0-1.04.2-1.43.59L10.3 9.45l-7.72 7.72c-.78.78-.78 2.05 0 2.83L4 21.41c.39.39.9.59 1.41.59.51 0 1.02-.2 1.41-.59l7.78-7.78 2.81-2.81c.8-.78.8-2.07 0-2.86zM5.41 20L4 18.59l7.72-7.72 1.47 1.35L5.41 20z\"/>\n",
       "  </svg>\n",
       "      </button>\n",
       "      \n",
       "  <style>\n",
       "    .colab-df-container {\n",
       "      display:flex;\n",
       "      flex-wrap:wrap;\n",
       "      gap: 12px;\n",
       "    }\n",
       "\n",
       "    .colab-df-convert {\n",
       "      background-color: #E8F0FE;\n",
       "      border: none;\n",
       "      border-radius: 50%;\n",
       "      cursor: pointer;\n",
       "      display: none;\n",
       "      fill: #1967D2;\n",
       "      height: 32px;\n",
       "      padding: 0 0 0 0;\n",
       "      width: 32px;\n",
       "    }\n",
       "\n",
       "    .colab-df-convert:hover {\n",
       "      background-color: #E2EBFA;\n",
       "      box-shadow: 0px 1px 2px rgba(60, 64, 67, 0.3), 0px 1px 3px 1px rgba(60, 64, 67, 0.15);\n",
       "      fill: #174EA6;\n",
       "    }\n",
       "\n",
       "    [theme=dark] .colab-df-convert {\n",
       "      background-color: #3B4455;\n",
       "      fill: #D2E3FC;\n",
       "    }\n",
       "\n",
       "    [theme=dark] .colab-df-convert:hover {\n",
       "      background-color: #434B5C;\n",
       "      box-shadow: 0px 1px 3px 1px rgba(0, 0, 0, 0.15);\n",
       "      filter: drop-shadow(0px 1px 2px rgba(0, 0, 0, 0.3));\n",
       "      fill: #FFFFFF;\n",
       "    }\n",
       "  </style>\n",
       "\n",
       "      <script>\n",
       "        const buttonEl =\n",
       "          document.querySelector('#df-180ed46e-8a1d-4a4e-8aef-aba1209bb095 button.colab-df-convert');\n",
       "        buttonEl.style.display =\n",
       "          google.colab.kernel.accessAllowed ? 'block' : 'none';\n",
       "\n",
       "        async function convertToInteractive(key) {\n",
       "          const element = document.querySelector('#df-180ed46e-8a1d-4a4e-8aef-aba1209bb095');\n",
       "          const dataTable =\n",
       "            await google.colab.kernel.invokeFunction('convertToInteractive',\n",
       "                                                     [key], {});\n",
       "          if (!dataTable) return;\n",
       "\n",
       "          const docLinkHtml = 'Like what you see? Visit the ' +\n",
       "            '<a target=\"_blank\" href=https://colab.research.google.com/notebooks/data_table.ipynb>data table notebook</a>'\n",
       "            + ' to learn more about interactive tables.';\n",
       "          element.innerHTML = '';\n",
       "          dataTable['output_type'] = 'display_data';\n",
       "          await google.colab.output.renderOutput(dataTable, element);\n",
       "          const docLink = document.createElement('div');\n",
       "          docLink.innerHTML = docLinkHtml;\n",
       "          element.appendChild(docLink);\n",
       "        }\n",
       "      </script>\n",
       "    </div>\n",
       "  </div>\n",
       "  "
      ],
      "text/plain": [
       "                    Baseline Accuracy Optimized Accuracy\n",
       "Model                                                   \n",
       "Baseline                         0.29                N/A\n",
       "Logistic Regression               NaN                NaN\n",
       "KNN                               NaN                NaN\n",
       "Random Forest                    0.64               0.64\n",
       "Decision Tree                    0.47               0.52\n",
       "Neural Net                        NaN                NaN\n",
       "SMOTE Neural Net                  NaN                NaN"
      ]
     },
     "execution_count": 70,
     "metadata": {},
     "output_type": "execute_result"
    }
   ],
   "source": [
    "accuracy_df"
   ]
  },
  {
   "cell_type": "code",
   "execution_count": 71,
   "id": "54506544",
   "metadata": {
    "id": "54506544"
   },
   "outputs": [],
   "source": [
    "get_class_metrics(optimized_rf_class_report, 'optimized_rf', scores_df)"
   ]
  },
  {
   "cell_type": "markdown",
   "id": "6d9a1e85",
   "metadata": {},
   "source": [
    "I am displaying the scores for the model often, for one to inspect how each is doing but I do a more robust analysis of these results in notebook 9."
   ]
  },
  {
   "cell_type": "code",
   "execution_count": 72,
   "id": "VkcPGnh8YEwu",
   "metadata": {
    "colab": {
     "base_uri": "https://localhost:8080/",
     "height": 493
    },
    "id": "VkcPGnh8YEwu",
    "outputId": "f1e3891d-d617-4888-e152-d7e478c74410"
   },
   "outputs": [
    {
     "data": {
      "text/html": [
       "\n",
       "  <div id=\"df-97436754-c38b-4ec0-ae75-f71876091ea1\">\n",
       "    <div class=\"colab-df-container\">\n",
       "      <div>\n",
       "<style scoped>\n",
       "    .dataframe tbody tr th:only-of-type {\n",
       "        vertical-align: middle;\n",
       "    }\n",
       "\n",
       "    .dataframe tbody tr th {\n",
       "        vertical-align: top;\n",
       "    }\n",
       "\n",
       "    .dataframe thead th {\n",
       "        text-align: right;\n",
       "    }\n",
       "</style>\n",
       "<table border=\"1\" class=\"dataframe\">\n",
       "  <thead>\n",
       "    <tr style=\"text-align: right;\">\n",
       "      <th></th>\n",
       "      <th>index</th>\n",
       "      <th>baseline_recall</th>\n",
       "      <th>baseline_f1</th>\n",
       "      <th>baseline_precision</th>\n",
       "      <th>baseline_dt_recall</th>\n",
       "      <th>baseline_dt_f1-score</th>\n",
       "      <th>baseline_dt_precision</th>\n",
       "      <th>optimized_dt_recall</th>\n",
       "      <th>optimized_dt_f1-score</th>\n",
       "      <th>optimized_dt_precision</th>\n",
       "      <th>baseline_rf_recall</th>\n",
       "      <th>baseline_rf_f1-score</th>\n",
       "      <th>baseline_rf_precision</th>\n",
       "      <th>optimized_rf_recall</th>\n",
       "      <th>optimized_rf_f1-score</th>\n",
       "      <th>optimized_rf_precision</th>\n",
       "    </tr>\n",
       "    <tr>\n",
       "      <th>Genres</th>\n",
       "      <th></th>\n",
       "      <th></th>\n",
       "      <th></th>\n",
       "      <th></th>\n",
       "      <th></th>\n",
       "      <th></th>\n",
       "      <th></th>\n",
       "      <th></th>\n",
       "      <th></th>\n",
       "      <th></th>\n",
       "      <th></th>\n",
       "      <th></th>\n",
       "      <th></th>\n",
       "      <th></th>\n",
       "      <th></th>\n",
       "      <th></th>\n",
       "    </tr>\n",
       "  </thead>\n",
       "  <tbody>\n",
       "    <tr>\n",
       "      <th>Classical</th>\n",
       "      <td>0</td>\n",
       "      <td>0.025893</td>\n",
       "      <td>0.025846</td>\n",
       "      <td>0.025840</td>\n",
       "      <td>0.500000</td>\n",
       "      <td>0.511628</td>\n",
       "      <td>0.523810</td>\n",
       "      <td>0.538961</td>\n",
       "      <td>0.549669</td>\n",
       "      <td>0.560811</td>\n",
       "      <td>0.711039</td>\n",
       "      <td>0.776596</td>\n",
       "      <td>0.855469</td>\n",
       "      <td>0.678862</td>\n",
       "      <td>0.743875</td>\n",
       "      <td>0.822660</td>\n",
       "    </tr>\n",
       "    <tr>\n",
       "      <th>Electronic</th>\n",
       "      <td>1</td>\n",
       "      <td>0.197050</td>\n",
       "      <td>0.197048</td>\n",
       "      <td>0.197078</td>\n",
       "      <td>0.456253</td>\n",
       "      <td>0.456740</td>\n",
       "      <td>0.457228</td>\n",
       "      <td>0.585574</td>\n",
       "      <td>0.513761</td>\n",
       "      <td>0.457638</td>\n",
       "      <td>0.688007</td>\n",
       "      <td>0.633897</td>\n",
       "      <td>0.587678</td>\n",
       "      <td>0.677695</td>\n",
       "      <td>0.632155</td>\n",
       "      <td>0.592351</td>\n",
       "    </tr>\n",
       "    <tr>\n",
       "      <th>Experimental</th>\n",
       "      <td>2</td>\n",
       "      <td>0.223475</td>\n",
       "      <td>0.223397</td>\n",
       "      <td>0.223354</td>\n",
       "      <td>0.443062</td>\n",
       "      <td>0.452707</td>\n",
       "      <td>0.462781</td>\n",
       "      <td>0.531297</td>\n",
       "      <td>0.489831</td>\n",
       "      <td>0.454370</td>\n",
       "      <td>0.720211</td>\n",
       "      <td>0.627567</td>\n",
       "      <td>0.556041</td>\n",
       "      <td>0.702168</td>\n",
       "      <td>0.615321</td>\n",
       "      <td>0.547593</td>\n",
       "    </tr>\n",
       "    <tr>\n",
       "      <th>Folk</th>\n",
       "      <td>3</td>\n",
       "      <td>0.058978</td>\n",
       "      <td>0.058946</td>\n",
       "      <td>0.058957</td>\n",
       "      <td>0.378031</td>\n",
       "      <td>0.375620</td>\n",
       "      <td>0.373239</td>\n",
       "      <td>0.339515</td>\n",
       "      <td>0.380192</td>\n",
       "      <td>0.431942</td>\n",
       "      <td>0.509272</td>\n",
       "      <td>0.569378</td>\n",
       "      <td>0.645570</td>\n",
       "      <td>0.516934</td>\n",
       "      <td>0.579421</td>\n",
       "      <td>0.659091</td>\n",
       "    </tr>\n",
       "    <tr>\n",
       "      <th>Hip-Hop</th>\n",
       "      <td>4</td>\n",
       "      <td>0.074407</td>\n",
       "      <td>0.074338</td>\n",
       "      <td>0.074309</td>\n",
       "      <td>0.384009</td>\n",
       "      <td>0.384442</td>\n",
       "      <td>0.384876</td>\n",
       "      <td>0.289414</td>\n",
       "      <td>0.364023</td>\n",
       "      <td>0.490458</td>\n",
       "      <td>0.502252</td>\n",
       "      <td>0.618157</td>\n",
       "      <td>0.803604</td>\n",
       "      <td>0.481690</td>\n",
       "      <td>0.614555</td>\n",
       "      <td>0.848635</td>\n",
       "    </tr>\n",
       "    <tr>\n",
       "      <th>Instrumental</th>\n",
       "      <td>5</td>\n",
       "      <td>0.043921</td>\n",
       "      <td>0.043933</td>\n",
       "      <td>0.043986</td>\n",
       "      <td>0.182692</td>\n",
       "      <td>0.175439</td>\n",
       "      <td>0.168739</td>\n",
       "      <td>0.148077</td>\n",
       "      <td>0.182681</td>\n",
       "      <td>0.238390</td>\n",
       "      <td>0.144231</td>\n",
       "      <td>0.230769</td>\n",
       "      <td>0.576923</td>\n",
       "      <td>0.141827</td>\n",
       "      <td>0.229126</td>\n",
       "      <td>0.595960</td>\n",
       "    </tr>\n",
       "    <tr>\n",
       "      <th>International</th>\n",
       "      <td>6</td>\n",
       "      <td>0.029491</td>\n",
       "      <td>0.029453</td>\n",
       "      <td>0.029457</td>\n",
       "      <td>0.256484</td>\n",
       "      <td>0.244505</td>\n",
       "      <td>0.233596</td>\n",
       "      <td>0.077810</td>\n",
       "      <td>0.135678</td>\n",
       "      <td>0.529412</td>\n",
       "      <td>0.216138</td>\n",
       "      <td>0.351288</td>\n",
       "      <td>0.937500</td>\n",
       "      <td>0.208633</td>\n",
       "      <td>0.340176</td>\n",
       "      <td>0.920635</td>\n",
       "    </tr>\n",
       "    <tr>\n",
       "      <th>Pop</th>\n",
       "      <td>7</td>\n",
       "      <td>0.048599</td>\n",
       "      <td>0.048621</td>\n",
       "      <td>0.048680</td>\n",
       "      <td>0.097770</td>\n",
       "      <td>0.093137</td>\n",
       "      <td>0.088924</td>\n",
       "      <td>0.000000</td>\n",
       "      <td>0.000000</td>\n",
       "      <td>0.000000</td>\n",
       "      <td>0.010292</td>\n",
       "      <td>0.020134</td>\n",
       "      <td>0.461538</td>\n",
       "      <td>0.006438</td>\n",
       "      <td>0.012685</td>\n",
       "      <td>0.428571</td>\n",
       "    </tr>\n",
       "    <tr>\n",
       "      <th>Rock</th>\n",
       "      <td>8</td>\n",
       "      <td>0.297893</td>\n",
       "      <td>0.297935</td>\n",
       "      <td>0.298007</td>\n",
       "      <td>0.651720</td>\n",
       "      <td>0.652640</td>\n",
       "      <td>0.653563</td>\n",
       "      <td>0.750141</td>\n",
       "      <td>0.700922</td>\n",
       "      <td>0.657765</td>\n",
       "      <td>0.831641</td>\n",
       "      <td>0.769070</td>\n",
       "      <td>0.715256</td>\n",
       "      <td>0.836447</td>\n",
       "      <td>0.757300</td>\n",
       "      <td>0.691837</td>\n",
       "    </tr>\n",
       "    <tr>\n",
       "      <th>Weighted Avg</th>\n",
       "      <td>9</td>\n",
       "      <td>0.192418</td>\n",
       "      <td>0.192405</td>\n",
       "      <td>0.192427</td>\n",
       "      <td>0.467362</td>\n",
       "      <td>0.469181</td>\n",
       "      <td>0.471190</td>\n",
       "      <td>0.522039</td>\n",
       "      <td>0.495406</td>\n",
       "      <td>0.490275</td>\n",
       "      <td>0.643422</td>\n",
       "      <td>0.615540</td>\n",
       "      <td>0.648710</td>\n",
       "      <td>0.636383</td>\n",
       "      <td>0.607677</td>\n",
       "      <td>0.642800</td>\n",
       "    </tr>\n",
       "  </tbody>\n",
       "</table>\n",
       "</div>\n",
       "      <button class=\"colab-df-convert\" onclick=\"convertToInteractive('df-97436754-c38b-4ec0-ae75-f71876091ea1')\"\n",
       "              title=\"Convert this dataframe to an interactive table.\"\n",
       "              style=\"display:none;\">\n",
       "        \n",
       "  <svg xmlns=\"http://www.w3.org/2000/svg\" height=\"24px\"viewBox=\"0 0 24 24\"\n",
       "       width=\"24px\">\n",
       "    <path d=\"M0 0h24v24H0V0z\" fill=\"none\"/>\n",
       "    <path d=\"M18.56 5.44l.94 2.06.94-2.06 2.06-.94-2.06-.94-.94-2.06-.94 2.06-2.06.94zm-11 1L8.5 8.5l.94-2.06 2.06-.94-2.06-.94L8.5 2.5l-.94 2.06-2.06.94zm10 10l.94 2.06.94-2.06 2.06-.94-2.06-.94-.94-2.06-.94 2.06-2.06.94z\"/><path d=\"M17.41 7.96l-1.37-1.37c-.4-.4-.92-.59-1.43-.59-.52 0-1.04.2-1.43.59L10.3 9.45l-7.72 7.72c-.78.78-.78 2.05 0 2.83L4 21.41c.39.39.9.59 1.41.59.51 0 1.02-.2 1.41-.59l7.78-7.78 2.81-2.81c.8-.78.8-2.07 0-2.86zM5.41 20L4 18.59l7.72-7.72 1.47 1.35L5.41 20z\"/>\n",
       "  </svg>\n",
       "      </button>\n",
       "      \n",
       "  <style>\n",
       "    .colab-df-container {\n",
       "      display:flex;\n",
       "      flex-wrap:wrap;\n",
       "      gap: 12px;\n",
       "    }\n",
       "\n",
       "    .colab-df-convert {\n",
       "      background-color: #E8F0FE;\n",
       "      border: none;\n",
       "      border-radius: 50%;\n",
       "      cursor: pointer;\n",
       "      display: none;\n",
       "      fill: #1967D2;\n",
       "      height: 32px;\n",
       "      padding: 0 0 0 0;\n",
       "      width: 32px;\n",
       "    }\n",
       "\n",
       "    .colab-df-convert:hover {\n",
       "      background-color: #E2EBFA;\n",
       "      box-shadow: 0px 1px 2px rgba(60, 64, 67, 0.3), 0px 1px 3px 1px rgba(60, 64, 67, 0.15);\n",
       "      fill: #174EA6;\n",
       "    }\n",
       "\n",
       "    [theme=dark] .colab-df-convert {\n",
       "      background-color: #3B4455;\n",
       "      fill: #D2E3FC;\n",
       "    }\n",
       "\n",
       "    [theme=dark] .colab-df-convert:hover {\n",
       "      background-color: #434B5C;\n",
       "      box-shadow: 0px 1px 3px 1px rgba(0, 0, 0, 0.15);\n",
       "      filter: drop-shadow(0px 1px 2px rgba(0, 0, 0, 0.3));\n",
       "      fill: #FFFFFF;\n",
       "    }\n",
       "  </style>\n",
       "\n",
       "      <script>\n",
       "        const buttonEl =\n",
       "          document.querySelector('#df-97436754-c38b-4ec0-ae75-f71876091ea1 button.colab-df-convert');\n",
       "        buttonEl.style.display =\n",
       "          google.colab.kernel.accessAllowed ? 'block' : 'none';\n",
       "\n",
       "        async function convertToInteractive(key) {\n",
       "          const element = document.querySelector('#df-97436754-c38b-4ec0-ae75-f71876091ea1');\n",
       "          const dataTable =\n",
       "            await google.colab.kernel.invokeFunction('convertToInteractive',\n",
       "                                                     [key], {});\n",
       "          if (!dataTable) return;\n",
       "\n",
       "          const docLinkHtml = 'Like what you see? Visit the ' +\n",
       "            '<a target=\"_blank\" href=https://colab.research.google.com/notebooks/data_table.ipynb>data table notebook</a>'\n",
       "            + ' to learn more about interactive tables.';\n",
       "          element.innerHTML = '';\n",
       "          dataTable['output_type'] = 'display_data';\n",
       "          await google.colab.output.renderOutput(dataTable, element);\n",
       "          const docLink = document.createElement('div');\n",
       "          docLink.innerHTML = docLinkHtml;\n",
       "          element.appendChild(docLink);\n",
       "        }\n",
       "      </script>\n",
       "    </div>\n",
       "  </div>\n",
       "  "
      ],
      "text/plain": [
       "               index  baseline_recall  baseline_f1  baseline_precision  \\\n",
       "Genres                                                                   \n",
       "Classical          0         0.025893     0.025846            0.025840   \n",
       "Electronic         1         0.197050     0.197048            0.197078   \n",
       "Experimental       2         0.223475     0.223397            0.223354   \n",
       "Folk               3         0.058978     0.058946            0.058957   \n",
       "Hip-Hop            4         0.074407     0.074338            0.074309   \n",
       "Instrumental       5         0.043921     0.043933            0.043986   \n",
       "International      6         0.029491     0.029453            0.029457   \n",
       "Pop                7         0.048599     0.048621            0.048680   \n",
       "Rock               8         0.297893     0.297935            0.298007   \n",
       "Weighted Avg       9         0.192418     0.192405            0.192427   \n",
       "\n",
       "               baseline_dt_recall  baseline_dt_f1-score  \\\n",
       "Genres                                                    \n",
       "Classical                0.500000              0.511628   \n",
       "Electronic               0.456253              0.456740   \n",
       "Experimental             0.443062              0.452707   \n",
       "Folk                     0.378031              0.375620   \n",
       "Hip-Hop                  0.384009              0.384442   \n",
       "Instrumental             0.182692              0.175439   \n",
       "International            0.256484              0.244505   \n",
       "Pop                      0.097770              0.093137   \n",
       "Rock                     0.651720              0.652640   \n",
       "Weighted Avg             0.467362              0.469181   \n",
       "\n",
       "               baseline_dt_precision  optimized_dt_recall  \\\n",
       "Genres                                                      \n",
       "Classical                   0.523810             0.538961   \n",
       "Electronic                  0.457228             0.585574   \n",
       "Experimental                0.462781             0.531297   \n",
       "Folk                        0.373239             0.339515   \n",
       "Hip-Hop                     0.384876             0.289414   \n",
       "Instrumental                0.168739             0.148077   \n",
       "International               0.233596             0.077810   \n",
       "Pop                         0.088924             0.000000   \n",
       "Rock                        0.653563             0.750141   \n",
       "Weighted Avg                0.471190             0.522039   \n",
       "\n",
       "               optimized_dt_f1-score  optimized_dt_precision  \\\n",
       "Genres                                                         \n",
       "Classical                   0.549669                0.560811   \n",
       "Electronic                  0.513761                0.457638   \n",
       "Experimental                0.489831                0.454370   \n",
       "Folk                        0.380192                0.431942   \n",
       "Hip-Hop                     0.364023                0.490458   \n",
       "Instrumental                0.182681                0.238390   \n",
       "International               0.135678                0.529412   \n",
       "Pop                         0.000000                0.000000   \n",
       "Rock                        0.700922                0.657765   \n",
       "Weighted Avg                0.495406                0.490275   \n",
       "\n",
       "               baseline_rf_recall  baseline_rf_f1-score  \\\n",
       "Genres                                                    \n",
       "Classical                0.711039              0.776596   \n",
       "Electronic               0.688007              0.633897   \n",
       "Experimental             0.720211              0.627567   \n",
       "Folk                     0.509272              0.569378   \n",
       "Hip-Hop                  0.502252              0.618157   \n",
       "Instrumental             0.144231              0.230769   \n",
       "International            0.216138              0.351288   \n",
       "Pop                      0.010292              0.020134   \n",
       "Rock                     0.831641              0.769070   \n",
       "Weighted Avg             0.643422              0.615540   \n",
       "\n",
       "               baseline_rf_precision  optimized_rf_recall  \\\n",
       "Genres                                                      \n",
       "Classical                   0.855469             0.678862   \n",
       "Electronic                  0.587678             0.677695   \n",
       "Experimental                0.556041             0.702168   \n",
       "Folk                        0.645570             0.516934   \n",
       "Hip-Hop                     0.803604             0.481690   \n",
       "Instrumental                0.576923             0.141827   \n",
       "International               0.937500             0.208633   \n",
       "Pop                         0.461538             0.006438   \n",
       "Rock                        0.715256             0.836447   \n",
       "Weighted Avg                0.648710             0.636383   \n",
       "\n",
       "               optimized_rf_f1-score  optimized_rf_precision  \n",
       "Genres                                                        \n",
       "Classical                   0.743875                0.822660  \n",
       "Electronic                  0.632155                0.592351  \n",
       "Experimental                0.615321                0.547593  \n",
       "Folk                        0.579421                0.659091  \n",
       "Hip-Hop                     0.614555                0.848635  \n",
       "Instrumental                0.229126                0.595960  \n",
       "International               0.340176                0.920635  \n",
       "Pop                         0.012685                0.428571  \n",
       "Rock                        0.757300                0.691837  \n",
       "Weighted Avg                0.607677                0.642800  "
      ]
     },
     "execution_count": 72,
     "metadata": {},
     "output_type": "execute_result"
    }
   ],
   "source": [
    "scores_df"
   ]
  },
  {
   "cell_type": "markdown",
   "id": "ee6a6f83",
   "metadata": {},
   "source": [
    "Saving the two dataframes to be accessed in the next notebook."
   ]
  },
  {
   "cell_type": "code",
   "execution_count": 73,
   "id": "ec1WA3XHY4j4",
   "metadata": {
    "id": "ec1WA3XHY4j4"
   },
   "outputs": [],
   "source": [
    "accuracy_df.to_csv('Data/accuracy_df1.csv')"
   ]
  },
  {
   "cell_type": "code",
   "execution_count": 74,
   "id": "06pnKMgmY_xv",
   "metadata": {
    "id": "06pnKMgmY_xv"
   },
   "outputs": [],
   "source": [
    "scores_df.to_csv('Data/scores_df1.csv') "
   ]
  }
 ],
 "metadata": {
  "colab": {
   "machine_shape": "hm",
   "provenance": []
  },
  "gpuClass": "standard",
  "kernelspec": {
   "display_name": "Python 3 (ipykernel)",
   "language": "python",
   "name": "python3"
  },
  "language_info": {
   "codemirror_mode": {
    "name": "ipython",
    "version": 3
   },
   "file_extension": ".py",
   "mimetype": "text/x-python",
   "name": "python",
   "nbconvert_exporter": "python",
   "pygments_lexer": "ipython3",
   "version": "3.9.13"
  }
 },
 "nbformat": 4,
 "nbformat_minor": 5
}
