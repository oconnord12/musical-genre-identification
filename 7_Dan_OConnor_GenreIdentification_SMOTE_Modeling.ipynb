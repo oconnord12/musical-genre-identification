{
 "cells": [
  {
   "cell_type": "markdown",
   "metadata": {},
   "source": [
    "# Modeling 4: Neural Network using SMOTE\n",
    "\n",
    "- **Author**: Dan O'Connor\n",
    "- **Notebook**: 7 of 9"
   ]
  },
  {
   "cell_type": "markdown",
   "metadata": {},
   "source": [
    "In this notebook I will be addressing the imbalanced classes by using Synthetic Minority Over-sampling Technique (SMOTE). SMOTE generates synthetic samples from minority classes to balance the distribution of the target variable. I will be applying SMOTE then retraining a NN."
   ]
  },
  {
   "cell_type": "markdown",
   "metadata": {},
   "source": [
    "Import required libraries"
   ]
  },
  {
   "cell_type": "code",
   "execution_count": 1,
   "metadata": {
    "id": "Vc8oz0KuoRvu"
   },
   "outputs": [],
   "source": [
    "import pandas as pd\n",
    "import matplotlib.pyplot as plt\n",
    "import numpy as np\n",
    "# from google.colab import drive #colab"
   ]
  },
  {
   "cell_type": "code",
   "execution_count": 2,
   "metadata": {
    "colab": {
     "base_uri": "https://localhost:8080/"
    },
    "id": "cwSUojKkoYxu",
    "outputId": "49201d51-e9d6-4ebd-f88e-c9fe8f2c8233"
   },
   "outputs": [
    {
     "name": "stdout",
     "output_type": "stream",
     "text": [
      "Mounted at /content/gdrive\n"
     ]
    }
   ],
   "source": [
    "drive.mount('/content/gdrive', force_remount=True)"
   ]
  },
  {
   "cell_type": "code",
   "execution_count": 3,
   "metadata": {
    "colab": {
     "base_uri": "https://localhost:8080/"
    },
    "id": "vYqN8NsvoY0I",
    "outputId": "cf581a96-4201-4a65-ac05-aeaa295fcc58"
   },
   "outputs": [
    {
     "name": "stdout",
     "output_type": "stream",
     "text": [
      "/content/gdrive/My Drive/Colab Notebooks\n"
     ]
    }
   ],
   "source": [
    "cd '/content/gdrive/My Drive/Colab Notebooks'"
   ]
  },
  {
   "cell_type": "markdown",
   "metadata": {},
   "source": [
    "Load in required data."
   ]
  },
  {
   "cell_type": "code",
   "execution_count": 2,
   "metadata": {
    "id": "lKY-p_YZoY2c"
   },
   "outputs": [],
   "source": [
    "subset_model_df = pd.read_csv('Data/subset_model_df.csv')"
   ]
  },
  {
   "cell_type": "code",
   "execution_count": 51,
   "metadata": {
    "id": "pIzrXZJ1r7o9"
   },
   "outputs": [],
   "source": [
    "accuracy_df = pd.read_csv('Data/accuracy_df3.csv', index_col='Model')"
   ]
  },
  {
   "cell_type": "code",
   "execution_count": 52,
   "metadata": {
    "id": "5nJalHPhr7wP"
   },
   "outputs": [],
   "source": [
    "scores_df = pd.read_csv('Data/scores_df3.csv', index_col = 'Genres')"
   ]
  },
  {
   "cell_type": "markdown",
   "metadata": {},
   "source": [
    "I chose to use a NN with the SMOTE data because the NN has been my best performing model thus far. Likely the proportions between various models would remain the same with SMOTE, therefore I am only testing on one model."
   ]
  },
  {
   "cell_type": "code",
   "execution_count": 7,
   "metadata": {
    "colab": {
     "base_uri": "https://localhost:8080/",
     "height": 300
    },
    "id": "7rNjKgjhUJkq",
    "outputId": "805fd715-b9e1-4a6f-fb67-4821047ef987"
   },
   "outputs": [
    {
     "data": {
      "text/html": [
       "\n",
       "  <div id=\"df-b0e72d66-1a0f-4234-aaf1-402a9c445e31\">\n",
       "    <div class=\"colab-df-container\">\n",
       "      <div>\n",
       "<style scoped>\n",
       "    .dataframe tbody tr th:only-of-type {\n",
       "        vertical-align: middle;\n",
       "    }\n",
       "\n",
       "    .dataframe tbody tr th {\n",
       "        vertical-align: top;\n",
       "    }\n",
       "\n",
       "    .dataframe thead th {\n",
       "        text-align: right;\n",
       "    }\n",
       "</style>\n",
       "<table border=\"1\" class=\"dataframe\">\n",
       "  <thead>\n",
       "    <tr style=\"text-align: right;\">\n",
       "      <th></th>\n",
       "      <th>Baseline Accuracy</th>\n",
       "      <th>Optimized Accuracy</th>\n",
       "    </tr>\n",
       "    <tr>\n",
       "      <th>Model</th>\n",
       "      <th></th>\n",
       "      <th></th>\n",
       "    </tr>\n",
       "  </thead>\n",
       "  <tbody>\n",
       "    <tr>\n",
       "      <th>Baseline</th>\n",
       "      <td>0.29</td>\n",
       "      <td>NaN</td>\n",
       "    </tr>\n",
       "    <tr>\n",
       "      <th>Logistic Regression</th>\n",
       "      <td>0.66</td>\n",
       "      <td>0.66</td>\n",
       "    </tr>\n",
       "    <tr>\n",
       "      <th>KNN</th>\n",
       "      <td>0.62</td>\n",
       "      <td>0.63</td>\n",
       "    </tr>\n",
       "    <tr>\n",
       "      <th>Random Forest</th>\n",
       "      <td>0.64</td>\n",
       "      <td>0.64</td>\n",
       "    </tr>\n",
       "    <tr>\n",
       "      <th>Decision Tree</th>\n",
       "      <td>0.47</td>\n",
       "      <td>0.52</td>\n",
       "    </tr>\n",
       "    <tr>\n",
       "      <th>Neural Net</th>\n",
       "      <td>0.65</td>\n",
       "      <td>0.67</td>\n",
       "    </tr>\n",
       "    <tr>\n",
       "      <th>SMOTE Neural Net</th>\n",
       "      <td>NaN</td>\n",
       "      <td>NaN</td>\n",
       "    </tr>\n",
       "  </tbody>\n",
       "</table>\n",
       "</div>\n",
       "      <button class=\"colab-df-convert\" onclick=\"convertToInteractive('df-b0e72d66-1a0f-4234-aaf1-402a9c445e31')\"\n",
       "              title=\"Convert this dataframe to an interactive table.\"\n",
       "              style=\"display:none;\">\n",
       "        \n",
       "  <svg xmlns=\"http://www.w3.org/2000/svg\" height=\"24px\"viewBox=\"0 0 24 24\"\n",
       "       width=\"24px\">\n",
       "    <path d=\"M0 0h24v24H0V0z\" fill=\"none\"/>\n",
       "    <path d=\"M18.56 5.44l.94 2.06.94-2.06 2.06-.94-2.06-.94-.94-2.06-.94 2.06-2.06.94zm-11 1L8.5 8.5l.94-2.06 2.06-.94-2.06-.94L8.5 2.5l-.94 2.06-2.06.94zm10 10l.94 2.06.94-2.06 2.06-.94-2.06-.94-.94-2.06-.94 2.06-2.06.94z\"/><path d=\"M17.41 7.96l-1.37-1.37c-.4-.4-.92-.59-1.43-.59-.52 0-1.04.2-1.43.59L10.3 9.45l-7.72 7.72c-.78.78-.78 2.05 0 2.83L4 21.41c.39.39.9.59 1.41.59.51 0 1.02-.2 1.41-.59l7.78-7.78 2.81-2.81c.8-.78.8-2.07 0-2.86zM5.41 20L4 18.59l7.72-7.72 1.47 1.35L5.41 20z\"/>\n",
       "  </svg>\n",
       "      </button>\n",
       "      \n",
       "  <style>\n",
       "    .colab-df-container {\n",
       "      display:flex;\n",
       "      flex-wrap:wrap;\n",
       "      gap: 12px;\n",
       "    }\n",
       "\n",
       "    .colab-df-convert {\n",
       "      background-color: #E8F0FE;\n",
       "      border: none;\n",
       "      border-radius: 50%;\n",
       "      cursor: pointer;\n",
       "      display: none;\n",
       "      fill: #1967D2;\n",
       "      height: 32px;\n",
       "      padding: 0 0 0 0;\n",
       "      width: 32px;\n",
       "    }\n",
       "\n",
       "    .colab-df-convert:hover {\n",
       "      background-color: #E2EBFA;\n",
       "      box-shadow: 0px 1px 2px rgba(60, 64, 67, 0.3), 0px 1px 3px 1px rgba(60, 64, 67, 0.15);\n",
       "      fill: #174EA6;\n",
       "    }\n",
       "\n",
       "    [theme=dark] .colab-df-convert {\n",
       "      background-color: #3B4455;\n",
       "      fill: #D2E3FC;\n",
       "    }\n",
       "\n",
       "    [theme=dark] .colab-df-convert:hover {\n",
       "      background-color: #434B5C;\n",
       "      box-shadow: 0px 1px 3px 1px rgba(0, 0, 0, 0.15);\n",
       "      filter: drop-shadow(0px 1px 2px rgba(0, 0, 0, 0.3));\n",
       "      fill: #FFFFFF;\n",
       "    }\n",
       "  </style>\n",
       "\n",
       "      <script>\n",
       "        const buttonEl =\n",
       "          document.querySelector('#df-b0e72d66-1a0f-4234-aaf1-402a9c445e31 button.colab-df-convert');\n",
       "        buttonEl.style.display =\n",
       "          google.colab.kernel.accessAllowed ? 'block' : 'none';\n",
       "\n",
       "        async function convertToInteractive(key) {\n",
       "          const element = document.querySelector('#df-b0e72d66-1a0f-4234-aaf1-402a9c445e31');\n",
       "          const dataTable =\n",
       "            await google.colab.kernel.invokeFunction('convertToInteractive',\n",
       "                                                     [key], {});\n",
       "          if (!dataTable) return;\n",
       "\n",
       "          const docLinkHtml = 'Like what you see? Visit the ' +\n",
       "            '<a target=\"_blank\" href=https://colab.research.google.com/notebooks/data_table.ipynb>data table notebook</a>'\n",
       "            + ' to learn more about interactive tables.';\n",
       "          element.innerHTML = '';\n",
       "          dataTable['output_type'] = 'display_data';\n",
       "          await google.colab.output.renderOutput(dataTable, element);\n",
       "          const docLink = document.createElement('div');\n",
       "          docLink.innerHTML = docLinkHtml;\n",
       "          element.appendChild(docLink);\n",
       "        }\n",
       "      </script>\n",
       "    </div>\n",
       "  </div>\n",
       "  "
      ],
      "text/plain": [
       "                     Baseline Accuracy  Optimized Accuracy\n",
       "Model                                                     \n",
       "Baseline                          0.29                 NaN\n",
       "Logistic Regression               0.66                0.66\n",
       "KNN                               0.62                0.63\n",
       "Random Forest                     0.64                0.64\n",
       "Decision Tree                     0.47                0.52\n",
       "Neural Net                        0.65                0.67\n",
       "SMOTE Neural Net                   NaN                 NaN"
      ]
     },
     "execution_count": 7,
     "metadata": {},
     "output_type": "execute_result"
    }
   ],
   "source": [
    "accuracy_df\n"
   ]
  },
  {
   "cell_type": "markdown",
   "metadata": {
    "colab": {
     "base_uri": "https://localhost:8080/",
     "height": 522
    },
    "id": "wmvAyH7Z_eXv",
    "outputId": "58433271-e009-49a4-ba12-9fbc48fc6e9e"
   },
   "source": [
    "There is a very delicate process for applying SMOTE with scaling and splitting into training, val and testing sets. I will walk through the steps below."
   ]
  },
  {
   "cell_type": "markdown",
   "metadata": {},
   "source": [
    "Split target and dependent variables."
   ]
  },
  {
   "cell_type": "code",
   "execution_count": 4,
   "metadata": {
    "id": "-tawaasIoY4l"
   },
   "outputs": [],
   "source": [
    "X = subset_model_df.drop(columns='genre_top')\n",
    "y = subset_model_df['genre_top']"
   ]
  },
  {
   "cell_type": "code",
   "execution_count": 10,
   "metadata": {
    "id": "vuMg40GHr222"
   },
   "outputs": [],
   "source": [
    "from my_functions import get_class_metrics "
   ]
  },
  {
   "cell_type": "markdown",
   "metadata": {
    "id": "JO-oiA0jr7Bs"
   },
   "source": [
    "Label encode the target variable."
   ]
  },
  {
   "cell_type": "code",
   "execution_count": 5,
   "metadata": {
    "id": "NmhpI4XToY6j"
   },
   "outputs": [],
   "source": [
    "from sklearn.preprocessing import LabelEncoder\n",
    "\n",
    "# Encoder object\n",
    "label_encoder = LabelEncoder()\n",
    "\n",
    "# Fit the encoder on y\n",
    "label_encoder.fit(y)\n",
    "\n",
    "# Transform\n",
    "y_encoded = label_encoder.transform(y)"
   ]
  },
  {
   "cell_type": "markdown",
   "metadata": {},
   "source": [
    "First I split into train and test."
   ]
  },
  {
   "cell_type": "code",
   "execution_count": 6,
   "metadata": {
    "id": "XRBimJKPoY8l"
   },
   "outputs": [],
   "source": [
    "from sklearn.model_selection import train_test_split\n",
    "#split into train test\n",
    "X_train, X_test, y_train, y_test = train_test_split(X,y_encoded, test_size=0.25, stratify=y_encoded,random_state=1)"
   ]
  },
  {
   "cell_type": "markdown",
   "metadata": {},
   "source": [
    "Further split into training subset and a validation set, from the train set. On this second split I am careful to stratify on y train, which was previous stratified on y_encoded. This ensures the same distribution of classes in both the train and validation."
   ]
  },
  {
   "cell_type": "code",
   "execution_count": 8,
   "metadata": {
    "id": "qbVORM2yoZAN"
   },
   "outputs": [],
   "source": [
    "#further split into val and train subset\n",
    "X_train_subset, X_val, y_train_subset, y_val = train_test_split(X_train,y_train, test_size=0.25, stratify=y_train,random_state=1)"
   ]
  },
  {
   "cell_type": "markdown",
   "metadata": {},
   "source": [
    "Next I instaniate the standard scaler and fit and transform only to the X_train subset."
   ]
  },
  {
   "cell_type": "code",
   "execution_count": 10,
   "metadata": {
    "id": "51zhla9hlyvF"
   },
   "outputs": [],
   "source": [
    "from sklearn.preprocessing import StandardScaler\n",
    "scaler = StandardScaler() #instaniate the object\n",
    "X_train_subset_scaled = scaler.fit_transform(X_train_subset) #fit only to train subset"
   ]
  },
  {
   "cell_type": "markdown",
   "metadata": {},
   "source": [
    "Then I apply SMOTE to the X_train subset and the y_train subset."
   ]
  },
  {
   "cell_type": "code",
   "execution_count": 11,
   "metadata": {
    "id": "8244ejI5oZCB"
   },
   "outputs": [],
   "source": [
    "from imblearn.over_sampling import SMOTE\n",
    "\n",
    "# Apply SMOTE to balance the classes in the training set\n",
    "smote = SMOTE(random_state=42) #instaniate SMOTE\n",
    "X_train_smote, y_train_smote = smote.fit_resample(X_train_subset_scaled, y_train_subset) #fit to the scaled training subsets"
   ]
  },
  {
   "cell_type": "markdown",
   "metadata": {},
   "source": [
    "Fit the x val and test to the scaler that was fit on the subset before SMOTE."
   ]
  },
  {
   "cell_type": "code",
   "execution_count": 13,
   "metadata": {
    "id": "8NS5bQXkvn-8"
   },
   "outputs": [],
   "source": [
    "X_val_scaled = scaler.transform(X_val) #transform val\n",
    "X_test_scaled = scaler.transform(X_test) #transform test"
   ]
  },
  {
   "cell_type": "markdown",
   "metadata": {
    "id": "BzPg0Ndpvo6P"
   },
   "source": [
    "Below shows a graphic of what SMOTE accomplishes. It balances the classes in the training data, synthetically. The majority class, rock, stays the same but the smaller classes get synthetic samples added."
   ]
  },
  {
   "cell_type": "code",
   "execution_count": 14,
   "metadata": {
    "colab": {
     "base_uri": "https://localhost:8080/"
    },
    "id": "xPhWKS9equBR",
    "outputId": "ce5069d3-d030-4439-ddb5-6a6f44396a61"
   },
   "outputs": [
    {
     "name": "stdout",
     "output_type": "stream",
     "text": [
      "New class distribution after applying SMOTE: Counter({5: 7978, 2: 7978, 1: 7978, 8: 7978, 4: 7978, 3: 7978, 6: 7978, 7: 7978, 0: 7978})\n"
     ]
    }
   ],
   "source": [
    "from collections import Counter\n",
    "\n",
    "#new class distribution after SMOTE\n",
    "counter = Counter(y_train_smote) #count tthe y train\n",
    "print(\"New class distribution after applying SMOTE:\", counter)"
   ]
  },
  {
   "cell_type": "code",
   "execution_count": 17,
   "metadata": {
    "colab": {
     "base_uri": "https://localhost:8080/",
     "height": 511
    },
    "id": "59cSLim1quDs",
    "outputId": "c67f566d-b985-49c5-d3d5-ba462418d56e"
   },
   "outputs": [
    {
     "data": {
      "image/png": "[encoded data removed]",
      "text/plain": [
       "<Figure size 640x480 with 1 Axes>"
      ]
     },
     "metadata": {},
     "output_type": "display_data"
    }
   ],
   "source": [
    "#Class labels\n",
    "class_labels = {0: 'Classical', 1: 'Electronic', 2: 'Experimental', 3: 'Folk', 4: 'Hip-Hop', \n",
    "                5: 'Instrumental', 6: 'International', 7: 'Pop', 8: 'Rock'}\n",
    "\n",
    "#replace the class numbers with the class labels\n",
    "labels = [class_labels[label] for label in np.unique(y_train)]\n",
    "\n",
    "# Count the number of instances for each class (orig dataset)\n",
    "original_counts = [np.sum(y_train_subset == label) for label in np.unique(y_train)]\n",
    "\n",
    "# Count the number of instances for each class (SMOTE)\n",
    "resampled_counts = [np.sum(y_train_smote == label) for label in np.unique(y_train_smote)]\n",
    "\n",
    "# Plot original vs smote\n",
    "fig, ax = plt.subplots()\n",
    "ax.bar(np.arange(len(labels)) - 0.2, original_counts, width=0.4, label='Original')\n",
    "ax.bar(np.arange(len(labels)) + 0.2, resampled_counts, width=0.4, label='SMOTE')\n",
    "ax.set_xticks(np.arange(len(labels)))\n",
    "ax.set_xticklabels(labels)\n",
    "ax.set_xlabel('Class')\n",
    "ax.set_ylabel('Number of Training Samples')\n",
    "ax.set_xticklabels(labels, rotation=20, ha='right')\n",
    "ax.legend()\n",
    "plt.savefig('SMOTE.png')\n",
    "plt.show()"
   ]
  },
  {
   "cell_type": "markdown",
   "metadata": {
    "id": "fbPHu-fCsSR5"
   },
   "source": [
    "## Nueral Network"
   ]
  },
  {
   "cell_type": "markdown",
   "metadata": {},
   "source": [
    "### Baseline"
   ]
  },
  {
   "cell_type": "markdown",
   "metadata": {
    "colab": {
     "base_uri": "https://localhost:8080/",
     "height": 300
    },
    "id": "xAUOocFBNE4Q",
    "outputId": "bd7bee8a-8c22-4142-eacf-3b26e5191e7f"
   },
   "source": [
    "I will follow an identical process for training and optimizing the NN as I did in notebook 6. For the baseline I start with a very simple NN but train it on the SMOTE data. The model is still evaluated on the same test data as before."
   ]
  },
  {
   "cell_type": "code",
   "execution_count": 35,
   "metadata": {
    "colab": {
     "base_uri": "https://localhost:8080/"
    },
    "id": "h-e7V5qoHAgO",
    "outputId": "5b70935d-218a-4164-d312-a0d7dcc81f48"
   },
   "outputs": [
    {
     "name": "stdout",
     "output_type": "stream",
     "text": [
      "Epoch 1/50\n",
      "Epoch 2/50\n",
      "Epoch 3/50\n",
      "Epoch 4/50\n",
      "Epoch 5/50\n",
      "Epoch 6/50\n",
      "Epoch 7/50\n",
      "Epoch 8/50\n",
      "Epoch 9/50\n",
      "Epoch 10/50\n",
      "Epoch 11/50\n",
      "Epoch 12/50\n",
      "Epoch 13/50\n",
      "Epoch 14/50\n",
      "Epoch 15/50\n",
      "Epoch 16/50\n",
      "Epoch 17/50\n",
      "Epoch 18/50\n",
      "Epoch 19/50\n",
      "Epoch 20/50\n",
      "Epoch 21/50\n",
      "Epoch 22/50\n",
      "Epoch 23/50\n",
      "Epoch 24/50\n",
      "Epoch 25/50\n",
      "Epoch 26/50\n",
      "Epoch 27/50\n",
      "Epoch 28/50\n",
      "Epoch 29/50\n",
      "Epoch 30/50\n",
      "Epoch 31/50\n",
      "Epoch 32/50\n",
      "Epoch 33/50\n",
      "Epoch 34/50\n",
      "Epoch 35/50\n",
      "Epoch 36/50\n",
      "Epoch 37/50\n",
      "Epoch 38/50\n",
      "Epoch 39/50\n",
      "Epoch 40/50\n",
      "Epoch 41/50\n",
      "Epoch 42/50\n",
      "Epoch 43/50\n",
      "Epoch 44/50\n",
      "Epoch 45/50\n",
      "Epoch 46/50\n",
      "Epoch 47/50\n",
      "Epoch 48/50\n",
      "Epoch 49/50\n",
      "Epoch 50/50\n",
      "372/372 [==============================] - 1s 2ms/step - loss: 3.0472 - accuracy: 0.6047\n",
      "Accuracy: 0.6047274470329285\n",
      "372/372 [==============================] - 1s 1ms/step\n"
     ]
    }
   ],
   "source": [
    "import tensorflow as tf\n",
    "from tensorflow import keras\n",
    "from tensorflow.keras import layers\n",
    "from sklearn.metrics import classification_report\n",
    "\n",
    "tf.random.set_seed(42)\n",
    "\n",
    "# model\n",
    "model = keras.Sequential() #sequential\n",
    "model.add(layers.Dense(64, activation='relu', input_dim=X_train_smote.shape[1])) #input dim num of cols in features\n",
    "model.add(layers.Dense(len(label_encoder.classes_), activation='softmax')) #ouput dim num oof classses\n",
    "\n",
    "# Compile\n",
    "model.compile(optimizer='adam',\n",
    "              loss='sparse_categorical_crossentropy',\n",
    "              metrics=['accuracy'])\n",
    "\n",
    "# Train \n",
    "model.fit(X_train_smote, y_train_smote, epochs=50, batch_size=32, verbose=3) #train on smote scaled data\n",
    "\n",
    "# Evaluate \n",
    "loss, baseline_smote_nn_accuracy = model.evaluate(X_test_scaled, y_test)\n",
    "print(\"Accuracy:\", baseline_smote_nn_accuracy)\n",
    "# Generate predictions \n",
    "y_pred = np.argmax(model.predict(X_test_scaled), axis=-1)\n",
    "\n",
    "#classification report\n",
    "baseline_smote_nn_class_report = classification_report(y_test, y_pred, output_dict=True)"
   ]
  },
  {
   "cell_type": "code",
   "execution_count": 62,
   "metadata": {
    "colab": {
     "base_uri": "https://localhost:8080/"
    },
    "id": "-2uDkOK6MJm9",
    "outputId": "0762c292-ecb0-48c8-adbd-85c995cf6443"
   },
   "outputs": [
    {
     "name": "stdout",
     "output_type": "stream",
     "text": [
      "Baseline Accuracy:  0.6047274470329285\n"
     ]
    }
   ],
   "source": [
    "accuracy_df.loc['SMOTE Neural Net', 'Baseline Accuracy'] = round(baseline_smote_nn_accuracy,2)\n",
    "print('Baseline Accuracy: ', baseline_smote_nn_accuracy)"
   ]
  },
  {
   "cell_type": "code",
   "execution_count": 54,
   "metadata": {
    "id": "0kuRyx3_MNLv"
   },
   "outputs": [],
   "source": [
    "get_class_metrics(baseline_smote_nn_class_report,'baseline_smote_nn',scores_df)\n"
   ]
  },
  {
   "cell_type": "markdown",
   "metadata": {
    "colab": {
     "base_uri": "https://localhost:8080/",
     "height": 300
    },
    "id": "AZrAFmM5Pkyi",
    "outputId": "b0520294-3211-4048-d222-87d00f557436"
   },
   "source": [
    "### Optimized"
   ]
  },
  {
   "cell_type": "markdown",
   "metadata": {},
   "source": [
    "I used the train, val, and test splits I made further up in the notebook to tune the hyperparameters."
   ]
  },
  {
   "cell_type": "code",
   "execution_count": 28,
   "metadata": {
    "colab": {
     "base_uri": "https://localhost:8080/"
    },
    "id": "OsCzQdKbtIoX",
    "outputId": "92e0f77e-bf76-4b34-bcac-75530d6e5bba"
   },
   "outputs": [
    {
     "name": "stdout",
     "output_type": "stream",
     "text": [
      "Epoch 1/25\n",
      "Epoch 2/25\n",
      "Epoch 3/25\n",
      "Epoch 4/25\n",
      "Epoch 5/25\n",
      "Epoch 6/25\n",
      "Epoch 7/25\n",
      "Epoch 8/25\n",
      "Epoch 9/25\n",
      "Epoch 10/25\n",
      "Epoch 11/25\n",
      "Epoch 12/25\n",
      "Epoch 13/25\n",
      "Epoch 14/25\n",
      "Epoch 15/25\n",
      "Epoch 16/25\n",
      "Epoch 17/25\n",
      "Epoch 18/25\n",
      "Epoch 19/25\n",
      "Epoch 20/25\n",
      "Epoch 21/25\n",
      "Epoch 22/25\n",
      "Epoch 23/25\n",
      "Epoch 24/25\n",
      "Epoch 25/25\n",
      "372/372 [==============================] - 1s 2ms/step - loss: 3.0440 - accuracy: 0.6291\n",
      "Accuracy: 0.6291217803955078\n",
      "372/372 [==============================] - 1s 2ms/step\n"
     ]
    }
   ],
   "source": [
    "import tensorflow as tf\n",
    "from tensorflow import keras\n",
    "from tensorflow.keras import layers\n",
    "from sklearn.metrics import classification_report\n",
    "\n",
    "\n",
    "\n",
    "tf.random.set_seed(42)\n",
    "\n",
    "\n",
    "\n",
    "#  layers\n",
    "model = keras.Sequential()\n",
    "model.add(layers.Dense(128, activation='relu', input_dim=X_train.shape[1])) #128 neurons\n",
    "model.add(layers.Dense(64, activation='relu')) #64 neurons\n",
    "model.add(layers.Dense(32, activation='relu')) #32 neurons\n",
    "model.add(layers.Dense(len(label_encoder.classes_), activation='softmax')) #9 nerons\n",
    "\n",
    "# Compile the model\n",
    "model.compile(optimizer='adam',\n",
    "              loss='sparse_categorical_crossentropy',\n",
    "              metrics=['accuracy'])\n",
    "\n",
    "# Train the model with validation data\n",
    "history = model.fit(X_train_smote, y_train_smote, \n",
    "                    epochs=25, \n",
    "                    batch_size=32, \n",
    "                    verbose=3,\n",
    "                    validation_data=(X_val_scaled, y_val)) #validation\n",
    " \n",
    "# Evaluate the model on the test set\n",
    "loss, accuracy = model.evaluate(X_test_scaled, y_test)\n",
    "print(\"Accuracy:\", accuracy)\n",
    "\n",
    "# Generate predictions on the test set\n",
    "y_pred = np.argmax(model.predict(X_test_scaled), axis=-1)\n",
    "\n",
    "#classification report\n",
    "class_report = classification_report(y_test, y_pred, output_dict=True)"
   ]
  },
  {
   "cell_type": "markdown",
   "metadata": {},
   "source": [
    "Immediately, the model overfits. I will add dropout layers to better generalize."
   ]
  },
  {
   "cell_type": "code",
   "execution_count": 23,
   "metadata": {
    "colab": {
     "base_uri": "https://localhost:8080/",
     "height": 564
    },
    "id": "8WupbOzQquF_",
    "outputId": "0bd9bcf6-f56f-4cc1-b28b-267994c2af26"
   },
   "outputs": [
    {
     "data": {
      "image/png": "[encoded data removed]",
      "text/plain": [
       "<Figure size 1200x600 with 2 Axes>"
      ]
     },
     "metadata": {},
     "output_type": "display_data"
    }
   ],
   "source": [
    "#plot the accuracy and losss\n",
    "fig, ax = plt.subplots(1, 2, figsize=(12, 6))\n",
    "ax[0].plot(history.history['accuracy'])\n",
    "ax[0].plot(history.history['val_accuracy'])\n",
    "ax[0].set_title('Model Accuracy')\n",
    "ax[0].set_xlabel('Epochs')\n",
    "ax[0].set_ylabel('Accuracy')\n",
    "ax[0].legend(['train', 'val'], loc='upper left')\n",
    "\n",
    "ax[1].plot(history.history['loss'])\n",
    "ax[1].plot(history.history['val_loss'])\n",
    "ax[1].set_title('Model Loss')\n",
    "ax[1].set_xlabel('Epochs')\n",
    "ax[1].set_ylabel('Loss')\n",
    "ax[1].legend(['train', 'val'], loc='upper left')\n",
    "\n",
    "plt.show()"
   ]
  },
  {
   "cell_type": "code",
   "execution_count": 24,
   "metadata": {
    "colab": {
     "base_uri": "https://localhost:8080/"
    },
    "id": "ZXrEbq2YquIj",
    "outputId": "2f900d46-32f7-43a4-97db-e4c9ddedde84"
   },
   "outputs": [
    {
     "name": "stdout",
     "output_type": "stream",
     "text": [
      "Epoch 1/25\n",
      "Epoch 2/25\n",
      "Epoch 3/25\n",
      "Epoch 4/25\n",
      "Epoch 5/25\n",
      "Epoch 6/25\n",
      "Epoch 7/25\n",
      "Epoch 8/25\n",
      "Epoch 9/25\n",
      "Epoch 10/25\n",
      "Epoch 11/25\n",
      "Epoch 12/25\n",
      "Epoch 13/25\n",
      "Epoch 14/25\n",
      "Epoch 15/25\n",
      "Epoch 16/25\n",
      "Epoch 17/25\n",
      "Epoch 18/25\n",
      "Epoch 19/25\n",
      "Epoch 20/25\n",
      "Epoch 21/25\n",
      "Epoch 22/25\n",
      "Epoch 23/25\n",
      "Epoch 24/25\n",
      "Epoch 25/25\n",
      "372/372 [==============================] - 1s 3ms/step - loss: 1.1818 - accuracy: 0.6179\n",
      "Accuracy: 0.6179340481758118\n",
      "372/372 [==============================] - 1s 2ms/step\n"
     ]
    }
   ],
   "source": [
    "\n",
    "tf.random.set_seed(42)\n",
    "\n",
    "\n",
    "\n",
    "#  layers\n",
    "model = keras.Sequential()\n",
    "model.add(layers.Dense(128, activation='relu', input_dim=X_train.shape[1]))\n",
    "model.add(layers.Dropout(0.5)) #added 0.5 dropout layer\n",
    "model.add(layers.Dense(64, activation='relu'))\n",
    "model.add(layers.Dropout(0.5)) #added 0.5 dropout layer\n",
    "model.add(layers.Dense(32, activation='relu'))\n",
    "model.add(layers.Dropout(0.5)) #added 0.5 dropout layer\n",
    "model.add(layers.Dense(len(label_encoder.classes_), activation='softmax'))\n",
    "\n",
    "# Compile \n",
    "model.compile(optimizer='adam',\n",
    "              loss='sparse_categorical_crossentropy',\n",
    "              metrics=['accuracy'])\n",
    "\n",
    "# Train \n",
    "history = model.fit(X_train_smote, y_train_smote, \n",
    "                    epochs=25, \n",
    "                    batch_size=32, \n",
    "                    verbose=3,\n",
    "                    validation_data=(X_val_scaled, y_val))\n",
    "\n",
    "# Evaluate \n",
    "loss, accuracy = model.evaluate(X_test_scaled, y_test)\n",
    "print(\"Accuracy:\", accuracy)\n",
    "\n",
    "# Generate predictions on the test set\n",
    "y_pred = np.argmax(model.predict(X_test_scaled), axis=-1)\n",
    "\n",
    "#classification report\n",
    "class_report = classification_report(y_test, y_pred, output_dict=True)"
   ]
  },
  {
   "cell_type": "markdown",
   "metadata": {},
   "source": [
    "The model is better generalizing with the drop out layers, so now I will increase the epochs to try to find the divergence between the training and validation sets."
   ]
  },
  {
   "cell_type": "code",
   "execution_count": 25,
   "metadata": {
    "colab": {
     "base_uri": "https://localhost:8080/",
     "height": 564
    },
    "id": "wCWABtivuor3",
    "outputId": "ab84cb01-bbc9-46df-d300-1312dc7e80b4"
   },
   "outputs": [
    {
     "data": {
      "image/png": "[encoded data removed]",
      "text/plain": [
       "<Figure size 1200x600 with 2 Axes>"
      ]
     },
     "metadata": {},
     "output_type": "display_data"
    }
   ],
   "source": [
    "# plot accuracy and loss\n",
    "fig, ax = plt.subplots(1, 2, figsize=(12, 6))\n",
    "ax[0].plot(history.history['accuracy'])\n",
    "ax[0].plot(history.history['val_accuracy'])\n",
    "ax[0].set_title('Model Accuracy')\n",
    "ax[0].set_xlabel('Epochs')\n",
    "ax[0].set_ylabel('Accuracy')\n",
    "ax[0].legend(['train', 'val'], loc='upper left')\n",
    "\n",
    "ax[1].plot(history.history['loss'])\n",
    "ax[1].plot(history.history['val_loss'])\n",
    "ax[1].set_title('Model Loss')\n",
    "ax[1].set_xlabel('Epochs')\n",
    "ax[1].set_ylabel('Loss')\n",
    "ax[1].legend(['train', 'val'], loc='upper left')\n",
    "\n",
    "plt.show()"
   ]
  },
  {
   "cell_type": "code",
   "execution_count": 28,
   "metadata": {
    "colab": {
     "base_uri": "https://localhost:8080/"
    },
    "id": "-Caig2y41qdC",
    "outputId": "0b3e5b5d-f6c1-4dca-a004-afd34bc5bac4"
   },
   "outputs": [
    {
     "name": "stdout",
     "output_type": "stream",
     "text": [
      "Epoch 1/150\n",
      "Epoch 2/150\n",
      "Epoch 3/150\n",
      "Epoch 4/150\n",
      "Epoch 5/150\n",
      "Epoch 6/150\n",
      "Epoch 7/150\n",
      "Epoch 8/150\n",
      "Epoch 9/150\n",
      "Epoch 10/150\n",
      "Epoch 11/150\n",
      "Epoch 12/150\n",
      "Epoch 13/150\n",
      "Epoch 14/150\n",
      "Epoch 15/150\n",
      "Epoch 16/150\n",
      "Epoch 17/150\n",
      "Epoch 18/150\n",
      "Epoch 19/150\n",
      "Epoch 20/150\n",
      "Epoch 21/150\n",
      "Epoch 22/150\n",
      "Epoch 23/150\n",
      "Epoch 24/150\n",
      "Epoch 25/150\n",
      "Epoch 26/150\n",
      "Epoch 27/150\n",
      "Epoch 28/150\n",
      "Epoch 29/150\n",
      "Epoch 30/150\n",
      "Epoch 31/150\n",
      "Epoch 32/150\n",
      "Epoch 33/150\n",
      "Epoch 34/150\n",
      "Epoch 35/150\n",
      "Epoch 36/150\n",
      "Epoch 37/150\n",
      "Epoch 38/150\n",
      "Epoch 39/150\n",
      "Epoch 40/150\n",
      "Epoch 41/150\n",
      "Epoch 42/150\n",
      "Epoch 43/150\n",
      "Epoch 44/150\n",
      "Epoch 45/150\n",
      "Epoch 46/150\n",
      "Epoch 47/150\n",
      "Epoch 48/150\n",
      "Epoch 49/150\n",
      "Epoch 50/150\n",
      "Epoch 51/150\n",
      "Epoch 52/150\n",
      "Epoch 53/150\n",
      "Epoch 54/150\n",
      "Epoch 55/150\n",
      "Epoch 56/150\n",
      "Epoch 57/150\n",
      "Epoch 58/150\n",
      "Epoch 59/150\n",
      "Epoch 60/150\n",
      "Epoch 61/150\n",
      "Epoch 62/150\n",
      "Epoch 63/150\n",
      "Epoch 64/150\n",
      "Epoch 65/150\n",
      "Epoch 66/150\n",
      "Epoch 67/150\n",
      "Epoch 68/150\n",
      "Epoch 69/150\n",
      "Epoch 70/150\n",
      "Epoch 71/150\n",
      "Epoch 72/150\n",
      "Epoch 73/150\n",
      "Epoch 74/150\n",
      "Epoch 75/150\n",
      "Epoch 76/150\n",
      "Epoch 77/150\n",
      "Epoch 78/150\n",
      "Epoch 79/150\n",
      "Epoch 80/150\n",
      "Epoch 81/150\n",
      "Epoch 82/150\n",
      "Epoch 83/150\n",
      "Epoch 84/150\n",
      "Epoch 85/150\n",
      "Epoch 86/150\n",
      "Epoch 87/150\n",
      "Epoch 88/150\n",
      "Epoch 89/150\n",
      "Epoch 90/150\n",
      "Epoch 91/150\n",
      "Epoch 92/150\n",
      "Epoch 93/150\n",
      "Epoch 94/150\n",
      "Epoch 95/150\n",
      "Epoch 96/150\n",
      "Epoch 97/150\n",
      "Epoch 98/150\n",
      "Epoch 99/150\n",
      "Epoch 100/150\n",
      "Epoch 101/150\n",
      "Epoch 102/150\n",
      "Epoch 103/150\n",
      "Epoch 104/150\n",
      "Epoch 105/150\n",
      "Epoch 106/150\n",
      "Epoch 107/150\n",
      "Epoch 108/150\n",
      "Epoch 109/150\n",
      "Epoch 110/150\n",
      "Epoch 111/150\n",
      "Epoch 112/150\n",
      "Epoch 113/150\n",
      "Epoch 114/150\n",
      "Epoch 115/150\n",
      "Epoch 116/150\n",
      "Epoch 117/150\n",
      "Epoch 118/150\n",
      "Epoch 119/150\n",
      "Epoch 120/150\n",
      "Epoch 121/150\n",
      "Epoch 122/150\n",
      "Epoch 123/150\n",
      "Epoch 124/150\n",
      "Epoch 125/150\n",
      "Epoch 126/150\n",
      "Epoch 127/150\n",
      "Epoch 128/150\n",
      "Epoch 129/150\n",
      "Epoch 130/150\n",
      "Epoch 131/150\n",
      "Epoch 132/150\n",
      "Epoch 133/150\n",
      "Epoch 134/150\n",
      "Epoch 135/150\n",
      "Epoch 136/150\n",
      "Epoch 137/150\n",
      "Epoch 138/150\n",
      "Epoch 139/150\n",
      "Epoch 140/150\n",
      "Epoch 141/150\n",
      "Epoch 142/150\n",
      "Epoch 143/150\n",
      "Epoch 144/150\n",
      "Epoch 145/150\n",
      "Epoch 146/150\n",
      "Epoch 147/150\n",
      "Epoch 148/150\n",
      "Epoch 149/150\n",
      "Epoch 150/150\n",
      "372/372 [==============================] - 1s 2ms/step - loss: 1.2326 - accuracy: 0.6332\n",
      "Accuracy: 0.6332436203956604\n",
      "372/372 [==============================] - 1s 2ms/step\n"
     ]
    }
   ],
   "source": [
    "\n",
    "tf.random.set_seed(42)\n",
    "\n",
    "\n",
    "\n",
    "# Same architecture as before\n",
    "model = keras.Sequential()\n",
    "model.add(layers.Dense(128, activation='relu', input_dim=X_train.shape[1]))\n",
    "model.add(layers.Dropout(0.5))\n",
    "model.add(layers.Dense(64, activation='relu'))\n",
    "model.add(layers.Dropout(0.5))\n",
    "model.add(layers.Dense(32, activation='relu'))\n",
    "model.add(layers.Dropout(0.5))\n",
    "model.add(layers.Dense(len(label_encoder.classes_), activation='softmax'))\n",
    "\n",
    "# Compile\n",
    "model.compile(optimizer='adam',\n",
    "              loss='sparse_categorical_crossentropy',\n",
    "              metrics=['accuracy'])\n",
    "\n",
    "# Train \n",
    "history = model.fit(X_train_smote, y_train_smote, \n",
    "                    epochs=150, \n",
    "                    batch_size=32, \n",
    "                    verbose=3,\n",
    "                    validation_data=(X_val_scaled, y_val))\n",
    "\n",
    "# Evaluate \n",
    "loss, accuracy = model.evaluate(X_test_scaled, y_test)\n",
    "print(\"Accuracy:\", accuracy)\n",
    "\n",
    "# Generate predictions on the test set\n",
    "y_pred = np.argmax(model.predict(X_test_scaled), axis=-1)\n",
    "\n",
    "#classification report\n",
    "class_report = classification_report(y_test, y_pred, output_dict=True)"
   ]
  },
  {
   "cell_type": "code",
   "execution_count": 29,
   "metadata": {
    "colab": {
     "base_uri": "https://localhost:8080/",
     "height": 564
    },
    "id": "sRF00Q3b2h2e",
    "outputId": "1b50217f-0e89-403f-8cbf-2f6c720534ad"
   },
   "outputs": [
    {
     "data": {
      "image/png": "[encoded data removed]",
      "text/plain": [
       "<Figure size 1200x600 with 2 Axes>"
      ]
     },
     "metadata": {},
     "output_type": "display_data"
    }
   ],
   "source": [
    "#plot accuracy and loss\n",
    "fig, ax = plt.subplots(1, 2, figsize=(12, 6))\n",
    "ax[0].plot(history.history['accuracy'])\n",
    "ax[0].plot(history.history['val_accuracy'])\n",
    "ax[0].set_title('Model Accuracy')\n",
    "ax[0].set_xlabel('Epochs')\n",
    "ax[0].set_ylabel('Accuracy')\n",
    "ax[0].legend(['train', 'val'], loc='upper left')\n",
    "\n",
    "ax[1].plot(history.history['loss'])\n",
    "ax[1].plot(history.history['val_loss'])\n",
    "ax[1].set_title('Model Loss')\n",
    "ax[1].set_xlabel('Epochs')\n",
    "ax[1].set_ylabel('Loss')\n",
    "ax[1].legend(['train', 'val'], loc='upper left')\n",
    "\n",
    "plt.show()"
   ]
  },
  {
   "cell_type": "markdown",
   "metadata": {},
   "source": [
    "I chose 120 epochs as the optimal number. I ran the model and saved it to access later."
   ]
  },
  {
   "cell_type": "code",
   "execution_count": 29,
   "metadata": {
    "colab": {
     "base_uri": "https://localhost:8080/"
    },
    "id": "c3OSCAH84oa6",
    "outputId": "c6ef3a72-0ce2-46dc-ca27-387ebc88fbf8"
   },
   "outputs": [
    {
     "name": "stdout",
     "output_type": "stream",
     "text": [
      "Epoch 1/100\n",
      "2244/2244 [==============================] - 15s 6ms/step - loss: 1.6759 - accuracy: 0.4058\n",
      "Epoch 2/100\n",
      "2244/2244 [==============================] - 9s 4ms/step - loss: 1.3570 - accuracy: 0.5445\n",
      "Epoch 3/100\n",
      "2244/2244 [==============================] - 8s 4ms/step - loss: 1.2583 - accuracy: 0.5816\n",
      "Epoch 4/100\n",
      "2244/2244 [==============================] - 8s 4ms/step - loss: 1.1991 - accuracy: 0.6033\n",
      "Epoch 5/100\n",
      "2244/2244 [==============================] - 9s 4ms/step - loss: 1.1573 - accuracy: 0.6220\n",
      "Epoch 6/100\n",
      "2244/2244 [==============================] - 8s 3ms/step - loss: 1.1268 - accuracy: 0.6294\n",
      "Epoch 7/100\n",
      "2244/2244 [==============================] - 9s 4ms/step - loss: 1.0932 - accuracy: 0.6454\n",
      "Epoch 8/100\n",
      "2244/2244 [==============================] - 7s 3ms/step - loss: 1.0753 - accuracy: 0.6540\n",
      "Epoch 9/100\n",
      "2244/2244 [==============================] - 10s 4ms/step - loss: 1.0589 - accuracy: 0.6572\n",
      "Epoch 10/100\n",
      "2244/2244 [==============================] - 7s 3ms/step - loss: 1.0428 - accuracy: 0.6640\n",
      "Epoch 11/100\n",
      "2244/2244 [==============================] - 9s 4ms/step - loss: 1.0334 - accuracy: 0.6667\n",
      "Epoch 12/100\n",
      "2244/2244 [==============================] - 8s 4ms/step - loss: 1.0162 - accuracy: 0.6725\n",
      "Epoch 13/100\n",
      "2244/2244 [==============================] - 8s 4ms/step - loss: 1.0127 - accuracy: 0.6755\n",
      "Epoch 14/100\n",
      "2244/2244 [==============================] - 10s 4ms/step - loss: 1.0035 - accuracy: 0.6784\n",
      "Epoch 15/100\n",
      "2244/2244 [==============================] - 7s 3ms/step - loss: 0.9876 - accuracy: 0.6845\n",
      "Epoch 16/100\n",
      "2244/2244 [==============================] - 9s 4ms/step - loss: 0.9858 - accuracy: 0.6857\n",
      "Epoch 17/100\n",
      "2244/2244 [==============================] - 7s 3ms/step - loss: 0.9804 - accuracy: 0.6886\n",
      "Epoch 18/100\n",
      "2244/2244 [==============================] - 9s 4ms/step - loss: 0.9721 - accuracy: 0.6888\n",
      "Epoch 19/100\n",
      "2244/2244 [==============================] - 8s 3ms/step - loss: 0.9673 - accuracy: 0.6924\n",
      "Epoch 20/100\n",
      "2244/2244 [==============================] - 9s 4ms/step - loss: 0.9591 - accuracy: 0.6956\n",
      "Epoch 21/100\n",
      "2244/2244 [==============================] - 9s 4ms/step - loss: 0.9512 - accuracy: 0.6981\n",
      "Epoch 22/100\n",
      "2244/2244 [==============================] - 7s 3ms/step - loss: 0.9398 - accuracy: 0.7031\n",
      "Epoch 23/100\n",
      "2244/2244 [==============================] - 9s 4ms/step - loss: 0.9519 - accuracy: 0.7005\n",
      "Epoch 24/100\n",
      "2244/2244 [==============================] - 7s 3ms/step - loss: 0.9425 - accuracy: 0.7021\n",
      "Epoch 25/100\n",
      "2244/2244 [==============================] - 9s 4ms/step - loss: 0.9366 - accuracy: 0.7066\n",
      "Epoch 26/100\n",
      "2244/2244 [==============================] - 7s 3ms/step - loss: 0.9317 - accuracy: 0.7091\n",
      "Epoch 27/100\n",
      "2244/2244 [==============================] - 10s 4ms/step - loss: 0.9290 - accuracy: 0.7063\n",
      "Epoch 28/100\n",
      "2244/2244 [==============================] - 13s 6ms/step - loss: 0.9207 - accuracy: 0.7118\n",
      "Epoch 29/100\n",
      "2244/2244 [==============================] - 8s 4ms/step - loss: 0.9149 - accuracy: 0.7123\n",
      "Epoch 30/100\n",
      "2244/2244 [==============================] - 14s 6ms/step - loss: 0.9100 - accuracy: 0.7137\n",
      "Epoch 31/100\n",
      "2244/2244 [==============================] - 13s 6ms/step - loss: 0.9032 - accuracy: 0.7159\n",
      "Epoch 32/100\n",
      "2244/2244 [==============================] - 13s 6ms/step - loss: 0.9089 - accuracy: 0.7148\n",
      "Epoch 33/100\n",
      "2244/2244 [==============================] - 8s 4ms/step - loss: 0.8982 - accuracy: 0.7177\n",
      "Epoch 34/100\n",
      "2244/2244 [==============================] - 9s 4ms/step - loss: 0.8951 - accuracy: 0.7189\n",
      "Epoch 35/100\n",
      "2244/2244 [==============================] - 10s 5ms/step - loss: 0.8922 - accuracy: 0.7200\n",
      "Epoch 36/100\n",
      "2244/2244 [==============================] - 7s 3ms/step - loss: 0.8921 - accuracy: 0.7190\n",
      "Epoch 37/100\n",
      "2244/2244 [==============================] - 9s 4ms/step - loss: 0.8866 - accuracy: 0.7223\n",
      "Epoch 38/100\n",
      "2244/2244 [==============================] - 7s 3ms/step - loss: 0.8806 - accuracy: 0.7263\n",
      "Epoch 39/100\n",
      "2244/2244 [==============================] - 11s 5ms/step - loss: 0.8885 - accuracy: 0.7227\n",
      "Epoch 40/100\n",
      "2244/2244 [==============================] - 9s 4ms/step - loss: 0.8759 - accuracy: 0.7252\n",
      "Epoch 41/100\n",
      "2244/2244 [==============================] - 8s 3ms/step - loss: 0.8735 - accuracy: 0.7269\n",
      "Epoch 42/100\n",
      "2244/2244 [==============================] - 12s 5ms/step - loss: 0.8761 - accuracy: 0.7282\n",
      "Epoch 43/100\n",
      "2244/2244 [==============================] - 10s 5ms/step - loss: 0.8734 - accuracy: 0.7293\n",
      "Epoch 44/100\n",
      "2244/2244 [==============================] - 11s 5ms/step - loss: 0.8719 - accuracy: 0.7274\n",
      "Epoch 45/100\n",
      "2244/2244 [==============================] - 19s 8ms/step - loss: 0.8674 - accuracy: 0.7303\n",
      "Epoch 46/100\n",
      "2244/2244 [==============================] - 9s 4ms/step - loss: 0.8580 - accuracy: 0.7336\n",
      "Epoch 47/100\n",
      "2244/2244 [==============================] - 9s 4ms/step - loss: 0.8623 - accuracy: 0.7321\n",
      "Epoch 48/100\n",
      "2244/2244 [==============================] - 7s 3ms/step - loss: 0.8524 - accuracy: 0.7317\n",
      "Epoch 49/100\n",
      "2244/2244 [==============================] - 9s 4ms/step - loss: 0.8539 - accuracy: 0.7342\n",
      "Epoch 50/100\n",
      "2244/2244 [==============================] - 7s 3ms/step - loss: 0.8543 - accuracy: 0.7319\n",
      "Epoch 51/100\n",
      "2244/2244 [==============================] - 9s 4ms/step - loss: 0.8511 - accuracy: 0.7354\n",
      "Epoch 52/100\n",
      "2244/2244 [==============================] - 8s 4ms/step - loss: 0.8531 - accuracy: 0.7341\n",
      "Epoch 53/100\n",
      "2244/2244 [==============================] - 9s 4ms/step - loss: 0.8496 - accuracy: 0.7354\n",
      "Epoch 54/100\n",
      "2244/2244 [==============================] - 9s 4ms/step - loss: 0.8407 - accuracy: 0.7367\n",
      "Epoch 55/100\n",
      "2244/2244 [==============================] - 8s 4ms/step - loss: 0.8414 - accuracy: 0.7395\n",
      "Epoch 56/100\n",
      "2244/2244 [==============================] - 12s 5ms/step - loss: 0.8419 - accuracy: 0.7386\n",
      "Epoch 57/100\n",
      "2244/2244 [==============================] - 7s 3ms/step - loss: 0.8439 - accuracy: 0.7391\n",
      "Epoch 58/100\n",
      "2244/2244 [==============================] - 9s 4ms/step - loss: 0.8415 - accuracy: 0.7381\n",
      "Epoch 59/100\n",
      "2244/2244 [==============================] - 8s 3ms/step - loss: 0.8364 - accuracy: 0.7381\n",
      "Epoch 60/100\n",
      "2244/2244 [==============================] - 8s 4ms/step - loss: 0.8342 - accuracy: 0.7416\n",
      "Epoch 61/100\n",
      "2244/2244 [==============================] - 8s 4ms/step - loss: 0.8358 - accuracy: 0.7413\n",
      "Epoch 62/100\n",
      "2244/2244 [==============================] - 8s 4ms/step - loss: 0.8321 - accuracy: 0.7406\n",
      "Epoch 63/100\n",
      "2244/2244 [==============================] - 9s 4ms/step - loss: 0.8349 - accuracy: 0.7429\n",
      "Epoch 64/100\n",
      "2244/2244 [==============================] - 7s 3ms/step - loss: 0.8284 - accuracy: 0.7441\n",
      "Epoch 65/100\n",
      "2244/2244 [==============================] - 9s 4ms/step - loss: 0.8244 - accuracy: 0.7454\n",
      "Epoch 66/100\n",
      "2244/2244 [==============================] - 8s 3ms/step - loss: 0.8190 - accuracy: 0.7469\n",
      "Epoch 67/100\n",
      "2244/2244 [==============================] - 9s 4ms/step - loss: 0.8248 - accuracy: 0.7445\n",
      "Epoch 68/100\n",
      "2244/2244 [==============================] - 8s 4ms/step - loss: 0.8213 - accuracy: 0.7457\n",
      "Epoch 69/100\n",
      "2244/2244 [==============================] - 9s 4ms/step - loss: 0.8183 - accuracy: 0.7458\n",
      "Epoch 70/100\n",
      "2244/2244 [==============================] - 9s 4ms/step - loss: 0.8129 - accuracy: 0.7480\n",
      "Epoch 71/100\n",
      "2244/2244 [==============================] - 8s 3ms/step - loss: 0.8240 - accuracy: 0.7455\n",
      "Epoch 72/100\n",
      "2244/2244 [==============================] - 9s 4ms/step - loss: 0.8127 - accuracy: 0.7493\n",
      "Epoch 73/100\n",
      "2244/2244 [==============================] - 8s 4ms/step - loss: 0.8128 - accuracy: 0.7500\n",
      "Epoch 74/100\n",
      "2244/2244 [==============================] - 9s 4ms/step - loss: 0.8065 - accuracy: 0.7489\n",
      "Epoch 75/100\n",
      "2244/2244 [==============================] - 8s 4ms/step - loss: 0.8141 - accuracy: 0.7482\n",
      "Epoch 76/100\n",
      "2244/2244 [==============================] - 8s 4ms/step - loss: 0.8078 - accuracy: 0.7504\n",
      "Epoch 77/100\n",
      "2244/2244 [==============================] - 9s 4ms/step - loss: 0.8023 - accuracy: 0.7523\n",
      "Epoch 78/100\n",
      "2244/2244 [==============================] - 7s 3ms/step - loss: 0.8095 - accuracy: 0.7507\n",
      "Epoch 79/100\n",
      "2244/2244 [==============================] - 9s 4ms/step - loss: 0.8065 - accuracy: 0.7494\n",
      "Epoch 80/100\n",
      "2244/2244 [==============================] - 7s 3ms/step - loss: 0.8031 - accuracy: 0.7520\n",
      "Epoch 81/100\n",
      "2244/2244 [==============================] - 9s 4ms/step - loss: 0.8000 - accuracy: 0.7512\n",
      "Epoch 82/100\n",
      "2244/2244 [==============================] - 8s 4ms/step - loss: 0.8031 - accuracy: 0.7527\n",
      "Epoch 83/100\n",
      "2244/2244 [==============================] - 9s 4ms/step - loss: 0.7923 - accuracy: 0.7561\n",
      "Epoch 84/100\n",
      "2244/2244 [==============================] - 8s 4ms/step - loss: 0.7957 - accuracy: 0.7515\n",
      "Epoch 85/100\n",
      "2244/2244 [==============================] - 8s 4ms/step - loss: 0.7923 - accuracy: 0.7537\n",
      "Epoch 86/100\n",
      "2244/2244 [==============================] - 9s 4ms/step - loss: 0.7973 - accuracy: 0.7542\n",
      "Epoch 87/100\n",
      "2244/2244 [==============================] - 7s 3ms/step - loss: 0.7913 - accuracy: 0.7562\n",
      "Epoch 88/100\n",
      "2244/2244 [==============================] - 9s 4ms/step - loss: 0.7946 - accuracy: 0.7553\n",
      "Epoch 89/100\n",
      "2244/2244 [==============================] - 7s 3ms/step - loss: 0.7865 - accuracy: 0.7573\n",
      "Epoch 90/100\n",
      "2244/2244 [==============================] - 9s 4ms/step - loss: 0.7900 - accuracy: 0.7556\n",
      "Epoch 91/100\n",
      "2244/2244 [==============================] - 8s 4ms/step - loss: 0.7879 - accuracy: 0.7580\n",
      "Epoch 92/100\n",
      "2244/2244 [==============================] - 9s 4ms/step - loss: 0.7898 - accuracy: 0.7568\n",
      "Epoch 93/100\n",
      "2244/2244 [==============================] - 9s 4ms/step - loss: 0.7856 - accuracy: 0.7574\n",
      "Epoch 94/100\n",
      "2244/2244 [==============================] - 8s 3ms/step - loss: 0.7813 - accuracy: 0.7591\n",
      "Epoch 95/100\n",
      "2244/2244 [==============================] - 9s 4ms/step - loss: 0.7851 - accuracy: 0.7591\n",
      "Epoch 96/100\n",
      "2244/2244 [==============================] - 7s 3ms/step - loss: 0.7788 - accuracy: 0.7617\n",
      "Epoch 97/100\n",
      "2244/2244 [==============================] - 9s 4ms/step - loss: 0.7832 - accuracy: 0.7597\n",
      "Epoch 98/100\n",
      "2244/2244 [==============================] - 8s 3ms/step - loss: 0.7845 - accuracy: 0.7596\n",
      "Epoch 99/100\n",
      "2244/2244 [==============================] - 9s 4ms/step - loss: 0.7858 - accuracy: 0.7565\n",
      "Epoch 100/100\n",
      "2244/2244 [==============================] - 8s 4ms/step - loss: 0.7792 - accuracy: 0.7581\n",
      "372/372 [==============================] - 1s 2ms/step - loss: 1.1944 - accuracy: 0.6287\n",
      "Accuracy: 0.6287012100219727\n",
      "372/372 [==============================] - 1s 2ms/step\n"
     ]
    }
   ],
   "source": [
    "\n",
    "\n",
    "#same architecture as before\n",
    "model = keras.Sequential()\n",
    "model.add(layers.Dense(128, activation='relu', input_dim=X_train_subset.shape[1]))\n",
    "model.add(layers.Dropout(0.5))\n",
    "model.add(layers.Dense(64, activation='relu'))\n",
    "model.add(layers.Dropout(0.5))\n",
    "model.add(layers.Dense(32, activation='relu'))\n",
    "model.add(layers.Dropout(0.5))\n",
    "model.add(layers.Dense(len(label_encoder.classes_), activation='softmax'))\n",
    "\n",
    "# Compile \n",
    "model.compile(optimizer='adam',\n",
    "              loss='sparse_categorical_crossentropy',\n",
    "              metrics=['accuracy'])\n",
    "\n",
    "# 120 epochs\n",
    "history = model.fit(X_train_smote, y_train_smote, \n",
    "                    epochs=120, \n",
    "                    batch_size=32, \n",
    "                    )\n",
    "\n",
    "# Evaluate\n",
    "loss, final_smote_nn_accuracy = model.evaluate(X_test_scaled, y_test)\n",
    "print(\"Accuracy:\", final_smote_nn_accuracy)\n",
    "\n",
    "# Generate predictions on the test set\n",
    "y_pred = np.argmax(model.predict(X_test_scaled), axis=-1)\n",
    "\n",
    "#classification report\n",
    "final_smote_nn_class_report = classification_report(y_test, y_pred, output_dict=True)\n",
    "#save model\n",
    "model.save('final_smote_nn_model.h5')"
   ]
  },
  {
   "cell_type": "code",
   "execution_count": 57,
   "metadata": {
    "id": "xeYRDQ8VLj8z"
   },
   "outputs": [],
   "source": [
    "get_class_metrics(final_smote_nn_class_report,'baseline_smote_nn',scores_df)\n"
   ]
  },
  {
   "cell_type": "code",
   "execution_count": 60,
   "metadata": {
    "colab": {
     "base_uri": "https://localhost:8080/"
    },
    "id": "n7gvp7rIO23B",
    "outputId": "8180bd3c-8e50-4831-87d3-eb244746822d"
   },
   "outputs": [
    {
     "name": "stdout",
     "output_type": "stream",
     "text": [
      "Baseline Accuracy:  0.6287012100219727\n"
     ]
    }
   ],
   "source": [
    "accuracy_df.loc['SMOTE Neural Net', 'Optimized Accuracy'] = round(final_smote_nn_accuracy,2)\n",
    "print('Baseline Accuracy: ', final_smote_nn_accuracy)"
   ]
  },
  {
   "cell_type": "code",
   "execution_count": 61,
   "metadata": {
    "colab": {
     "base_uri": "https://localhost:8080/",
     "height": 300
    },
    "id": "4rSDTnHGPUAE",
    "outputId": "e80fe3cd-8d1c-47ea-e608-d5a46b7b9638"
   },
   "outputs": [
    {
     "data": {
      "text/html": [
       "\n",
       "  <div id=\"df-ca50bab4-4d69-4141-99e5-7e4db24cb375\">\n",
       "    <div class=\"colab-df-container\">\n",
       "      <div>\n",
       "<style scoped>\n",
       "    .dataframe tbody tr th:only-of-type {\n",
       "        vertical-align: middle;\n",
       "    }\n",
       "\n",
       "    .dataframe tbody tr th {\n",
       "        vertical-align: top;\n",
       "    }\n",
       "\n",
       "    .dataframe thead th {\n",
       "        text-align: right;\n",
       "    }\n",
       "</style>\n",
       "<table border=\"1\" class=\"dataframe\">\n",
       "  <thead>\n",
       "    <tr style=\"text-align: right;\">\n",
       "      <th></th>\n",
       "      <th>Baseline Accuracy</th>\n",
       "      <th>Optimized Accuracy</th>\n",
       "    </tr>\n",
       "    <tr>\n",
       "      <th>Model</th>\n",
       "      <th></th>\n",
       "      <th></th>\n",
       "    </tr>\n",
       "  </thead>\n",
       "  <tbody>\n",
       "    <tr>\n",
       "      <th>Baseline</th>\n",
       "      <td>0.29</td>\n",
       "      <td>NaN</td>\n",
       "    </tr>\n",
       "    <tr>\n",
       "      <th>Logistic Regression</th>\n",
       "      <td>0.66</td>\n",
       "      <td>0.66</td>\n",
       "    </tr>\n",
       "    <tr>\n",
       "      <th>KNN</th>\n",
       "      <td>0.62</td>\n",
       "      <td>0.63</td>\n",
       "    </tr>\n",
       "    <tr>\n",
       "      <th>Random Forest</th>\n",
       "      <td>0.64</td>\n",
       "      <td>0.64</td>\n",
       "    </tr>\n",
       "    <tr>\n",
       "      <th>Decision Tree</th>\n",
       "      <td>0.47</td>\n",
       "      <td>0.52</td>\n",
       "    </tr>\n",
       "    <tr>\n",
       "      <th>Neural Net</th>\n",
       "      <td>0.65</td>\n",
       "      <td>0.67</td>\n",
       "    </tr>\n",
       "    <tr>\n",
       "      <th>SMOTE Neural Net</th>\n",
       "      <td>0.63</td>\n",
       "      <td>0.63</td>\n",
       "    </tr>\n",
       "  </tbody>\n",
       "</table>\n",
       "</div>\n",
       "      <button class=\"colab-df-convert\" onclick=\"convertToInteractive('df-ca50bab4-4d69-4141-99e5-7e4db24cb375')\"\n",
       "              title=\"Convert this dataframe to an interactive table.\"\n",
       "              style=\"display:none;\">\n",
       "        \n",
       "  <svg xmlns=\"http://www.w3.org/2000/svg\" height=\"24px\"viewBox=\"0 0 24 24\"\n",
       "       width=\"24px\">\n",
       "    <path d=\"M0 0h24v24H0V0z\" fill=\"none\"/>\n",
       "    <path d=\"M18.56 5.44l.94 2.06.94-2.06 2.06-.94-2.06-.94-.94-2.06-.94 2.06-2.06.94zm-11 1L8.5 8.5l.94-2.06 2.06-.94-2.06-.94L8.5 2.5l-.94 2.06-2.06.94zm10 10l.94 2.06.94-2.06 2.06-.94-2.06-.94-.94-2.06-.94 2.06-2.06.94z\"/><path d=\"M17.41 7.96l-1.37-1.37c-.4-.4-.92-.59-1.43-.59-.52 0-1.04.2-1.43.59L10.3 9.45l-7.72 7.72c-.78.78-.78 2.05 0 2.83L4 21.41c.39.39.9.59 1.41.59.51 0 1.02-.2 1.41-.59l7.78-7.78 2.81-2.81c.8-.78.8-2.07 0-2.86zM5.41 20L4 18.59l7.72-7.72 1.47 1.35L5.41 20z\"/>\n",
       "  </svg>\n",
       "      </button>\n",
       "      \n",
       "  <style>\n",
       "    .colab-df-container {\n",
       "      display:flex;\n",
       "      flex-wrap:wrap;\n",
       "      gap: 12px;\n",
       "    }\n",
       "\n",
       "    .colab-df-convert {\n",
       "      background-color: #E8F0FE;\n",
       "      border: none;\n",
       "      border-radius: 50%;\n",
       "      cursor: pointer;\n",
       "      display: none;\n",
       "      fill: #1967D2;\n",
       "      height: 32px;\n",
       "      padding: 0 0 0 0;\n",
       "      width: 32px;\n",
       "    }\n",
       "\n",
       "    .colab-df-convert:hover {\n",
       "      background-color: #E2EBFA;\n",
       "      box-shadow: 0px 1px 2px rgba(60, 64, 67, 0.3), 0px 1px 3px 1px rgba(60, 64, 67, 0.15);\n",
       "      fill: #174EA6;\n",
       "    }\n",
       "\n",
       "    [theme=dark] .colab-df-convert {\n",
       "      background-color: #3B4455;\n",
       "      fill: #D2E3FC;\n",
       "    }\n",
       "\n",
       "    [theme=dark] .colab-df-convert:hover {\n",
       "      background-color: #434B5C;\n",
       "      box-shadow: 0px 1px 3px 1px rgba(0, 0, 0, 0.15);\n",
       "      filter: drop-shadow(0px 1px 2px rgba(0, 0, 0, 0.3));\n",
       "      fill: #FFFFFF;\n",
       "    }\n",
       "  </style>\n",
       "\n",
       "      <script>\n",
       "        const buttonEl =\n",
       "          document.querySelector('#df-ca50bab4-4d69-4141-99e5-7e4db24cb375 button.colab-df-convert');\n",
       "        buttonEl.style.display =\n",
       "          google.colab.kernel.accessAllowed ? 'block' : 'none';\n",
       "\n",
       "        async function convertToInteractive(key) {\n",
       "          const element = document.querySelector('#df-ca50bab4-4d69-4141-99e5-7e4db24cb375');\n",
       "          const dataTable =\n",
       "            await google.colab.kernel.invokeFunction('convertToInteractive',\n",
       "                                                     [key], {});\n",
       "          if (!dataTable) return;\n",
       "\n",
       "          const docLinkHtml = 'Like what you see? Visit the ' +\n",
       "            '<a target=\"_blank\" href=https://colab.research.google.com/notebooks/data_table.ipynb>data table notebook</a>'\n",
       "            + ' to learn more about interactive tables.';\n",
       "          element.innerHTML = '';\n",
       "          dataTable['output_type'] = 'display_data';\n",
       "          await google.colab.output.renderOutput(dataTable, element);\n",
       "          const docLink = document.createElement('div');\n",
       "          docLink.innerHTML = docLinkHtml;\n",
       "          element.appendChild(docLink);\n",
       "        }\n",
       "      </script>\n",
       "    </div>\n",
       "  </div>\n",
       "  "
      ],
      "text/plain": [
       "                     Baseline Accuracy  Optimized Accuracy\n",
       "Model                                                     \n",
       "Baseline                          0.29                 NaN\n",
       "Logistic Regression               0.66                0.66\n",
       "KNN                               0.62                0.63\n",
       "Random Forest                     0.64                0.64\n",
       "Decision Tree                     0.47                0.52\n",
       "Neural Net                        0.65                0.67\n",
       "SMOTE Neural Net                  0.63                0.63"
      ]
     },
     "execution_count": 61,
     "metadata": {},
     "output_type": "execute_result"
    }
   ],
   "source": [
    "accuracy_df"
   ]
  },
  {
   "cell_type": "markdown",
   "metadata": {},
   "source": [
    "Save the final versions of the accuracy and scores dataframes. These are analyzed in notebook 8."
   ]
  },
  {
   "cell_type": "code",
   "execution_count": 63,
   "metadata": {
    "id": "Enn4nQPfznxY"
   },
   "outputs": [],
   "source": [
    "accuracy_df.to_csv('Data/accuracy_df4.csv')"
   ]
  },
  {
   "cell_type": "code",
   "execution_count": 64,
   "metadata": {
    "id": "z1KUkBlizoou"
   },
   "outputs": [],
   "source": [
    "scores_df.to_csv('Data/scores_df4.csv')"
   ]
  }
 ],
 "metadata": {
  "colab": {
   "provenance": []
  },
  "kernelspec": {
   "display_name": "Python 3 (ipykernel)",
   "language": "python",
   "name": "python3"
  },
  "language_info": {
   "codemirror_mode": {
    "name": "ipython",
    "version": 3
   },
   "file_extension": ".py",
   "mimetype": "text/x-python",
   "name": "python",
   "nbconvert_exporter": "python",
   "pygments_lexer": "ipython3",
   "version": "3.9.13"
  }
 },
 "nbformat": 4,
 "nbformat_minor": 1
}
