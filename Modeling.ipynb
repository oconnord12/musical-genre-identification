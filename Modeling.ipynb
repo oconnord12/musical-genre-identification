{
 "cells": [
  {
   "cell_type": "code",
   "execution_count": 1,
   "id": "8143d8ab",
   "metadata": {},
   "outputs": [],
   "source": [
    "import pandas as pd\n",
    "import matplotlib.pyplot as plt\n",
    "import numpy as np"
   ]
  },
  {
   "cell_type": "code",
   "execution_count": 2,
   "id": "c25050b4",
   "metadata": {},
   "outputs": [],
   "source": [
    "model_df_features_new = pd.read_csv('Data/model_df_features_new.csv')"
   ]
  },
  {
   "cell_type": "code",
   "execution_count": 3,
   "id": "dd8717b5",
   "metadata": {},
   "outputs": [],
   "source": [
    "model_df_features_new.drop(columns=['split','subset','top_genre_number','genres_all'], inplace=True)"
   ]
  },
  {
   "cell_type": "code",
   "execution_count": 4,
   "id": "bb34a318",
   "metadata": {},
   "outputs": [],
   "source": [
    "counts = model_df_features_new['genre_top'].value_counts()\n",
    "mask = model_df_features_new['genre_top'].isin(counts[counts >= 1000].index)\n",
    "filtered_df = model_df_features_new[mask]"
   ]
  },
  {
   "cell_type": "code",
   "execution_count": 5,
   "id": "d9b71d12",
   "metadata": {},
   "outputs": [
    {
     "data": {
      "image/png": "[encoded data removed]",
      "text/plain": [
       "<Figure size 640x480 with 1 Axes>"
      ]
     },
     "metadata": {},
     "output_type": "display_data"
    }
   ],
   "source": [
    "import matplotlib.image as mpimg\n",
    "\n",
    "plt.figure()\n",
    "\n",
    "filtered_df['genre_top'].value_counts(normalize=True).plot(kind='barh')\n",
    "plt.xlabel('Percentage')\n",
    "plt.ylabel('Music Genre')\n",
    "plt.title('Distribution of Music Genres in Dataset')\n",
    "\n",
    "\n",
    "\n",
    "plt.savefig('my_plot.png', bbox_inches='tight')\n",
    "\n",
    "plt.show()"
   ]
  },
  {
   "cell_type": "code",
   "execution_count": 6,
   "id": "75924a18",
   "metadata": {},
   "outputs": [
    {
     "data": {
      "text/plain": [
       "Rock             14184\n",
       "Experimental     10608\n",
       "Electronic        9372\n",
       "Hip-Hop           3552\n",
       "Folk              2803\n",
       "Pop               2332\n",
       "Instrumental      2079\n",
       "International     1389\n",
       "Classical         1230\n",
       "Name: genre_top, dtype: int64"
      ]
     },
     "execution_count": 6,
     "metadata": {},
     "output_type": "execute_result"
    }
   ],
   "source": [
    "filtered_df['genre_top'].value_counts()"
   ]
  },
  {
   "cell_type": "markdown",
   "id": "0d2681f5",
   "metadata": {},
   "source": [
    "# Baseline"
   ]
  },
  {
   "cell_type": "code",
   "execution_count": null,
   "id": "7f028005",
   "metadata": {},
   "outputs": [],
   "source": [
    "filtered_df['genre_top'].value_counts(normalize=True)"
   ]
  },
  {
   "cell_type": "code",
   "execution_count": null,
   "id": "d6e7d214",
   "metadata": {},
   "outputs": [],
   "source": [
    "probabilities = (filtered_df['genre_top'].value_counts(normalize=True)).to_dict()\n",
    "probabilities"
   ]
  },
  {
   "cell_type": "code",
   "execution_count": null,
   "id": "9cce904a",
   "metadata": {},
   "outputs": [],
   "source": [
    "import collections\n",
    "import random \n",
    "\n",
    "def baseline(y,randomstate):\n",
    "    genres = list(set(y)) # label encoded genres\n",
    "    probabilities = np.bincount(y)/y.shape[0] #probabilties of each genre\n",
    "    random.seed(randomstate) #random state\n",
    "    y_pred = random.choices(genres, weights=probabilities,k=y.shape[0]) #an array of size y, with the weights being the prob\n",
    "    class_report = classification_report(y_test,y_pred)\n",
    "    return print(class_report)"
   ]
  },
  {
   "cell_type": "code",
   "execution_count": null,
   "id": "470244f6",
   "metadata": {},
   "outputs": [],
   "source": [
    "\n",
    "\n",
    "baseline(y_test,42)"
   ]
  },
  {
   "cell_type": "code",
   "execution_count": null,
   "id": "7c6f910c",
   "metadata": {},
   "outputs": [],
   "source": [
    "genres = list(set(y_encoded))\n",
    "genres "
   ]
  },
  {
   "cell_type": "code",
   "execution_count": null,
   "id": "ff34cc50",
   "metadata": {},
   "outputs": [],
   "source": []
  },
  {
   "cell_type": "code",
   "execution_count": null,
   "id": "a0c96de6",
   "metadata": {},
   "outputs": [],
   "source": [
    "import collections\n",
    "y_encoded\n",
    "collections.Counter(y_encoded)[4]/y.shape[0]\n",
    "\n",
    "\n",
    "unique_numbers = list(set(y_encoded))\n",
    "probabilities = np.bincount(y_encoded)/y_encoded.shape[0]"
   ]
  },
  {
   "cell_type": "code",
   "execution_count": null,
   "id": "ed950303",
   "metadata": {},
   "outputs": [],
   "source": [
    "np.random.multinomial(y_encoded.shape[0], probabilities, size=5)"
   ]
  },
  {
   "cell_type": "code",
   "execution_count": 7,
   "id": "c8c1036c",
   "metadata": {},
   "outputs": [
    {
     "data": {
      "text/plain": [
       "(47549,)"
      ]
     },
     "execution_count": 7,
     "metadata": {},
     "output_type": "execute_result"
    }
   ],
   "source": [
    "X = filtered_df.drop(columns='genre_top')\n",
    "\n",
    "\n",
    "y = filtered_df['genre_top']\n",
    "\n",
    "y.shape"
   ]
  },
  {
   "cell_type": "code",
   "execution_count": 8,
   "id": "49aea003",
   "metadata": {},
   "outputs": [
    {
     "data": {
      "text/plain": [
       "(47549,)"
      ]
     },
     "execution_count": 8,
     "metadata": {},
     "output_type": "execute_result"
    }
   ],
   "source": [
    "from sklearn.preprocessing import LabelEncoder\n",
    "\n",
    "# Create the encoder object\n",
    "label_encoder = LabelEncoder()\n",
    "\n",
    "# Fit the encoder on target\n",
    "label_encoder.fit(y)\n",
    "\n",
    "# Transform the target \n",
    "y_encoded = label_encoder.transform(y)\n",
    "\n",
    "y_encoded.shape"
   ]
  },
  {
   "cell_type": "code",
   "execution_count": 10,
   "id": "ba9264a5",
   "metadata": {},
   "outputs": [
    {
     "data": {
      "text/html": [
       "<div>\n",
       "<style scoped>\n",
       "    .dataframe tbody tr th:only-of-type {\n",
       "        vertical-align: middle;\n",
       "    }\n",
       "\n",
       "    .dataframe tbody tr th {\n",
       "        vertical-align: top;\n",
       "    }\n",
       "\n",
       "    .dataframe thead th {\n",
       "        text-align: right;\n",
       "    }\n",
       "</style>\n",
       "<table border=\"1\" class=\"dataframe\">\n",
       "  <thead>\n",
       "    <tr style=\"text-align: right;\">\n",
       "      <th></th>\n",
       "      <th>class_label</th>\n",
       "    </tr>\n",
       "    <tr>\n",
       "      <th>y_encoded</th>\n",
       "      <th></th>\n",
       "    </tr>\n",
       "  </thead>\n",
       "  <tbody>\n",
       "    <tr>\n",
       "      <th>0</th>\n",
       "      <td>Classical</td>\n",
       "    </tr>\n",
       "    <tr>\n",
       "      <th>1</th>\n",
       "      <td>Electronic</td>\n",
       "    </tr>\n",
       "    <tr>\n",
       "      <th>2</th>\n",
       "      <td>Experimental</td>\n",
       "    </tr>\n",
       "    <tr>\n",
       "      <th>3</th>\n",
       "      <td>Folk</td>\n",
       "    </tr>\n",
       "    <tr>\n",
       "      <th>4</th>\n",
       "      <td>Hip-Hop</td>\n",
       "    </tr>\n",
       "    <tr>\n",
       "      <th>5</th>\n",
       "      <td>Instrumental</td>\n",
       "    </tr>\n",
       "    <tr>\n",
       "      <th>6</th>\n",
       "      <td>International</td>\n",
       "    </tr>\n",
       "    <tr>\n",
       "      <th>7</th>\n",
       "      <td>Pop</td>\n",
       "    </tr>\n",
       "    <tr>\n",
       "      <th>8</th>\n",
       "      <td>Rock</td>\n",
       "    </tr>\n",
       "  </tbody>\n",
       "</table>\n",
       "</div>"
      ],
      "text/plain": [
       "             class_label\n",
       "y_encoded               \n",
       "0              Classical\n",
       "1             Electronic\n",
       "2           Experimental\n",
       "3                   Folk\n",
       "4                Hip-Hop\n",
       "5           Instrumental\n",
       "6          International\n",
       "7                    Pop\n",
       "8                   Rock"
      ]
     },
     "execution_count": 10,
     "metadata": {},
     "output_type": "execute_result"
    }
   ],
   "source": [
    "\n",
    "class_df = pd.DataFrame({'class_label': label_encoder.classes_, 'encoded_value': range(len(label_encoder.classes_))})\n",
    "class_df.set_index('encoded_value', inplace=True)\n",
    "\n",
    "y_encoded_df = pd.DataFrame({'y_encoded': y_encoded})\n",
    "y_encoded_df.drop_duplicates(inplace=True)\n",
    "\n",
    "class_table = y_encoded_df.merge(class_df, how='left', left_on='y_encoded', right_index=True)\n",
    "class_table = class_table.set_index('y_encoded').sort_index(ascending=True)\n",
    "\n",
    "class_table\n"
   ]
  },
  {
   "cell_type": "code",
   "execution_count": 11,
   "id": "9bb1682c",
   "metadata": {},
   "outputs": [],
   "source": [
    "from sklearn.model_selection import train_test_split\n",
    "X_train, X_test, y_train, y_test = train_test_split(X,y_encoded, test_size=0.25, stratify=y_encoded)"
   ]
  },
  {
   "cell_type": "code",
   "execution_count": null,
   "id": "2f62613a",
   "metadata": {},
   "outputs": [],
   "source": [
    "X_train, X_val, y_train, y_val = train_test_split(X_train,y_train, test_size=0.2, stratify=y_train)"
   ]
  },
  {
   "cell_type": "code",
   "execution_count": null,
   "id": "b60d11a3",
   "metadata": {},
   "outputs": [],
   "source": [
    "X_train.shape"
   ]
  },
  {
   "cell_type": "code",
   "execution_count": null,
   "id": "c57dc068",
   "metadata": {},
   "outputs": [],
   "source": [
    "from sklearn.preprocessing import StandardScaler\n",
    "\n",
    "scaler = StandardScaler()\n",
    "\n",
    "scaler.fit(X_train)\n",
    "scaler.transform(X_train)\n",
    "scaler.transform(X_val)\n",
    "scaler.transform(X_test)"
   ]
  },
  {
   "cell_type": "code",
   "execution_count": 12,
   "id": "02852a11",
   "metadata": {},
   "outputs": [
    {
     "name": "stdout",
     "output_type": "stream",
     "text": [
      "Accuracy: 0.6448519515477793\n"
     ]
    }
   ],
   "source": [
    "from sklearn.ensemble import RandomForestClassifier\n",
    "from sklearn.metrics import accuracy_score\n",
    "# Train a random forest classifier\n",
    "rf = RandomForestClassifier(n_estimators=100, random_state=42)\n",
    "rf.fit(X_train, y_train)\n",
    "\n",
    "# Predict on test data\n",
    "y_pred_rf = rf.predict(X_test)\n",
    "\n",
    "# Calculate accuracy\n",
    "accuracy = accuracy_score(y_test, y_pred)\n",
    "print(\"Accuracy:\", accuracy)"
   ]
  },
  {
   "cell_type": "code",
   "execution_count": 23,
   "id": "ac30bf92",
   "metadata": {},
   "outputs": [
    {
     "name": "stdout",
     "output_type": "stream",
     "text": [
      "              precision    recall  f1-score   support\n",
      "\n",
      "           0       0.81      0.71      0.76       308\n",
      "           1       0.60      0.69      0.64      2343\n",
      "           2       0.55      0.74      0.63      2652\n",
      "           3       0.66      0.52      0.58       701\n",
      "           4       0.81      0.47      0.60       888\n",
      "           5       0.64      0.16      0.25       520\n",
      "           6       0.89      0.24      0.38       347\n",
      "           7       0.40      0.01      0.02       583\n",
      "           8       0.72      0.83      0.77      3546\n",
      "\n",
      "    accuracy                           0.64     11888\n",
      "   macro avg       0.68      0.48      0.51     11888\n",
      "weighted avg       0.65      0.64      0.62     11888\n",
      "\n"
     ]
    },
    {
     "data": {
      "image/png": "[encoded data removed]",
      "text/plain": [
       "<Figure size 1000x1000 with 2 Axes>"
      ]
     },
     "metadata": {},
     "output_type": "display_data"
    }
   ],
   "source": [
    "from sklearn.metrics import classification_report, confusion_matrix ,ConfusionMatrixDisplay\n",
    "\n",
    "class_report = classification_report(y_test,y_pred)\n",
    "cm = confusion_matrix(y_test,y_pred)\n",
    "print(class_report)\n",
    "cm_display = ConfusionMatrixDisplay(confusion_matrix=cm, display_labels=class_table['class_label'])\n",
    "\n",
    "# plot the confusion matrix\n",
    "fig, ax = plt.subplots(figsize=(10, 10))\n",
    "cm_display.plot(ax=ax)\n",
    "plt.xticks(rotation=45)\n",
    "\n",
    "# show the plot\n",
    "plt.show()"
   ]
  },
  {
   "cell_type": "code",
   "execution_count": null,
   "id": "af04e788",
   "metadata": {},
   "outputs": [],
   "source": [
    "from sklearn.pipeline import Pipeline\n",
    "from sklearn.model_selection import GridSearchCV, KFold\n",
    "from sklearn.preprocessing import MinMaxScaler, StandardScaler\n",
    "from sklearn.ensemble import RandomForestClassifier\n",
    "\n",
    "# pipeline\n",
    "pipeline = Pipeline([\n",
    "    ('scaling', None),  \n",
    "    ('model', RandomForestClassifier())  \n",
    "])\n",
    "\n",
    "# parameter grid \n",
    "param_grid = {\n",
    "    'scaling': [None],\n",
    "    'model__n_estimators': [100, 200, 500],\n",
    "    'model__max_depth': [None, 5, 10]\n",
    "}\n",
    "\n",
    "#cross-val\n",
    "cv = KFold(n_splits=3, shuffle=True, random_state=42)\n",
    "\n",
    "#Grid Search\n",
    "grid_search = GridSearchCV(pipeline, param_grid, cv=cv, n_jobs=-1, verbose=3)\n",
    "\n",
    "# Fit the GridSearchCV object on your training data\n",
    "grid_search.fit(X_train, y_train)\n",
    "\n",
    "# \n",
    "best_model_rf = grid_search.best_estimator_\n",
    "y_pred_rf = best_model.predict(X_test)\n",
    "score_rf = best_model.score(X_test, y_test)\n"
   ]
  },
  {
   "cell_type": "code",
   "execution_count": null,
   "id": "69cfcc10",
   "metadata": {},
   "outputs": [],
   "source": [
    "print(best_model_rf)\n",
    "print(score_rf)"
   ]
  },
  {
   "cell_type": "code",
   "execution_count": null,
   "id": "6b975f6c",
   "metadata": {},
   "outputs": [],
   "source": [
    "from sklearn.linear_model import LogisticRegression\n",
    "\n",
    "# Train a logistic regression classifier\n",
    "lr = LogisticRegression(random_state=42)\n",
    "lr.fit(X_train, y_train)\n",
    "\n",
    "# Predict on test data\n",
    "y_pred = lr.predict(X_test)\n",
    "\n",
    "# Calculate accuracy\n",
    "accuracy = accuracy_score(y_test, y_pred)\n",
    "print(\"Accuracy:\", accuracy)\n"
   ]
  },
  {
   "cell_type": "code",
   "execution_count": null,
   "id": "35bb9c94",
   "metadata": {},
   "outputs": [],
   "source": [
    "class_report = classification_report(y_test,y_pred)\n",
    "print(class_report)"
   ]
  },
  {
   "cell_type": "code",
   "execution_count": null,
   "id": "38c259f9",
   "metadata": {},
   "outputs": [],
   "source": [
    "pipeline = Pipeline([\n",
    "    ('scaling', None),\n",
    "    ('model', LogisticRegression())\n",
    "])\n",
    "\n",
    "# Define the parameter grid to search over\n",
    "param_grid = {\n",
    "    'scaling': [MinMaxScaler(), StandardScaler()],\n",
    "    'model__C': [0.001,0.01, 0.1, 1, 10,100],\n",
    "    'model__penalty': ['l1', 'l2'],\n",
    "    'model__solver': ['newton-cg', 'lbfgs', 'liblinear', 'sag', 'saga']\n",
    "}\n",
    "\n",
    "# Define the cross-validation strategy\n",
    "cv = KFold(n_splits=3, shuffle=True, random_state=42)\n",
    "\n",
    "# Define the GridSearchCV object\n",
    "grid_search = GridSearchCV(pipeline, param_grid, cv=cv, n_jobs=-1, verbose=3)\n",
    "\n",
    "# Fit the GridSearchCV object on your training data\n",
    "grid_search.fit(X_train, y_train)\n",
    "\n",
    "# Evaluate the best model on your test data\n",
    "best_model = grid_search.best_estimator_\n",
    "y_pred = best_model.predict(X_test)\n",
    "score = best_model.score(X_test, y_test)"
   ]
  },
  {
   "cell_type": "code",
   "execution_count": null,
   "id": "e839ab2d",
   "metadata": {},
   "outputs": [],
   "source": [
    "print(best_model)\n",
    "print(score)"
   ]
  },
  {
   "cell_type": "code",
   "execution_count": null,
   "id": "631d07f8",
   "metadata": {},
   "outputs": [],
   "source": [
    "scaler = StandardScaler()\n",
    "scaler.fit_transform(X_train)\n",
    "scaler.transform(X_test)\n",
    "\n",
    "lr = LogisticRegression()"
   ]
  },
  {
   "cell_type": "code",
   "execution_count": null,
   "id": "dee51983",
   "metadata": {},
   "outputs": [],
   "source": [
    "from sklearn.neighbors import KNeighborsClassifier\n",
    "\n",
    "knn = KNeighborsClassifier()\n",
    "knn.fit(X_train,y_train)\n",
    "\n",
    "y_pred = knn.predict(X_test)\n",
    "accuracy = accuracy_score(y_test, y_pred)\n",
    "print(\"Accuracy:\", accuracy)\n",
    "class_report = classification_report(y_test,y_pred)\n",
    "print(class_report)"
   ]
  },
  {
   "cell_type": "code",
   "execution_count": null,
   "id": "a118c996",
   "metadata": {},
   "outputs": [],
   "source": [
    "from sklearn.svm import S"
   ]
  },
  {
   "cell_type": "code",
   "execution_count": null,
   "id": "a7bc1c0b",
   "metadata": {},
   "outputs": [],
   "source": []
  },
  {
   "cell_type": "code",
   "execution_count": null,
   "id": "82696bec",
   "metadata": {},
   "outputs": [],
   "source": []
  },
  {
   "cell_type": "code",
   "execution_count": null,
   "id": "bf043d97",
   "metadata": {},
   "outputs": [],
   "source": []
  },
  {
   "cell_type": "code",
   "execution_count": null,
   "id": "05bbd5ac",
   "metadata": {},
   "outputs": [],
   "source": []
  },
  {
   "cell_type": "code",
   "execution_count": null,
   "id": "c3cc406e",
   "metadata": {},
   "outputs": [],
   "source": []
  },
  {
   "cell_type": "code",
   "execution_count": null,
   "id": "a99030ee",
   "metadata": {
    "scrolled": true
   },
   "outputs": [],
   "source": [
    "import tensorflow as tf\n",
    "from tensorflow import keras\n",
    "from tensorflow.keras import layers\n",
    "\n",
    "# Define the model\n",
    "model = keras.Sequential()\n",
    "model.add(layers.Dense(256, activation='relu', input_dim=X_train.shape[1]))\n",
    "model.add(layers.Dense(128, activation='relu'))\n",
    "model.add(layers.Dense(64, activation='relu'))\n",
    "model.add(layers.Dense(32, activation='relu'))\n",
    "model.add(layers.Dense(len(label_encoder.classes_), activation='softmax'))\n",
    "\n",
    "# Compile the model\n",
    "model.compile(optimizer='adam',\n",
    "              loss='sparse_categorical_crossentropy',\n",
    "              metrics=['accuracy'])\n",
    "\n",
    "# Train the model\n",
    "model.fit(X_train, y_train, epochs=100, batch_size=32, verbose=2)\n",
    "\n",
    "# Evaluate the model\n",
    "loss, accuracy = model.evaluate(X_test, y_test)\n",
    "print(\"Accuracy:\", accuracy)"
   ]
  },
  {
   "cell_type": "code",
   "execution_count": null,
   "id": "93600c3a",
   "metadata": {},
   "outputs": [],
   "source": [
    "# Generate predictions for the test set\n",
    "y_pred = model.predict(X_test)\n",
    "\n",
    "# Convert predictions from probabilities to class labels\n",
    "y_pred_classes = y_pred.argmax(axis=-1)\n",
    "\n",
    "# Generate a classification report\n",
    "report = classification_report(y_test, y_pred_classes)\n",
    "\n",
    "# Print the classification report\n",
    "print(report)"
   ]
  },
  {
   "cell_type": "code",
   "execution_count": null,
   "id": "955fb35b",
   "metadata": {},
   "outputs": [],
   "source": []
  },
  {
   "cell_type": "code",
   "execution_count": null,
   "id": "f5a7fc47",
   "metadata": {},
   "outputs": [],
   "source": []
  },
  {
   "cell_type": "code",
   "execution_count": null,
   "id": "246331e8",
   "metadata": {},
   "outputs": [],
   "source": []
  },
  {
   "cell_type": "code",
   "execution_count": null,
   "id": "83715247",
   "metadata": {},
   "outputs": [],
   "source": []
  },
  {
   "cell_type": "code",
   "execution_count": null,
   "id": "1738ac3e",
   "metadata": {},
   "outputs": [],
   "source": []
  },
  {
   "cell_type": "code",
   "execution_count": null,
   "id": "06b12d03",
   "metadata": {},
   "outputs": [],
   "source": []
  }
 ],
 "metadata": {
  "kernelspec": {
   "display_name": "deeplearning",
   "language": "python",
   "name": "deeplearning"
  },
  "language_info": {
   "codemirror_mode": {
    "name": "ipython",
    "version": 3
   },
   "file_extension": ".py",
   "mimetype": "text/x-python",
   "name": "python",
   "nbconvert_exporter": "python",
   "pygments_lexer": "ipython3",
   "version": "3.8.16"
  }
 },
 "nbformat": 4,
 "nbformat_minor": 5
}
