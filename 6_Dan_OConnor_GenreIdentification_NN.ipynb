{
 "cells": [
  {
   "cell_type": "markdown",
   "metadata": {},
   "source": [
    "# Modeling 3: Neural Network\n",
    "\n",
    "- **Author**: Dan O'Connor\n",
    "- **Notebook**: 6 of 9"
   ]
  },
  {
   "cell_type": "markdown",
   "metadata": {},
   "source": [
    "In this notebook I run a baseline neural network (NN) and then try to optimize it. I recognize there are more steps to be taken in NN optimization than done here that involve more trial and error but this will be a good starting point. "
   ]
  },
  {
   "cell_type": "markdown",
   "metadata": {},
   "source": [
    "Import required libraries."
   ]
  },
  {
   "cell_type": "code",
   "execution_count": 1,
   "metadata": {
    "id": "yU-VsNAARTxy"
   },
   "outputs": [],
   "source": [
    "import pandas as pd\n",
    "import matplotlib.pyplot as plt\n",
    "import numpy as np\n",
    "from google.colab import drive #colab"
   ]
  },
  {
   "cell_type": "code",
   "execution_count": 2,
   "metadata": {
    "colab": {
     "base_uri": "https://localhost:8080/"
    },
    "id": "gCnKNBUoRWyv",
    "outputId": "995d4a37-2eb9-4ac7-d8e9-790996d693bc"
   },
   "outputs": [
    {
     "name": "stdout",
     "output_type": "stream",
     "text": [
      "Mounted at /content/gdrive\n"
     ]
    }
   ],
   "source": [
    "drive.mount('/content/gdrive', force_remount=True)"
   ]
  },
  {
   "cell_type": "code",
   "execution_count": 3,
   "metadata": {
    "colab": {
     "base_uri": "https://localhost:8080/"
    },
    "id": "M7LKFSBNRW58",
    "outputId": "f7c3b0d5-f0b8-4160-c506-71ae71d2e1a0"
   },
   "outputs": [
    {
     "name": "stdout",
     "output_type": "stream",
     "text": [
      "/content/gdrive/My Drive/Colab Notebooks\n"
     ]
    }
   ],
   "source": [
    "cd '/content/gdrive/My Drive/Colab Notebooks'"
   ]
  },
  {
   "cell_type": "markdown",
   "metadata": {},
   "source": [
    "Load in previous dataframes."
   ]
  },
  {
   "cell_type": "code",
   "execution_count": 4,
   "metadata": {
    "id": "O1oR_LQuRW8o"
   },
   "outputs": [],
   "source": [
    "subset_model_df = pd.read_csv('Data/subset_model_df.csv')"
   ]
  },
  {
   "cell_type": "code",
   "execution_count": 30,
   "metadata": {
    "id": "fyw_dOrTRW-7"
   },
   "outputs": [],
   "source": [
    "accuracy_df = pd.read_csv('Data/accuracy_df2.csv', index_col='Model')"
   ]
  },
  {
   "cell_type": "code",
   "execution_count": 31,
   "metadata": {
    "id": "l5nD_uM7RXBE"
   },
   "outputs": [],
   "source": [
    "scores_df = pd.read_csv('Data/scores_df2.csv', index_col = 'Genres')"
   ]
  },
  {
   "cell_type": "code",
   "execution_count": 32,
   "metadata": {
    "colab": {
     "base_uri": "https://localhost:8080/",
     "height": 300
    },
    "id": "PDyWRssOo3LW",
    "outputId": "4c334c0c-15bf-427f-cbb4-9ea9079da613"
   },
   "outputs": [
    {
     "data": {
      "text/html": [
       "\n",
       "  <div id=\"df-e1408f8d-f34f-448b-8a54-1906f6011a11\">\n",
       "    <div class=\"colab-df-container\">\n",
       "      <div>\n",
       "<style scoped>\n",
       "    .dataframe tbody tr th:only-of-type {\n",
       "        vertical-align: middle;\n",
       "    }\n",
       "\n",
       "    .dataframe tbody tr th {\n",
       "        vertical-align: top;\n",
       "    }\n",
       "\n",
       "    .dataframe thead th {\n",
       "        text-align: right;\n",
       "    }\n",
       "</style>\n",
       "<table border=\"1\" class=\"dataframe\">\n",
       "  <thead>\n",
       "    <tr style=\"text-align: right;\">\n",
       "      <th></th>\n",
       "      <th>Baseline Accuracy</th>\n",
       "      <th>Optimized Accuracy</th>\n",
       "    </tr>\n",
       "    <tr>\n",
       "      <th>Model</th>\n",
       "      <th></th>\n",
       "      <th></th>\n",
       "    </tr>\n",
       "  </thead>\n",
       "  <tbody>\n",
       "    <tr>\n",
       "      <th>Baseline</th>\n",
       "      <td>0.29</td>\n",
       "      <td>NaN</td>\n",
       "    </tr>\n",
       "    <tr>\n",
       "      <th>Logistic Regression</th>\n",
       "      <td>0.66</td>\n",
       "      <td>0.66</td>\n",
       "    </tr>\n",
       "    <tr>\n",
       "      <th>KNN</th>\n",
       "      <td>0.62</td>\n",
       "      <td>0.63</td>\n",
       "    </tr>\n",
       "    <tr>\n",
       "      <th>Random Forest</th>\n",
       "      <td>0.64</td>\n",
       "      <td>0.64</td>\n",
       "    </tr>\n",
       "    <tr>\n",
       "      <th>Decision Tree</th>\n",
       "      <td>0.47</td>\n",
       "      <td>0.52</td>\n",
       "    </tr>\n",
       "    <tr>\n",
       "      <th>Neural Net</th>\n",
       "      <td>NaN</td>\n",
       "      <td>NaN</td>\n",
       "    </tr>\n",
       "    <tr>\n",
       "      <th>SMOTE Neural Net</th>\n",
       "      <td>NaN</td>\n",
       "      <td>NaN</td>\n",
       "    </tr>\n",
       "  </tbody>\n",
       "</table>\n",
       "</div>\n",
       "      <button class=\"colab-df-convert\" onclick=\"convertToInteractive('df-e1408f8d-f34f-448b-8a54-1906f6011a11')\"\n",
       "              title=\"Convert this dataframe to an interactive table.\"\n",
       "              style=\"display:none;\">\n",
       "        \n",
       "  <svg xmlns=\"http://www.w3.org/2000/svg\" height=\"24px\"viewBox=\"0 0 24 24\"\n",
       "       width=\"24px\">\n",
       "    <path d=\"M0 0h24v24H0V0z\" fill=\"none\"/>\n",
       "    <path d=\"M18.56 5.44l.94 2.06.94-2.06 2.06-.94-2.06-.94-.94-2.06-.94 2.06-2.06.94zm-11 1L8.5 8.5l.94-2.06 2.06-.94-2.06-.94L8.5 2.5l-.94 2.06-2.06.94zm10 10l.94 2.06.94-2.06 2.06-.94-2.06-.94-.94-2.06-.94 2.06-2.06.94z\"/><path d=\"M17.41 7.96l-1.37-1.37c-.4-.4-.92-.59-1.43-.59-.52 0-1.04.2-1.43.59L10.3 9.45l-7.72 7.72c-.78.78-.78 2.05 0 2.83L4 21.41c.39.39.9.59 1.41.59.51 0 1.02-.2 1.41-.59l7.78-7.78 2.81-2.81c.8-.78.8-2.07 0-2.86zM5.41 20L4 18.59l7.72-7.72 1.47 1.35L5.41 20z\"/>\n",
       "  </svg>\n",
       "      </button>\n",
       "      \n",
       "  <style>\n",
       "    .colab-df-container {\n",
       "      display:flex;\n",
       "      flex-wrap:wrap;\n",
       "      gap: 12px;\n",
       "    }\n",
       "\n",
       "    .colab-df-convert {\n",
       "      background-color: #E8F0FE;\n",
       "      border: none;\n",
       "      border-radius: 50%;\n",
       "      cursor: pointer;\n",
       "      display: none;\n",
       "      fill: #1967D2;\n",
       "      height: 32px;\n",
       "      padding: 0 0 0 0;\n",
       "      width: 32px;\n",
       "    }\n",
       "\n",
       "    .colab-df-convert:hover {\n",
       "      background-color: #E2EBFA;\n",
       "      box-shadow: 0px 1px 2px rgba(60, 64, 67, 0.3), 0px 1px 3px 1px rgba(60, 64, 67, 0.15);\n",
       "      fill: #174EA6;\n",
       "    }\n",
       "\n",
       "    [theme=dark] .colab-df-convert {\n",
       "      background-color: #3B4455;\n",
       "      fill: #D2E3FC;\n",
       "    }\n",
       "\n",
       "    [theme=dark] .colab-df-convert:hover {\n",
       "      background-color: #434B5C;\n",
       "      box-shadow: 0px 1px 3px 1px rgba(0, 0, 0, 0.15);\n",
       "      filter: drop-shadow(0px 1px 2px rgba(0, 0, 0, 0.3));\n",
       "      fill: #FFFFFF;\n",
       "    }\n",
       "  </style>\n",
       "\n",
       "      <script>\n",
       "        const buttonEl =\n",
       "          document.querySelector('#df-e1408f8d-f34f-448b-8a54-1906f6011a11 button.colab-df-convert');\n",
       "        buttonEl.style.display =\n",
       "          google.colab.kernel.accessAllowed ? 'block' : 'none';\n",
       "\n",
       "        async function convertToInteractive(key) {\n",
       "          const element = document.querySelector('#df-e1408f8d-f34f-448b-8a54-1906f6011a11');\n",
       "          const dataTable =\n",
       "            await google.colab.kernel.invokeFunction('convertToInteractive',\n",
       "                                                     [key], {});\n",
       "          if (!dataTable) return;\n",
       "\n",
       "          const docLinkHtml = 'Like what you see? Visit the ' +\n",
       "            '<a target=\"_blank\" href=https://colab.research.google.com/notebooks/data_table.ipynb>data table notebook</a>'\n",
       "            + ' to learn more about interactive tables.';\n",
       "          element.innerHTML = '';\n",
       "          dataTable['output_type'] = 'display_data';\n",
       "          await google.colab.output.renderOutput(dataTable, element);\n",
       "          const docLink = document.createElement('div');\n",
       "          docLink.innerHTML = docLinkHtml;\n",
       "          element.appendChild(docLink);\n",
       "        }\n",
       "      </script>\n",
       "    </div>\n",
       "  </div>\n",
       "  "
      ],
      "text/plain": [
       "                     Baseline Accuracy  Optimized Accuracy\n",
       "Model                                                     \n",
       "Baseline                          0.29                 NaN\n",
       "Logistic Regression               0.66                0.66\n",
       "KNN                               0.62                0.63\n",
       "Random Forest                     0.64                0.64\n",
       "Decision Tree                     0.47                0.52\n",
       "Neural Net                         NaN                 NaN\n",
       "SMOTE Neural Net                   NaN                 NaN"
      ]
     },
     "execution_count": 32,
     "metadata": {},
     "output_type": "execute_result"
    }
   ],
   "source": [
    "accuracy_df"
   ]
  },
  {
   "cell_type": "markdown",
   "metadata": {},
   "source": [
    "Label encode indep. variable then split the data and scale first on the train only before fitting to the test."
   ]
  },
  {
   "cell_type": "code",
   "execution_count": 5,
   "metadata": {
    "id": "w-JmY_Z3RXDQ"
   },
   "outputs": [],
   "source": [
    "X = subset_model_df.drop(columns='genre_top')\n",
    "y = subset_model_df['genre_top']"
   ]
  },
  {
   "cell_type": "code",
   "execution_count": 6,
   "metadata": {
    "id": "KR0spu0DRXFL"
   },
   "outputs": [],
   "source": [
    "from sklearn.preprocessing import LabelEncoder\n",
    "\n",
    "# Encoder object\n",
    "label_encoder = LabelEncoder()\n",
    "\n",
    "# Fit the encoder on y\n",
    "label_encoder.fit(y)\n",
    "\n",
    "# Transform\n",
    "y_encoded = label_encoder.transform(y)"
   ]
  },
  {
   "cell_type": "markdown",
   "metadata": {},
   "source": [
    "Using the same processes as previous notebooks, including random states so the models can be compared fairly to each other."
   ]
  },
  {
   "cell_type": "code",
   "execution_count": 48,
   "metadata": {
    "id": "ys1d0EU9RXHG"
   },
   "outputs": [],
   "source": [
    "from sklearn.model_selection import train_test_split\n",
    "#split into train and test\n",
    "X_train, X_test, y_train, y_test = train_test_split(X,y_encoded, test_size=0.25, stratify=y_encoded,random_state=1) "
   ]
  },
  {
   "cell_type": "code",
   "execution_count": 8,
   "metadata": {
    "id": "wr1s0hDvRXJF"
   },
   "outputs": [],
   "source": [
    "from my_functions import get_class_metrics # import function"
   ]
  },
  {
   "cell_type": "code",
   "execution_count": 49,
   "metadata": {
    "id": "ZMpt0oE8RXK_"
   },
   "outputs": [],
   "source": [
    "from sklearn.preprocessing import StandardScaler, MinMaxScaler\n",
    "scaler = StandardScaler() #instaniate scaler\n",
    "X_train_scaled = scaler.fit_transform(X_train) #fit and transform to x train\n",
    "X_test_scaled = scaler.transform(X_test) #transform x test"
   ]
  },
  {
   "cell_type": "markdown",
   "metadata": {
    "id": "yp4hIYAQRkwC"
   },
   "source": [
    "## Neural Network"
   ]
  },
  {
   "cell_type": "markdown",
   "metadata": {},
   "source": [
    "### Baseline"
   ]
  },
  {
   "cell_type": "markdown",
   "metadata": {},
   "source": [
    "For my baseline NN, I included only one hidden layer before the output layer. I intended for a simple model trained only on 50 epochs. I used softmax as the activation layer on the final layer because it converts the output of the model into probabilities for each class (note how the number of neurons on my final layer is the number of different classes). I used the 'adam' optimizer with the loss function being sparse categorical crossentropy, which commonly used in multi-class classification. The metric I am measuring is accuracy."
   ]
  },
  {
   "cell_type": "code",
   "execution_count": 50,
   "metadata": {
    "colab": {
     "base_uri": "https://localhost:8080/"
    },
    "id": "mUIswLAyRXND",
    "outputId": "2307c1a2-36c3-4de4-d512-2d849b0661a2"
   },
   "outputs": [
    {
     "name": "stdout",
     "output_type": "stream",
     "text": [
      "Epoch 1/50\n",
      "Epoch 2/50\n",
      "Epoch 3/50\n",
      "Epoch 4/50\n",
      "Epoch 5/50\n",
      "Epoch 6/50\n",
      "Epoch 7/50\n",
      "Epoch 8/50\n",
      "Epoch 9/50\n",
      "Epoch 10/50\n",
      "Epoch 11/50\n",
      "Epoch 12/50\n",
      "Epoch 13/50\n",
      "Epoch 14/50\n",
      "Epoch 15/50\n",
      "Epoch 16/50\n",
      "Epoch 17/50\n",
      "Epoch 18/50\n",
      "Epoch 19/50\n",
      "Epoch 20/50\n",
      "Epoch 21/50\n",
      "Epoch 22/50\n",
      "Epoch 23/50\n",
      "Epoch 24/50\n",
      "Epoch 25/50\n",
      "Epoch 26/50\n",
      "Epoch 27/50\n",
      "Epoch 28/50\n",
      "Epoch 29/50\n",
      "Epoch 30/50\n",
      "Epoch 31/50\n",
      "Epoch 32/50\n",
      "Epoch 33/50\n",
      "Epoch 34/50\n",
      "Epoch 35/50\n",
      "Epoch 36/50\n",
      "Epoch 37/50\n",
      "Epoch 38/50\n",
      "Epoch 39/50\n",
      "Epoch 40/50\n",
      "Epoch 41/50\n",
      "Epoch 42/50\n",
      "Epoch 43/50\n",
      "Epoch 44/50\n",
      "Epoch 45/50\n",
      "Epoch 46/50\n",
      "Epoch 47/50\n",
      "Epoch 48/50\n",
      "Epoch 49/50\n",
      "Epoch 50/50\n",
      "372/372 [==============================] - 1s 2ms/step - loss: 1.3883 - accuracy: 0.6484\n",
      "Accuracy: 0.6483849287033081\n",
      "372/372 [==============================] - 1s 1ms/step\n"
     ]
    }
   ],
   "source": [
    "import tensorflow as tf\n",
    "from tensorflow import keras\n",
    "from tensorflow.keras import layers\n",
    "from sklearn.metrics import classification_report\n",
    "\n",
    "tf.random.set_seed(42) #random seed \n",
    " \n",
    "# Define the model\n",
    "model = keras.Sequential() #sequential model\n",
    "model.add(layers.Dense(64, activation='relu', input_dim=X_train.shape[1])) #input dim same size as num of cols\n",
    "model.add(layers.Dense(len(label_encoder.classes_), activation='softmax')) #softmax for proba/classs\n",
    "\n",
    "# Compile \n",
    "model.compile(optimizer='adam', \n",
    "              loss='sparse_categorical_crossentropy', \n",
    "              metrics=['accuracy'])\n",
    "\n",
    "# Train the model\n",
    "model.fit(X_train_scaled, y_train, epochs=50, batch_size=32, verbose=3) #fit to trained and scaled data\n",
    "\n",
    "# Evaluate\n",
    "loss, baseline_nn_accuracy = model.evaluate(X_test_scaled, y_test)\n",
    "print(\"Accuracy:\", baseline_nn_accuracy)\n",
    "#predictions\n",
    "y_pred = np.argmax(model.predict(X_test_scaled), axis=-1)\n",
    "\n",
    "#classification report\n",
    "baseline_nn_class_report = classification_report(y_test, y_pred, output_dict=True)"
   ]
  },
  {
   "cell_type": "markdown",
   "metadata": {},
   "source": [
    "Add the results to their respective dataframes."
   ]
  },
  {
   "cell_type": "code",
   "execution_count": 33,
   "metadata": {
    "colab": {
     "base_uri": "https://localhost:8080/"
    },
    "id": "jNufbqHDM3sv",
    "outputId": "1ee03822-ba3e-48c7-bb90-6d856525d5e7"
   },
   "outputs": [
    {
     "name": "stdout",
     "output_type": "stream",
     "text": [
      "Baseline Accuracy:  0.6451884508132935\n"
     ]
    }
   ],
   "source": [
    "accuracy_df.loc['Neural Net', 'Baseline Accuracy'] = round(baseline_nn_accuracy,2)\n",
    "print('Baseline Accuracy: ', baseline_nn_accuracy)"
   ]
  },
  {
   "cell_type": "code",
   "execution_count": 34,
   "metadata": {
    "id": "IFK8V2r6NDmV"
   },
   "outputs": [],
   "source": [
    "get_class_metrics(baseline_nn_class_report, 'baseline_nn',scores_df)"
   ]
  },
  {
   "cell_type": "markdown",
   "metadata": {},
   "source": [
    "### Optimized"
   ]
  },
  {
   "cell_type": "markdown",
   "metadata": {},
   "source": [
    "Using a grid search to optimize a NN is not straight forward, so my approach was to tune hyperparameters using a validation set. To double check and ensure no data leakage happened, I redefined my variables below and went through the process of splitting to train, test, and validation sets. Then I fit the standard scaler to my training set, then transformed the validation and test sets."
   ]
  },
  {
   "cell_type": "code",
   "execution_count": 11,
   "metadata": {
    "id": "8c5TQSMBrVlA"
   },
   "outputs": [],
   "source": [
    "X = subset_model_df.drop(columns='genre_top')\n",
    "y = subset_model_df['genre_top']"
   ]
  },
  {
   "cell_type": "code",
   "execution_count": 12,
   "metadata": {
    "colab": {
     "base_uri": "https://localhost:8080/"
    },
    "id": "JZKUOidhrqgR",
    "outputId": "4987c3f2-436d-43c3-b6a9-af13efcfc459"
   },
   "outputs": [
    {
     "data": {
      "text/plain": [
       "((47549, 350), (47549,))"
      ]
     },
     "execution_count": 12,
     "metadata": {},
     "output_type": "execute_result"
    }
   ],
   "source": [
    "X.shape, y_encoded.shape #confirming"
   ]
  },
  {
   "cell_type": "code",
   "execution_count": 40,
   "metadata": {
    "id": "BnOhz5n_cPHm"
   },
   "outputs": [],
   "source": [
    "from sklearn.model_selection import train_test_split\n",
    "#split data with same random spliit\n",
    "X_train, X_test, y_train, y_test = train_test_split(X,y_encoded, test_size=0.25, stratify=y_encoded,random_state=1)\n"
   ]
  },
  {
   "cell_type": "code",
   "execution_count": 41,
   "metadata": {
    "colab": {
     "base_uri": "https://localhost:8080/"
    },
    "id": "d9W32V9nryEy",
    "outputId": "b5cdd1d6-3554-4c8a-c969-2faf125faab4"
   },
   "outputs": [
    {
     "data": {
      "text/plain": [
       "((35661, 350), (35661,))"
      ]
     },
     "execution_count": 41,
     "metadata": {},
     "output_type": "execute_result"
    }
   ],
   "source": [
    "X_train.shape, y_train.shape #confirming"
   ]
  },
  {
   "cell_type": "code",
   "execution_count": 42,
   "metadata": {
    "id": "gXygbrMhrvfy"
   },
   "outputs": [],
   "source": [
    "#split once again to attain val sets\n",
    "X_train_subset, X_val, y_train_subset, y_val = train_test_split(X_train,y_train, test_size=0.25, stratify=y_train,random_state=1)"
   ]
  },
  {
   "cell_type": "code",
   "execution_count": 43,
   "metadata": {
    "id": "9fU7df3hrCGP"
   },
   "outputs": [],
   "source": [
    "\n",
    "scaler = StandardScaler() #instantiate scaler\n",
    "\n",
    "scaler.fit(X_train_subset) #fit to x train\n",
    "\n",
    "# transform the X_train_subset, X_val, and X_test data using the fitted scaler\n",
    "X_train_subset_scaled = scaler.transform(X_train_subset)\n",
    "X_val_scaled = scaler.transform(X_val)\n",
    "X_test_scaled = scaler.transform(X_test)"
   ]
  },
  {
   "cell_type": "markdown",
   "metadata": {},
   "source": [
    "The two metrics I am going to keep track of during this optimization is model accuracy and model loss. The goal is to maximize accuracy and mimimize loss, which is a measure of how well the model is able to minimize the difference between the predicted output and the actual output. After each iteration, graphs of both will be shown. My overall approach to this optimization was to start with a complex model that likely overfits with lots of layers and prune back based on how the model is performing. "
   ]
  },
  {
   "cell_type": "code",
   "execution_count": 44,
   "metadata": {
    "colab": {
     "base_uri": "https://localhost:8080/"
    },
    "id": "pQ-GJ5s3cjQk",
    "outputId": "a0aa6b96-e234-4f4b-85bf-71bcef36d61c"
   },
   "outputs": [
    {
     "name": "stdout",
     "output_type": "stream",
     "text": [
      "Epoch 1/25\n",
      "Epoch 2/25\n",
      "Epoch 3/25\n",
      "Epoch 4/25\n",
      "Epoch 5/25\n",
      "Epoch 6/25\n",
      "Epoch 7/25\n",
      "Epoch 8/25\n",
      "Epoch 9/25\n",
      "Epoch 10/25\n",
      "Epoch 11/25\n",
      "Epoch 12/25\n",
      "Epoch 13/25\n",
      "Epoch 14/25\n",
      "Epoch 15/25\n",
      "Epoch 16/25\n",
      "Epoch 17/25\n",
      "Epoch 18/25\n",
      "Epoch 19/25\n",
      "Epoch 20/25\n",
      "Epoch 21/25\n",
      "Epoch 22/25\n",
      "Epoch 23/25\n",
      "Epoch 24/25\n",
      "Epoch 25/25\n",
      "372/372 [==============================] - 1s 2ms/step - loss: 2.2855 - accuracy: 0.6263\n",
      "Accuracy: 0.6263458728790283\n",
      "372/372 [==============================] - 1s 2ms/step\n"
     ]
    }
   ],
   "source": [
    "import tensorflow as tf\n",
    "from tensorflow import keras\n",
    "from tensorflow.keras import layers\n",
    "\n",
    "tf.random.set_seed(42)\n",
    "\n",
    "# Define the model\n",
    "\n",
    "# Define the model with many layers\n",
    "model = keras.Sequential() #sequential model\n",
    "model.add(layers.Dense(128, activation='relu', input_dim=X_train.shape[1])) #128 neurons\n",
    "model.add(layers.Dense(64, activation='relu')) #64 neurons\n",
    "model.add(layers.Dense(32, activation='relu')) #32 neurons\n",
    "model.add(layers.Dense(len(label_encoder.classes_), activation='softmax')) #9 neurons\n",
    "\n",
    "# Compile the model\n",
    "model.compile(optimizer='adam',\n",
    "              loss='sparse_categorical_crossentropy',\n",
    "              metrics=['accuracy'])\n",
    "\n",
    "# Train the model with validation data\n",
    "history = model.fit(X_train_subset_scaled, y_train_subset,  #fit on scaled train subsets\n",
    "                    epochs=25, #start small epoochs\n",
    "                    batch_size=32, \n",
    "                    verbose=3,\n",
    "                    validation_data=(X_val_scaled, y_val))#usinig val \n",
    "\n",
    "# Evaluate the model on the test set\n",
    "loss, overfitted_nn_accuracy = model.evaluate(X_test_scaled, y_test)\n",
    "print(\"Accuracy:\", overfitted_nn_accuracy)\n",
    "\n",
    "# Generate predictions on the test set\n",
    "y_pred = np.argmax(model.predict(X_test_scaled), axis=-1)\n",
    "\n",
    "# Print the classification report\n",
    "optimized_nn_class_report = classification_report(y_test, y_pred, output_dict=True)"
   ]
  },
  {
   "cell_type": "markdown",
   "metadata": {
    "id": "D5FWKcMIL8Fj"
   },
   "source": [
    "Almost immediately, it can be seen that this model is overfitting. This is because the validation sets accuracy decreases and loss increases while the training sets accuracy increases and loss decreases."
   ]
  },
  {
   "cell_type": "code",
   "execution_count": 45,
   "metadata": {
    "colab": {
     "base_uri": "https://localhost:8080/",
     "height": 564
    },
    "id": "HlEPaNVGcjTQ",
    "outputId": "9925bae8-5130-4d91-a9d4-2696f7a537a6"
   },
   "outputs": [
    {
     "data": {
      "image/png": "[encoded data removed]",
      "text/plain": [
       "<Figure size 1200x600 with 2 Axes>"
      ]
     },
     "metadata": {},
     "output_type": "display_data"
    }
   ],
   "source": [
    "#plot model acc and model loss with two subplots\n",
    "fig, ax = plt.subplots(1, 2, figsize=(12, 6))\n",
    "ax[0].plot(history.history['accuracy']) #pull from history\n",
    "ax[0].plot(history.history['val_accuracy'])\n",
    "ax[0].set_title('Model Accuracy')\n",
    "ax[0].set_xlabel('Epochs')\n",
    "ax[0].set_ylabel('Accuracy')\n",
    "ax[0].legend(['train', 'val'], loc='upper left')\n",
    "\n",
    "ax[1].plot(history.history['loss'])\n",
    "ax[1].plot(history.history['val_loss'])\n",
    "ax[1].set_title('Model Loss')\n",
    "ax[1].set_xlabel('Epochs')\n",
    "ax[1].set_ylabel('Loss')\n",
    "ax[1].legend(['train', 'val'], loc='upper left')\n",
    "\n",
    "plt.show()"
   ]
  },
  {
   "cell_type": "markdown",
   "metadata": {},
   "source": [
    "The next step I took was to add some method to better generalize. I chose to add dropout layers inbetween the dense layers. Somewhat arbitrarily, I chose the dropout to be 0.5. (another parameter I could have further tuned.)"
   ]
  },
  {
   "cell_type": "code",
   "execution_count": 46,
   "metadata": {
    "colab": {
     "base_uri": "https://localhost:8080/"
    },
    "id": "0412mZEbcjVk",
    "outputId": "b9d6968c-d52c-4d39-a03e-94bb1aa838a4"
   },
   "outputs": [
    {
     "name": "stdout",
     "output_type": "stream",
     "text": [
      "Epoch 1/25\n",
      "Epoch 2/25\n",
      "Epoch 3/25\n",
      "Epoch 4/25\n",
      "Epoch 5/25\n",
      "Epoch 6/25\n",
      "Epoch 7/25\n",
      "Epoch 8/25\n",
      "Epoch 9/25\n",
      "Epoch 10/25\n",
      "Epoch 11/25\n",
      "Epoch 12/25\n",
      "Epoch 13/25\n",
      "Epoch 14/25\n",
      "Epoch 15/25\n",
      "Epoch 16/25\n",
      "Epoch 17/25\n",
      "Epoch 18/25\n",
      "Epoch 19/25\n",
      "Epoch 20/25\n",
      "Epoch 21/25\n",
      "Epoch 22/25\n",
      "Epoch 23/25\n",
      "Epoch 24/25\n",
      "Epoch 25/25\n",
      "372/372 [==============================] - 1s 2ms/step - loss: 1.0394 - accuracy: 0.6659\n",
      "Accuracy: 0.6658815741539001\n",
      "372/372 [==============================] - 1s 1ms/step\n"
     ]
    },
    {
     "name": "stderr",
     "output_type": "stream",
     "text": [
      "/usr/local/lib/python3.9/dist-packages/sklearn/metrics/_classification.py:1344: UndefinedMetricWarning: Precision and F-score are ill-defined and being set to 0.0 in labels with no predicted samples. Use `zero_division` parameter to control this behavior.\n",
      "  _warn_prf(average, modifier, msg_start, len(result))\n",
      "/usr/local/lib/python3.9/dist-packages/sklearn/metrics/_classification.py:1344: UndefinedMetricWarning: Precision and F-score are ill-defined and being set to 0.0 in labels with no predicted samples. Use `zero_division` parameter to control this behavior.\n",
      "  _warn_prf(average, modifier, msg_start, len(result))\n",
      "/usr/local/lib/python3.9/dist-packages/sklearn/metrics/_classification.py:1344: UndefinedMetricWarning: Precision and F-score are ill-defined and being set to 0.0 in labels with no predicted samples. Use `zero_division` parameter to control this behavior.\n",
      "  _warn_prf(average, modifier, msg_start, len(result))\n"
     ]
    }
   ],
   "source": [
    "tf.random.set_seed(42)\n",
    "\n",
    "# Define the model \n",
    "model = keras.Sequential()\n",
    "model.add(layers.Dense(128, activation='relu', input_dim=X_train.shape[1]))\n",
    "model.add(layers.Dropout(0.5)) #added 0.5 dropout layer\n",
    "model.add(layers.Dense(64, activation='relu'))\n",
    "model.add(layers.Dropout(0.5)) #added 0.5 dropout layer\n",
    "model.add(layers.Dense(32, activation='relu'))\n",
    "model.add(layers.Dropout(0.5)) #added 0.5 dropout layer\n",
    "model.add(layers.Dense(len(label_encoder.classes_), activation='softmax')) \n",
    "\n",
    "# Compile the model\n",
    "model.compile(optimizer='adam',\n",
    "              loss='sparse_categorical_crossentropy',\n",
    "              metrics=['accuracy'])\n",
    "\n",
    "# Train the model with validation data\n",
    "history = model.fit(X_train_subset_scaled, y_train_subset, \n",
    "                    epochs=25, \n",
    "                    batch_size=32, \n",
    "                    verbose=3,\n",
    "                    validation_data=(X_val_scaled, y_val)) \n",
    "\n",
    "#evaluate\n",
    "loss, overfitted_nn_accuracy = model.evaluate(X_test_scaled, y_test)\n",
    "print(\"Accuracy:\", overfitted_nn_accuracy)\n",
    "\n",
    "# Generate predictions\n",
    "y_pred = np.argmax(model.predict(X_test_scaled), axis=-1)\n",
    "\n",
    "#classification report\n",
    "optimized_nn_class_report = classification_report(y_test, y_pred, output_dict=True)\n",
    "\n"
   ]
  },
  {
   "cell_type": "markdown",
   "metadata": {},
   "source": [
    "Now it can be seen that the validation accuracy is increasing while its loss is decreasing. This is a good sign and suggests that I should train the model for more epochs to see where the divergence occurs."
   ]
  },
  {
   "cell_type": "code",
   "execution_count": 47,
   "metadata": {
    "colab": {
     "base_uri": "https://localhost:8080/",
     "height": 564
    },
    "id": "aFRB4vW822QG",
    "outputId": "44977304-0529-454c-a808-dbd6478f72d9"
   },
   "outputs": [
    {
     "data": {
      "image/png": "[encoded data removed]",
      "text/plain": [
       "<Figure size 1200x600 with 2 Axes>"
      ]
     },
     "metadata": {},
     "output_type": "display_data"
    }
   ],
   "source": [
    "#plot accuracy and loss\n",
    "fig, ax = plt.subplots(1, 2, figsize=(12, 6))\n",
    "ax[0].plot(history.history['accuracy'])\n",
    "ax[0].plot(history.history['val_accuracy'])\n",
    "ax[0].set_title('Model Accuracy')\n",
    "ax[0].set_xlabel('Epochs')\n",
    "ax[0].set_ylabel('Accuracy')\n",
    "ax[0].legend(['train', 'val'], loc='upper left')\n",
    "\n",
    "ax[1].plot(history.history['loss'])\n",
    "ax[1].plot(history.history['val_loss'])\n",
    "ax[1].set_title('Model Loss')\n",
    "ax[1].set_xlabel('Epochs')\n",
    "ax[1].set_ylabel('Loss')\n",
    "ax[1].legend(['train', 'val'], loc='upper left')\n",
    "\n",
    "plt.show()"
   ]
  },
  {
   "cell_type": "markdown",
   "metadata": {},
   "source": [
    "Below, I set the epochs to 100. Note: The graphs are at the bottom of the output, after the 100th epoch. After 100 epochs, it appears that the validation accuracy is still increasing. "
   ]
  },
  {
   "cell_type": "code",
   "execution_count": 22,
   "metadata": {
    "colab": {
     "base_uri": "https://localhost:8080/",
     "height": 1000
    },
    "id": "UZZtckrrcjXd",
    "outputId": "3d5ede18-c99e-460a-e7f9-94295e54fa3b"
   },
   "outputs": [
    {
     "name": "stdout",
     "output_type": "stream",
     "text": [
      "Epoch 1/100\n",
      "Epoch 2/100\n",
      "Epoch 3/100\n",
      "Epoch 4/100\n",
      "Epoch 5/100\n",
      "Epoch 6/100\n",
      "Epoch 7/100\n",
      "Epoch 8/100\n",
      "Epoch 9/100\n",
      "Epoch 10/100\n",
      "Epoch 11/100\n",
      "Epoch 12/100\n",
      "Epoch 13/100\n",
      "Epoch 14/100\n",
      "Epoch 15/100\n",
      "Epoch 16/100\n",
      "Epoch 17/100\n",
      "Epoch 18/100\n",
      "Epoch 19/100\n",
      "Epoch 20/100\n",
      "Epoch 21/100\n",
      "Epoch 22/100\n",
      "Epoch 23/100\n",
      "Epoch 24/100\n",
      "Epoch 25/100\n",
      "Epoch 26/100\n",
      "Epoch 27/100\n",
      "Epoch 28/100\n",
      "Epoch 29/100\n",
      "Epoch 30/100\n",
      "Epoch 31/100\n",
      "Epoch 32/100\n",
      "Epoch 33/100\n",
      "Epoch 34/100\n",
      "Epoch 35/100\n",
      "Epoch 36/100\n",
      "Epoch 37/100\n",
      "Epoch 38/100\n",
      "Epoch 39/100\n",
      "Epoch 40/100\n",
      "Epoch 41/100\n",
      "Epoch 42/100\n",
      "Epoch 43/100\n",
      "Epoch 44/100\n",
      "Epoch 45/100\n",
      "Epoch 46/100\n",
      "Epoch 47/100\n",
      "Epoch 48/100\n",
      "Epoch 49/100\n",
      "Epoch 50/100\n",
      "Epoch 51/100\n",
      "Epoch 52/100\n",
      "Epoch 53/100\n",
      "Epoch 54/100\n",
      "Epoch 55/100\n",
      "Epoch 56/100\n",
      "Epoch 57/100\n",
      "Epoch 58/100\n",
      "Epoch 59/100\n",
      "Epoch 60/100\n",
      "Epoch 61/100\n",
      "Epoch 62/100\n",
      "Epoch 63/100\n",
      "Epoch 64/100\n",
      "Epoch 65/100\n",
      "Epoch 66/100\n",
      "Epoch 67/100\n",
      "Epoch 68/100\n",
      "Epoch 69/100\n",
      "Epoch 70/100\n",
      "Epoch 71/100\n",
      "Epoch 72/100\n",
      "Epoch 73/100\n",
      "Epoch 74/100\n",
      "Epoch 75/100\n",
      "Epoch 76/100\n",
      "Epoch 77/100\n",
      "Epoch 78/100\n",
      "Epoch 79/100\n",
      "Epoch 80/100\n",
      "Epoch 81/100\n",
      "Epoch 82/100\n",
      "Epoch 83/100\n",
      "Epoch 84/100\n",
      "Epoch 85/100\n",
      "Epoch 86/100\n",
      "Epoch 87/100\n",
      "Epoch 88/100\n",
      "Epoch 89/100\n",
      "Epoch 90/100\n",
      "Epoch 91/100\n",
      "Epoch 92/100\n",
      "Epoch 93/100\n",
      "Epoch 94/100\n",
      "Epoch 95/100\n",
      "Epoch 96/100\n",
      "Epoch 97/100\n",
      "Epoch 98/100\n",
      "Epoch 99/100\n",
      "Epoch 100/100\n",
      "372/372 [==============================] - 1s 2ms/step - loss: 1.0373 - accuracy: 0.6754\n",
      "Accuracy: 0.6753869652748108\n",
      "372/372 [==============================] - 1s 2ms/step\n"
     ]
    },
    {
     "name": "stderr",
     "output_type": "stream",
     "text": [
      "/usr/local/lib/python3.9/dist-packages/sklearn/metrics/_classification.py:1344: UndefinedMetricWarning: Precision and F-score are ill-defined and being set to 0.0 in labels with no predicted samples. Use `zero_division` parameter to control this behavior.\n",
      "  _warn_prf(average, modifier, msg_start, len(result))\n",
      "/usr/local/lib/python3.9/dist-packages/sklearn/metrics/_classification.py:1344: UndefinedMetricWarning: Precision and F-score are ill-defined and being set to 0.0 in labels with no predicted samples. Use `zero_division` parameter to control this behavior.\n",
      "  _warn_prf(average, modifier, msg_start, len(result))\n",
      "/usr/local/lib/python3.9/dist-packages/sklearn/metrics/_classification.py:1344: UndefinedMetricWarning: Precision and F-score are ill-defined and being set to 0.0 in labels with no predicted samples. Use `zero_division` parameter to control this behavior.\n",
      "  _warn_prf(average, modifier, msg_start, len(result))\n"
     ]
    },
    {
     "data": {
      "image/png": "[encoded data removed]",
      "text/plain": [
       "<Figure size 1200x600 with 2 Axes>"
      ]
     },
     "metadata": {},
     "output_type": "display_data"
    }
   ],
   "source": [
    "tf.random.set_seed(42)\n",
    "\n",
    "# Using the same setup as previously.\n",
    "model = keras.Sequential()\n",
    "model.add(layers.Dense(128, activation='relu', input_dim=X_train.shape[1]))\n",
    "model.add(layers.Dropout(0.5))\n",
    "model.add(layers.Dense(64, activation='relu'))\n",
    "model.add(layers.Dropout(0.5))\n",
    "model.add(layers.Dense(32, activation='relu'))\n",
    "model.add(layers.Dropout(0.5))\n",
    "model.add(layers.Dense(len(label_encoder.classes_), activation='softmax'))\n",
    "\n",
    "# Compile the model\n",
    "model.compile(optimizer='adam',\n",
    "              loss='sparse_categorical_crossentropy',\n",
    "              metrics=['accuracy'])\n",
    "\n",
    "# Increasing thhe epochs here to 100\n",
    "history = model.fit(X_train_subset_scaled, y_train_subset, \n",
    "                    epochs=100, \n",
    "                    batch_size=32, \n",
    "                    verbose=3,\n",
    "                    validation_data=(X_val_scaled, y_val))\n",
    "\n",
    "# Evaluate the model\n",
    "loss, overfitted_nn_accuracy = model.evaluate(X_test_scaled, y_test)\n",
    "print(\"Accuracy:\", overfitted_nn_accuracy)\n",
    "\n",
    "#predictions\n",
    "y_pred = np.argmax(model.predict(X_test_scaled), axis=-1)\n",
    "\n",
    "#classification report\n",
    "optimized_nn_class_report = classification_report(y_test, y_pred, output_dict=True)\n",
    "\n",
    "#plotting val and train\n",
    "fig, ax = plt.subplots(1, 2, figsize=(12, 6))\n",
    "ax[0].plot(history.history['accuracy'])\n",
    "ax[0].plot(history.history['val_accuracy'])\n",
    "ax[0].set_title('Model Accuracy')\n",
    "ax[0].set_xlabel('Epochs')\n",
    "ax[0].set_ylabel('Accuracy')\n",
    "ax[0].legend(['train', 'val'], loc='upper left')\n",
    "\n",
    "ax[1].plot(history.history['loss'])\n",
    "ax[1].plot(history.history['val_loss'])\n",
    "ax[1].set_title('Model Loss')\n",
    "ax[1].set_xlabel('Epochs')\n",
    "ax[1].set_ylabel('Loss')\n",
    "ax[1].legend(['train', 'val'], loc='upper left')\n",
    "\n",
    "plt.show()"
   ]
  },
  {
   "cell_type": "markdown",
   "metadata": {},
   "source": [
    "Finally, I train the model for 200 epochs to see where the divergence between train and validation occurs."
   ]
  },
  {
   "cell_type": "code",
   "execution_count": 23,
   "metadata": {
    "colab": {
     "base_uri": "https://localhost:8080/"
    },
    "id": "FyVb2lbScjZf",
    "outputId": "17b61887-56f2-4ea2-b59a-8ee0f1d51e67"
   },
   "outputs": [
    {
     "name": "stdout",
     "output_type": "stream",
     "text": [
      "Epoch 1/200\n",
      "836/836 [==============================] - 6s 5ms/step - loss: 1.8006 - accuracy: 0.3637 - val_loss: 1.4369 - val_accuracy: 0.5233\n",
      "Epoch 2/200\n",
      "836/836 [==============================] - 4s 5ms/step - loss: 1.5153 - accuracy: 0.4861 - val_loss: 1.3037 - val_accuracy: 0.5574\n",
      "Epoch 3/200\n",
      "836/836 [==============================] - 3s 4ms/step - loss: 1.4199 - accuracy: 0.5280 - val_loss: 1.2272 - val_accuracy: 0.6123\n",
      "Epoch 4/200\n",
      "836/836 [==============================] - 3s 4ms/step - loss: 1.3601 - accuracy: 0.5546 - val_loss: 1.1906 - val_accuracy: 0.6264\n",
      "Epoch 5/200\n",
      "836/836 [==============================] - 5s 5ms/step - loss: 1.3153 - accuracy: 0.5685 - val_loss: 1.1387 - val_accuracy: 0.6373\n",
      "Epoch 6/200\n",
      "836/836 [==============================] - 4s 5ms/step - loss: 1.2936 - accuracy: 0.5783 - val_loss: 1.1263 - val_accuracy: 0.6430\n",
      "Epoch 7/200\n",
      "836/836 [==============================] - 3s 4ms/step - loss: 1.2699 - accuracy: 0.5878 - val_loss: 1.1092 - val_accuracy: 0.6503\n",
      "Epoch 8/200\n",
      "836/836 [==============================] - 3s 4ms/step - loss: 1.2435 - accuracy: 0.5971 - val_loss: 1.1071 - val_accuracy: 0.6504\n",
      "Epoch 9/200\n",
      "836/836 [==============================] - 5s 5ms/step - loss: 1.2377 - accuracy: 0.5965 - val_loss: 1.1030 - val_accuracy: 0.6482\n",
      "Epoch 10/200\n",
      "836/836 [==============================] - 4s 5ms/step - loss: 1.2231 - accuracy: 0.6041 - val_loss: 1.0955 - val_accuracy: 0.6446\n",
      "Epoch 11/200\n",
      "836/836 [==============================] - 3s 4ms/step - loss: 1.2092 - accuracy: 0.6079 - val_loss: 1.0748 - val_accuracy: 0.6520\n",
      "Epoch 12/200\n",
      "836/836 [==============================] - 3s 4ms/step - loss: 1.2019 - accuracy: 0.6085 - val_loss: 1.0762 - val_accuracy: 0.6463\n",
      "Epoch 13/200\n",
      "836/836 [==============================] - 5s 6ms/step - loss: 1.1917 - accuracy: 0.6147 - val_loss: 1.0703 - val_accuracy: 0.6547\n",
      "Epoch 14/200\n",
      "836/836 [==============================] - 3s 4ms/step - loss: 1.1781 - accuracy: 0.6185 - val_loss: 1.0700 - val_accuracy: 0.6535\n",
      "Epoch 15/200\n",
      "836/836 [==============================] - 3s 4ms/step - loss: 1.1762 - accuracy: 0.6212 - val_loss: 1.0640 - val_accuracy: 0.6532\n",
      "Epoch 16/200\n",
      "836/836 [==============================] - 3s 4ms/step - loss: 1.1850 - accuracy: 0.6132 - val_loss: 1.0537 - val_accuracy: 0.6563\n",
      "Epoch 17/200\n",
      "836/836 [==============================] - 5s 5ms/step - loss: 1.1604 - accuracy: 0.6203 - val_loss: 1.0514 - val_accuracy: 0.6555\n",
      "Epoch 18/200\n",
      "836/836 [==============================] - 4s 4ms/step - loss: 1.1551 - accuracy: 0.6240 - val_loss: 1.0487 - val_accuracy: 0.6621\n",
      "Epoch 19/200\n",
      "836/836 [==============================] - 4s 4ms/step - loss: 1.1615 - accuracy: 0.6243 - val_loss: 1.0500 - val_accuracy: 0.6615\n",
      "Epoch 20/200\n",
      "836/836 [==============================] - 3s 4ms/step - loss: 1.1498 - accuracy: 0.6268 - val_loss: 1.0510 - val_accuracy: 0.6550\n",
      "Epoch 21/200\n",
      "836/836 [==============================] - 5s 6ms/step - loss: 1.1501 - accuracy: 0.6264 - val_loss: 1.0403 - val_accuracy: 0.6646\n",
      "Epoch 22/200\n",
      "836/836 [==============================] - 3s 4ms/step - loss: 1.1392 - accuracy: 0.6316 - val_loss: 1.0483 - val_accuracy: 0.6611\n",
      "Epoch 23/200\n",
      "836/836 [==============================] - 3s 4ms/step - loss: 1.1346 - accuracy: 0.6321 - val_loss: 1.0368 - val_accuracy: 0.6660\n",
      "Epoch 24/200\n",
      "836/836 [==============================] - 3s 4ms/step - loss: 1.1355 - accuracy: 0.6304 - val_loss: 1.0411 - val_accuracy: 0.6605\n",
      "Epoch 25/200\n",
      "836/836 [==============================] - 5s 6ms/step - loss: 1.1231 - accuracy: 0.6351 - val_loss: 1.0372 - val_accuracy: 0.6612\n",
      "Epoch 26/200\n",
      "836/836 [==============================] - 3s 4ms/step - loss: 1.1235 - accuracy: 0.6387 - val_loss: 1.0314 - val_accuracy: 0.6657\n",
      "Epoch 27/200\n",
      "836/836 [==============================] - 3s 4ms/step - loss: 1.1227 - accuracy: 0.6350 - val_loss: 1.0373 - val_accuracy: 0.6625\n",
      "Epoch 28/200\n",
      "836/836 [==============================] - 3s 4ms/step - loss: 1.1154 - accuracy: 0.6396 - val_loss: 1.0277 - val_accuracy: 0.6642\n",
      "Epoch 29/200\n",
      "836/836 [==============================] - 5s 6ms/step - loss: 1.1137 - accuracy: 0.6413 - val_loss: 1.0236 - val_accuracy: 0.6649\n",
      "Epoch 30/200\n",
      "836/836 [==============================] - 3s 4ms/step - loss: 1.1110 - accuracy: 0.6384 - val_loss: 1.0290 - val_accuracy: 0.6639\n",
      "Epoch 31/200\n",
      "836/836 [==============================] - 3s 4ms/step - loss: 1.1093 - accuracy: 0.6411 - val_loss: 1.0245 - val_accuracy: 0.6649\n",
      "Epoch 32/200\n",
      "836/836 [==============================] - 3s 4ms/step - loss: 1.1012 - accuracy: 0.6408 - val_loss: 1.0275 - val_accuracy: 0.6625\n",
      "Epoch 33/200\n",
      "836/836 [==============================] - 5s 6ms/step - loss: 1.0988 - accuracy: 0.6441 - val_loss: 1.0223 - val_accuracy: 0.6712\n",
      "Epoch 34/200\n",
      "836/836 [==============================] - 3s 4ms/step - loss: 1.0975 - accuracy: 0.6462 - val_loss: 1.0219 - val_accuracy: 0.6717\n",
      "Epoch 35/200\n",
      "836/836 [==============================] - 4s 4ms/step - loss: 1.0980 - accuracy: 0.6447 - val_loss: 1.0284 - val_accuracy: 0.6648\n",
      "Epoch 36/200\n",
      "836/836 [==============================] - 3s 4ms/step - loss: 1.0974 - accuracy: 0.6436 - val_loss: 1.0204 - val_accuracy: 0.6698\n",
      "Epoch 37/200\n",
      "836/836 [==============================] - 5s 6ms/step - loss: 1.0882 - accuracy: 0.6489 - val_loss: 1.0324 - val_accuracy: 0.6682\n",
      "Epoch 38/200\n",
      "836/836 [==============================] - 3s 4ms/step - loss: 1.0895 - accuracy: 0.6453 - val_loss: 1.0250 - val_accuracy: 0.6658\n",
      "Epoch 39/200\n",
      "836/836 [==============================] - 3s 4ms/step - loss: 1.0803 - accuracy: 0.6494 - val_loss: 1.0166 - val_accuracy: 0.6697\n",
      "Epoch 40/200\n",
      "836/836 [==============================] - 3s 4ms/step - loss: 1.0831 - accuracy: 0.6501 - val_loss: 1.0184 - val_accuracy: 0.6736\n",
      "Epoch 41/200\n",
      "836/836 [==============================] - 5s 5ms/step - loss: 1.0863 - accuracy: 0.6495 - val_loss: 1.0205 - val_accuracy: 0.6697\n",
      "Epoch 42/200\n",
      "836/836 [==============================] - 3s 4ms/step - loss: 1.0740 - accuracy: 0.6520 - val_loss: 1.0196 - val_accuracy: 0.6712\n",
      "Epoch 43/200\n",
      "836/836 [==============================] - 3s 4ms/step - loss: 1.0704 - accuracy: 0.6543 - val_loss: 1.0324 - val_accuracy: 0.6713\n",
      "Epoch 44/200\n",
      "836/836 [==============================] - 3s 4ms/step - loss: 1.0685 - accuracy: 0.6531 - val_loss: 1.0243 - val_accuracy: 0.6690\n",
      "Epoch 45/200\n",
      "836/836 [==============================] - 5s 5ms/step - loss: 1.0682 - accuracy: 0.6522 - val_loss: 1.0224 - val_accuracy: 0.6697\n",
      "Epoch 46/200\n",
      "836/836 [==============================] - 4s 4ms/step - loss: 1.0579 - accuracy: 0.6548 - val_loss: 1.0183 - val_accuracy: 0.6733\n",
      "Epoch 47/200\n",
      "836/836 [==============================] - 3s 4ms/step - loss: 1.0648 - accuracy: 0.6528 - val_loss: 1.0207 - val_accuracy: 0.6689\n",
      "Epoch 48/200\n",
      "836/836 [==============================] - 3s 4ms/step - loss: 1.0591 - accuracy: 0.6597 - val_loss: 1.0184 - val_accuracy: 0.6713\n",
      "Epoch 49/200\n",
      "836/836 [==============================] - 4s 5ms/step - loss: 1.0567 - accuracy: 0.6593 - val_loss: 1.0238 - val_accuracy: 0.6683\n",
      "Epoch 50/200\n",
      "836/836 [==============================] - 4s 4ms/step - loss: 1.0611 - accuracy: 0.6551 - val_loss: 1.0288 - val_accuracy: 0.6685\n",
      "Epoch 51/200\n",
      "836/836 [==============================] - 3s 4ms/step - loss: 1.0521 - accuracy: 0.6573 - val_loss: 1.0167 - val_accuracy: 0.6766\n",
      "Epoch 52/200\n",
      "836/836 [==============================] - 3s 4ms/step - loss: 1.0565 - accuracy: 0.6576 - val_loss: 1.0202 - val_accuracy: 0.6749\n",
      "Epoch 53/200\n",
      "836/836 [==============================] - 5s 6ms/step - loss: 1.0437 - accuracy: 0.6627 - val_loss: 1.0267 - val_accuracy: 0.6705\n",
      "Epoch 54/200\n",
      "836/836 [==============================] - 4s 4ms/step - loss: 1.0543 - accuracy: 0.6581 - val_loss: 1.0178 - val_accuracy: 0.6663\n",
      "Epoch 55/200\n",
      "836/836 [==============================] - 3s 4ms/step - loss: 1.0563 - accuracy: 0.6571 - val_loss: 1.0176 - val_accuracy: 0.6732\n",
      "Epoch 56/200\n",
      "836/836 [==============================] - 3s 4ms/step - loss: 1.0459 - accuracy: 0.6595 - val_loss: 1.0260 - val_accuracy: 0.6717\n",
      "Epoch 57/200\n",
      "836/836 [==============================] - 5s 5ms/step - loss: 1.0533 - accuracy: 0.6603 - val_loss: 1.0223 - val_accuracy: 0.6726\n",
      "Epoch 58/200\n",
      "836/836 [==============================] - 4s 4ms/step - loss: 1.0435 - accuracy: 0.6639 - val_loss: 1.0202 - val_accuracy: 0.6755\n",
      "Epoch 59/200\n",
      "836/836 [==============================] - 3s 4ms/step - loss: 1.0435 - accuracy: 0.6645 - val_loss: 1.0204 - val_accuracy: 0.6734\n",
      "Epoch 60/200\n",
      "836/836 [==============================] - 3s 4ms/step - loss: 1.0414 - accuracy: 0.6632 - val_loss: 1.0168 - val_accuracy: 0.6697\n",
      "Epoch 61/200\n",
      "836/836 [==============================] - 5s 5ms/step - loss: 1.0375 - accuracy: 0.6676 - val_loss: 1.0223 - val_accuracy: 0.6740\n",
      "Epoch 62/200\n",
      "836/836 [==============================] - 4s 4ms/step - loss: 1.0399 - accuracy: 0.6661 - val_loss: 1.0233 - val_accuracy: 0.6692\n",
      "Epoch 63/200\n",
      "836/836 [==============================] - 3s 4ms/step - loss: 1.0354 - accuracy: 0.6655 - val_loss: 1.0173 - val_accuracy: 0.6728\n",
      "Epoch 64/200\n",
      "836/836 [==============================] - 3s 4ms/step - loss: 1.0296 - accuracy: 0.6667 - val_loss: 1.0190 - val_accuracy: 0.6744\n",
      "Epoch 65/200\n",
      "836/836 [==============================] - 4s 5ms/step - loss: 1.0382 - accuracy: 0.6625 - val_loss: 1.0116 - val_accuracy: 0.6773\n",
      "Epoch 66/200\n",
      "836/836 [==============================] - 4s 4ms/step - loss: 1.0265 - accuracy: 0.6669 - val_loss: 1.0141 - val_accuracy: 0.6726\n",
      "Epoch 67/200\n",
      "836/836 [==============================] - 3s 4ms/step - loss: 1.0301 - accuracy: 0.6642 - val_loss: 1.0242 - val_accuracy: 0.6750\n",
      "Epoch 68/200\n",
      "836/836 [==============================] - 3s 4ms/step - loss: 1.0204 - accuracy: 0.6710 - val_loss: 1.0232 - val_accuracy: 0.6729\n",
      "Epoch 69/200\n",
      "836/836 [==============================] - 4s 5ms/step - loss: 1.0259 - accuracy: 0.6693 - val_loss: 1.0193 - val_accuracy: 0.6733\n",
      "Epoch 70/200\n",
      "836/836 [==============================] - 4s 5ms/step - loss: 1.0231 - accuracy: 0.6701 - val_loss: 1.0172 - val_accuracy: 0.6766\n",
      "Epoch 71/200\n",
      "836/836 [==============================] - 4s 4ms/step - loss: 1.0220 - accuracy: 0.6712 - val_loss: 1.0225 - val_accuracy: 0.6710\n",
      "Epoch 72/200\n",
      "836/836 [==============================] - 3s 4ms/step - loss: 1.0147 - accuracy: 0.6672 - val_loss: 1.0212 - val_accuracy: 0.6743\n",
      "Epoch 73/200\n",
      "836/836 [==============================] - 4s 5ms/step - loss: 1.0201 - accuracy: 0.6698 - val_loss: 1.0240 - val_accuracy: 0.6736\n",
      "Epoch 74/200\n",
      "836/836 [==============================] - 4s 5ms/step - loss: 1.0208 - accuracy: 0.6690 - val_loss: 1.0231 - val_accuracy: 0.6733\n",
      "Epoch 75/200\n",
      "836/836 [==============================] - 3s 4ms/step - loss: 1.0165 - accuracy: 0.6712 - val_loss: 1.0193 - val_accuracy: 0.6731\n",
      "Epoch 76/200\n",
      "836/836 [==============================] - 3s 4ms/step - loss: 1.0224 - accuracy: 0.6715 - val_loss: 1.0297 - val_accuracy: 0.6715\n",
      "Epoch 77/200\n",
      "836/836 [==============================] - 5s 5ms/step - loss: 1.0148 - accuracy: 0.6704 - val_loss: 1.0277 - val_accuracy: 0.6769\n",
      "Epoch 78/200\n",
      "836/836 [==============================] - 4s 4ms/step - loss: 1.0200 - accuracy: 0.6712 - val_loss: 1.0201 - val_accuracy: 0.6747\n",
      "Epoch 79/200\n",
      "836/836 [==============================] - 3s 4ms/step - loss: 1.0116 - accuracy: 0.6697 - val_loss: 1.0284 - val_accuracy: 0.6714\n",
      "Epoch 80/200\n",
      "836/836 [==============================] - 3s 4ms/step - loss: 1.0088 - accuracy: 0.6740 - val_loss: 1.0214 - val_accuracy: 0.6781\n",
      "Epoch 81/200\n",
      "836/836 [==============================] - 4s 5ms/step - loss: 1.0080 - accuracy: 0.6717 - val_loss: 1.0284 - val_accuracy: 0.6728\n",
      "Epoch 82/200\n",
      "836/836 [==============================] - 4s 4ms/step - loss: 1.0075 - accuracy: 0.6739 - val_loss: 1.0223 - val_accuracy: 0.6768\n",
      "Epoch 83/200\n",
      "836/836 [==============================] - 3s 4ms/step - loss: 1.0025 - accuracy: 0.6741 - val_loss: 1.0204 - val_accuracy: 0.6786\n",
      "Epoch 84/200\n",
      "836/836 [==============================] - 3s 4ms/step - loss: 1.0065 - accuracy: 0.6776 - val_loss: 1.0227 - val_accuracy: 0.6721\n",
      "Epoch 85/200\n",
      "836/836 [==============================] - 5s 6ms/step - loss: 1.0007 - accuracy: 0.6771 - val_loss: 1.0222 - val_accuracy: 0.6795\n",
      "Epoch 86/200\n",
      "836/836 [==============================] - 4s 4ms/step - loss: 1.0080 - accuracy: 0.6747 - val_loss: 1.0229 - val_accuracy: 0.6792\n",
      "Epoch 87/200\n",
      "836/836 [==============================] - 3s 4ms/step - loss: 1.0008 - accuracy: 0.6770 - val_loss: 1.0200 - val_accuracy: 0.6809\n",
      "Epoch 88/200\n",
      "836/836 [==============================] - 3s 4ms/step - loss: 0.9981 - accuracy: 0.6787 - val_loss: 1.0259 - val_accuracy: 0.6781\n",
      "Epoch 89/200\n",
      "836/836 [==============================] - 5s 6ms/step - loss: 0.9977 - accuracy: 0.6765 - val_loss: 1.0274 - val_accuracy: 0.6777\n",
      "Epoch 90/200\n",
      "836/836 [==============================] - 3s 4ms/step - loss: 1.0070 - accuracy: 0.6743 - val_loss: 1.0240 - val_accuracy: 0.6763\n",
      "Epoch 91/200\n",
      "836/836 [==============================] - 3s 4ms/step - loss: 1.0006 - accuracy: 0.6769 - val_loss: 1.0216 - val_accuracy: 0.6734\n",
      "Epoch 92/200\n",
      "836/836 [==============================] - 3s 4ms/step - loss: 0.9951 - accuracy: 0.6784 - val_loss: 1.0190 - val_accuracy: 0.6778\n",
      "Epoch 93/200\n",
      "836/836 [==============================] - 5s 5ms/step - loss: 0.9912 - accuracy: 0.6809 - val_loss: 1.0188 - val_accuracy: 0.6752\n",
      "Epoch 94/200\n",
      "836/836 [==============================] - 3s 4ms/step - loss: 1.0033 - accuracy: 0.6738 - val_loss: 1.0180 - val_accuracy: 0.6709\n",
      "Epoch 95/200\n",
      "836/836 [==============================] - 3s 4ms/step - loss: 0.9908 - accuracy: 0.6778 - val_loss: 1.0203 - val_accuracy: 0.6796\n",
      "Epoch 96/200\n",
      "836/836 [==============================] - 3s 4ms/step - loss: 0.9883 - accuracy: 0.6791 - val_loss: 1.0235 - val_accuracy: 0.6758\n",
      "Epoch 97/200\n",
      "836/836 [==============================] - 4s 5ms/step - loss: 0.9946 - accuracy: 0.6800 - val_loss: 1.0281 - val_accuracy: 0.6759\n",
      "Epoch 98/200\n",
      "836/836 [==============================] - 3s 4ms/step - loss: 0.9905 - accuracy: 0.6765 - val_loss: 1.0281 - val_accuracy: 0.6762\n",
      "Epoch 99/200\n",
      "836/836 [==============================] - 3s 4ms/step - loss: 0.9860 - accuracy: 0.6774 - val_loss: 1.0330 - val_accuracy: 0.6758\n",
      "Epoch 100/200\n",
      "836/836 [==============================] - 3s 4ms/step - loss: 0.9924 - accuracy: 0.6801 - val_loss: 1.0352 - val_accuracy: 0.6751\n",
      "Epoch 101/200\n",
      "836/836 [==============================] - 4s 5ms/step - loss: 0.9795 - accuracy: 0.6806 - val_loss: 1.0296 - val_accuracy: 0.6760\n",
      "Epoch 102/200\n",
      "836/836 [==============================] - 4s 4ms/step - loss: 0.9970 - accuracy: 0.6798 - val_loss: 1.0268 - val_accuracy: 0.6736\n",
      "Epoch 103/200\n",
      "836/836 [==============================] - 3s 4ms/step - loss: 0.9837 - accuracy: 0.6820 - val_loss: 1.0250 - val_accuracy: 0.6764\n",
      "Epoch 104/200\n",
      "836/836 [==============================] - 3s 4ms/step - loss: 0.9861 - accuracy: 0.6823 - val_loss: 1.0260 - val_accuracy: 0.6802\n",
      "Epoch 105/200\n",
      "836/836 [==============================] - 4s 5ms/step - loss: 0.9799 - accuracy: 0.6841 - val_loss: 1.0214 - val_accuracy: 0.6741\n",
      "Epoch 106/200\n",
      "836/836 [==============================] - 4s 5ms/step - loss: 0.9778 - accuracy: 0.6839 - val_loss: 1.0288 - val_accuracy: 0.6718\n",
      "Epoch 107/200\n",
      "836/836 [==============================] - 3s 4ms/step - loss: 0.9796 - accuracy: 0.6830 - val_loss: 1.0198 - val_accuracy: 0.6777\n",
      "Epoch 108/200\n",
      "836/836 [==============================] - 3s 4ms/step - loss: 0.9811 - accuracy: 0.6832 - val_loss: 1.0257 - val_accuracy: 0.6741\n",
      "Epoch 109/200\n",
      "836/836 [==============================] - 4s 5ms/step - loss: 0.9887 - accuracy: 0.6784 - val_loss: 1.0239 - val_accuracy: 0.6770\n",
      "Epoch 110/200\n",
      "836/836 [==============================] - 4s 5ms/step - loss: 0.9737 - accuracy: 0.6834 - val_loss: 1.0315 - val_accuracy: 0.6713\n",
      "Epoch 111/200\n",
      "836/836 [==============================] - 3s 4ms/step - loss: 0.9806 - accuracy: 0.6814 - val_loss: 1.0331 - val_accuracy: 0.6717\n",
      "Epoch 112/200\n",
      "836/836 [==============================] - 3s 4ms/step - loss: 0.9794 - accuracy: 0.6838 - val_loss: 1.0383 - val_accuracy: 0.6744\n",
      "Epoch 113/200\n",
      "836/836 [==============================] - 4s 5ms/step - loss: 0.9720 - accuracy: 0.6841 - val_loss: 1.0310 - val_accuracy: 0.6782\n",
      "Epoch 114/200\n",
      "836/836 [==============================] - 4s 5ms/step - loss: 0.9704 - accuracy: 0.6881 - val_loss: 1.0279 - val_accuracy: 0.6762\n",
      "Epoch 115/200\n",
      "836/836 [==============================] - 3s 4ms/step - loss: 0.9717 - accuracy: 0.6863 - val_loss: 1.0312 - val_accuracy: 0.6745\n",
      "Epoch 116/200\n",
      "836/836 [==============================] - 3s 4ms/step - loss: 0.9730 - accuracy: 0.6869 - val_loss: 1.0350 - val_accuracy: 0.6750\n",
      "Epoch 117/200\n",
      "836/836 [==============================] - 4s 5ms/step - loss: 0.9722 - accuracy: 0.6864 - val_loss: 1.0427 - val_accuracy: 0.6651\n",
      "Epoch 118/200\n",
      "836/836 [==============================] - 4s 5ms/step - loss: 0.9799 - accuracy: 0.6853 - val_loss: 1.0350 - val_accuracy: 0.6715\n",
      "Epoch 119/200\n",
      "836/836 [==============================] - 3s 4ms/step - loss: 0.9736 - accuracy: 0.6834 - val_loss: 1.0437 - val_accuracy: 0.6744\n",
      "Epoch 120/200\n",
      "836/836 [==============================] - 4s 4ms/step - loss: 0.9625 - accuracy: 0.6878 - val_loss: 1.0439 - val_accuracy: 0.6747\n",
      "Epoch 121/200\n",
      "836/836 [==============================] - 4s 5ms/step - loss: 0.9593 - accuracy: 0.6884 - val_loss: 1.0372 - val_accuracy: 0.6712\n",
      "Epoch 122/200\n",
      "836/836 [==============================] - 4s 5ms/step - loss: 0.9716 - accuracy: 0.6871 - val_loss: 1.0392 - val_accuracy: 0.6708\n",
      "Epoch 123/200\n",
      "836/836 [==============================] - 4s 4ms/step - loss: 0.9653 - accuracy: 0.6902 - val_loss: 1.0469 - val_accuracy: 0.6698\n",
      "Epoch 124/200\n",
      "836/836 [==============================] - 4s 4ms/step - loss: 0.9735 - accuracy: 0.6844 - val_loss: 1.0454 - val_accuracy: 0.6743\n",
      "Epoch 125/200\n",
      "836/836 [==============================] - 5s 6ms/step - loss: 0.9587 - accuracy: 0.6900 - val_loss: 1.0382 - val_accuracy: 0.6713\n",
      "Epoch 126/200\n",
      "836/836 [==============================] - 4s 4ms/step - loss: 0.9658 - accuracy: 0.6905 - val_loss: 1.0419 - val_accuracy: 0.6728\n",
      "Epoch 127/200\n",
      "836/836 [==============================] - 4s 4ms/step - loss: 0.9644 - accuracy: 0.6901 - val_loss: 1.0379 - val_accuracy: 0.6751\n",
      "Epoch 128/200\n",
      "836/836 [==============================] - 4s 4ms/step - loss: 0.9717 - accuracy: 0.6872 - val_loss: 1.0430 - val_accuracy: 0.6751\n",
      "Epoch 129/200\n",
      "836/836 [==============================] - 5s 6ms/step - loss: 0.9600 - accuracy: 0.6904 - val_loss: 1.0337 - val_accuracy: 0.6717\n",
      "Epoch 130/200\n",
      "836/836 [==============================] - 4s 4ms/step - loss: 0.9519 - accuracy: 0.6907 - val_loss: 1.0505 - val_accuracy: 0.6704\n",
      "Epoch 131/200\n",
      "836/836 [==============================] - 3s 4ms/step - loss: 0.9577 - accuracy: 0.6879 - val_loss: 1.0399 - val_accuracy: 0.6723\n",
      "Epoch 132/200\n",
      "836/836 [==============================] - 4s 4ms/step - loss: 0.9626 - accuracy: 0.6887 - val_loss: 1.0475 - val_accuracy: 0.6716\n",
      "Epoch 133/200\n",
      "836/836 [==============================] - 5s 6ms/step - loss: 0.9630 - accuracy: 0.6893 - val_loss: 1.0428 - val_accuracy: 0.6713\n",
      "Epoch 134/200\n",
      "836/836 [==============================] - 3s 4ms/step - loss: 0.9454 - accuracy: 0.6940 - val_loss: 1.0572 - val_accuracy: 0.6686\n",
      "Epoch 135/200\n",
      "836/836 [==============================] - 4s 4ms/step - loss: 0.9615 - accuracy: 0.6911 - val_loss: 1.0451 - val_accuracy: 0.6727\n",
      "Epoch 136/200\n",
      "836/836 [==============================] - 4s 5ms/step - loss: 0.9534 - accuracy: 0.6901 - val_loss: 1.0442 - val_accuracy: 0.6733\n",
      "Epoch 137/200\n",
      "836/836 [==============================] - 4s 5ms/step - loss: 0.9503 - accuracy: 0.6953 - val_loss: 1.0403 - val_accuracy: 0.6712\n",
      "Epoch 138/200\n",
      "836/836 [==============================] - 4s 4ms/step - loss: 0.9560 - accuracy: 0.6899 - val_loss: 1.0412 - val_accuracy: 0.6696\n",
      "Epoch 139/200\n",
      "836/836 [==============================] - 3s 4ms/step - loss: 0.9552 - accuracy: 0.6931 - val_loss: 1.0460 - val_accuracy: 0.6696\n",
      "Epoch 140/200\n",
      "836/836 [==============================] - 4s 4ms/step - loss: 0.9567 - accuracy: 0.6925 - val_loss: 1.0431 - val_accuracy: 0.6726\n",
      "Epoch 141/200\n",
      "836/836 [==============================] - 5s 6ms/step - loss: 0.9530 - accuracy: 0.6953 - val_loss: 1.0358 - val_accuracy: 0.6731\n",
      "Epoch 142/200\n",
      "836/836 [==============================] - 3s 4ms/step - loss: 0.9501 - accuracy: 0.6918 - val_loss: 1.0478 - val_accuracy: 0.6740\n",
      "Epoch 143/200\n",
      "836/836 [==============================] - 4s 4ms/step - loss: 0.9531 - accuracy: 0.6936 - val_loss: 1.0485 - val_accuracy: 0.6706\n",
      "Epoch 144/200\n",
      "836/836 [==============================] - 4s 5ms/step - loss: 0.9590 - accuracy: 0.6908 - val_loss: 1.0388 - val_accuracy: 0.6724\n",
      "Epoch 145/200\n",
      "836/836 [==============================] - 5s 5ms/step - loss: 0.9471 - accuracy: 0.6948 - val_loss: 1.0521 - val_accuracy: 0.6679\n",
      "Epoch 146/200\n",
      "836/836 [==============================] - 4s 4ms/step - loss: 0.9463 - accuracy: 0.6948 - val_loss: 1.0404 - val_accuracy: 0.6727\n",
      "Epoch 147/200\n",
      "836/836 [==============================] - 3s 4ms/step - loss: 0.9358 - accuracy: 0.6964 - val_loss: 1.0484 - val_accuracy: 0.6728\n",
      "Epoch 148/200\n",
      "836/836 [==============================] - 4s 5ms/step - loss: 0.9370 - accuracy: 0.6953 - val_loss: 1.0449 - val_accuracy: 0.6734\n",
      "Epoch 149/200\n",
      "836/836 [==============================] - 4s 5ms/step - loss: 0.9443 - accuracy: 0.6938 - val_loss: 1.0542 - val_accuracy: 0.6735\n",
      "Epoch 150/200\n",
      "836/836 [==============================] - 3s 4ms/step - loss: 0.9451 - accuracy: 0.6945 - val_loss: 1.0538 - val_accuracy: 0.6689\n",
      "Epoch 151/200\n",
      "836/836 [==============================] - 3s 4ms/step - loss: 0.9533 - accuracy: 0.6937 - val_loss: 1.0410 - val_accuracy: 0.6735\n",
      "Epoch 152/200\n",
      "836/836 [==============================] - 4s 5ms/step - loss: 0.9369 - accuracy: 0.6990 - val_loss: 1.0384 - val_accuracy: 0.6715\n",
      "Epoch 153/200\n",
      "836/836 [==============================] - 5s 6ms/step - loss: 0.9426 - accuracy: 0.6949 - val_loss: 1.0395 - val_accuracy: 0.6717\n",
      "Epoch 154/200\n",
      "836/836 [==============================] - 4s 4ms/step - loss: 0.9426 - accuracy: 0.6960 - val_loss: 1.0451 - val_accuracy: 0.6722\n",
      "Epoch 155/200\n",
      "836/836 [==============================] - 3s 4ms/step - loss: 0.9414 - accuracy: 0.6949 - val_loss: 1.0586 - val_accuracy: 0.6703\n",
      "Epoch 156/200\n",
      "836/836 [==============================] - 4s 5ms/step - loss: 0.9476 - accuracy: 0.6930 - val_loss: 1.0612 - val_accuracy: 0.6699\n",
      "Epoch 157/200\n",
      "836/836 [==============================] - 4s 5ms/step - loss: 0.9402 - accuracy: 0.6952 - val_loss: 1.0492 - val_accuracy: 0.6672\n",
      "Epoch 158/200\n",
      "836/836 [==============================] - 4s 4ms/step - loss: 0.9311 - accuracy: 0.6986 - val_loss: 1.0480 - val_accuracy: 0.6725\n",
      "Epoch 159/200\n",
      "836/836 [==============================] - 3s 4ms/step - loss: 0.9340 - accuracy: 0.6985 - val_loss: 1.0521 - val_accuracy: 0.6691\n",
      "Epoch 160/200\n",
      "836/836 [==============================] - 4s 5ms/step - loss: 0.9414 - accuracy: 0.6955 - val_loss: 1.0508 - val_accuracy: 0.6673\n",
      "Epoch 161/200\n",
      "836/836 [==============================] - 4s 5ms/step - loss: 0.9364 - accuracy: 0.6961 - val_loss: 1.0571 - val_accuracy: 0.6707\n",
      "Epoch 162/200\n",
      "836/836 [==============================] - 4s 4ms/step - loss: 0.9411 - accuracy: 0.6959 - val_loss: 1.0701 - val_accuracy: 0.6690\n",
      "Epoch 163/200\n",
      "836/836 [==============================] - 4s 4ms/step - loss: 0.9326 - accuracy: 0.6992 - val_loss: 1.0550 - val_accuracy: 0.6746\n",
      "Epoch 164/200\n",
      "836/836 [==============================] - 4s 5ms/step - loss: 0.9338 - accuracy: 0.6984 - val_loss: 1.0573 - val_accuracy: 0.6725\n",
      "Epoch 165/200\n",
      "836/836 [==============================] - 4s 5ms/step - loss: 0.9364 - accuracy: 0.6961 - val_loss: 1.0607 - val_accuracy: 0.6722\n",
      "Epoch 166/200\n",
      "836/836 [==============================] - 4s 4ms/step - loss: 0.9358 - accuracy: 0.6975 - val_loss: 1.0591 - val_accuracy: 0.6680\n",
      "Epoch 167/200\n",
      "836/836 [==============================] - 3s 4ms/step - loss: 0.9351 - accuracy: 0.6977 - val_loss: 1.0541 - val_accuracy: 0.6746\n",
      "Epoch 168/200\n",
      "836/836 [==============================] - 4s 5ms/step - loss: 0.9360 - accuracy: 0.6982 - val_loss: 1.0525 - val_accuracy: 0.6707\n",
      "Epoch 169/200\n",
      "836/836 [==============================] - 4s 5ms/step - loss: 0.9302 - accuracy: 0.7014 - val_loss: 1.0603 - val_accuracy: 0.6722\n",
      "Epoch 170/200\n",
      "836/836 [==============================] - 3s 4ms/step - loss: 0.9442 - accuracy: 0.6951 - val_loss: 1.0406 - val_accuracy: 0.6744\n",
      "Epoch 171/200\n",
      "836/836 [==============================] - 3s 4ms/step - loss: 0.9327 - accuracy: 0.6996 - val_loss: 1.0458 - val_accuracy: 0.6696\n",
      "Epoch 172/200\n",
      "836/836 [==============================] - 4s 5ms/step - loss: 0.9327 - accuracy: 0.6993 - val_loss: 1.0483 - val_accuracy: 0.6699\n",
      "Epoch 173/200\n",
      "836/836 [==============================] - 4s 5ms/step - loss: 0.9320 - accuracy: 0.7021 - val_loss: 1.0507 - val_accuracy: 0.6691\n",
      "Epoch 174/200\n",
      "836/836 [==============================] - 3s 4ms/step - loss: 0.9218 - accuracy: 0.7006 - val_loss: 1.0486 - val_accuracy: 0.6717\n",
      "Epoch 175/200\n",
      "836/836 [==============================] - 3s 4ms/step - loss: 0.9310 - accuracy: 0.6987 - val_loss: 1.0563 - val_accuracy: 0.6721\n",
      "Epoch 176/200\n",
      "836/836 [==============================] - 4s 5ms/step - loss: 0.9360 - accuracy: 0.6979 - val_loss: 1.0639 - val_accuracy: 0.6692\n",
      "Epoch 177/200\n",
      "836/836 [==============================] - 4s 5ms/step - loss: 0.9297 - accuracy: 0.6976 - val_loss: 1.0603 - val_accuracy: 0.6715\n",
      "Epoch 178/200\n",
      "836/836 [==============================] - 4s 4ms/step - loss: 0.9295 - accuracy: 0.7008 - val_loss: 1.0518 - val_accuracy: 0.6727\n",
      "Epoch 179/200\n",
      "836/836 [==============================] - 4s 4ms/step - loss: 0.9218 - accuracy: 0.7026 - val_loss: 1.0638 - val_accuracy: 0.6762\n",
      "Epoch 180/200\n",
      "836/836 [==============================] - 4s 5ms/step - loss: 0.9241 - accuracy: 0.7023 - val_loss: 1.0649 - val_accuracy: 0.6691\n",
      "Epoch 181/200\n",
      "836/836 [==============================] - 4s 5ms/step - loss: 0.9280 - accuracy: 0.7026 - val_loss: 1.0754 - val_accuracy: 0.6723\n",
      "Epoch 182/200\n",
      "836/836 [==============================] - 3s 4ms/step - loss: 0.9221 - accuracy: 0.7044 - val_loss: 1.0595 - val_accuracy: 0.6703\n",
      "Epoch 183/200\n",
      "836/836 [==============================] - 3s 4ms/step - loss: 0.9353 - accuracy: 0.6993 - val_loss: 1.0703 - val_accuracy: 0.6679\n",
      "Epoch 184/200\n",
      "836/836 [==============================] - 4s 5ms/step - loss: 0.9346 - accuracy: 0.7017 - val_loss: 1.0599 - val_accuracy: 0.6712\n",
      "Epoch 185/200\n",
      "836/836 [==============================] - 4s 5ms/step - loss: 0.9228 - accuracy: 0.7023 - val_loss: 1.0666 - val_accuracy: 0.6686\n",
      "Epoch 186/200\n",
      "836/836 [==============================] - 3s 4ms/step - loss: 0.9228 - accuracy: 0.7041 - val_loss: 1.0670 - val_accuracy: 0.6671\n",
      "Epoch 187/200\n",
      "836/836 [==============================] - 3s 4ms/step - loss: 0.9275 - accuracy: 0.7007 - val_loss: 1.0678 - val_accuracy: 0.6634\n",
      "Epoch 188/200\n",
      "836/836 [==============================] - 4s 5ms/step - loss: 0.9213 - accuracy: 0.7021 - val_loss: 1.0810 - val_accuracy: 0.6642\n",
      "Epoch 189/200\n",
      "836/836 [==============================] - 4s 5ms/step - loss: 0.9188 - accuracy: 0.7068 - val_loss: 1.0695 - val_accuracy: 0.6694\n",
      "Epoch 190/200\n",
      "836/836 [==============================] - 3s 4ms/step - loss: 0.9293 - accuracy: 0.7043 - val_loss: 1.0587 - val_accuracy: 0.6718\n",
      "Epoch 191/200\n",
      "836/836 [==============================] - 4s 4ms/step - loss: 0.9178 - accuracy: 0.7049 - val_loss: 1.0711 - val_accuracy: 0.6703\n",
      "Epoch 192/200\n",
      "836/836 [==============================] - 4s 5ms/step - loss: 0.9265 - accuracy: 0.7007 - val_loss: 1.0683 - val_accuracy: 0.6678\n",
      "Epoch 193/200\n",
      "836/836 [==============================] - 4s 5ms/step - loss: 0.9086 - accuracy: 0.7074 - val_loss: 1.0783 - val_accuracy: 0.6708\n",
      "Epoch 194/200\n",
      "836/836 [==============================] - 3s 4ms/step - loss: 0.9174 - accuracy: 0.7055 - val_loss: 1.0739 - val_accuracy: 0.6707\n",
      "Epoch 195/200\n",
      "836/836 [==============================] - 3s 4ms/step - loss: 0.9095 - accuracy: 0.7041 - val_loss: 1.0803 - val_accuracy: 0.6672\n",
      "Epoch 196/200\n",
      "836/836 [==============================] - 5s 6ms/step - loss: 0.9251 - accuracy: 0.7010 - val_loss: 1.0687 - val_accuracy: 0.6662\n",
      "Epoch 197/200\n",
      "836/836 [==============================] - 4s 4ms/step - loss: 0.9116 - accuracy: 0.7054 - val_loss: 1.0672 - val_accuracy: 0.6671\n",
      "Epoch 198/200\n",
      "836/836 [==============================] - 3s 4ms/step - loss: 0.9145 - accuracy: 0.7044 - val_loss: 1.0774 - val_accuracy: 0.6687\n",
      "Epoch 199/200\n",
      "836/836 [==============================] - 4s 4ms/step - loss: 0.9160 - accuracy: 0.7048 - val_loss: 1.0657 - val_accuracy: 0.6697\n",
      "Epoch 200/200\n",
      "836/836 [==============================] - 5s 6ms/step - loss: 0.9144 - accuracy: 0.7088 - val_loss: 1.0722 - val_accuracy: 0.6704\n",
      "372/372 [==============================] - 1s 3ms/step - loss: 1.0821 - accuracy: 0.6655\n",
      "Accuracy: 0.6655451059341431\n",
      "372/372 [==============================] - 1s 2ms/step\n"
     ]
    },
    {
     "name": "stderr",
     "output_type": "stream",
     "text": [
      "/usr/local/lib/python3.9/dist-packages/sklearn/metrics/_classification.py:1344: UndefinedMetricWarning: Precision and F-score are ill-defined and being set to 0.0 in labels with no predicted samples. Use `zero_division` parameter to control this behavior.\n",
      "  _warn_prf(average, modifier, msg_start, len(result))\n",
      "/usr/local/lib/python3.9/dist-packages/sklearn/metrics/_classification.py:1344: UndefinedMetricWarning: Precision and F-score are ill-defined and being set to 0.0 in labels with no predicted samples. Use `zero_division` parameter to control this behavior.\n",
      "  _warn_prf(average, modifier, msg_start, len(result))\n",
      "/usr/local/lib/python3.9/dist-packages/sklearn/metrics/_classification.py:1344: UndefinedMetricWarning: Precision and F-score are ill-defined and being set to 0.0 in labels with no predicted samples. Use `zero_division` parameter to control this behavior.\n",
      "  _warn_prf(average, modifier, msg_start, len(result))\n"
     ]
    }
   ],
   "source": [
    "tf.random.set_seed(42)\n",
    "\n",
    "# Same setup as before\n",
    "model = keras.Sequential()\n",
    "model.add(layers.Dense(128, activation='relu', input_dim=X_train.shape[1]))\n",
    "model.add(layers.Dropout(0.5))\n",
    "model.add(layers.Dense(64, activation='relu'))\n",
    "model.add(layers.Dropout(0.5))\n",
    "model.add(layers.Dense(32, activation='relu'))\n",
    "model.add(layers.Dropout(0.5))\n",
    "model.add(layers.Dense(len(label_encoder.classes_), activation='softmax'))\n",
    "\n",
    "# Compile the model\n",
    "model.compile(optimizer='adam',\n",
    "              loss='sparse_categorical_crossentropy',\n",
    "              metrics=['accuracy'])\n",
    "\n",
    "# Same as before except with 200 epochs\n",
    "history = model.fit(X_train_subset_scaled, y_train_subset, \n",
    "                    epochs=200, \n",
    "                    batch_size=32, \n",
    "                    # verbose=3,\n",
    "                    validation_data=(X_val_scaled, y_val))\n",
    "\n",
    "# Evaluate the model \n",
    "loss,optimized_nn_accuracy = model.evaluate(X_test_scaled, y_test) \n",
    "print(\"Accuracy:\", optimized_nn_accuracy)\n",
    "\n",
    "# Generate predictions\n",
    "y_pred = np.argmax(model.predict(X_test_scaled), axis=-1)\n",
    "\n",
    "# class report\n",
    "optimized_nn_class_report = classification_report(y_test, y_pred, output_dict=True)\n",
    "\n"
   ]
  },
  {
   "cell_type": "markdown",
   "metadata": {
    "colab": {
     "base_uri": "https://localhost:8080/",
     "height": 564
    },
    "id": "zVdx7Pu8cjbM",
    "outputId": "3450fefa-d645-4cc4-9925-4b97874d2488"
   },
   "source": [
    "Visually, it looks like right around 100 epochs is the where the divergence occured. It was worth double checking. I will use this information to train my final optimized model. There are many other hyperparameters I could have tuned such as: learning rate, activation functions, number of layers/neurons, and batch size. I plan to implement these at a later date."
   ]
  },
  {
   "cell_type": "code",
   "execution_count": 24,
   "metadata": {
    "colab": {
     "base_uri": "https://localhost:8080/",
     "height": 564
    },
    "id": "iY5mWj2tRXO6",
    "outputId": "7f44283c-b41c-41ba-aa05-ad336e1d9910"
   },
   "outputs": [
    {
     "data": {
      "image/png": "[encoded data removed]",
      "text/plain": [
       "<Figure size 1200x600 with 2 Axes>"
      ]
     },
     "metadata": {},
     "output_type": "display_data"
    }
   ],
   "source": [
    "\n",
    "#ploot accuracy and model loss\n",
    "fig, ax = plt.subplots(1, 2, figsize=(12, 6))\n",
    "ax[0].plot(history.history['accuracy'])\n",
    "ax[0].plot(history.history['val_accuracy'])\n",
    "ax[0].set_title('Model Accuracy')\n",
    "ax[0].set_xlabel('Epochs')\n",
    "ax[0].set_ylabel('Accuracy')\n",
    "ax[0].legend(['train', 'val'], loc='upper left')\n",
    "\n",
    "ax[1].plot(history.history['loss'])\n",
    "ax[1].plot(history.history['val_loss'])\n",
    "ax[1].set_title('Model Loss')\n",
    "ax[1].set_xlabel('Epochs')\n",
    "ax[1].set_ylabel('Loss')\n",
    "ax[1].legend(['train', 'val'], loc='upper left')\n",
    "\n",
    "plt.show()"
   ]
  },
  {
   "cell_type": "markdown",
   "metadata": {},
   "source": [
    "Taking the epoch information from above, I train and save my final model then add its testing success metrics to their dataframes."
   ]
  },
  {
   "cell_type": "code",
   "execution_count": 27,
   "metadata": {
    "colab": {
     "base_uri": "https://localhost:8080/"
    },
    "id": "7MZBfbOjVAKf",
    "outputId": "d28c4bcb-0a54-4b0c-a2d9-4e1c08da9341"
   },
   "outputs": [
    {
     "name": "stdout",
     "output_type": "stream",
     "text": [
      "Epoch 1/100\n",
      "836/836 [==============================] - 4s 3ms/step - loss: 1.7588 - accuracy: 0.3989\n",
      "Epoch 2/100\n",
      "836/836 [==============================] - 3s 4ms/step - loss: 1.4964 - accuracy: 0.4950\n",
      "Epoch 3/100\n",
      "836/836 [==============================] - 4s 5ms/step - loss: 1.4067 - accuracy: 0.5328\n",
      "Epoch 4/100\n",
      "836/836 [==============================] - 3s 3ms/step - loss: 1.3484 - accuracy: 0.5563\n",
      "Epoch 5/100\n",
      "836/836 [==============================] - 3s 4ms/step - loss: 1.3020 - accuracy: 0.5708\n",
      "Epoch 6/100\n",
      "836/836 [==============================] - 3s 3ms/step - loss: 1.2856 - accuracy: 0.5859\n",
      "Epoch 7/100\n",
      "836/836 [==============================] - 4s 4ms/step - loss: 1.2602 - accuracy: 0.5894\n",
      "Epoch 8/100\n",
      "836/836 [==============================] - 3s 4ms/step - loss: 1.2492 - accuracy: 0.5912\n",
      "Epoch 9/100\n",
      "836/836 [==============================] - 3s 3ms/step - loss: 1.2301 - accuracy: 0.5985\n",
      "Epoch 10/100\n",
      "836/836 [==============================] - 3s 3ms/step - loss: 1.2193 - accuracy: 0.6047\n",
      "Epoch 11/100\n",
      "836/836 [==============================] - 3s 3ms/step - loss: 1.2110 - accuracy: 0.6072\n",
      "Epoch 12/100\n",
      "836/836 [==============================] - 4s 4ms/step - loss: 1.2063 - accuracy: 0.6095\n",
      "Epoch 13/100\n",
      "836/836 [==============================] - 3s 4ms/step - loss: 1.1912 - accuracy: 0.6127\n",
      "Epoch 14/100\n",
      "836/836 [==============================] - 3s 3ms/step - loss: 1.1878 - accuracy: 0.6137\n",
      "Epoch 15/100\n",
      "836/836 [==============================] - 3s 3ms/step - loss: 1.1705 - accuracy: 0.6175\n",
      "Epoch 16/100\n",
      "836/836 [==============================] - 3s 3ms/step - loss: 1.1774 - accuracy: 0.6204\n",
      "Epoch 17/100\n",
      "836/836 [==============================] - 4s 5ms/step - loss: 1.1572 - accuracy: 0.6224\n",
      "Epoch 18/100\n",
      "836/836 [==============================] - 3s 4ms/step - loss: 1.1513 - accuracy: 0.6256\n",
      "Epoch 19/100\n",
      "836/836 [==============================] - 3s 3ms/step - loss: 1.1502 - accuracy: 0.6289\n",
      "Epoch 20/100\n",
      "836/836 [==============================] - 3s 4ms/step - loss: 1.1480 - accuracy: 0.6291\n",
      "Epoch 21/100\n",
      "836/836 [==============================] - 3s 4ms/step - loss: 1.1435 - accuracy: 0.6307\n",
      "Epoch 22/100\n",
      "836/836 [==============================] - 4s 5ms/step - loss: 1.1394 - accuracy: 0.6298\n",
      "Epoch 23/100\n",
      "836/836 [==============================] - 3s 3ms/step - loss: 1.1262 - accuracy: 0.6345\n",
      "Epoch 24/100\n",
      "836/836 [==============================] - 3s 3ms/step - loss: 1.1218 - accuracy: 0.6344\n",
      "Epoch 25/100\n",
      "836/836 [==============================] - 3s 4ms/step - loss: 1.1137 - accuracy: 0.6388\n",
      "Epoch 26/100\n",
      "836/836 [==============================] - 4s 4ms/step - loss: 1.1163 - accuracy: 0.6371\n",
      "Epoch 27/100\n",
      "836/836 [==============================] - 3s 4ms/step - loss: 1.1134 - accuracy: 0.6384\n",
      "Epoch 28/100\n",
      "836/836 [==============================] - 3s 3ms/step - loss: 1.1112 - accuracy: 0.6393\n",
      "Epoch 29/100\n",
      "836/836 [==============================] - 4s 4ms/step - loss: 1.1115 - accuracy: 0.6403\n",
      "Epoch 30/100\n",
      "836/836 [==============================] - 3s 3ms/step - loss: 1.1059 - accuracy: 0.6384\n",
      "Epoch 31/100\n",
      "836/836 [==============================] - 4s 5ms/step - loss: 1.1091 - accuracy: 0.6423\n",
      "Epoch 32/100\n",
      "836/836 [==============================] - 3s 4ms/step - loss: 1.0993 - accuracy: 0.6417\n",
      "Epoch 33/100\n",
      "836/836 [==============================] - 3s 3ms/step - loss: 1.0971 - accuracy: 0.6398\n",
      "Epoch 34/100\n",
      "836/836 [==============================] - 3s 4ms/step - loss: 1.0939 - accuracy: 0.6450\n",
      "Epoch 35/100\n",
      "836/836 [==============================] - 3s 4ms/step - loss: 1.0914 - accuracy: 0.6475\n",
      "Epoch 36/100\n",
      "836/836 [==============================] - 5s 6ms/step - loss: 1.0880 - accuracy: 0.6471\n",
      "Epoch 37/100\n",
      "836/836 [==============================] - 3s 3ms/step - loss: 1.0844 - accuracy: 0.6466\n",
      "Epoch 38/100\n",
      "836/836 [==============================] - 3s 3ms/step - loss: 1.0870 - accuracy: 0.6479\n",
      "Epoch 39/100\n",
      "836/836 [==============================] - 3s 3ms/step - loss: 1.0824 - accuracy: 0.6505\n",
      "Epoch 40/100\n",
      "836/836 [==============================] - 4s 5ms/step - loss: 1.0734 - accuracy: 0.6540\n",
      "Epoch 41/100\n",
      "836/836 [==============================] - 3s 4ms/step - loss: 1.0754 - accuracy: 0.6508\n",
      "Epoch 42/100\n",
      "836/836 [==============================] - 3s 3ms/step - loss: 1.0665 - accuracy: 0.6532\n",
      "Epoch 43/100\n",
      "836/836 [==============================] - 3s 3ms/step - loss: 1.0647 - accuracy: 0.6569\n",
      "Epoch 44/100\n",
      "836/836 [==============================] - 3s 3ms/step - loss: 1.0660 - accuracy: 0.6517\n",
      "Epoch 45/100\n",
      "836/836 [==============================] - 4s 5ms/step - loss: 1.0615 - accuracy: 0.6539\n",
      "Epoch 46/100\n",
      "836/836 [==============================] - 3s 3ms/step - loss: 1.0569 - accuracy: 0.6583\n",
      "Epoch 47/100\n",
      "836/836 [==============================] - 3s 3ms/step - loss: 1.0574 - accuracy: 0.6573\n",
      "Epoch 48/100\n",
      "836/836 [==============================] - 3s 3ms/step - loss: 1.0571 - accuracy: 0.6553\n",
      "Epoch 49/100\n",
      "836/836 [==============================] - 3s 4ms/step - loss: 1.0546 - accuracy: 0.6575\n",
      "Epoch 50/100\n",
      "836/836 [==============================] - 4s 5ms/step - loss: 1.0473 - accuracy: 0.6594\n",
      "Epoch 51/100\n",
      "836/836 [==============================] - 3s 3ms/step - loss: 1.0568 - accuracy: 0.6595\n",
      "Epoch 52/100\n",
      "836/836 [==============================] - 3s 3ms/step - loss: 1.0432 - accuracy: 0.6630\n",
      "Epoch 53/100\n",
      "836/836 [==============================] - 3s 4ms/step - loss: 1.0491 - accuracy: 0.6592\n",
      "Epoch 54/100\n",
      "836/836 [==============================] - 4s 5ms/step - loss: 1.0429 - accuracy: 0.6615\n",
      "Epoch 55/100\n",
      "836/836 [==============================] - 4s 4ms/step - loss: 1.0433 - accuracy: 0.6620\n",
      "Epoch 56/100\n",
      "836/836 [==============================] - 3s 3ms/step - loss: 1.0384 - accuracy: 0.6637\n",
      "Epoch 57/100\n",
      "836/836 [==============================] - 3s 4ms/step - loss: 1.0447 - accuracy: 0.6615\n",
      "Epoch 58/100\n",
      "836/836 [==============================] - 3s 4ms/step - loss: 1.0355 - accuracy: 0.6626\n",
      "Epoch 59/100\n",
      "836/836 [==============================] - 4s 5ms/step - loss: 1.0417 - accuracy: 0.6602\n",
      "Epoch 60/100\n",
      "836/836 [==============================] - 3s 4ms/step - loss: 1.0388 - accuracy: 0.6623\n",
      "Epoch 61/100\n",
      "836/836 [==============================] - 3s 3ms/step - loss: 1.0327 - accuracy: 0.6664\n",
      "Epoch 62/100\n",
      "836/836 [==============================] - 3s 3ms/step - loss: 1.0253 - accuracy: 0.6673\n",
      "Epoch 63/100\n",
      "836/836 [==============================] - 3s 4ms/step - loss: 1.0355 - accuracy: 0.6658\n",
      "Epoch 64/100\n",
      "836/836 [==============================] - 4s 5ms/step - loss: 1.0297 - accuracy: 0.6651\n",
      "Epoch 65/100\n",
      "836/836 [==============================] - 3s 3ms/step - loss: 1.0268 - accuracy: 0.6653\n",
      "Epoch 66/100\n",
      "836/836 [==============================] - 3s 3ms/step - loss: 1.0297 - accuracy: 0.6692\n",
      "Epoch 67/100\n",
      "836/836 [==============================] - 3s 3ms/step - loss: 1.0272 - accuracy: 0.6667\n",
      "Epoch 68/100\n",
      "836/836 [==============================] - 4s 4ms/step - loss: 1.0200 - accuracy: 0.6731\n",
      "Epoch 69/100\n",
      "836/836 [==============================] - 4s 4ms/step - loss: 1.0253 - accuracy: 0.6702\n",
      "Epoch 70/100\n",
      "836/836 [==============================] - 3s 3ms/step - loss: 1.0200 - accuracy: 0.6694\n",
      "Epoch 71/100\n",
      "836/836 [==============================] - 3s 3ms/step - loss: 1.0184 - accuracy: 0.6716\n",
      "Epoch 72/100\n",
      "836/836 [==============================] - 3s 3ms/step - loss: 1.0169 - accuracy: 0.6690\n",
      "Epoch 73/100\n",
      "836/836 [==============================] - 4s 5ms/step - loss: 1.0125 - accuracy: 0.6721\n",
      "Epoch 74/100\n",
      "836/836 [==============================] - 3s 4ms/step - loss: 1.0147 - accuracy: 0.6738\n",
      "Epoch 75/100\n",
      "836/836 [==============================] - 3s 3ms/step - loss: 1.0134 - accuracy: 0.6769\n",
      "Epoch 76/100\n",
      "836/836 [==============================] - 3s 3ms/step - loss: 1.0119 - accuracy: 0.6749\n",
      "Epoch 77/100\n",
      "836/836 [==============================] - 3s 4ms/step - loss: 1.0196 - accuracy: 0.6714\n",
      "Epoch 78/100\n",
      "836/836 [==============================] - 4s 5ms/step - loss: 1.0031 - accuracy: 0.6772\n",
      "Epoch 79/100\n",
      "836/836 [==============================] - 3s 4ms/step - loss: 1.0114 - accuracy: 0.6727\n",
      "Epoch 80/100\n",
      "836/836 [==============================] - 3s 3ms/step - loss: 1.0029 - accuracy: 0.6767\n",
      "Epoch 81/100\n",
      "836/836 [==============================] - 3s 3ms/step - loss: 1.0037 - accuracy: 0.6772\n",
      "Epoch 82/100\n",
      "836/836 [==============================] - 4s 4ms/step - loss: 1.0049 - accuracy: 0.6778\n",
      "Epoch 83/100\n",
      "836/836 [==============================] - 4s 4ms/step - loss: 1.0112 - accuracy: 0.6755\n",
      "Epoch 84/100\n",
      "836/836 [==============================] - 3s 3ms/step - loss: 0.9973 - accuracy: 0.6769\n",
      "Epoch 85/100\n",
      "836/836 [==============================] - 3s 3ms/step - loss: 0.9990 - accuracy: 0.6746\n",
      "Epoch 86/100\n",
      "836/836 [==============================] - 3s 3ms/step - loss: 1.0004 - accuracy: 0.6751\n",
      "Epoch 87/100\n",
      "836/836 [==============================] - 4s 4ms/step - loss: 0.9941 - accuracy: 0.6768\n",
      "Epoch 88/100\n",
      "836/836 [==============================] - 3s 4ms/step - loss: 0.9910 - accuracy: 0.6824\n",
      "Epoch 89/100\n",
      "836/836 [==============================] - 3s 3ms/step - loss: 0.9982 - accuracy: 0.6781\n",
      "Epoch 90/100\n",
      "836/836 [==============================] - 3s 3ms/step - loss: 0.9988 - accuracy: 0.6787\n",
      "Epoch 91/100\n",
      "836/836 [==============================] - 3s 3ms/step - loss: 0.9971 - accuracy: 0.6788\n",
      "Epoch 92/100\n",
      "836/836 [==============================] - 4s 5ms/step - loss: 0.9944 - accuracy: 0.6773\n",
      "Epoch 93/100\n",
      "836/836 [==============================] - 3s 4ms/step - loss: 0.9932 - accuracy: 0.6815\n",
      "Epoch 94/100\n",
      "836/836 [==============================] - 3s 3ms/step - loss: 0.9902 - accuracy: 0.6814\n",
      "Epoch 95/100\n",
      "836/836 [==============================] - 3s 4ms/step - loss: 0.9851 - accuracy: 0.6785\n",
      "Epoch 96/100\n",
      "836/836 [==============================] - 3s 4ms/step - loss: 0.9893 - accuracy: 0.6825\n",
      "Epoch 97/100\n",
      "836/836 [==============================] - 4s 5ms/step - loss: 0.9898 - accuracy: 0.6805\n",
      "Epoch 98/100\n",
      "836/836 [==============================] - 3s 3ms/step - loss: 0.9876 - accuracy: 0.6804\n",
      "Epoch 99/100\n",
      "836/836 [==============================] - 3s 3ms/step - loss: 0.9826 - accuracy: 0.6851\n",
      "Epoch 100/100\n",
      "836/836 [==============================] - 3s 4ms/step - loss: 0.9904 - accuracy: 0.6824\n",
      "372/372 [==============================] - 1s 2ms/step - loss: 1.0385 - accuracy: 0.6749\n",
      "Accuracy: 0.6748822331428528\n",
      "372/372 [==============================] - 1s 2ms/step\n"
     ]
    },
    {
     "name": "stderr",
     "output_type": "stream",
     "text": [
      "/usr/local/lib/python3.9/dist-packages/sklearn/metrics/_classification.py:1344: UndefinedMetricWarning: Precision and F-score are ill-defined and being set to 0.0 in labels with no predicted samples. Use `zero_division` parameter to control this behavior.\n",
      "  _warn_prf(average, modifier, msg_start, len(result))\n",
      "/usr/local/lib/python3.9/dist-packages/sklearn/metrics/_classification.py:1344: UndefinedMetricWarning: Precision and F-score are ill-defined and being set to 0.0 in labels with no predicted samples. Use `zero_division` parameter to control this behavior.\n",
      "  _warn_prf(average, modifier, msg_start, len(result))\n",
      "/usr/local/lib/python3.9/dist-packages/sklearn/metrics/_classification.py:1344: UndefinedMetricWarning: Precision and F-score are ill-defined and being set to 0.0 in labels with no predicted samples. Use `zero_division` parameter to control this behavior.\n",
      "  _warn_prf(average, modifier, msg_start, len(result))\n"
     ]
    }
   ],
   "source": [
    "\n",
    "\n",
    "# Final model (same architecture as before)\n",
    "model = keras.Sequential()\n",
    "model.add(layers.Dense(128, activation='relu', input_dim=X_train_subset.shape[1]))\n",
    "model.add(layers.Dropout(0.5))\n",
    "model.add(layers.Dense(64, activation='relu'))\n",
    "model.add(layers.Dropout(0.5))\n",
    "model.add(layers.Dense(32, activation='relu'))\n",
    "model.add(layers.Dropout(0.5))\n",
    "model.add(layers.Dense(len(label_encoder.classes_), activation='softmax'))\n",
    "\n",
    "# Compile the model\n",
    "model.compile(optimizer='adam',\n",
    "              loss='sparse_categorical_crossentropy',\n",
    "              metrics=['accuracy'])\n",
    "\n",
    "# Train using 100 epochs\n",
    "history = model.fit(X_train_subset_scaled, y_train_subset, \n",
    "                    epochs=100, \n",
    "                    batch_size=32, \n",
    "                    )\n",
    "\n",
    "# Evaluate the model on the test set\n",
    "loss, final_nn_accuracy = model.evaluate(X_test_scaled, y_test)\n",
    "print(\"Accuracy:\", final_nn_accuracy)\n",
    "\n",
    "# Generate predictions \n",
    "y_pred = np.argmax(model.predict(X_test_scaled), axis=-1)\n",
    "\n",
    "\n",
    "final_nn_class_report = classification_report(y_test, y_pred, output_dict=True)\n",
    "\n",
    "model.save('final_nn_model.h5') #save the model to access later"
   ]
  },
  {
   "cell_type": "markdown",
   "metadata": {},
   "source": [
    "The model summary shown below shows the total number of trainable parameters, over 55,000. "
   ]
  },
  {
   "cell_type": "code",
   "execution_count": 28,
   "metadata": {
    "colab": {
     "base_uri": "https://localhost:8080/"
    },
    "id": "fskKmmqyaAls",
    "outputId": "7c976afd-f226-496c-e91b-63860aa349fc"
   },
   "outputs": [
    {
     "name": "stdout",
     "output_type": "stream",
     "text": [
      "Model: \"sequential_7\"\n",
      "_________________________________________________________________\n",
      " Layer (type)                Output Shape              Param #   \n",
      "=================================================================\n",
      " dense_22 (Dense)            (None, 128)               44928     \n",
      "                                                                 \n",
      " dropout_12 (Dropout)        (None, 128)               0         \n",
      "                                                                 \n",
      " dense_23 (Dense)            (None, 64)                8256      \n",
      "                                                                 \n",
      " dropout_13 (Dropout)        (None, 64)                0         \n",
      "                                                                 \n",
      " dense_24 (Dense)            (None, 32)                2080      \n",
      "                                                                 \n",
      " dropout_14 (Dropout)        (None, 32)                0         \n",
      "                                                                 \n",
      " dense_25 (Dense)            (None, 9)                 297       \n",
      "                                                                 \n",
      "=================================================================\n",
      "Total params: 55,561\n",
      "Trainable params: 55,561\n",
      "Non-trainable params: 0\n",
      "_________________________________________________________________\n"
     ]
    }
   ],
   "source": [
    "model.summary()"
   ]
  },
  {
   "cell_type": "code",
   "execution_count": 36,
   "metadata": {
    "colab": {
     "base_uri": "https://localhost:8080/"
    },
    "id": "ihhNvU1cZayH",
    "outputId": "ffbb16ec-9ca7-40f2-d97f-511b45890430"
   },
   "outputs": [
    {
     "name": "stdout",
     "output_type": "stream",
     "text": [
      "Optimized Accuracy:  0.6655451059341431\n"
     ]
    }
   ],
   "source": [
    "accuracy_df.loc['Neural Net', 'Optimized Accuracy'] = round(optimized_nn_accuracy,2)\n",
    "print('Optimized Accuracy: ', optimized_nn_accuracy)\n"
   ]
  },
  {
   "cell_type": "code",
   "execution_count": 37,
   "metadata": {
    "id": "gNTQPxXXZ0EP"
   },
   "outputs": [],
   "source": [
    "get_class_metrics(optimized_nn_class_report, 'optimized_nn',scores_df)"
   ]
  },
  {
   "cell_type": "markdown",
   "metadata": {},
   "source": [
    "Save the dataframes for next notebook."
   ]
  },
  {
   "cell_type": "code",
   "execution_count": 38,
   "metadata": {
    "id": "cPfFlmHETiBl"
   },
   "outputs": [],
   "source": [
    "scores_df.to_csv('Data/scores_df3.csv')"
   ]
  },
  {
   "cell_type": "code",
   "execution_count": 39,
   "metadata": {
    "id": "ymSVuKOiTm6b"
   },
   "outputs": [],
   "source": [
    "accuracy_df.to_csv('Data/accuracy_df3.csv')"
   ]
  }
 ],
 "metadata": {
  "colab": {
   "provenance": []
  },
  "kernelspec": {
   "display_name": "Python 3 (ipykernel)",
   "language": "python",
   "name": "python3"
  },
  "language_info": {
   "codemirror_mode": {
    "name": "ipython",
    "version": 3
   },
   "file_extension": ".py",
   "mimetype": "text/x-python",
   "name": "python",
   "nbconvert_exporter": "python",
   "pygments_lexer": "ipython3",
   "version": "3.9.13"
  }
 },
 "nbformat": 4,
 "nbformat_minor": 1
}
