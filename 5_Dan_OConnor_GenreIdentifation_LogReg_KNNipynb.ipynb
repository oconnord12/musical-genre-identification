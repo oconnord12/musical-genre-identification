{
 "cells": [
  {
   "cell_type": "markdown",
   "metadata": {},
   "source": [
    "# Modeling 2: Logistic Regression and K-Nearest Neighbors\n",
    "\n",
    "- **Author**: Dan O'Connor\n",
    "- **Notebook**: 5 of 9"
   ]
  },
  {
   "cell_type": "markdown",
   "metadata": {},
   "source": [
    "In this notebook I will continue with model testing. I use logistic regression and K-Nearest Neighbors (KNN). I continue to save their success metrics in their respective dataframes. I will perform a model analysis in notebook 9 where I take an in depth look."
   ]
  },
  {
   "cell_type": "markdown",
   "metadata": {},
   "source": [
    "## Table of Contents\n",
    "[Logistic Regression](#Logistic-Regression)\n",
    "\n",
    "[KNN](#KNN)\n"
   ]
  },
  {
   "cell_type": "markdown",
   "metadata": {},
   "source": [
    "import required libraries."
   ]
  },
  {
   "cell_type": "code",
   "execution_count": 1,
   "metadata": {
    "id": "FuB0KJ4ckuaz"
   },
   "outputs": [],
   "source": [
    "import pandas as pd\n",
    "import matplotlib.pyplot as plt\n",
    "import numpy as np\n",
    "from google.colab import drive #working in google colab"
   ]
  },
  {
   "cell_type": "code",
   "execution_count": 2,
   "metadata": {
    "colab": {
     "base_uri": "https://localhost:8080/"
    },
    "id": "aY2KOnyRmcyG",
    "outputId": "28f62dfe-4b59-48c3-b178-4ddef8a7ef46"
   },
   "outputs": [
    {
     "name": "stdout",
     "output_type": "stream",
     "text": [
      "Mounted at /content/gdrive\n"
     ]
    }
   ],
   "source": [
    "drive.mount('/content/gdrive', force_remount=True)"
   ]
  },
  {
   "cell_type": "code",
   "execution_count": 3,
   "metadata": {
    "colab": {
     "base_uri": "https://localhost:8080/"
    },
    "id": "RFYkdxEOK_Nb",
    "outputId": "ec1fd2ee-df0d-45fd-8963-1e3a727b3695"
   },
   "outputs": [
    {
     "name": "stdout",
     "output_type": "stream",
     "text": [
      "/content/gdrive/My Drive/Colab Notebooks\n"
     ]
    }
   ],
   "source": [
    "cd '/content/gdrive/My Drive/Colab Notebooks'"
   ]
  },
  {
   "cell_type": "markdown",
   "metadata": {},
   "source": [
    "Reading in the modeling dataframe as well as the success metrics dataframes."
   ]
  },
  {
   "cell_type": "code",
   "execution_count": 4,
   "metadata": {
    "id": "QX8b7Papmc7T"
   },
   "outputs": [],
   "source": [
    "subset_model_df = pd.read_csv('Data/subset_model_df.csv')"
   ]
  },
  {
   "cell_type": "code",
   "execution_count": 23,
   "metadata": {
    "id": "mzKtbJB1mdCQ"
   },
   "outputs": [],
   "source": [
    "accuracy_df = pd.read_csv('Data/accuracy_df1.csv', index_col='Model')"
   ]
  },
  {
   "cell_type": "code",
   "execution_count": 24,
   "metadata": {
    "id": "K-hNd1y_mdFF"
   },
   "outputs": [],
   "source": [
    "scores_df = pd.read_csv('Data/scores_df1.csv', index_col = 'Genres')"
   ]
  },
  {
   "cell_type": "markdown",
   "metadata": {},
   "source": [
    "Split the independent and dependent variables and label encode the independent then split into training and testing set (using the same random state as before, so the models can be directly comparable)."
   ]
  },
  {
   "cell_type": "code",
   "execution_count": 5,
   "metadata": {
    "id": "-ZjYr-84nJ5R"
   },
   "outputs": [],
   "source": [
    "X = subset_model_df.drop(columns='genre_top')\n",
    "y = subset_model_df['genre_top']"
   ]
  },
  {
   "cell_type": "code",
   "execution_count": 6,
   "metadata": {
    "id": "UDA7pzz4neDs"
   },
   "outputs": [],
   "source": [
    "from sklearn.preprocessing import LabelEncoder\n",
    "\n",
    "# Encoder object\n",
    "label_encoder = LabelEncoder()\n",
    "\n",
    "# Fit the encoder on y\n",
    "label_encoder.fit(y)\n",
    "\n",
    "# Transform\n",
    "y_encoded = label_encoder.transform(y)"
   ]
  },
  {
   "cell_type": "code",
   "execution_count": 7,
   "metadata": {
    "id": "d7DKJuORnhcI"
   },
   "outputs": [],
   "source": [
    "from sklearn.model_selection import train_test_split\n",
    "X_train, X_test, y_train, y_test = train_test_split(X,y_encoded, test_size=0.25, stratify=y,random_state=1)"
   ]
  },
  {
   "cell_type": "code",
   "execution_count": 87,
   "metadata": {
    "colab": {
     "base_uri": "https://localhost:8080/"
    },
    "id": "oiO6Lrub2pN5",
    "outputId": "9cf01e38-9fb3-4e37-ddfb-fd96cd6b86dc"
   },
   "outputs": [
    {
     "data": {
      "text/plain": [
       "array([1, 7, 1, ..., 1, 2, 2])"
      ]
     },
     "execution_count": 87,
     "metadata": {},
     "output_type": "execute_result"
    }
   ],
   "source": [
    "y_train # a look into classes 0-8"
   ]
  },
  {
   "cell_type": "code",
   "execution_count": 8,
   "metadata": {
    "id": "gUAOC67nnKXO"
   },
   "outputs": [],
   "source": [
    "from my_functions import get_class_metrics #importing class_metrics function"
   ]
  },
  {
   "cell_type": "markdown",
   "metadata": {
    "id": "U_yn4ECvm9yq"
   },
   "source": [
    "## Logistic Regression"
   ]
  },
  {
   "cell_type": "markdown",
   "metadata": {},
   "source": [
    "For multiple classes, a logistic regression takes a one versus all approach, effectively making it a binary classifaction run multiple times. For example when classifying rock, it would view:\n",
    "- rock vs. (folk + classical + pop + international + experimental + electronic + hip hop + instrumental)\n",
    "\n",
    "Below I run the baseline for log regression. I first fit the standard scaler to my X_train then transform it to X_test. This ensures there is no data leakage. I fit the model on the X_train_scaled and y_train and use a random state for reproducability."
   ]
  },
  {
   "cell_type": "code",
   "execution_count": 9,
   "metadata": {
    "id": "XkD8H34J0RVC"
   },
   "outputs": [],
   "source": [
    "import warnings\n",
    "warnings.filterwarnings(\"ignore\") #clear up the output for viewers sake"
   ]
  },
  {
   "cell_type": "code",
   "execution_count": 10,
   "metadata": {
    "colab": {
     "base_uri": "https://localhost:8080/"
    },
    "id": "d_CJP7JrmdJ7",
    "outputId": "95d376d5-2aef-481a-a1a7-f36909dbb190"
   },
   "outputs": [
    {
     "name": "stdout",
     "output_type": "stream",
     "text": [
      "Accuracy: 0.6583109017496636\n"
     ]
    }
   ],
   "source": [
    "from sklearn.metrics import classification_report, accuracy_score\n",
    "from sklearn.linear_model import LogisticRegression\n",
    "from sklearn.preprocessing import StandardScaler\n",
    "\n",
    "# create a new StandardScaler\n",
    "scaler = StandardScaler()\n",
    "\n",
    "# fit the scale\n",
    "scaler.fit(X_train)\n",
    "\n",
    "# transform the training and test data\n",
    "X_train_scaled = scaler.transform(X_train)\n",
    "X_test_scaled = scaler.transform(X_test)\n",
    "# Train a logistic regression classifier\n",
    "lr = LogisticRegression(random_state=1)\n",
    "lr.fit(X_train_scaled, y_train)\n",
    "\n",
    "# Predict on test data\n",
    "y_pred = lr.predict(X_test_scaled)\n",
    "\n",
    "# Calculate accuracy\n",
    "baseline_accuracy_lr = accuracy_score(y_test, y_pred)\n",
    "print(\"Accuracy:\", baseline_accuracy_lr)\n",
    "baseline_lr_class_report = classification_report(y_test,y_pred,output_dict=True)"
   ]
  },
  {
   "cell_type": "code",
   "execution_count": 96,
   "metadata": {
    "colab": {
     "base_uri": "https://localhost:8080/"
    },
    "id": "U_ZhVxW8g4OK",
    "outputId": "83a71ef1-c725-4d3b-cd37-9de7f35c1db1"
   },
   "outputs": [
    {
     "data": {
      "text/plain": [
       "0.6754157202546199"
      ]
     },
     "execution_count": 96,
     "metadata": {},
     "output_type": "execute_result"
    }
   ],
   "source": [
    "lr.score(X_train_scaled,y_train)"
   ]
  },
  {
   "cell_type": "code",
   "execution_count": 26,
   "metadata": {
    "id": "mgs4nvGKmdMO"
   },
   "outputs": [],
   "source": [
    "accuracy_df.loc['Logistic Regression', 'Baseline Accuracy'] = round(baseline_accuracy_lr,2) #add to df"
   ]
  },
  {
   "cell_type": "code",
   "execution_count": 27,
   "metadata": {
    "colab": {
     "base_uri": "https://localhost:8080/",
     "height": 300
    },
    "id": "0eEZAEGWNAze",
    "outputId": "9d242d91-5c64-40f5-afcb-42018a28a24d"
   },
   "outputs": [
    {
     "data": {
      "text/html": [
       "\n",
       "  <div id=\"df-b67bc3f4-6ad1-4829-a74c-b3ca657105bd\">\n",
       "    <div class=\"colab-df-container\">\n",
       "      <div>\n",
       "<style scoped>\n",
       "    .dataframe tbody tr th:only-of-type {\n",
       "        vertical-align: middle;\n",
       "    }\n",
       "\n",
       "    .dataframe tbody tr th {\n",
       "        vertical-align: top;\n",
       "    }\n",
       "\n",
       "    .dataframe thead th {\n",
       "        text-align: right;\n",
       "    }\n",
       "</style>\n",
       "<table border=\"1\" class=\"dataframe\">\n",
       "  <thead>\n",
       "    <tr style=\"text-align: right;\">\n",
       "      <th></th>\n",
       "      <th>Baseline Accuracy</th>\n",
       "      <th>Optimized Accuracy</th>\n",
       "    </tr>\n",
       "    <tr>\n",
       "      <th>Model</th>\n",
       "      <th></th>\n",
       "      <th></th>\n",
       "    </tr>\n",
       "  </thead>\n",
       "  <tbody>\n",
       "    <tr>\n",
       "      <th>Baseline</th>\n",
       "      <td>0.29</td>\n",
       "      <td>NaN</td>\n",
       "    </tr>\n",
       "    <tr>\n",
       "      <th>Logistic Regression</th>\n",
       "      <td>0.66</td>\n",
       "      <td>NaN</td>\n",
       "    </tr>\n",
       "    <tr>\n",
       "      <th>KNN</th>\n",
       "      <td>NaN</td>\n",
       "      <td>NaN</td>\n",
       "    </tr>\n",
       "    <tr>\n",
       "      <th>Random Forest</th>\n",
       "      <td>0.64</td>\n",
       "      <td>0.64</td>\n",
       "    </tr>\n",
       "    <tr>\n",
       "      <th>Decision Tree</th>\n",
       "      <td>0.47</td>\n",
       "      <td>0.52</td>\n",
       "    </tr>\n",
       "    <tr>\n",
       "      <th>Neural Net</th>\n",
       "      <td>NaN</td>\n",
       "      <td>NaN</td>\n",
       "    </tr>\n",
       "    <tr>\n",
       "      <th>SMOTE Neural Net</th>\n",
       "      <td>NaN</td>\n",
       "      <td>NaN</td>\n",
       "    </tr>\n",
       "  </tbody>\n",
       "</table>\n",
       "</div>\n",
       "      <button class=\"colab-df-convert\" onclick=\"convertToInteractive('df-b67bc3f4-6ad1-4829-a74c-b3ca657105bd')\"\n",
       "              title=\"Convert this dataframe to an interactive table.\"\n",
       "              style=\"display:none;\">\n",
       "        \n",
       "  <svg xmlns=\"http://www.w3.org/2000/svg\" height=\"24px\"viewBox=\"0 0 24 24\"\n",
       "       width=\"24px\">\n",
       "    <path d=\"M0 0h24v24H0V0z\" fill=\"none\"/>\n",
       "    <path d=\"M18.56 5.44l.94 2.06.94-2.06 2.06-.94-2.06-.94-.94-2.06-.94 2.06-2.06.94zm-11 1L8.5 8.5l.94-2.06 2.06-.94-2.06-.94L8.5 2.5l-.94 2.06-2.06.94zm10 10l.94 2.06.94-2.06 2.06-.94-2.06-.94-.94-2.06-.94 2.06-2.06.94z\"/><path d=\"M17.41 7.96l-1.37-1.37c-.4-.4-.92-.59-1.43-.59-.52 0-1.04.2-1.43.59L10.3 9.45l-7.72 7.72c-.78.78-.78 2.05 0 2.83L4 21.41c.39.39.9.59 1.41.59.51 0 1.02-.2 1.41-.59l7.78-7.78 2.81-2.81c.8-.78.8-2.07 0-2.86zM5.41 20L4 18.59l7.72-7.72 1.47 1.35L5.41 20z\"/>\n",
       "  </svg>\n",
       "      </button>\n",
       "      \n",
       "  <style>\n",
       "    .colab-df-container {\n",
       "      display:flex;\n",
       "      flex-wrap:wrap;\n",
       "      gap: 12px;\n",
       "    }\n",
       "\n",
       "    .colab-df-convert {\n",
       "      background-color: #E8F0FE;\n",
       "      border: none;\n",
       "      border-radius: 50%;\n",
       "      cursor: pointer;\n",
       "      display: none;\n",
       "      fill: #1967D2;\n",
       "      height: 32px;\n",
       "      padding: 0 0 0 0;\n",
       "      width: 32px;\n",
       "    }\n",
       "\n",
       "    .colab-df-convert:hover {\n",
       "      background-color: #E2EBFA;\n",
       "      box-shadow: 0px 1px 2px rgba(60, 64, 67, 0.3), 0px 1px 3px 1px rgba(60, 64, 67, 0.15);\n",
       "      fill: #174EA6;\n",
       "    }\n",
       "\n",
       "    [theme=dark] .colab-df-convert {\n",
       "      background-color: #3B4455;\n",
       "      fill: #D2E3FC;\n",
       "    }\n",
       "\n",
       "    [theme=dark] .colab-df-convert:hover {\n",
       "      background-color: #434B5C;\n",
       "      box-shadow: 0px 1px 3px 1px rgba(0, 0, 0, 0.15);\n",
       "      filter: drop-shadow(0px 1px 2px rgba(0, 0, 0, 0.3));\n",
       "      fill: #FFFFFF;\n",
       "    }\n",
       "  </style>\n",
       "\n",
       "      <script>\n",
       "        const buttonEl =\n",
       "          document.querySelector('#df-b67bc3f4-6ad1-4829-a74c-b3ca657105bd button.colab-df-convert');\n",
       "        buttonEl.style.display =\n",
       "          google.colab.kernel.accessAllowed ? 'block' : 'none';\n",
       "\n",
       "        async function convertToInteractive(key) {\n",
       "          const element = document.querySelector('#df-b67bc3f4-6ad1-4829-a74c-b3ca657105bd');\n",
       "          const dataTable =\n",
       "            await google.colab.kernel.invokeFunction('convertToInteractive',\n",
       "                                                     [key], {});\n",
       "          if (!dataTable) return;\n",
       "\n",
       "          const docLinkHtml = 'Like what you see? Visit the ' +\n",
       "            '<a target=\"_blank\" href=https://colab.research.google.com/notebooks/data_table.ipynb>data table notebook</a>'\n",
       "            + ' to learn more about interactive tables.';\n",
       "          element.innerHTML = '';\n",
       "          dataTable['output_type'] = 'display_data';\n",
       "          await google.colab.output.renderOutput(dataTable, element);\n",
       "          const docLink = document.createElement('div');\n",
       "          docLink.innerHTML = docLinkHtml;\n",
       "          element.appendChild(docLink);\n",
       "        }\n",
       "      </script>\n",
       "    </div>\n",
       "  </div>\n",
       "  "
      ],
      "text/plain": [
       "                     Baseline Accuracy  Optimized Accuracy\n",
       "Model                                                     \n",
       "Baseline                          0.29                 NaN\n",
       "Logistic Regression               0.66                 NaN\n",
       "KNN                                NaN                 NaN\n",
       "Random Forest                     0.64                0.64\n",
       "Decision Tree                     0.47                0.52\n",
       "Neural Net                         NaN                 NaN\n",
       "SMOTE Neural Net                   NaN                 NaN"
      ]
     },
     "execution_count": 27,
     "metadata": {},
     "output_type": "execute_result"
    }
   ],
   "source": [
    "accuracy_df"
   ]
  },
  {
   "cell_type": "code",
   "execution_count": 28,
   "metadata": {
    "id": "xVJurDl_mdOb"
   },
   "outputs": [],
   "source": [
    "get_class_metrics(baseline_lr_class_report, 'baseline_lr', scores_df) #get success metrics"
   ]
  },
  {
   "cell_type": "markdown",
   "metadata": {
    "id": "JylE9iEe7o0q"
   },
   "source": [
    "Below I am utilizing a grid search for the optimal hyperparameters for my logistic regression. I try two different scaling options, a logarithmic series of C values, and two different penalties."
   ]
  },
  {
   "cell_type": "code",
   "execution_count": 11,
   "metadata": {
    "colab": {
     "base_uri": "https://localhost:8080/"
    },
    "id": "bh9XCbvQmdQY",
    "outputId": "b276494b-61e7-4106-b5aa-bc88060a8532"
   },
   "outputs": [
    {
     "name": "stdout",
     "output_type": "stream",
     "text": [
      "Fitting 3 folds for each of 24 candidates, totalling 72 fits\n",
      "[CV 1/3] END model__C=0.001, model__penalty=l1, scaling=MinMaxScaler();, score=nan total time=   0.3s\n",
      "[CV 2/3] END model__C=0.001, model__penalty=l1, scaling=MinMaxScaler();, score=nan total time=   0.2s\n",
      "[CV 3/3] END model__C=0.001, model__penalty=l1, scaling=MinMaxScaler();, score=nan total time=   0.4s\n",
      "[CV 1/3] END model__C=0.001, model__penalty=l1, scaling=StandardScaler();, score=nan total time=   0.7s\n",
      "[CV 2/3] END model__C=0.001, model__penalty=l1, scaling=StandardScaler();, score=nan total time=   0.4s\n",
      "[CV 3/3] END model__C=0.001, model__penalty=l1, scaling=StandardScaler();, score=nan total time=   0.3s\n",
      "[CV 1/3] END model__C=0.001, model__penalty=l2, scaling=MinMaxScaler();, score=0.478 total time=  18.6s\n",
      "[CV 2/3] END model__C=0.001, model__penalty=l2, scaling=MinMaxScaler();, score=0.472 total time=  10.0s\n",
      "[CV 3/3] END model__C=0.001, model__penalty=l2, scaling=MinMaxScaler();, score=0.473 total time=   9.4s\n",
      "[CV 1/3] END model__C=0.001, model__penalty=l2, scaling=StandardScaler();, score=0.630 total time=   6.6s\n",
      "[CV 2/3] END model__C=0.001, model__penalty=l2, scaling=StandardScaler();, score=0.644 total time=   8.7s\n",
      "[CV 3/3] END model__C=0.001, model__penalty=l2, scaling=StandardScaler();, score=0.641 total time=   6.6s\n",
      "[CV 1/3] END model__C=0.01, model__penalty=l1, scaling=MinMaxScaler();, score=nan total time=   0.2s\n",
      "[CV 2/3] END model__C=0.01, model__penalty=l1, scaling=MinMaxScaler();, score=nan total time=   0.1s\n",
      "[CV 3/3] END model__C=0.01, model__penalty=l1, scaling=MinMaxScaler();, score=nan total time=   0.1s\n",
      "[CV 1/3] END model__C=0.01, model__penalty=l1, scaling=StandardScaler();, score=nan total time=   0.2s\n",
      "[CV 2/3] END model__C=0.01, model__penalty=l1, scaling=StandardScaler();, score=nan total time=   0.2s\n",
      "[CV 3/3] END model__C=0.01, model__penalty=l1, scaling=StandardScaler();, score=nan total time=   0.2s\n",
      "[CV 1/3] END model__C=0.01, model__penalty=l2, scaling=MinMaxScaler();, score=0.563 total time=   8.9s\n",
      "[CV 2/3] END model__C=0.01, model__penalty=l2, scaling=MinMaxScaler();, score=0.562 total time=   6.4s\n",
      "[CV 3/3] END model__C=0.01, model__penalty=l2, scaling=MinMaxScaler();, score=0.559 total time=   8.6s\n",
      "[CV 1/3] END model__C=0.01, model__penalty=l2, scaling=StandardScaler();, score=0.644 total time=   6.8s\n",
      "[CV 2/3] END model__C=0.01, model__penalty=l2, scaling=StandardScaler();, score=0.656 total time=   8.5s\n",
      "[CV 3/3] END model__C=0.01, model__penalty=l2, scaling=StandardScaler();, score=0.658 total time=   6.8s\n",
      "[CV 1/3] END model__C=0.1, model__penalty=l1, scaling=MinMaxScaler();, score=nan total time=   0.2s\n",
      "[CV 2/3] END model__C=0.1, model__penalty=l1, scaling=MinMaxScaler();, score=nan total time=   0.2s\n",
      "[CV 3/3] END model__C=0.1, model__penalty=l1, scaling=MinMaxScaler();, score=nan total time=   0.2s\n",
      "[CV 1/3] END model__C=0.1, model__penalty=l1, scaling=StandardScaler();, score=nan total time=   0.2s\n",
      "[CV 2/3] END model__C=0.1, model__penalty=l1, scaling=StandardScaler();, score=nan total time=   0.2s\n",
      "[CV 3/3] END model__C=0.1, model__penalty=l1, scaling=StandardScaler();, score=nan total time=   0.2s\n",
      "[CV 1/3] END model__C=0.1, model__penalty=l2, scaling=MinMaxScaler();, score=0.612 total time=   8.2s\n",
      "[CV 2/3] END model__C=0.1, model__penalty=l2, scaling=MinMaxScaler();, score=0.622 total time=   7.9s\n",
      "[CV 3/3] END model__C=0.1, model__penalty=l2, scaling=MinMaxScaler();, score=0.618 total time=   7.3s\n",
      "[CV 1/3] END model__C=0.1, model__penalty=l2, scaling=StandardScaler();, score=0.644 total time=   8.1s\n",
      "[CV 2/3] END model__C=0.1, model__penalty=l2, scaling=StandardScaler();, score=0.654 total time=   6.7s\n",
      "[CV 3/3] END model__C=0.1, model__penalty=l2, scaling=StandardScaler();, score=0.657 total time=   9.2s\n",
      "[CV 1/3] END model__C=1, model__penalty=l1, scaling=MinMaxScaler();, score=nan total time=   0.2s\n",
      "[CV 2/3] END model__C=1, model__penalty=l1, scaling=MinMaxScaler();, score=nan total time=   0.2s\n",
      "[CV 3/3] END model__C=1, model__penalty=l1, scaling=MinMaxScaler();, score=nan total time=   0.4s\n",
      "[CV 1/3] END model__C=1, model__penalty=l1, scaling=StandardScaler();, score=nan total time=   0.2s\n",
      "[CV 2/3] END model__C=1, model__penalty=l1, scaling=StandardScaler();, score=nan total time=   0.2s\n",
      "[CV 3/3] END model__C=1, model__penalty=l1, scaling=StandardScaler();, score=nan total time=   0.2s\n",
      "[CV 1/3] END model__C=1, model__penalty=l2, scaling=MinMaxScaler();, score=0.615 total time=   6.5s\n",
      "[CV 2/3] END model__C=1, model__penalty=l2, scaling=MinMaxScaler();, score=0.625 total time=   8.5s\n",
      "[CV 3/3] END model__C=1, model__penalty=l2, scaling=MinMaxScaler();, score=0.631 total time=   6.4s\n",
      "[CV 1/3] END model__C=1, model__penalty=l2, scaling=StandardScaler();, score=0.643 total time=   8.4s\n",
      "[CV 2/3] END model__C=1, model__penalty=l2, scaling=StandardScaler();, score=0.651 total time=   6.5s\n",
      "[CV 3/3] END model__C=1, model__penalty=l2, scaling=StandardScaler();, score=0.656 total time=   8.4s\n",
      "[CV 1/3] END model__C=10, model__penalty=l1, scaling=MinMaxScaler();, score=nan total time=   0.2s\n",
      "[CV 2/3] END model__C=10, model__penalty=l1, scaling=MinMaxScaler();, score=nan total time=   0.1s\n",
      "[CV 3/3] END model__C=10, model__penalty=l1, scaling=MinMaxScaler();, score=nan total time=   0.1s\n",
      "[CV 1/3] END model__C=10, model__penalty=l1, scaling=StandardScaler();, score=nan total time=   0.2s\n",
      "[CV 2/3] END model__C=10, model__penalty=l1, scaling=StandardScaler();, score=nan total time=   0.2s\n",
      "[CV 3/3] END model__C=10, model__penalty=l1, scaling=StandardScaler();, score=nan total time=   0.2s\n",
      "[CV 1/3] END model__C=10, model__penalty=l2, scaling=MinMaxScaler();, score=0.619 total time=   6.5s\n",
      "[CV 2/3] END model__C=10, model__penalty=l2, scaling=MinMaxScaler();, score=0.628 total time=   8.6s\n",
      "[CV 3/3] END model__C=10, model__penalty=l2, scaling=MinMaxScaler();, score=0.630 total time=   6.4s\n",
      "[CV 1/3] END model__C=10, model__penalty=l2, scaling=StandardScaler();, score=0.643 total time=   8.3s\n",
      "[CV 2/3] END model__C=10, model__penalty=l2, scaling=StandardScaler();, score=0.652 total time=   6.5s\n",
      "[CV 3/3] END model__C=10, model__penalty=l2, scaling=StandardScaler();, score=0.655 total time=   8.9s\n",
      "[CV 1/3] END model__C=100, model__penalty=l1, scaling=MinMaxScaler();, score=nan total time=   0.2s\n",
      "[CV 2/3] END model__C=100, model__penalty=l1, scaling=MinMaxScaler();, score=nan total time=   0.1s\n",
      "[CV 3/3] END model__C=100, model__penalty=l1, scaling=MinMaxScaler();, score=nan total time=   0.1s\n",
      "[CV 1/3] END model__C=100, model__penalty=l1, scaling=StandardScaler();, score=nan total time=   0.2s\n",
      "[CV 2/3] END model__C=100, model__penalty=l1, scaling=StandardScaler();, score=nan total time=   0.2s\n",
      "[CV 3/3] END model__C=100, model__penalty=l1, scaling=StandardScaler();, score=nan total time=   0.2s\n",
      "[CV 1/3] END model__C=100, model__penalty=l2, scaling=MinMaxScaler();, score=0.616 total time=   7.4s\n",
      "[CV 2/3] END model__C=100, model__penalty=l2, scaling=MinMaxScaler();, score=0.625 total time=   8.3s\n",
      "[CV 3/3] END model__C=100, model__penalty=l2, scaling=MinMaxScaler();, score=0.626 total time=   7.2s\n",
      "[CV 1/3] END model__C=100, model__penalty=l2, scaling=StandardScaler();, score=0.644 total time=   8.0s\n",
      "[CV 2/3] END model__C=100, model__penalty=l2, scaling=StandardScaler();, score=0.652 total time=   7.2s\n",
      "[CV 3/3] END model__C=100, model__penalty=l2, scaling=StandardScaler();, score=0.655 total time=   7.8s\n",
      "Accuracy:  0.6609185733512786\n"
     ]
    }
   ],
   "source": [
    "from sklearn.pipeline import Pipeline\n",
    "from sklearn.model_selection import GridSearchCV, KFold\n",
    "from sklearn.preprocessing import MinMaxScaler\n",
    "\n",
    "pipeline = Pipeline([\n",
    "    ('scaling', None),\n",
    "    ('model', LogisticRegression())\n",
    "])\n",
    "\n",
    "#parameter grid\n",
    "param_grid = {\n",
    "    'scaling': [MinMaxScaler(), StandardScaler()],\n",
    "    'model__C': [0.001,0.01, 0.1, 1, 10,100],\n",
    "    'model__penalty': ['l1', 'l2']\n",
    "}\n",
    "\n",
    "#cross-val\n",
    "cv = KFold(n_splits=3, shuffle=True, random_state=42)\n",
    "\n",
    "# gridSearch object\n",
    "grid_search = GridSearchCV(pipeline, param_grid, cv=cv,verbose=3)\n",
    "\n",
    "# Fit the GridSearchobject on training data\n",
    "grid_search.fit(X_train, y_train)\n",
    "\n",
    "# Evaluate the best model \n",
    "best_model_lr = grid_search.best_estimator_\n",
    "y_pred = best_model_lr.predict(X_test)\n",
    "optimized_score_lr = best_model_lr.score(X_test, y_test)\n",
    "print('Accuracy: ', optimized_score_lr)\n",
    "optimized_lr_class_report = classification_report(y_test,y_pred,output_dict=True)"
   ]
  },
  {
   "cell_type": "code",
   "execution_count": 29,
   "metadata": {
    "colab": {
     "base_uri": "https://localhost:8080/"
    },
    "id": "OppXNqg5g9zj",
    "outputId": "8edca583-7550-4292-934f-31337812d913"
   },
   "outputs": [
    {
     "name": "stdout",
     "output_type": "stream",
     "text": [
      "Pipeline(steps=[('scaling', StandardScaler()),\n",
      "                ('model', LogisticRegression(C=0.01))])\n"
     ]
    }
   ],
   "source": [
    "print(best_model_lr)"
   ]
  },
  {
   "cell_type": "markdown",
   "metadata": {},
   "source": [
    "The model with the best hyperparameters is then fit and saved, with the success metrics saved as well."
   ]
  },
  {
   "cell_type": "code",
   "execution_count": 12,
   "metadata": {
    "colab": {
     "base_uri": "https://localhost:8080/"
    },
    "id": "P7I0PEtndSuK",
    "outputId": "266cd129-06f8-40c9-c5da-9ac244d0d3c6"
   },
   "outputs": [
    {
     "name": "stdout",
     "output_type": "stream",
     "text": [
      "Accuracy:  0.6609185733512786\n"
     ]
    }
   ],
   "source": [
    "from joblib import dump\n",
    "lr = LogisticRegression(random_state=1, C=0.01 )\n",
    "lr.fit(X_train_scaled, y_train)\n",
    "\n",
    "\n",
    "\n",
    "dump(lr, 'logistic_regression_optimized.joblib') #save trained model\n",
    "\n",
    "y_pred =lr.predict(X_test)\n",
    "\n",
    "optimized_score_lr = lr.score(X_test_scaled, y_test)\n",
    "print('Accuracy: ', optimized_score_lr)\n",
    "optimized_lr_class_report = classification_report(y_test,y_pred,output_dict=True)"
   ]
  },
  {
   "cell_type": "code",
   "execution_count": 30,
   "metadata": {
    "colab": {
     "base_uri": "https://localhost:8080/"
    },
    "id": "_dmD7yjGmdSt",
    "outputId": "4ccd31ae-a2b7-496b-8a56-7ffcec84bec8"
   },
   "outputs": [
    {
     "name": "stdout",
     "output_type": "stream",
     "text": [
      "Accuracy:  0.6609185733512786\n"
     ]
    }
   ],
   "source": [
    "accuracy_df.loc['Logistic Regression', 'Optimized Accuracy'] = round(optimized_score_lr,2)\n",
    "print('Accuracy: ', optimized_score_lr)"
   ]
  },
  {
   "cell_type": "code",
   "execution_count": 31,
   "metadata": {
    "id": "p9d43GiCmdVG"
   },
   "outputs": [],
   "source": [
    "get_class_metrics(optimized_lr_class_report, 'optimized_lr',scores_df)"
   ]
  },
  {
   "cell_type": "code",
   "execution_count": 32,
   "metadata": {
    "colab": {
     "base_uri": "https://localhost:8080/",
     "height": 522
    },
    "id": "2jlxhYOEOaa3",
    "outputId": "8639621d-a120-4a1a-e228-7d1ea7ccdebd"
   },
   "outputs": [
    {
     "data": {
      "text/html": [
       "\n",
       "  <div id=\"df-9631d2ac-bb0a-4dde-b50e-a5e722c24db4\">\n",
       "    <div class=\"colab-df-container\">\n",
       "      <div>\n",
       "<style scoped>\n",
       "    .dataframe tbody tr th:only-of-type {\n",
       "        vertical-align: middle;\n",
       "    }\n",
       "\n",
       "    .dataframe tbody tr th {\n",
       "        vertical-align: top;\n",
       "    }\n",
       "\n",
       "    .dataframe thead th {\n",
       "        text-align: right;\n",
       "    }\n",
       "</style>\n",
       "<table border=\"1\" class=\"dataframe\">\n",
       "  <thead>\n",
       "    <tr style=\"text-align: right;\">\n",
       "      <th></th>\n",
       "      <th>index</th>\n",
       "      <th>baseline_recall</th>\n",
       "      <th>baseline_f1</th>\n",
       "      <th>baseline_precision</th>\n",
       "      <th>baseline_dt_recall</th>\n",
       "      <th>baseline_dt_f1-score</th>\n",
       "      <th>baseline_dt_precision</th>\n",
       "      <th>optimized_dt_recall</th>\n",
       "      <th>optimized_dt_f1-score</th>\n",
       "      <th>optimized_dt_precision</th>\n",
       "      <th>...</th>\n",
       "      <th>baseline_rf_precision</th>\n",
       "      <th>optimized_rf_recall</th>\n",
       "      <th>optimized_rf_f1-score</th>\n",
       "      <th>optimized_rf_precision</th>\n",
       "      <th>baseline_lr_recall</th>\n",
       "      <th>baseline_lr_f1-score</th>\n",
       "      <th>baseline_lr_precision</th>\n",
       "      <th>optimized_lr_recall</th>\n",
       "      <th>optimized_lr_f1-score</th>\n",
       "      <th>optimized_lr_precision</th>\n",
       "    </tr>\n",
       "    <tr>\n",
       "      <th>Genres</th>\n",
       "      <th></th>\n",
       "      <th></th>\n",
       "      <th></th>\n",
       "      <th></th>\n",
       "      <th></th>\n",
       "      <th></th>\n",
       "      <th></th>\n",
       "      <th></th>\n",
       "      <th></th>\n",
       "      <th></th>\n",
       "      <th></th>\n",
       "      <th></th>\n",
       "      <th></th>\n",
       "      <th></th>\n",
       "      <th></th>\n",
       "      <th></th>\n",
       "      <th></th>\n",
       "      <th></th>\n",
       "      <th></th>\n",
       "      <th></th>\n",
       "      <th></th>\n",
       "    </tr>\n",
       "  </thead>\n",
       "  <tbody>\n",
       "    <tr>\n",
       "      <th>Classical</th>\n",
       "      <td>0</td>\n",
       "      <td>0.025893</td>\n",
       "      <td>0.025846</td>\n",
       "      <td>0.025840</td>\n",
       "      <td>0.500000</td>\n",
       "      <td>0.511628</td>\n",
       "      <td>0.523810</td>\n",
       "      <td>0.538961</td>\n",
       "      <td>0.549669</td>\n",
       "      <td>0.560811</td>\n",
       "      <td>...</td>\n",
       "      <td>0.855469</td>\n",
       "      <td>0.678862</td>\n",
       "      <td>0.743875</td>\n",
       "      <td>0.822660</td>\n",
       "      <td>0.762987</td>\n",
       "      <td>0.788591</td>\n",
       "      <td>0.815972</td>\n",
       "      <td>0.035714</td>\n",
       "      <td>0.057143</td>\n",
       "      <td>0.142857</td>\n",
       "    </tr>\n",
       "    <tr>\n",
       "      <th>Electronic</th>\n",
       "      <td>1</td>\n",
       "      <td>0.197050</td>\n",
       "      <td>0.197048</td>\n",
       "      <td>0.197078</td>\n",
       "      <td>0.456253</td>\n",
       "      <td>0.456740</td>\n",
       "      <td>0.457228</td>\n",
       "      <td>0.585574</td>\n",
       "      <td>0.513761</td>\n",
       "      <td>0.457638</td>\n",
       "      <td>...</td>\n",
       "      <td>0.587678</td>\n",
       "      <td>0.677695</td>\n",
       "      <td>0.632155</td>\n",
       "      <td>0.592351</td>\n",
       "      <td>0.663252</td>\n",
       "      <td>0.644546</td>\n",
       "      <td>0.626866</td>\n",
       "      <td>0.005975</td>\n",
       "      <td>0.011447</td>\n",
       "      <td>0.135922</td>\n",
       "    </tr>\n",
       "    <tr>\n",
       "      <th>Experimental</th>\n",
       "      <td>2</td>\n",
       "      <td>0.223475</td>\n",
       "      <td>0.223397</td>\n",
       "      <td>0.223354</td>\n",
       "      <td>0.443062</td>\n",
       "      <td>0.452707</td>\n",
       "      <td>0.462781</td>\n",
       "      <td>0.531297</td>\n",
       "      <td>0.489831</td>\n",
       "      <td>0.454370</td>\n",
       "      <td>...</td>\n",
       "      <td>0.556041</td>\n",
       "      <td>0.702168</td>\n",
       "      <td>0.615321</td>\n",
       "      <td>0.547593</td>\n",
       "      <td>0.680618</td>\n",
       "      <td>0.651742</td>\n",
       "      <td>0.625216</td>\n",
       "      <td>0.000377</td>\n",
       "      <td>0.000754</td>\n",
       "      <td>1.000000</td>\n",
       "    </tr>\n",
       "    <tr>\n",
       "      <th>Folk</th>\n",
       "      <td>3</td>\n",
       "      <td>0.058978</td>\n",
       "      <td>0.058946</td>\n",
       "      <td>0.058957</td>\n",
       "      <td>0.378031</td>\n",
       "      <td>0.375620</td>\n",
       "      <td>0.373239</td>\n",
       "      <td>0.339515</td>\n",
       "      <td>0.380192</td>\n",
       "      <td>0.431942</td>\n",
       "      <td>...</td>\n",
       "      <td>0.645570</td>\n",
       "      <td>0.516934</td>\n",
       "      <td>0.579421</td>\n",
       "      <td>0.659091</td>\n",
       "      <td>0.546362</td>\n",
       "      <td>0.570365</td>\n",
       "      <td>0.596573</td>\n",
       "      <td>0.000000</td>\n",
       "      <td>0.000000</td>\n",
       "      <td>0.000000</td>\n",
       "    </tr>\n",
       "    <tr>\n",
       "      <th>Hip-Hop</th>\n",
       "      <td>4</td>\n",
       "      <td>0.074407</td>\n",
       "      <td>0.074338</td>\n",
       "      <td>0.074309</td>\n",
       "      <td>0.384009</td>\n",
       "      <td>0.384442</td>\n",
       "      <td>0.384876</td>\n",
       "      <td>0.289414</td>\n",
       "      <td>0.364023</td>\n",
       "      <td>0.490458</td>\n",
       "      <td>...</td>\n",
       "      <td>0.803604</td>\n",
       "      <td>0.481690</td>\n",
       "      <td>0.614555</td>\n",
       "      <td>0.848635</td>\n",
       "      <td>0.668919</td>\n",
       "      <td>0.668919</td>\n",
       "      <td>0.668919</td>\n",
       "      <td>0.000000</td>\n",
       "      <td>0.000000</td>\n",
       "      <td>0.000000</td>\n",
       "    </tr>\n",
       "    <tr>\n",
       "      <th>Instrumental</th>\n",
       "      <td>5</td>\n",
       "      <td>0.043921</td>\n",
       "      <td>0.043933</td>\n",
       "      <td>0.043986</td>\n",
       "      <td>0.182692</td>\n",
       "      <td>0.175439</td>\n",
       "      <td>0.168739</td>\n",
       "      <td>0.148077</td>\n",
       "      <td>0.182681</td>\n",
       "      <td>0.238390</td>\n",
       "      <td>...</td>\n",
       "      <td>0.576923</td>\n",
       "      <td>0.141827</td>\n",
       "      <td>0.229126</td>\n",
       "      <td>0.595960</td>\n",
       "      <td>0.209615</td>\n",
       "      <td>0.267813</td>\n",
       "      <td>0.370748</td>\n",
       "      <td>0.000000</td>\n",
       "      <td>0.000000</td>\n",
       "      <td>0.000000</td>\n",
       "    </tr>\n",
       "    <tr>\n",
       "      <th>International</th>\n",
       "      <td>6</td>\n",
       "      <td>0.029491</td>\n",
       "      <td>0.029453</td>\n",
       "      <td>0.029457</td>\n",
       "      <td>0.256484</td>\n",
       "      <td>0.244505</td>\n",
       "      <td>0.233596</td>\n",
       "      <td>0.077810</td>\n",
       "      <td>0.135678</td>\n",
       "      <td>0.529412</td>\n",
       "      <td>...</td>\n",
       "      <td>0.937500</td>\n",
       "      <td>0.208633</td>\n",
       "      <td>0.340176</td>\n",
       "      <td>0.920635</td>\n",
       "      <td>0.412104</td>\n",
       "      <td>0.463533</td>\n",
       "      <td>0.529630</td>\n",
       "      <td>0.988473</td>\n",
       "      <td>0.057276</td>\n",
       "      <td>0.029493</td>\n",
       "    </tr>\n",
       "    <tr>\n",
       "      <th>Pop</th>\n",
       "      <td>7</td>\n",
       "      <td>0.048599</td>\n",
       "      <td>0.048621</td>\n",
       "      <td>0.048680</td>\n",
       "      <td>0.097770</td>\n",
       "      <td>0.093137</td>\n",
       "      <td>0.088924</td>\n",
       "      <td>0.000000</td>\n",
       "      <td>0.000000</td>\n",
       "      <td>0.000000</td>\n",
       "      <td>...</td>\n",
       "      <td>0.461538</td>\n",
       "      <td>0.006438</td>\n",
       "      <td>0.012685</td>\n",
       "      <td>0.428571</td>\n",
       "      <td>0.068611</td>\n",
       "      <td>0.111111</td>\n",
       "      <td>0.291971</td>\n",
       "      <td>0.000000</td>\n",
       "      <td>0.000000</td>\n",
       "      <td>0.000000</td>\n",
       "    </tr>\n",
       "    <tr>\n",
       "      <th>Rock</th>\n",
       "      <td>8</td>\n",
       "      <td>0.297893</td>\n",
       "      <td>0.297935</td>\n",
       "      <td>0.298007</td>\n",
       "      <td>0.651720</td>\n",
       "      <td>0.652640</td>\n",
       "      <td>0.653563</td>\n",
       "      <td>0.750141</td>\n",
       "      <td>0.700922</td>\n",
       "      <td>0.657765</td>\n",
       "      <td>...</td>\n",
       "      <td>0.715256</td>\n",
       "      <td>0.836447</td>\n",
       "      <td>0.757300</td>\n",
       "      <td>0.691837</td>\n",
       "      <td>0.835589</td>\n",
       "      <td>0.785005</td>\n",
       "      <td>0.740195</td>\n",
       "      <td>0.004512</td>\n",
       "      <td>0.008832</td>\n",
       "      <td>0.207792</td>\n",
       "    </tr>\n",
       "    <tr>\n",
       "      <th>Weighted Avg</th>\n",
       "      <td>9</td>\n",
       "      <td>0.192418</td>\n",
       "      <td>0.192405</td>\n",
       "      <td>0.192427</td>\n",
       "      <td>0.467362</td>\n",
       "      <td>0.469181</td>\n",
       "      <td>0.471190</td>\n",
       "      <td>0.522039</td>\n",
       "      <td>0.495406</td>\n",
       "      <td>0.490275</td>\n",
       "      <td>...</td>\n",
       "      <td>0.648710</td>\n",
       "      <td>0.636383</td>\n",
       "      <td>0.607677</td>\n",
       "      <td>0.642800</td>\n",
       "      <td>0.658311</td>\n",
       "      <td>0.641303</td>\n",
       "      <td>0.636092</td>\n",
       "      <td>0.032386</td>\n",
       "      <td>0.008211</td>\n",
       "      <td>0.316414</td>\n",
       "    </tr>\n",
       "  </tbody>\n",
       "</table>\n",
       "<p>10 rows × 22 columns</p>\n",
       "</div>\n",
       "      <button class=\"colab-df-convert\" onclick=\"convertToInteractive('df-9631d2ac-bb0a-4dde-b50e-a5e722c24db4')\"\n",
       "              title=\"Convert this dataframe to an interactive table.\"\n",
       "              style=\"display:none;\">\n",
       "        \n",
       "  <svg xmlns=\"http://www.w3.org/2000/svg\" height=\"24px\"viewBox=\"0 0 24 24\"\n",
       "       width=\"24px\">\n",
       "    <path d=\"M0 0h24v24H0V0z\" fill=\"none\"/>\n",
       "    <path d=\"M18.56 5.44l.94 2.06.94-2.06 2.06-.94-2.06-.94-.94-2.06-.94 2.06-2.06.94zm-11 1L8.5 8.5l.94-2.06 2.06-.94-2.06-.94L8.5 2.5l-.94 2.06-2.06.94zm10 10l.94 2.06.94-2.06 2.06-.94-2.06-.94-.94-2.06-.94 2.06-2.06.94z\"/><path d=\"M17.41 7.96l-1.37-1.37c-.4-.4-.92-.59-1.43-.59-.52 0-1.04.2-1.43.59L10.3 9.45l-7.72 7.72c-.78.78-.78 2.05 0 2.83L4 21.41c.39.39.9.59 1.41.59.51 0 1.02-.2 1.41-.59l7.78-7.78 2.81-2.81c.8-.78.8-2.07 0-2.86zM5.41 20L4 18.59l7.72-7.72 1.47 1.35L5.41 20z\"/>\n",
       "  </svg>\n",
       "      </button>\n",
       "      \n",
       "  <style>\n",
       "    .colab-df-container {\n",
       "      display:flex;\n",
       "      flex-wrap:wrap;\n",
       "      gap: 12px;\n",
       "    }\n",
       "\n",
       "    .colab-df-convert {\n",
       "      background-color: #E8F0FE;\n",
       "      border: none;\n",
       "      border-radius: 50%;\n",
       "      cursor: pointer;\n",
       "      display: none;\n",
       "      fill: #1967D2;\n",
       "      height: 32px;\n",
       "      padding: 0 0 0 0;\n",
       "      width: 32px;\n",
       "    }\n",
       "\n",
       "    .colab-df-convert:hover {\n",
       "      background-color: #E2EBFA;\n",
       "      box-shadow: 0px 1px 2px rgba(60, 64, 67, 0.3), 0px 1px 3px 1px rgba(60, 64, 67, 0.15);\n",
       "      fill: #174EA6;\n",
       "    }\n",
       "\n",
       "    [theme=dark] .colab-df-convert {\n",
       "      background-color: #3B4455;\n",
       "      fill: #D2E3FC;\n",
       "    }\n",
       "\n",
       "    [theme=dark] .colab-df-convert:hover {\n",
       "      background-color: #434B5C;\n",
       "      box-shadow: 0px 1px 3px 1px rgba(0, 0, 0, 0.15);\n",
       "      filter: drop-shadow(0px 1px 2px rgba(0, 0, 0, 0.3));\n",
       "      fill: #FFFFFF;\n",
       "    }\n",
       "  </style>\n",
       "\n",
       "      <script>\n",
       "        const buttonEl =\n",
       "          document.querySelector('#df-9631d2ac-bb0a-4dde-b50e-a5e722c24db4 button.colab-df-convert');\n",
       "        buttonEl.style.display =\n",
       "          google.colab.kernel.accessAllowed ? 'block' : 'none';\n",
       "\n",
       "        async function convertToInteractive(key) {\n",
       "          const element = document.querySelector('#df-9631d2ac-bb0a-4dde-b50e-a5e722c24db4');\n",
       "          const dataTable =\n",
       "            await google.colab.kernel.invokeFunction('convertToInteractive',\n",
       "                                                     [key], {});\n",
       "          if (!dataTable) return;\n",
       "\n",
       "          const docLinkHtml = 'Like what you see? Visit the ' +\n",
       "            '<a target=\"_blank\" href=https://colab.research.google.com/notebooks/data_table.ipynb>data table notebook</a>'\n",
       "            + ' to learn more about interactive tables.';\n",
       "          element.innerHTML = '';\n",
       "          dataTable['output_type'] = 'display_data';\n",
       "          await google.colab.output.renderOutput(dataTable, element);\n",
       "          const docLink = document.createElement('div');\n",
       "          docLink.innerHTML = docLinkHtml;\n",
       "          element.appendChild(docLink);\n",
       "        }\n",
       "      </script>\n",
       "    </div>\n",
       "  </div>\n",
       "  "
      ],
      "text/plain": [
       "               index  baseline_recall  baseline_f1  baseline_precision  \\\n",
       "Genres                                                                   \n",
       "Classical          0         0.025893     0.025846            0.025840   \n",
       "Electronic         1         0.197050     0.197048            0.197078   \n",
       "Experimental       2         0.223475     0.223397            0.223354   \n",
       "Folk               3         0.058978     0.058946            0.058957   \n",
       "Hip-Hop            4         0.074407     0.074338            0.074309   \n",
       "Instrumental       5         0.043921     0.043933            0.043986   \n",
       "International      6         0.029491     0.029453            0.029457   \n",
       "Pop                7         0.048599     0.048621            0.048680   \n",
       "Rock               8         0.297893     0.297935            0.298007   \n",
       "Weighted Avg       9         0.192418     0.192405            0.192427   \n",
       "\n",
       "               baseline_dt_recall  baseline_dt_f1-score  \\\n",
       "Genres                                                    \n",
       "Classical                0.500000              0.511628   \n",
       "Electronic               0.456253              0.456740   \n",
       "Experimental             0.443062              0.452707   \n",
       "Folk                     0.378031              0.375620   \n",
       "Hip-Hop                  0.384009              0.384442   \n",
       "Instrumental             0.182692              0.175439   \n",
       "International            0.256484              0.244505   \n",
       "Pop                      0.097770              0.093137   \n",
       "Rock                     0.651720              0.652640   \n",
       "Weighted Avg             0.467362              0.469181   \n",
       "\n",
       "               baseline_dt_precision  optimized_dt_recall  \\\n",
       "Genres                                                      \n",
       "Classical                   0.523810             0.538961   \n",
       "Electronic                  0.457228             0.585574   \n",
       "Experimental                0.462781             0.531297   \n",
       "Folk                        0.373239             0.339515   \n",
       "Hip-Hop                     0.384876             0.289414   \n",
       "Instrumental                0.168739             0.148077   \n",
       "International               0.233596             0.077810   \n",
       "Pop                         0.088924             0.000000   \n",
       "Rock                        0.653563             0.750141   \n",
       "Weighted Avg                0.471190             0.522039   \n",
       "\n",
       "               optimized_dt_f1-score  optimized_dt_precision  ...  \\\n",
       "Genres                                                        ...   \n",
       "Classical                   0.549669                0.560811  ...   \n",
       "Electronic                  0.513761                0.457638  ...   \n",
       "Experimental                0.489831                0.454370  ...   \n",
       "Folk                        0.380192                0.431942  ...   \n",
       "Hip-Hop                     0.364023                0.490458  ...   \n",
       "Instrumental                0.182681                0.238390  ...   \n",
       "International               0.135678                0.529412  ...   \n",
       "Pop                         0.000000                0.000000  ...   \n",
       "Rock                        0.700922                0.657765  ...   \n",
       "Weighted Avg                0.495406                0.490275  ...   \n",
       "\n",
       "               baseline_rf_precision  optimized_rf_recall  \\\n",
       "Genres                                                      \n",
       "Classical                   0.855469             0.678862   \n",
       "Electronic                  0.587678             0.677695   \n",
       "Experimental                0.556041             0.702168   \n",
       "Folk                        0.645570             0.516934   \n",
       "Hip-Hop                     0.803604             0.481690   \n",
       "Instrumental                0.576923             0.141827   \n",
       "International               0.937500             0.208633   \n",
       "Pop                         0.461538             0.006438   \n",
       "Rock                        0.715256             0.836447   \n",
       "Weighted Avg                0.648710             0.636383   \n",
       "\n",
       "               optimized_rf_f1-score  optimized_rf_precision  \\\n",
       "Genres                                                         \n",
       "Classical                   0.743875                0.822660   \n",
       "Electronic                  0.632155                0.592351   \n",
       "Experimental                0.615321                0.547593   \n",
       "Folk                        0.579421                0.659091   \n",
       "Hip-Hop                     0.614555                0.848635   \n",
       "Instrumental                0.229126                0.595960   \n",
       "International               0.340176                0.920635   \n",
       "Pop                         0.012685                0.428571   \n",
       "Rock                        0.757300                0.691837   \n",
       "Weighted Avg                0.607677                0.642800   \n",
       "\n",
       "               baseline_lr_recall  baseline_lr_f1-score  \\\n",
       "Genres                                                    \n",
       "Classical                0.762987              0.788591   \n",
       "Electronic               0.663252              0.644546   \n",
       "Experimental             0.680618              0.651742   \n",
       "Folk                     0.546362              0.570365   \n",
       "Hip-Hop                  0.668919              0.668919   \n",
       "Instrumental             0.209615              0.267813   \n",
       "International            0.412104              0.463533   \n",
       "Pop                      0.068611              0.111111   \n",
       "Rock                     0.835589              0.785005   \n",
       "Weighted Avg             0.658311              0.641303   \n",
       "\n",
       "               baseline_lr_precision  optimized_lr_recall  \\\n",
       "Genres                                                      \n",
       "Classical                   0.815972             0.035714   \n",
       "Electronic                  0.626866             0.005975   \n",
       "Experimental                0.625216             0.000377   \n",
       "Folk                        0.596573             0.000000   \n",
       "Hip-Hop                     0.668919             0.000000   \n",
       "Instrumental                0.370748             0.000000   \n",
       "International               0.529630             0.988473   \n",
       "Pop                         0.291971             0.000000   \n",
       "Rock                        0.740195             0.004512   \n",
       "Weighted Avg                0.636092             0.032386   \n",
       "\n",
       "               optimized_lr_f1-score  optimized_lr_precision  \n",
       "Genres                                                        \n",
       "Classical                   0.057143                0.142857  \n",
       "Electronic                  0.011447                0.135922  \n",
       "Experimental                0.000754                1.000000  \n",
       "Folk                        0.000000                0.000000  \n",
       "Hip-Hop                     0.000000                0.000000  \n",
       "Instrumental                0.000000                0.000000  \n",
       "International               0.057276                0.029493  \n",
       "Pop                         0.000000                0.000000  \n",
       "Rock                        0.008832                0.207792  \n",
       "Weighted Avg                0.008211                0.316414  \n",
       "\n",
       "[10 rows x 22 columns]"
      ]
     },
     "execution_count": 32,
     "metadata": {},
     "output_type": "execute_result"
    }
   ],
   "source": [
    "scores_df"
   ]
  },
  {
   "cell_type": "markdown",
   "metadata": {
    "id": "PdGVze-e7-_T"
   },
   "source": [
    "## KNN"
   ]
  },
  {
   "cell_type": "markdown",
   "metadata": {},
   "source": [
    "KKN is a classifcation model that stores all the training data to memory and then when prediciting takes the class majority vote for K number of nearest neighbors. It is a fairly simple algorithm, however, very computationally intensive. Below I run the baseline KNN (default k=5). I use the standard scaler from before to fit the model."
   ]
  },
  {
   "cell_type": "code",
   "execution_count": 13,
   "metadata": {
    "id": "hhZFLR0dmdYp"
   },
   "outputs": [],
   "source": [
    "from sklearn.neighbors import KNeighborsClassifier\n",
    "\n",
    "knn = KNeighborsClassifier() #inistantiate KNN\n",
    "knn.fit(X_train_scaled,y_train) #fit on train scaled data\n",
    "\n",
    "y_pred = knn.predict(X_test_scaled)\n",
    "\n",
    "baseline_knn_accuracy = accuracy_score(y_test, y_pred)\n",
    "# print(\"Accuracy:\", baseline_knn_accuracy)\n",
    "baseline_knn_class_report = classification_report(y_test,y_pred,output_dict=True)"
   ]
  },
  {
   "cell_type": "code",
   "execution_count": 33,
   "metadata": {
    "colab": {
     "base_uri": "https://localhost:8080/"
    },
    "id": "5kG_OFE4mdbO",
    "outputId": "dd40e3e7-fd71-47a1-9a23-2ea645fe12a9"
   },
   "outputs": [
    {
     "name": "stdout",
     "output_type": "stream",
     "text": [
      "Accuracy: 0.6222240915208613\n"
     ]
    }
   ],
   "source": [
    "accuracy_df.loc['KNN', 'Baseline Accuracy'] = round(baseline_knn_accuracy,2)\n",
    "print(\"Accuracy:\", baseline_knn_accuracy)"
   ]
  },
  {
   "cell_type": "code",
   "execution_count": 34,
   "metadata": {
    "id": "3ud17MedmddQ"
   },
   "outputs": [],
   "source": [
    "get_class_metrics(baseline_knn_class_report, 'baseline_knn',scores_df)"
   ]
  },
  {
   "cell_type": "markdown",
   "metadata": {},
   "source": [
    "For the grid search my parameter space consisted of two different scaling options, three different k's, and two weighting methods. I used cross validation as well."
   ]
  },
  {
   "cell_type": "code",
   "execution_count": 14,
   "metadata": {
    "colab": {
     "base_uri": "https://localhost:8080/"
    },
    "id": "Xkevpme2mdfZ",
    "outputId": "eae6547a-f485-449a-e444-e8eab16490b6"
   },
   "outputs": [
    {
     "name": "stdout",
     "output_type": "stream",
     "text": [
      "Fitting 3 folds for each of 12 candidates, totalling 36 fits\n",
      "[CV 1/3] END model__n_neighbors=3, model__weights=uniform, scaling=MinMaxScaler();, score=0.582 total time=  10.4s\n",
      "[CV 2/3] END model__n_neighbors=3, model__weights=uniform, scaling=MinMaxScaler();, score=0.592 total time=   7.9s\n",
      "[CV 3/3] END model__n_neighbors=3, model__weights=uniform, scaling=MinMaxScaler();, score=0.591 total time=  10.0s\n",
      "[CV 1/3] END model__n_neighbors=3, model__weights=uniform, scaling=StandardScaler();, score=0.589 total time=   9.2s\n",
      "[CV 2/3] END model__n_neighbors=3, model__weights=uniform, scaling=StandardScaler();, score=0.598 total time=   8.3s\n",
      "[CV 3/3] END model__n_neighbors=3, model__weights=uniform, scaling=StandardScaler();, score=0.591 total time=  10.0s\n",
      "[CV 1/3] END model__n_neighbors=3, model__weights=distance, scaling=MinMaxScaler();, score=0.584 total time=   7.3s\n",
      "[CV 2/3] END model__n_neighbors=3, model__weights=distance, scaling=MinMaxScaler();, score=0.587 total time=   9.7s\n",
      "[CV 3/3] END model__n_neighbors=3, model__weights=distance, scaling=MinMaxScaler();, score=0.588 total time=   8.4s\n",
      "[CV 1/3] END model__n_neighbors=3, model__weights=distance, scaling=StandardScaler();, score=0.584 total time=   8.8s\n",
      "[CV 2/3] END model__n_neighbors=3, model__weights=distance, scaling=StandardScaler();, score=0.597 total time=   9.8s\n",
      "[CV 3/3] END model__n_neighbors=3, model__weights=distance, scaling=StandardScaler();, score=0.587 total time=   7.4s\n",
      "[CV 1/3] END model__n_neighbors=5, model__weights=uniform, scaling=MinMaxScaler();, score=0.593 total time=  10.0s\n",
      "[CV 2/3] END model__n_neighbors=5, model__weights=uniform, scaling=MinMaxScaler();, score=0.597 total time=   7.6s\n",
      "[CV 3/3] END model__n_neighbors=5, model__weights=uniform, scaling=MinMaxScaler();, score=0.596 total time=  10.0s\n",
      "[CV 1/3] END model__n_neighbors=5, model__weights=uniform, scaling=StandardScaler();, score=0.592 total time=   9.9s\n",
      "[CV 2/3] END model__n_neighbors=5, model__weights=uniform, scaling=StandardScaler();, score=0.603 total time=   7.8s\n",
      "[CV 3/3] END model__n_neighbors=5, model__weights=uniform, scaling=StandardScaler();, score=0.600 total time=  10.0s\n",
      "[CV 1/3] END model__n_neighbors=5, model__weights=distance, scaling=MinMaxScaler();, score=0.594 total time=   8.4s\n",
      "[CV 2/3] END model__n_neighbors=5, model__weights=distance, scaling=MinMaxScaler();, score=0.597 total time=   9.2s\n",
      "[CV 3/3] END model__n_neighbors=5, model__weights=distance, scaling=MinMaxScaler();, score=0.597 total time=   9.3s\n",
      "[CV 1/3] END model__n_neighbors=5, model__weights=distance, scaling=StandardScaler();, score=0.597 total time=   7.7s\n",
      "[CV 2/3] END model__n_neighbors=5, model__weights=distance, scaling=StandardScaler();, score=0.606 total time=   9.8s\n",
      "[CV 3/3] END model__n_neighbors=5, model__weights=distance, scaling=StandardScaler();, score=0.600 total time=   7.5s\n",
      "[CV 1/3] END model__n_neighbors=7, model__weights=uniform, scaling=MinMaxScaler();, score=0.598 total time=  10.1s\n",
      "[CV 2/3] END model__n_neighbors=7, model__weights=uniform, scaling=MinMaxScaler();, score=0.599 total time=   8.9s\n",
      "[CV 3/3] END model__n_neighbors=7, model__weights=uniform, scaling=MinMaxScaler();, score=0.600 total time=   8.5s\n",
      "[CV 1/3] END model__n_neighbors=7, model__weights=uniform, scaling=StandardScaler();, score=0.599 total time=  10.1s\n",
      "[CV 2/3] END model__n_neighbors=7, model__weights=uniform, scaling=StandardScaler();, score=0.604 total time=   7.8s\n",
      "[CV 3/3] END model__n_neighbors=7, model__weights=uniform, scaling=StandardScaler();, score=0.603 total time=  10.1s\n",
      "[CV 1/3] END model__n_neighbors=7, model__weights=distance, scaling=MinMaxScaler();, score=0.596 total time=   8.3s\n",
      "[CV 2/3] END model__n_neighbors=7, model__weights=distance, scaling=MinMaxScaler();, score=0.604 total time=   8.8s\n",
      "[CV 3/3] END model__n_neighbors=7, model__weights=distance, scaling=MinMaxScaler();, score=0.601 total time=   9.8s\n",
      "[CV 1/3] END model__n_neighbors=7, model__weights=distance, scaling=StandardScaler();, score=0.601 total time=   7.5s\n",
      "[CV 2/3] END model__n_neighbors=7, model__weights=distance, scaling=StandardScaler();, score=0.610 total time=   9.8s\n",
      "[CV 3/3] END model__n_neighbors=7, model__weights=distance, scaling=StandardScaler();, score=0.604 total time=   7.5s\n",
      "Accuracy:  0.6273553162853297\n"
     ]
    }
   ],
   "source": [
    "\n",
    "\n",
    "pipeline = Pipeline([\n",
    "    ('scaling', None),\n",
    "    ('model', KNeighborsClassifier())\n",
    "])\n",
    "\n",
    "# parameter grid\n",
    "param_grid = {\n",
    "    'scaling': [MinMaxScaler(), StandardScaler()],\n",
    "    'model__n_neighbors': [3, 5, 7],\n",
    "    'model__weights': ['uniform', 'distance']\n",
    "}\n",
    "\n",
    "#cross-validation \n",
    "cv = KFold(n_splits=3, shuffle=True, random_state=42)\n",
    "\n",
    "# GridSearch object\n",
    "grid_search = GridSearchCV(pipeline, param_grid, cv=cv, verbose=3)\n",
    "\n",
    "# Fit the GridSearch object \n",
    "grid_search.fit(X_train, y_train)\n",
    "\n",
    "# Evaluate the best model\n",
    "best_model_knn = grid_search.best_estimator_\n",
    "y_pred_knn = best_model_knn.predict(X_test)\n",
    "optimized_score_knn = best_model_knn.score(X_test, y_test)\n",
    "print('Accuracy: ', optimized_score_knn)\n",
    "optimized_knn_class_report = classification_report(y_test,y_pred_knn,output_dict=True)"
   ]
  },
  {
   "cell_type": "code",
   "execution_count": 15,
   "metadata": {
    "colab": {
     "base_uri": "https://localhost:8080/"
    },
    "id": "XIPhr2KghHFy",
    "outputId": "6984e7a2-b349-4d90-b90c-4d5d126abd30"
   },
   "outputs": [
    {
     "name": "stdout",
     "output_type": "stream",
     "text": [
      "Pipeline(steps=[('scaling', StandardScaler()),\n",
      "                ('model',\n",
      "                 KNeighborsClassifier(n_neighbors=7, weights='distance'))])\n"
     ]
    }
   ],
   "source": [
    "print(best_model_knn)"
   ]
  },
  {
   "cell_type": "markdown",
   "metadata": {},
   "source": [
    "I recognized that I did not test a wide variety of number of neighbors so I decided to further test with a train and validation set. Below I split my training into train,test, and validation sets then fit the scaler on the training set first then transform onto val and test."
   ]
  },
  {
   "cell_type": "code",
   "execution_count": 16,
   "metadata": {
    "id": "gUdQiRMri-O3"
   },
   "outputs": [],
   "source": [
    "from sklearn.model_selection import train_test_split\n",
    "X_train_val, X_test, y_train_val, y_test = train_test_split(X, y_encoded, test_size=0.2, stratify=y, random_state=1) #split train/test\n",
    "X_train, X_val, y_train, y_val = train_test_split(X_train_val, y_train_val, test_size=0.25, stratify=y_train_val, random_state=1)#further split train/test/val\n"
   ]
  },
  {
   "cell_type": "code",
   "execution_count": 17,
   "metadata": {
    "id": "jZAeFFUzjVOw"
   },
   "outputs": [],
   "source": [
    "scaler = StandardScaler() #instantiate scaler\n",
    "X_train_scaled = scaler.fit_transform(X_train) #fit on x train\n",
    "X_val_scaled = scaler.transform(X_val) #transform x val and x test\n",
    "X_test_scaled = scaler.transform(X_test)"
   ]
  },
  {
   "cell_type": "markdown",
   "metadata": {
    "colab": {
     "base_uri": "https://localhost:8080/"
    },
    "id": "jFJSmbW94tXC",
    "outputId": "2dcf83d2-58f8-48c3-e883-26daa5cf5427"
   },
   "source": [
    "I tried to test k's higher than 7, with the same scaler and weights output by the grid search. I saw immediately how overfit it was to training data with the distance weights. "
   ]
  },
  {
   "cell_type": "code",
   "execution_count": 18,
   "metadata": {
    "id": "nbICwkySjnoH"
   },
   "outputs": [],
   "source": [
    "validation_scores = []\n",
    "train_scores = []\n",
    "\n",
    "num_ks = range(7,15)\n",
    "#loop thru k's and append val and train scores\n",
    "for k in num_ks:\n",
    "  knn = KNeighborsClassifier(n_neighbors=k, weights='distance')\n",
    "  knn.fit(X_train_scaled,y_train)\n",
    "\n",
    "  train_scores.append(knn.score(X_train_scaled,y_train))\n",
    "  validation_scores.append(knn.score(X_val_scaled,y_val))"
   ]
  },
  {
   "cell_type": "code",
   "execution_count": 19,
   "metadata": {
    "colab": {
     "base_uri": "https://localhost:8080/",
     "height": 472
    },
    "id": "HZATurUYkfXJ",
    "outputId": "ff9c181b-e222-41bb-c49f-be7b5d95d017"
   },
   "outputs": [
    {
     "data": {
      "image/png": "[encoded data removed]",
      "text/plain": [
       "<Figure size 640x480 with 1 Axes>"
      ]
     },
     "metadata": {},
     "output_type": "display_data"
    }
   ],
   "source": [
    "#plot  train and val\n",
    "plt.figure()\n",
    "plt.plot(num_ks, train_scores,label=\"Train Score\",marker='.')\n",
    "plt.plot(num_ks, validation_scores,label=\"Validation Scores\",marker='.')\n",
    "plt.title('Train and Val Accuracy with Different Number of Neighbors: Weighted Distances')\n",
    "plt.xlabel('Number of Neighbors')\n",
    "plt.ylabel('Accuracy')\n",
    "plt.legend()\n",
    "plt.show();"
   ]
  },
  {
   "cell_type": "markdown",
   "metadata": {},
   "source": [
    "I kept the same scaler but changed the weights to uniform, and the overfitting went down substantially. At k=10 was my optimal validation score, so that is the k I will use in my final model."
   ]
  },
  {
   "cell_type": "code",
   "execution_count": 20,
   "metadata": {
    "id": "zd2LxEWE-z1m"
   },
   "outputs": [],
   "source": [
    "validation_scores = []\n",
    "train_scores = []\n",
    "\n",
    "num_ks = range(5,50,5)\n",
    "#loop thru k's and append val and test\n",
    "for k in num_ks:\n",
    "  knn = KNeighborsClassifier(n_neighbors=k)\n",
    "  knn.fit(X_train_scaled,y_train)\n",
    "\n",
    "  train_scores.append(knn.score(X_train_scaled,y_train))\n",
    "  validation_scores.append(knn.score(X_val_scaled,y_val))"
   ]
  },
  {
   "cell_type": "code",
   "execution_count": 21,
   "metadata": {
    "colab": {
     "base_uri": "https://localhost:8080/",
     "height": 472
    },
    "id": "x0mjd8Hx_7f7",
    "outputId": "766e429e-84f6-4c65-875e-0099f571a2e8"
   },
   "outputs": [
    {
     "data": {
      "image/png": "[encoded data removed]",
      "text/plain": [
       "<Figure size 640x480 with 1 Axes>"
      ]
     },
     "metadata": {},
     "output_type": "display_data"
    }
   ],
   "source": [
    "#plot train and val\n",
    "plt.figure()\n",
    "plt.plot(num_ks, train_scores,label=\"Train Score\",marker='.')\n",
    "plt.plot(num_ks, validation_scores,label=\"Validation Scores\",marker='.')\n",
    "plt.title('Train and Val Accuracy with Different Number of Neighbors: Uniform Weights')\n",
    "plt.xlabel('Number of Neighbors')\n",
    "plt.ylabel('Accuracy')\n",
    "plt.legend()\n",
    "plt.show();"
   ]
  },
  {
   "cell_type": "markdown",
   "metadata": {},
   "source": [
    "I saved my KNN model with the optimal hyperparameters, and again fit only on the training data. Note: the default weights is uniform which is why I didnt have to explicitly include it."
   ]
  },
  {
   "cell_type": "code",
   "execution_count": 22,
   "metadata": {
    "colab": {
     "base_uri": "https://localhost:8080/"
    },
    "id": "S9TTBoLOio6T",
    "outputId": "d0527107-fc1c-4281-b3c5-0acdc3344352"
   },
   "outputs": [
    {
     "name": "stdout",
     "output_type": "stream",
     "text": [
      "Accuracy:  0.6267087276550999\n"
     ]
    }
   ],
   "source": [
    "\n",
    "knn = KNeighborsClassifier(n_neighbors=10) #instantiate with 10 neighbors\n",
    "knn.fit(X_train_scaled,y_train) #fit on train \n",
    "dump(knn, 'KNN.joblib') #save model\n",
    "\n",
    "\n",
    "y_pred_knn = best_model_knn.predict(X_test)\n",
    "optimized_score_knn = best_model_knn.score(X_test, y_test)\n",
    "print('Accuracy: ', optimized_score_knn)\n",
    "optimized_knn_class_report = classification_report(y_test,y_pred_knn,output_dict=True)"
   ]
  },
  {
   "cell_type": "code",
   "execution_count": 35,
   "metadata": {
    "colab": {
     "base_uri": "https://localhost:8080/"
    },
    "id": "jlWft3Simdhr",
    "outputId": "a9826570-93a3-4b00-83c0-c3c66da2ad9c"
   },
   "outputs": [
    {
     "name": "stdout",
     "output_type": "stream",
     "text": [
      "Accuracy:  0.6267087276550999\n"
     ]
    }
   ],
   "source": [
    "accuracy_df.loc['KNN', 'Optimized Accuracy'] = round(optimized_score_knn,2)\n",
    "print('Accuracy: ', optimized_score_knn)"
   ]
  },
  {
   "cell_type": "markdown",
   "metadata": {
    "id": "uH2PWIc5hGg_"
   },
   "source": [
    "Adding the success metrics and saving the dataframes."
   ]
  },
  {
   "cell_type": "code",
   "execution_count": 36,
   "metadata": {
    "id": "j-ZM8tupmdkY"
   },
   "outputs": [],
   "source": [
    "get_class_metrics(optimized_knn_class_report, 'optimized_knn',scores_df)"
   ]
  },
  {
   "cell_type": "code",
   "execution_count": 37,
   "metadata": {
    "id": "NnNqXtsXmdmT"
   },
   "outputs": [],
   "source": [
    "scores_df.to_csv('Data/scores_df2.csv')"
   ]
  },
  {
   "cell_type": "code",
   "execution_count": 38,
   "metadata": {
    "id": "11-fDlvXGcoW"
   },
   "outputs": [],
   "source": [
    "accuracy_df.to_csv('Data/accuracy_df2.csv')"
   ]
  }
 ],
 "metadata": {
  "colab": {
   "provenance": []
  },
  "kernelspec": {
   "display_name": "Python 3 (ipykernel)",
   "language": "python",
   "name": "python3"
  },
  "language_info": {
   "codemirror_mode": {
    "name": "ipython",
    "version": 3
   },
   "file_extension": ".py",
   "mimetype": "text/x-python",
   "name": "python",
   "nbconvert_exporter": "python",
   "pygments_lexer": "ipython3",
   "version": "3.9.13"
  }
 },
 "nbformat": 4,
 "nbformat_minor": 1
}
